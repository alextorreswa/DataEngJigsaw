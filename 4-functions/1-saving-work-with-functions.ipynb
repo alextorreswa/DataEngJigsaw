{
  "cells": [
    {
      "cell_type": "markdown",
      "metadata": {
        "id": "view-in-github",
        "colab_type": "text"
      },
      "source": [
        "<a href=\"https://colab.research.google.com/github/alextorreswa/DataEngJigsaw/blob/main/4-functions/1-saving-work-with-functions.ipynb\" target=\"_parent\"><img src=\"https://colab.research.google.com/assets/colab-badge.svg\" alt=\"Open In Colab\"/></a>"
      ]
    },
    {
      "cell_type": "markdown",
      "metadata": {
        "id": "eMicYYwTruiv"
      },
      "source": [
        "# Saving our Work With Functions"
      ]
    },
    {
      "cell_type": "markdown",
      "metadata": {
        "id": "6J-rTicoruix"
      },
      "source": [
        "### Introduction"
      ]
    },
    {
      "cell_type": "markdown",
      "metadata": {
        "id": "9uZYC7Joruiy"
      },
      "source": [
        "At this point, we have learned a lot of the mechanisms to coerce and remove our data.\n",
        "\n",
        "But if we're going to put this code to use, and build some nice projects, we'll need to store some of our procedures in functions."
      ]
    },
    {
      "cell_type": "markdown",
      "metadata": {
        "id": "nGyEC-TRruiy"
      },
      "source": [
        "### Saving our Work"
      ]
    },
    {
      "cell_type": "code",
      "execution_count": 13,
      "metadata": {
        "id": "yBarRRLPruiy"
      },
      "outputs": [],
      "source": [
        "# signature of the function, name of the function\n",
        "# the scope variable (where is it accessible)\n",
        "import pandas as pd\n",
        "\n",
        "# global \n",
        "large_cities = ['nyc', 'los angelos', 'chicago']\n",
        "\n",
        "def pull_cities():\n",
        "    # local variable, dungeo\n",
        "    df = pd.read_html('https://en.wikipedia.org/wiki/Wikipedia:WikiProject_Cities/Top_100_US_Cities_Article_Classes')\n",
        "    return df[0]"
      ]
    },
    {
      "cell_type": "code",
      "execution_count": 14,
      "metadata": {
        "id": "3MIlpZM4ruiz",
        "outputId": "9362277a-aeed-40b9-bfcd-f26df0298e89",
        "colab": {
          "base_uri": "https://localhost:8080/",
          "height": 423
        }
      },
      "outputs": [
        {
          "output_type": "execute_result",
          "data": {
            "text/plain": [
              "    Rank            City         State  Article Status\n",
              "0      1        New York      New York             NaN\n",
              "1      2     Los Angeles    California             NaN\n",
              "2      3         Chicago      Illinois             NaN\n",
              "3      4         Houston         Texas             NaN\n",
              "4      5    Philadelphia  Pennsylvania             NaN\n",
              "..   ...             ...           ...             ...\n",
              "95    96     Baton Rouge     Louisiana             NaN\n",
              "96    97         Fremont    California             NaN\n",
              "97    98        Richmond      Virginia             NaN\n",
              "98    99           Boise         Idaho             NaN\n",
              "99   100  San Bernardino    California             NaN\n",
              "\n",
              "[100 rows x 4 columns]"
            ],
            "text/html": [
              "\n",
              "  <div id=\"df-bf97d1d0-bd5a-470b-affc-3a1b9d1b46b3\">\n",
              "    <div class=\"colab-df-container\">\n",
              "      <div>\n",
              "<style scoped>\n",
              "    .dataframe tbody tr th:only-of-type {\n",
              "        vertical-align: middle;\n",
              "    }\n",
              "\n",
              "    .dataframe tbody tr th {\n",
              "        vertical-align: top;\n",
              "    }\n",
              "\n",
              "    .dataframe thead th {\n",
              "        text-align: right;\n",
              "    }\n",
              "</style>\n",
              "<table border=\"1\" class=\"dataframe\">\n",
              "  <thead>\n",
              "    <tr style=\"text-align: right;\">\n",
              "      <th></th>\n",
              "      <th>Rank</th>\n",
              "      <th>City</th>\n",
              "      <th>State</th>\n",
              "      <th>Article Status</th>\n",
              "    </tr>\n",
              "  </thead>\n",
              "  <tbody>\n",
              "    <tr>\n",
              "      <th>0</th>\n",
              "      <td>1</td>\n",
              "      <td>New York</td>\n",
              "      <td>New York</td>\n",
              "      <td>NaN</td>\n",
              "    </tr>\n",
              "    <tr>\n",
              "      <th>1</th>\n",
              "      <td>2</td>\n",
              "      <td>Los Angeles</td>\n",
              "      <td>California</td>\n",
              "      <td>NaN</td>\n",
              "    </tr>\n",
              "    <tr>\n",
              "      <th>2</th>\n",
              "      <td>3</td>\n",
              "      <td>Chicago</td>\n",
              "      <td>Illinois</td>\n",
              "      <td>NaN</td>\n",
              "    </tr>\n",
              "    <tr>\n",
              "      <th>3</th>\n",
              "      <td>4</td>\n",
              "      <td>Houston</td>\n",
              "      <td>Texas</td>\n",
              "      <td>NaN</td>\n",
              "    </tr>\n",
              "    <tr>\n",
              "      <th>4</th>\n",
              "      <td>5</td>\n",
              "      <td>Philadelphia</td>\n",
              "      <td>Pennsylvania</td>\n",
              "      <td>NaN</td>\n",
              "    </tr>\n",
              "    <tr>\n",
              "      <th>...</th>\n",
              "      <td>...</td>\n",
              "      <td>...</td>\n",
              "      <td>...</td>\n",
              "      <td>...</td>\n",
              "    </tr>\n",
              "    <tr>\n",
              "      <th>95</th>\n",
              "      <td>96</td>\n",
              "      <td>Baton Rouge</td>\n",
              "      <td>Louisiana</td>\n",
              "      <td>NaN</td>\n",
              "    </tr>\n",
              "    <tr>\n",
              "      <th>96</th>\n",
              "      <td>97</td>\n",
              "      <td>Fremont</td>\n",
              "      <td>California</td>\n",
              "      <td>NaN</td>\n",
              "    </tr>\n",
              "    <tr>\n",
              "      <th>97</th>\n",
              "      <td>98</td>\n",
              "      <td>Richmond</td>\n",
              "      <td>Virginia</td>\n",
              "      <td>NaN</td>\n",
              "    </tr>\n",
              "    <tr>\n",
              "      <th>98</th>\n",
              "      <td>99</td>\n",
              "      <td>Boise</td>\n",
              "      <td>Idaho</td>\n",
              "      <td>NaN</td>\n",
              "    </tr>\n",
              "    <tr>\n",
              "      <th>99</th>\n",
              "      <td>100</td>\n",
              "      <td>San Bernardino</td>\n",
              "      <td>California</td>\n",
              "      <td>NaN</td>\n",
              "    </tr>\n",
              "  </tbody>\n",
              "</table>\n",
              "<p>100 rows × 4 columns</p>\n",
              "</div>\n",
              "      <button class=\"colab-df-convert\" onclick=\"convertToInteractive('df-bf97d1d0-bd5a-470b-affc-3a1b9d1b46b3')\"\n",
              "              title=\"Convert this dataframe to an interactive table.\"\n",
              "              style=\"display:none;\">\n",
              "        \n",
              "  <svg xmlns=\"http://www.w3.org/2000/svg\" height=\"24px\"viewBox=\"0 0 24 24\"\n",
              "       width=\"24px\">\n",
              "    <path d=\"M0 0h24v24H0V0z\" fill=\"none\"/>\n",
              "    <path d=\"M18.56 5.44l.94 2.06.94-2.06 2.06-.94-2.06-.94-.94-2.06-.94 2.06-2.06.94zm-11 1L8.5 8.5l.94-2.06 2.06-.94-2.06-.94L8.5 2.5l-.94 2.06-2.06.94zm10 10l.94 2.06.94-2.06 2.06-.94-2.06-.94-.94-2.06-.94 2.06-2.06.94z\"/><path d=\"M17.41 7.96l-1.37-1.37c-.4-.4-.92-.59-1.43-.59-.52 0-1.04.2-1.43.59L10.3 9.45l-7.72 7.72c-.78.78-.78 2.05 0 2.83L4 21.41c.39.39.9.59 1.41.59.51 0 1.02-.2 1.41-.59l7.78-7.78 2.81-2.81c.8-.78.8-2.07 0-2.86zM5.41 20L4 18.59l7.72-7.72 1.47 1.35L5.41 20z\"/>\n",
              "  </svg>\n",
              "      </button>\n",
              "      \n",
              "  <style>\n",
              "    .colab-df-container {\n",
              "      display:flex;\n",
              "      flex-wrap:wrap;\n",
              "      gap: 12px;\n",
              "    }\n",
              "\n",
              "    .colab-df-convert {\n",
              "      background-color: #E8F0FE;\n",
              "      border: none;\n",
              "      border-radius: 50%;\n",
              "      cursor: pointer;\n",
              "      display: none;\n",
              "      fill: #1967D2;\n",
              "      height: 32px;\n",
              "      padding: 0 0 0 0;\n",
              "      width: 32px;\n",
              "    }\n",
              "\n",
              "    .colab-df-convert:hover {\n",
              "      background-color: #E2EBFA;\n",
              "      box-shadow: 0px 1px 2px rgba(60, 64, 67, 0.3), 0px 1px 3px 1px rgba(60, 64, 67, 0.15);\n",
              "      fill: #174EA6;\n",
              "    }\n",
              "\n",
              "    [theme=dark] .colab-df-convert {\n",
              "      background-color: #3B4455;\n",
              "      fill: #D2E3FC;\n",
              "    }\n",
              "\n",
              "    [theme=dark] .colab-df-convert:hover {\n",
              "      background-color: #434B5C;\n",
              "      box-shadow: 0px 1px 3px 1px rgba(0, 0, 0, 0.15);\n",
              "      filter: drop-shadow(0px 1px 2px rgba(0, 0, 0, 0.3));\n",
              "      fill: #FFFFFF;\n",
              "    }\n",
              "  </style>\n",
              "\n",
              "      <script>\n",
              "        const buttonEl =\n",
              "          document.querySelector('#df-bf97d1d0-bd5a-470b-affc-3a1b9d1b46b3 button.colab-df-convert');\n",
              "        buttonEl.style.display =\n",
              "          google.colab.kernel.accessAllowed ? 'block' : 'none';\n",
              "\n",
              "        async function convertToInteractive(key) {\n",
              "          const element = document.querySelector('#df-bf97d1d0-bd5a-470b-affc-3a1b9d1b46b3');\n",
              "          const dataTable =\n",
              "            await google.colab.kernel.invokeFunction('convertToInteractive',\n",
              "                                                     [key], {});\n",
              "          if (!dataTable) return;\n",
              "\n",
              "          const docLinkHtml = 'Like what you see? Visit the ' +\n",
              "            '<a target=\"_blank\" href=https://colab.research.google.com/notebooks/data_table.ipynb>data table notebook</a>'\n",
              "            + ' to learn more about interactive tables.';\n",
              "          element.innerHTML = '';\n",
              "          dataTable['output_type'] = 'display_data';\n",
              "          await google.colab.output.renderOutput(dataTable, element);\n",
              "          const docLink = document.createElement('div');\n",
              "          docLink.innerHTML = docLinkHtml;\n",
              "          element.appendChild(docLink);\n",
              "        }\n",
              "      </script>\n",
              "    </div>\n",
              "  </div>\n",
              "  "
            ]
          },
          "metadata": {},
          "execution_count": 14
        }
      ],
      "source": [
        "pull_cities()"
      ]
    },
    {
      "cell_type": "code",
      "execution_count": 15,
      "metadata": {
        "id": "xLm7xU1Hrui0",
        "outputId": "23b2defc-cc0e-4384-e6e5-297b164e8abd",
        "colab": {
          "base_uri": "https://localhost:8080/"
        }
      },
      "outputs": [
        {
          "output_type": "execute_result",
          "data": {
            "text/plain": [
              "['nyc', 'los angelos', 'chicago']"
            ]
          },
          "metadata": {},
          "execution_count": 15
        }
      ],
      "source": [
        "large_cities"
      ]
    },
    {
      "cell_type": "code",
      "execution_count": 16,
      "metadata": {
        "id": "jB8WLbCerui1",
        "outputId": "36c6acd3-ceb8-4b7f-fd82-788337526dcc",
        "colab": {
          "base_uri": "https://localhost:8080/",
          "height": 36
        }
      },
      "outputs": [
        {
          "output_type": "execute_result",
          "data": {
            "text/plain": [
              "'stop'"
            ],
            "application/vnd.google.colaboratory.intrinsic+json": {
              "type": "string"
            }
          },
          "metadata": {},
          "execution_count": 16
        }
      ],
      "source": [
        "foobar"
      ]
    },
    {
      "cell_type": "code",
      "execution_count": 17,
      "metadata": {
        "id": "oC6uXreerui1"
      },
      "outputs": [],
      "source": [
        "foobar = 'stop'"
      ]
    },
    {
      "cell_type": "markdown",
      "metadata": {
        "id": "QGJ3yLM9rui2"
      },
      "source": [
        "If we want to save code that does something, we can wrap it in a function.\n",
        "\n",
        "> Let's just do it.  We'll explain this code later."
      ]
    },
    {
      "cell_type": "markdown",
      "metadata": {
        "id": "EL3gXD1brui2"
      },
      "source": [
        "### Function mechanics"
      ]
    },
    {
      "cell_type": "markdown",
      "metadata": {
        "id": "NJYhfo56rui2"
      },
      "source": [
        "Working with functions involves two steps:\n",
        "1. Defining our function\n",
        "2. Then executing our function."
      ]
    },
    {
      "cell_type": "markdown",
      "metadata": {
        "id": "mVFRAtNzrui2"
      },
      "source": [
        "### Functions are a dungeon"
      ]
    },
    {
      "cell_type": "markdown",
      "metadata": {
        "id": "9PUCL3nfrui3"
      },
      "source": [
        "There is something interesting about functions. Functions trap everything inside of them, like the walls of a dungeon."
      ]
    },
    {
      "cell_type": "code",
      "execution_count": 18,
      "metadata": {
        "id": "VWp-xSA4rui3"
      },
      "outputs": [],
      "source": [
        "def function_name():\n",
        "    greeting = 'hello'\n",
        "    name = 'susan'"
      ]
    },
    {
      "cell_type": "markdown",
      "metadata": {
        "id": "OHMH7EC9rui3"
      },
      "source": [
        "## Back to our project"
      ]
    },
    {
      "cell_type": "markdown",
      "metadata": {
        "id": "HsFLHfavrui3"
      },
      "source": [
        "Ok, so how can this help us?  Well functions allow us to store an entire procedure, and then name that procedure.  Once written, we can largely forget about how the function works.  \n",
        "\n",
        "All we care about is what the function does, which is execute a procedure and then throw something over the walls.\n",
        "\n",
        "So we can think of function like our cellphone: we only need to know how the wires underneath work when something breaks.  Otherwise, we can just call the function and get an output."
      ]
    },
    {
      "cell_type": "markdown",
      "metadata": {
        "id": "0kGS-wJMrui3"
      },
      "source": [
        "> Here is our original code."
      ]
    },
    {
      "cell_type": "code",
      "execution_count": 19,
      "metadata": {
        "id": "5iZSzAxtrui3"
      },
      "outputs": [],
      "source": [
        "\n",
        "url = 'https://en.wikipedia.org/wiki/List_of_United_States_cities_by_population'\n",
        "tables = pd.read_html(url)\n",
        "cities_table = tables[4]\n",
        "cities = cities_table.to_dict('records')"
      ]
    },
    {
      "cell_type": "markdown",
      "metadata": {
        "id": "8u7I7V6Grui4"
      },
      "source": [
        "> And here is that code wrapped in a function."
      ]
    },
    {
      "cell_type": "code",
      "execution_count": 20,
      "metadata": {
        "id": "uEHWrX1frui4"
      },
      "outputs": [],
      "source": [
        "def gather_cities():\n",
        "    url = 'https://en.wikipedia.org/wiki/List_of_United_States_cities_by_population'\n",
        "    tables = pd.read_html(url)\n",
        "    cities_table = tables[4]\n",
        "    cities = cities_table.to_dict('records')\n",
        "    return cities"
      ]
    },
    {
      "cell_type": "code",
      "execution_count": 21,
      "metadata": {
        "id": "-kh2FaLArui4",
        "outputId": "03625fa6-e09c-498f-eb4e-24b7f08603b8",
        "colab": {
          "base_uri": "https://localhost:8080/"
        }
      },
      "outputs": [
        {
          "output_type": "execute_result",
          "data": {
            "text/plain": [
              "[{'2020 land area': '300.5\\xa0sq\\xa0mi',\n",
              "  '2020 land area.1': '778.3\\xa0km2',\n",
              "  '2020 population density': '29,298/sq\\xa0mi',\n",
              "  '2020 population density.1': '11,312/km2',\n",
              "  '2020census': 8804190,\n",
              "  '2021estimate': 8467513,\n",
              "  '2021rank': 1,\n",
              "  'Change': '−3.82%',\n",
              "  'City': 'New York[d]',\n",
              "  'Location': '.mw-parser-output .geo-default,.mw-parser-output .geo-dms,.mw-parser-output .geo-dec{display:inline}.mw-parser-output .geo-nondefault,.mw-parser-output .geo-multi-punct{display:none}.mw-parser-output .longitude,.mw-parser-output .latitude{white-space:nowrap}40°40′N 73°56′W\\ufeff / \\ufeff40.66°N 73.93°W',\n",
              "  'State[c]': 'New York'}]"
            ]
          },
          "metadata": {},
          "execution_count": 21
        }
      ],
      "source": [
        "cities = gather_cities()\n",
        "cities[:1]"
      ]
    },
    {
      "cell_type": "markdown",
      "metadata": {
        "id": "i1qc4h1Qrui4"
      },
      "source": [
        "> **Your turn.**"
      ]
    },
    {
      "cell_type": "markdown",
      "metadata": {
        "id": "NaQH61t3rui4"
      },
      "source": [
        "This time we'll work with the `for loop` that turns our list of dictionaries into a list of populations.  Below we'll create a new function called `get_populations`, that returns the list of the `populations`."
      ]
    },
    {
      "cell_type": "markdown",
      "metadata": {
        "id": "oxCGK1Verui5"
      },
      "source": [
        "Do so in the following steps:  "
      ]
    },
    {
      "cell_type": "markdown",
      "metadata": {
        "id": "FTFrtAWZrui5"
      },
      "source": [
        "1. Start at the top of the cell, and hold down your cursor dragging until the bottom of the cell, so that the entire cell turns purple.  Then press `tab` to indent the code.\n",
        "\n",
        "2. Now we need another line at the top to define our function.  Place your cursor touching the `p` in `populations = []` and press enter.\n",
        "\n",
        "3. In the new line that we created above the statement `populations = []`, write the name of the function beginning with `def` and ending with `():` and named `get_populations`.  Remember that our first line **should not** be tabbed in.  In other words, the `d` of `def` should be touching the border of our gray cell. \n",
        "\n",
        "4. Then end your function with the return value."
      ]
    },
    {
      "cell_type": "code",
      "execution_count": 27,
      "metadata": {
        "id": "bA_CEmXerui5"
      },
      "outputs": [],
      "source": [
        "def get_pupulations():\n",
        "  populations = []\n",
        "\n",
        "  for each_city in cities:\n",
        "      city_pop = each_city['City']\n",
        "      populations.append(city_pop)\n",
        "  return populations"
      ]
    },
    {
      "cell_type": "code",
      "execution_count": 28,
      "metadata": {
        "id": "QnOF9osKrui6"
      },
      "outputs": [],
      "source": [
        "pops = get_pupulations()\n",
        "# pops"
      ]
    },
    {
      "cell_type": "markdown",
      "metadata": {
        "id": "wybY_HY-rui6"
      },
      "source": [
        "Now do the same thing with the next block of code.  Write a function called `get_names` that returns the list of `city_names`."
      ]
    },
    {
      "cell_type": "code",
      "execution_count": 31,
      "metadata": {
        "id": "J_rC5erzrui6"
      },
      "outputs": [],
      "source": [
        "def get_names():\n",
        "  city_names = []\n",
        "\n",
        "  for each_city in cities:\n",
        "      city_name = each_city['City']\n",
        "      city_names.append(city_name)\n",
        "  return city_names"
      ]
    },
    {
      "cell_type": "code",
      "execution_count": 32,
      "metadata": {
        "id": "yuDgkFFnrui6",
        "outputId": "b97564d4-fb29-4a49-ceaf-5b830a7bd687",
        "colab": {
          "base_uri": "https://localhost:8080/"
        }
      },
      "outputs": [
        {
          "output_type": "execute_result",
          "data": {
            "text/plain": [
              "['New York[d]', 'Los Angeles']"
            ]
          },
          "metadata": {},
          "execution_count": 32
        }
      ],
      "source": [
        "names = get_names()\n",
        "names[:2]"
      ]
    },
    {
      "cell_type": "markdown",
      "metadata": {
        "id": "jXZ8azUlrui6"
      },
      "source": [
        "## Wrapping Up"
      ]
    },
    {
      "cell_type": "markdown",
      "metadata": {
        "id": "5Z4SpIHUrui7"
      },
      "source": [
        "When were finished with our code, our function definitions will look like the following. "
      ]
    },
    {
      "cell_type": "code",
      "execution_count": 36,
      "metadata": {
        "id": "X7CaE6Cirui7"
      },
      "outputs": [],
      "source": [
        "import pandas as pd\n",
        "def gather_cities():\n",
        "    url = 'https://en.wikipedia.org/wiki/List_of_United_States_cities_by_population'\n",
        "    tables = pd.read_html(url)\n",
        "    cities_table = tables[4]\n",
        "    cities = cities_table.to_dict('records')\n",
        "    return cities\n",
        "\n",
        "def get_populations():\n",
        "    populations = []\n",
        "\n",
        "    for each_city in cities:\n",
        "        city_pop = each_city['City']\n",
        "        populations.append(city_pop)\n",
        "    return populations\n",
        "\n",
        "def get_names():\n",
        "    city_names = []\n",
        "\n",
        "    for each_city in cities:\n",
        "        city_name = each_city['City']\n",
        "        city_names.append(city_name)\n",
        "    return city_names"
      ]
    },
    {
      "cell_type": "markdown",
      "metadata": {
        "id": "_JRk_OfSrui7"
      },
      "source": [
        "And we can call all of our code in just a few lines."
      ]
    },
    {
      "cell_type": "code",
      "execution_count": 37,
      "metadata": {
        "id": "tp__Lcddrui7"
      },
      "outputs": [],
      "source": [
        "cities = gather_cities()\n",
        "pops = get_populations()\n",
        "city_names = get_names()"
      ]
    },
    {
      "cell_type": "code",
      "execution_count": 38,
      "metadata": {
        "id": "Gam42EKSrui7",
        "outputId": "905d3f6b-ab78-49aa-cd07-be3c0756c3fd",
        "colab": {
          "base_uri": "https://localhost:8080/"
        }
      },
      "outputs": [
        {
          "output_type": "execute_result",
          "data": {
            "text/plain": [
              "['New York[d]', 'Los Angeles']"
            ]
          },
          "metadata": {},
          "execution_count": 38
        }
      ],
      "source": [
        "pops[:2]"
      ]
    },
    {
      "cell_type": "code",
      "execution_count": 39,
      "metadata": {
        "id": "V0dY3Bv1rui7",
        "outputId": "9dade46c-1eed-417f-ed0b-013b5bb871c0",
        "colab": {
          "base_uri": "https://localhost:8080/"
        }
      },
      "outputs": [
        {
          "output_type": "execute_result",
          "data": {
            "text/plain": [
              "['New York[d]', 'Los Angeles']"
            ]
          },
          "metadata": {},
          "execution_count": 39
        }
      ],
      "source": [
        "city_names[:2]"
      ]
    },
    {
      "cell_type": "markdown",
      "metadata": {
        "id": "wFSzxr4frui8"
      },
      "source": [
        "## Summary"
      ]
    },
    {
      "cell_type": "markdown",
      "metadata": {
        "id": "3z36zz1Mrui8"
      },
      "source": [
        "In this lesson, we learned about functions.  We saw that functions allow us to save a procedure underneath the walls of a function.  We do so with the following pattern."
      ]
    },
    {
      "cell_type": "markdown",
      "metadata": {
        "id": "G041zD84rui8"
      },
      "source": [
        "```python\n",
        "def function_name():\n",
        "    body_of_function = 'hello'\n",
        "    return body_of_function + ' world'\n",
        "```"
      ]
    },
    {
      "cell_type": "markdown",
      "metadata": {
        "id": "m9SpihtSrui8"
      },
      "source": [
        "Once we define the function, then we can execute the function with the `function_name()` and we are given the return value of the function.\n",
        "\n",
        "Functions give names to our complicated code, and allow us to summarize complicated code in just a few steps."
      ]
    },
    {
      "cell_type": "markdown",
      "metadata": {
        "id": "OF6t0pR1rui8"
      },
      "source": [
        "```python\n",
        "cities = gather_cities()\n",
        "pops = get_populations()\n",
        "city_names = get_city_names()\n",
        "```"
      ]
    },
    {
      "cell_type": "markdown",
      "metadata": {
        "id": "ql3wCCc_rui8"
      },
      "source": [
        "### References"
      ]
    },
    {
      "cell_type": "markdown",
      "metadata": {
        "id": "kYbNHmtmrui8"
      },
      "source": [
        "Credit to [John Resig](https://johnresig.com/) for the catapult analogy, and for a bunch of other amazing things."
      ]
    },
    {
      "cell_type": "markdown",
      "metadata": {
        "id": "7S-DapyVrui8"
      },
      "source": [
        "<right> \n",
        "<a href=\"https://colab.research.google.com/github/jigsawlabs-student/code-intro/blob/master/12-function-arguments.ipynb\">\n",
        "<img src=\"https://storage.cloud.google.com/curriculum-assets/curriculum-assets.nosync/mom-files/pngfuel.com.png\" align=\"right\" style=\"padding-right: 20px\" width=\"10%\">\n",
        "    </a>\n",
        "</right>"
      ]
    },
    {
      "cell_type": "markdown",
      "metadata": {
        "id": "9BknxBu6rui8"
      },
      "source": [
        "<center>\n",
        "<a href=\"https://www.jigsawlabs.io/free\" style=\"position: center\"><img src=\"https://storage.cloud.google.com/curriculum-assets/curriculum-assets.nosync/mom-files/jigsaw-labs.png\" width=\"15%\" style=\"text-align: center\"></a>\n",
        "</center>"
      ]
    },
    {
      "cell_type": "markdown",
      "metadata": {
        "id": "D1GL5h17rui8"
      },
      "source": [
        "### Answers"
      ]
    },
    {
      "cell_type": "code",
      "execution_count": null,
      "metadata": {
        "id": "rNDCTs25rui8"
      },
      "outputs": [],
      "source": [
        "def collect_data():\n",
        "    return 'data'"
      ]
    },
    {
      "cell_type": "code",
      "execution_count": null,
      "metadata": {
        "id": "64q8WJAXrui9"
      },
      "outputs": [],
      "source": [
        "def catapult():\n",
        "    return 'slime'"
      ]
    },
    {
      "cell_type": "code",
      "execution_count": null,
      "metadata": {
        "id": "v0i2Bl9Yrui9"
      },
      "outputs": [],
      "source": [
        "def get_populations():\n",
        "    populations = []\n",
        "\n",
        "    for each_city in cities:\n",
        "        city_pop = each_city['2018estimate']\n",
        "        populations.append(city_pop)\n",
        "    return populations"
      ]
    },
    {
      "cell_type": "code",
      "execution_count": null,
      "metadata": {
        "id": "yTXvYhTmrui9",
        "outputId": "10bb4254-1fbb-4445-99a5-de991fe8bb11"
      },
      "outputs": [
        {
          "data": {
            "text/plain": [
              "[8398748, 3990456]"
            ]
          },
          "execution_count": 86,
          "metadata": {},
          "output_type": "execute_result"
        }
      ],
      "source": [
        "get_populations()[:2]"
      ]
    },
    {
      "cell_type": "code",
      "execution_count": null,
      "metadata": {
        "id": "U-WsnTCGrui9"
      },
      "outputs": [],
      "source": [
        "def get_names():\n",
        "    city_names = []\n",
        "\n",
        "    for each_city in cities:\n",
        "        city_name = each_city['City']\n",
        "        city_names.append(city_name)\n",
        "    return city_names"
      ]
    },
    {
      "cell_type": "code",
      "execution_count": null,
      "metadata": {
        "id": "z0xC7vX7rui9",
        "outputId": "5ad0880f-3d04-49ee-b4c7-4660821b8051"
      },
      "outputs": [
        {
          "data": {
            "text/plain": [
              "['New York[d]', 'Los Angeles']"
            ]
          },
          "execution_count": 89,
          "metadata": {},
          "output_type": "execute_result"
        }
      ],
      "source": [
        "get_names()[:2]"
      ]
    },
    {
      "cell_type": "code",
      "execution_count": null,
      "metadata": {
        "id": "C92g-aRwrui9"
      },
      "outputs": [],
      "source": [
        ""
      ]
    }
  ],
  "metadata": {
    "kernelspec": {
      "display_name": "Python 3 (ipykernel)",
      "language": "python",
      "name": "python3"
    },
    "language_info": {
      "codemirror_mode": {
        "name": "ipython",
        "version": 3
      },
      "file_extension": ".py",
      "mimetype": "text/x-python",
      "name": "python",
      "nbconvert_exporter": "python",
      "pygments_lexer": "ipython3",
      "version": "3.9.10"
    },
    "colab": {
      "name": "1-saving-work-with-functions.ipynb",
      "provenance": [],
      "include_colab_link": true
    }
  },
  "nbformat": 4,
  "nbformat_minor": 0
}