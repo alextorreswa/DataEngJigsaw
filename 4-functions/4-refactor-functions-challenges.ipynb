{
  "cells": [
    {
      "cell_type": "markdown",
      "metadata": {
        "id": "view-in-github",
        "colab_type": "text"
      },
      "source": [
        "<a href=\"https://colab.research.google.com/github/alextorreswa/DataEngJigsaw/blob/main/4-functions/4-refactor-functions-challenges.ipynb\" target=\"_parent\"><img src=\"https://colab.research.google.com/assets/colab-badge.svg\" alt=\"Open In Colab\"/></a>"
      ]
    },
    {
      "cell_type": "markdown",
      "metadata": {
        "id": "e9UuorzQzYEK"
      },
      "source": [
        "# Refactor with Functions Challenges"
      ]
    },
    {
      "cell_type": "markdown",
      "metadata": {
        "id": "BddHMbsIzYEP"
      },
      "source": [
        "### Introduction"
      ]
    },
    {
      "cell_type": "markdown",
      "metadata": {
        "id": "nZpMLniszYER"
      },
      "source": [
        "Let's take the code from our previous movies lab, and see if we can make our code more flexible with functions."
      ]
    },
    {
      "cell_type": "markdown",
      "metadata": {
        "id": "_CS3AdtQzYER"
      },
      "source": [
        "### Function Changes"
      ]
    },
    {
      "cell_type": "markdown",
      "metadata": {
        "id": "i-_sBeF1zYER"
      },
      "source": [
        "> Load the data by pressing `shift + return` below."
      ]
    },
    {
      "cell_type": "code",
      "execution_count": 2,
      "metadata": {
        "id": "ztp6SJQrzYES"
      },
      "outputs": [],
      "source": [
        "import pandas as pd\n",
        "url = \"https://raw.githubusercontent.com/eng-6-22/mod-1-a-data-structures/master/4-functions/imdb_movies.csv\"\n",
        "df = pd.read_csv(url)\n",
        "movies = df.to_dict('records')"
      ]
    },
    {
      "cell_type": "code",
      "source": [
        "movies[-1]"
      ],
      "metadata": {
        "id": "6Fi6ejEr0EXN",
        "outputId": "2d36a79b-4b3b-4cf6-928f-ef815899c51c",
        "colab": {
          "base_uri": "https://localhost:8080/"
        }
      },
      "execution_count": 5,
      "outputs": [
        {
          "output_type": "execute_result",
          "data": {
            "text/plain": [
              "{'budget': 25000000,\n",
              " 'genre': 'Fantasy',\n",
              " 'month': 12,\n",
              " 'revenue': 6399,\n",
              " 'runtime': 99.0,\n",
              " 'title': 'The Adventurer: The Curse of the Midas Box',\n",
              " 'year': 2013}"
            ]
          },
          "metadata": {},
          "execution_count": 5
        }
      ]
    },
    {
      "cell_type": "markdown",
      "metadata": {
        "id": "gdehSlUJzYEU"
      },
      "source": [
        "1. `movies_since`"
      ]
    },
    {
      "cell_type": "markdown",
      "metadata": {
        "id": "fG7O4rDgzYEU"
      },
      "source": [
        "Write a method called `movies_since` that will return only the movies after a certain year."
      ]
    },
    {
      "cell_type": "code",
      "execution_count": null,
      "metadata": {
        "id": "-a5cj4YOzYEV"
      },
      "outputs": [],
      "source": [
        "[movie for movie in movies if movie['year'] >= 2015]"
      ]
    },
    {
      "cell_type": "code",
      "source": [
        "def movies_since(movies, year):\n",
        "  return [movie for movie in movies if movie['year'] > year]\n",
        "\n",
        "movies_since(movies, 2012)[-1]"
      ],
      "metadata": {
        "id": "iGpqZ9jizrRI",
        "outputId": "07d8d827-3b85-46b1-d67b-7b47eacdb266",
        "colab": {
          "base_uri": "https://localhost:8080/"
        }
      },
      "execution_count": 10,
      "outputs": [
        {
          "output_type": "execute_result",
          "data": {
            "text/plain": [
              "{'budget': 25000000,\n",
              " 'genre': 'Fantasy',\n",
              " 'month': 12,\n",
              " 'revenue': 6399,\n",
              " 'runtime': 99.0,\n",
              " 'title': 'The Adventurer: The Curse of the Midas Box',\n",
              " 'year': 2013}"
            ]
          },
          "metadata": {},
          "execution_count": 10
        }
      ]
    },
    {
      "cell_type": "markdown",
      "metadata": {
        "id": "rkn9KY2dzYEV"
      },
      "source": [
        "2. `find_by`"
      ]
    },
    {
      "cell_type": "markdown",
      "metadata": {
        "id": "0Ue1njC0zYEW"
      },
      "source": [
        "In the last lesson, we also had a `find_by_genre` method. \n",
        "\n",
        "```python\n",
        "\n",
        "def find_by_genre(movies, genre_name):\n",
        "    genre_name = genre_name.title()\n",
        "    return [movie for movie in movies \n",
        "    if movie['genre'] == genre_name]\n",
        "```\n",
        "\n",
        "Let's say that we wanted the ability to return movies with matching year, genre, or title, etc.  Change the function to so that we return movies where checks if any attribute matches."
      ]
    },
    {
      "cell_type": "code",
      "execution_count": 13,
      "metadata": {
        "id": "EIaZzwwEzYEW",
        "outputId": "867dd699-ebf4-447d-d957-ee177d5abc25",
        "colab": {
          "base_uri": "https://localhost:8080/"
        }
      },
      "outputs": [
        {
          "output_type": "execute_result",
          "data": {
            "text/plain": [
              "{'budget': 25000000,\n",
              " 'genre': 'Action',\n",
              " 'month': 1,\n",
              " 'revenue': 1397284,\n",
              " 'runtime': 98.0,\n",
              " 'title': 'Jane Got a Gun',\n",
              " 'year': 2016}"
            ]
          },
          "metadata": {},
          "execution_count": 13
        }
      ],
      "source": [
        "def find_by(movies, category, value):\n",
        "    return [movie for movie in movies if movie[category] == value]\n",
        "\n",
        "find_by(movies, 'year', 2016)[-1]"
      ]
    },
    {
      "cell_type": "markdown",
      "metadata": {
        "id": "44Z6D6cczYEX"
      },
      "source": [
        "3. Rewrite `find_by_genre` \n",
        "\n",
        "Now use the `find_by` method to rewrite the `find_by_genre` method.  The `find_by_genre` method should be case insensitive."
      ]
    },
    {
      "cell_type": "code",
      "source": [
        "def find_by_genre(movies, genre):\n",
        "  return find_by(movies, 'genre', genre.title())\n",
        "\n",
        "find_by_genre(movies, \"action\")[-1]"
      ],
      "metadata": {
        "id": "tTZtxNGe0_Gp",
        "outputId": "e8d8438f-7e67-418e-ab9b-d7bc5ddc5a04",
        "colab": {
          "base_uri": "https://localhost:8080/"
        }
      },
      "execution_count": 14,
      "outputs": [
        {
          "output_type": "execute_result",
          "data": {
            "text/plain": [
              "{'budget': 19000000,\n",
              " 'genre': 'Action',\n",
              " 'month': 4,\n",
              " 'revenue': 141407024,\n",
              " 'runtime': 118.0,\n",
              " 'title': 'Bad Boys',\n",
              " 'year': 1995}"
            ]
          },
          "metadata": {},
          "execution_count": 14
        }
      ]
    },
    {
      "cell_type": "markdown",
      "metadata": {
        "id": "ucFgKm6nzYEX"
      },
      "source": [
        "4. `top` function"
      ]
    },
    {
      "cell_type": "markdown",
      "metadata": {
        "id": "fh1CfOXCzYEX"
      },
      "source": [
        "In the previous lesson, we wrote code to select the top 100 movies by revenue."
      ]
    },
    {
      "cell_type": "code",
      "execution_count": 15,
      "metadata": {
        "id": "QuiBqAAizYEX"
      },
      "outputs": [],
      "source": [
        "top_100_revenue = sorted(movies,\n",
        "       key = lambda movie: movie['revenue'],\n",
        "       reverse = True)[:100]"
      ]
    },
    {
      "cell_type": "markdown",
      "metadata": {
        "id": "QX_3DyjwzYEX"
      },
      "source": [
        "Write a method called `top` that: \n",
        "1. Returns the top 100 movies by any category\n",
        "    * For example, it should work for budget as well\n",
        "2. Limits to the top 100 as the default, but allows for specifying any limit.\n",
        "3. Has an argument `desc` that by default is `True` and sorts from top to bottom. "
      ]
    },
    {
      "cell_type": "code",
      "execution_count": 16,
      "metadata": {
        "id": "2AZaxowozYEY"
      },
      "outputs": [],
      "source": [
        "def top(movies, category, limit, desc = True):\n",
        "    return sorted(movies, \n",
        "       key = lambda movie: movie[category],\n",
        "       reverse = desc)[:limit]"
      ]
    },
    {
      "cell_type": "markdown",
      "metadata": {
        "id": "ymzpoyaUzYEY"
      },
      "source": [
        "5. `movies_from`"
      ]
    },
    {
      "cell_type": "markdown",
      "metadata": {
        "id": "YZFtqHwAzYEY"
      },
      "source": [
        "What if we wanted a method that could allow us to find movies only before a year, or only after a year, or both."
      ]
    },
    {
      "cell_type": "code",
      "execution_count": 18,
      "metadata": {
        "id": "naTX7RrvzYEY"
      },
      "outputs": [],
      "source": [
        "def movies_from(before_year = float(\"inf\"), after_year = float(\"-inf\")):\n",
        "  return [ movie for movie in movies if \n",
        "          after_year <= movie['year'] <= before_year]"
      ]
    },
    {
      "cell_type": "markdown",
      "metadata": {
        "id": "sUblTt1KzYEZ"
      },
      "source": [
        "Then write the code to check your work below."
      ]
    },
    {
      "cell_type": "code",
      "source": [
        "movies_from(after_year = 2000)[-1]"
      ],
      "metadata": {
        "id": "MoUb33Lh349L",
        "outputId": "0a37e12c-f5c1-45b2-ed82-fefe7ae0480d",
        "colab": {
          "base_uri": "https://localhost:8080/"
        }
      },
      "execution_count": 23,
      "outputs": [
        {
          "output_type": "execute_result",
          "data": {
            "text/plain": [
              "{'budget': 25000000,\n",
              " 'genre': 'Fantasy',\n",
              " 'month': 12,\n",
              " 'revenue': 6399,\n",
              " 'runtime': 99.0,\n",
              " 'title': 'The Adventurer: The Curse of the Midas Box',\n",
              " 'year': 2013}"
            ]
          },
          "metadata": {},
          "execution_count": 23
        }
      ]
    },
    {
      "cell_type": "code",
      "source": [
        "movies_from(before_year = 1990)[-1]"
      ],
      "metadata": {
        "id": "jYRoDrmB4EiR",
        "outputId": "e1302cdc-bdf9-4718-f754-db162bde34c0",
        "colab": {
          "base_uri": "https://localhost:8080/"
        }
      },
      "execution_count": 20,
      "outputs": [
        {
          "output_type": "execute_result",
          "data": {
            "text/plain": [
              "{'budget': 18000000,\n",
              " 'genre': 'Adventure',\n",
              " 'month': 5,\n",
              " 'revenue': 538400000,\n",
              " 'runtime': 124.0,\n",
              " 'title': 'The Empire Strikes Back',\n",
              " 'year': 1980}"
            ]
          },
          "metadata": {},
          "execution_count": 20
        }
      ]
    },
    {
      "cell_type": "code",
      "source": [
        "movies_from(before_year = 2000, after_year = 1990)[-1]"
      ],
      "metadata": {
        "id": "AtkX-q8e4VRp",
        "outputId": "1ff0ddb5-3498-4ada-913b-21ea5252a15c",
        "colab": {
          "base_uri": "https://localhost:8080/"
        }
      },
      "execution_count": 22,
      "outputs": [
        {
          "output_type": "execute_result",
          "data": {
            "text/plain": [
              "{'budget': 23000000,\n",
              " 'genre': 'Thriller',\n",
              " 'month': 2,\n",
              " 'revenue': 53187659,\n",
              " 'runtime': 108.0,\n",
              " 'title': 'Pitch Black',\n",
              " 'year': 2000}"
            ]
          },
          "metadata": {},
          "execution_count": 22
        }
      ]
    },
    {
      "cell_type": "markdown",
      "metadata": {
        "id": "5A4_s5wWzYEZ"
      },
      "source": [
        "### Summary"
      ]
    },
    {
      "cell_type": "markdown",
      "metadata": {
        "id": "MD6dSDtBzYEZ"
      },
      "source": [
        "In this lesson, we practiced making our code more flexible with functions.  Notice that to do so, we identified the values that we're hard coded and turned them into arguments.  This made our hard-coded values, and thus the functionality of our code, more flexible."
      ]
    }
  ],
  "metadata": {
    "kernelspec": {
      "display_name": "Python 3 (ipykernel)",
      "language": "python",
      "name": "python3"
    },
    "language_info": {
      "codemirror_mode": {
        "name": "ipython",
        "version": 3
      },
      "file_extension": ".py",
      "mimetype": "text/x-python",
      "name": "python",
      "nbconvert_exporter": "python",
      "pygments_lexer": "ipython3",
      "version": "3.9.10"
    },
    "colab": {
      "name": "4-refactor-functions-challenges.ipynb",
      "provenance": [],
      "include_colab_link": true
    }
  },
  "nbformat": 4,
  "nbformat_minor": 0
}