{
  "cells": [
    {
      "cell_type": "markdown",
      "metadata": {
        "id": "view-in-github",
        "colab_type": "text"
      },
      "source": [
        "<a href=\"https://colab.research.google.com/github/alextorreswa/DataEngJigsaw/blob/main/4-functions/5-refactor-into-functions.ipynb\" target=\"_parent\"><img src=\"https://colab.research.google.com/assets/colab-badge.svg\" alt=\"Open In Colab\"/></a>"
      ]
    },
    {
      "cell_type": "markdown",
      "metadata": {
        "id": "3sM_MGHWsPVM"
      },
      "source": [
        "# Refactoring With Functions"
      ]
    },
    {
      "cell_type": "markdown",
      "metadata": {
        "id": "JbhyAFQbsPVO"
      },
      "source": [
        "### Introduction"
      ]
    },
    {
      "cell_type": "markdown",
      "metadata": {
        "id": "3THW7zCUsPVP"
      },
      "source": [
        "One of the benefits of functions is that it allows us to write reusable code.  In this lesson, we'll see how we can begin to make our code more flexible through the use of functions and function arguments."
      ]
    },
    {
      "cell_type": "markdown",
      "metadata": {
        "id": "VNQZZHoasPVP"
      },
      "source": [
        "Let's load up our data, and then we can see how to make our code more reusable."
      ]
    },
    {
      "cell_type": "code",
      "execution_count": 2,
      "metadata": {
        "id": "hO7mgBNAsPVP"
      },
      "outputs": [],
      "source": [
        "import pandas as pd\n",
        "url = \"https://raw.githubusercontent.com/eng-6-22/mod-1-a-data-structures/master/4-functions/imdb_movies.csv\"\n",
        "df = pd.read_csv(url)\n",
        "movies = df.to_dict('records')"
      ]
    },
    {
      "cell_type": "markdown",
      "metadata": {
        "id": "Wiy87D0esPVQ"
      },
      "source": [
        "### Looking for arguments"
      ]
    },
    {
      "cell_type": "markdown",
      "metadata": {
        "id": "jRiuZfhMsPVR"
      },
      "source": [
        "For example, in the earlier lesson, the first thing we did was see if the movie was since 2015."
      ]
    },
    {
      "cell_type": "code",
      "execution_count": 4,
      "metadata": {
        "id": "XJWv50uysPVR"
      },
      "outputs": [],
      "source": [
        "movies_recent = [movie for movie in movies \n",
        "                 if movie['year'] >= 2015]"
      ]
    },
    {
      "cell_type": "markdown",
      "metadata": {
        "id": "CZTVI5HKsPVR"
      },
      "source": [
        "But what if we wanted to change make the year more flexible.  Well we could use an argument to make our code more flexible."
      ]
    },
    {
      "cell_type": "code",
      "execution_count": 6,
      "metadata": {
        "id": "63ald4VusPVS"
      },
      "outputs": [],
      "source": [
        "def movies_since(year):\n",
        "    return [movie for movie in movies if movie['year'] >= year]"
      ]
    },
    {
      "cell_type": "code",
      "execution_count": 7,
      "metadata": {
        "id": "5s_kPBHLsPVS",
        "outputId": "adc83b08-4c08-43d1-d010-990b197d5d74",
        "colab": {
          "base_uri": "https://localhost:8080/"
        }
      },
      "outputs": [
        {
          "output_type": "execute_result",
          "data": {
            "text/plain": [
              "[{'budget': 250000000,\n",
              "  'genre': 'Action',\n",
              "  'month': 3,\n",
              "  'revenue': 873260194,\n",
              "  'runtime': 151.0,\n",
              "  'title': 'Batman v Superman: Dawn of Justice',\n",
              "  'year': 2016},\n",
              " {'budget': 250000000,\n",
              "  'genre': 'Adventure',\n",
              "  'month': 4,\n",
              "  'revenue': 1153304495,\n",
              "  'runtime': 147.0,\n",
              "  'title': 'Captain America: Civil War',\n",
              "  'year': 2016}]"
            ]
          },
          "metadata": {},
          "execution_count": 7
        }
      ],
      "source": [
        "movies_since(2016)[:2]"
      ]
    },
    {
      "cell_type": "markdown",
      "metadata": {
        "id": "3LoeNXUhsPVT"
      },
      "source": [
        "How do you see where to refactor methods?  Well a good place to start is to look for what's hardcoded into the previous code.  That is look, for the `green` or the `red` in the code."
      ]
    },
    {
      "cell_type": "code",
      "execution_count": null,
      "metadata": {
        "id": "oLp5D8KVsPVT"
      },
      "outputs": [],
      "source": [
        "[movie for movie in movies if movie['year'] >= 2015]"
      ]
    },
    {
      "cell_type": "markdown",
      "metadata": {
        "id": "GZcImtQ0sPVT"
      },
      "source": [
        "> So what's hardcoded above, is the key `year` and the value of `2015`."
      ]
    },
    {
      "cell_type": "markdown",
      "metadata": {
        "id": "7QQoQF76sPVU"
      },
      "source": [
        "Following that rule, notice then that we could have specified different keys as well."
      ]
    },
    {
      "cell_type": "code",
      "execution_count": 9,
      "metadata": {
        "id": "UOvS2F6ksPVU"
      },
      "outputs": [],
      "source": [
        "def movies_where_gt(key, value):\n",
        "    return [movie for movie in movies \n",
        "            if movie[key] >= value]"
      ]
    },
    {
      "cell_type": "code",
      "execution_count": null,
      "metadata": {
        "id": "LJyTJ1bBsPVU"
      },
      "outputs": [],
      "source": [
        "movies_where_gt('revenue', 880674609)"
      ]
    },
    {
      "cell_type": "markdown",
      "metadata": {
        "id": "TVw3LLUmsPVU"
      },
      "source": [
        "### But balance"
      ]
    },
    {
      "cell_type": "markdown",
      "metadata": {
        "id": "6FBnP2YlsPVV"
      },
      "source": [
        "Can we refactor too much?  Absolutely.  There are always tradeoffs.  One downside of refactoring, is that our code sometimes becomes less clear.  For example, `movies_where_gt` is less clear than `movies_since(year)`.  \n",
        "\n",
        "So a good rule of thumb is to only refactor when we see repetition in our code.  So for example, if we saw that we needed to filter our movies by both `revenue` and `year` -- then it was time to remove the duplication."
      ]
    },
    {
      "cell_type": "markdown",
      "metadata": {
        "id": "N__smYO-sPVV"
      },
      "source": [
        "### Another refactoring"
      ]
    },
    {
      "cell_type": "markdown",
      "metadata": {
        "id": "h4xUi8UTsPVV"
      },
      "source": [
        "In the last lesson, we also had a `find_by_genre` method. \n",
        "\n",
        "```python\n",
        "\n",
        "def find_by_genre(movies, genre_name):\n",
        "    genre_name = genre_name.title()\n",
        "    return [movie for movie in movies \n",
        "    if movie['genre'] == genre_name]\n",
        "```\n",
        "\n",
        "Let's say that we wanted the ability to return movies with matching year, genre, or title, etc.  Change the function to so that we return movies where checks if any attribute matches."
      ]
    },
    {
      "cell_type": "code",
      "execution_count": 13,
      "metadata": {
        "id": "RgyHxZwUsPVW",
        "outputId": "ad8c1bcf-d989-40cc-ae89-c928e7f88275",
        "colab": {
          "base_uri": "https://localhost:8080/"
        }
      },
      "outputs": [
        {
          "output_type": "execute_result",
          "data": {
            "text/plain": [
              "[{'budget': 250000000,\n",
              "  'genre': 'Action',\n",
              "  'month': 3,\n",
              "  'revenue': 873260194,\n",
              "  'runtime': 151.0,\n",
              "  'title': 'Batman v Superman: Dawn of Justice',\n",
              "  'year': 2016},\n",
              " {'budget': 250000000,\n",
              "  'genre': 'Adventure',\n",
              "  'month': 4,\n",
              "  'revenue': 1153304495,\n",
              "  'runtime': 147.0,\n",
              "  'title': 'Captain America: Civil War',\n",
              "  'year': 2016},\n",
              " {'budget': 185000000,\n",
              "  'genre': 'Action',\n",
              "  'month': 7,\n",
              "  'revenue': 343471816,\n",
              "  'runtime': 122.0,\n",
              "  'title': 'Star Trek Beyond',\n",
              "  'year': 2016}]"
            ]
          },
          "metadata": {},
          "execution_count": 13
        }
      ],
      "source": [
        "def find_by(movies, category, value):\n",
        "    return [ movie for movie in movies if movie[category] == value]\n",
        "\n",
        "find_by(movies, 'year', 2016)[:3]"
      ]
    },
    {
      "cell_type": "markdown",
      "metadata": {
        "id": "LtALnKk2sPVW"
      },
      "source": [
        "### Using Helper Methods "
      ]
    },
    {
      "cell_type": "markdown",
      "metadata": {
        "id": "YkMUmgH5sPVW"
      },
      "source": [
        "When we changed `find_by_genre` to the `find_by` we removed some of the functionality that could have been helpful.  To be specific, we removed the functionality that made the search case-insensitive.\n",
        "\n",
        "`genre_name = genre_name.title()`\n",
        "\n",
        "We did this because we can't call the title method on an integer.\n",
        "\n",
        "But we can get reduce our repetition and still have this specific functionality with something like the following:"
      ]
    },
    {
      "cell_type": "code",
      "execution_count": 14,
      "metadata": {
        "id": "DEfpH3CSsPVW"
      },
      "outputs": [],
      "source": [
        "def find_by(movies, category, value):\n",
        "    return [movie for movie in movies \n",
        "    if movie[category] == value]\n",
        "\n",
        "def find_by_genre(movies, genre_name):\n",
        "    genre_name = genre_name.capitalize()\n",
        "    return find_by(movies, 'genre', genre_name)"
      ]
    },
    {
      "cell_type": "markdown",
      "metadata": {
        "id": "6zlnMcVEsPVX"
      },
      "source": [
        "So by using our helper method of `find_by` we were able to avoid repeating ourselves yet still have a `find_by_genre` method that has all of the features of our previous method."
      ]
    },
    {
      "cell_type": "markdown",
      "metadata": {
        "id": "wjNnSMIlsPVX"
      },
      "source": [
        "### Using Default Arguments"
      ]
    },
    {
      "cell_type": "markdown",
      "metadata": {
        "id": "d_mO9aK7sPVX"
      },
      "source": [
        "Let's take another look at our `movies_since` argument."
      ]
    },
    {
      "cell_type": "code",
      "execution_count": 15,
      "metadata": {
        "id": "GmVrOGg7sPVX"
      },
      "outputs": [],
      "source": [
        "def movies_since(year):\n",
        "    return [movie for movie in movies \n",
        "            if movie['year'] >= year]"
      ]
    },
    {
      "cell_type": "markdown",
      "metadata": {
        "id": "_qTgkTS-sPVX"
      },
      "source": [
        "What if we wanted a method that could allow us to find movies only before a year, or only after a year, or both."
      ]
    },
    {
      "cell_type": "markdown",
      "metadata": {
        "id": "AQBmlcwssPVX"
      },
      "source": [
        "We can achieve this with the use of default arguments."
      ]
    },
    {
      "cell_type": "code",
      "execution_count": 16,
      "metadata": {
        "id": "BJVtGBlNsPVY"
      },
      "outputs": [],
      "source": [
        "def movies_from(earliest_year = float(\"-inf\"), latest_year = float(\"inf\")):\n",
        "    return [movie for movie in movies \n",
        "            if earliest_year <= movie['year'] <= latest_year]"
      ]
    },
    {
      "cell_type": "code",
      "execution_count": 17,
      "metadata": {
        "id": "J9NCIzslsPVY"
      },
      "outputs": [],
      "source": [
        "selected_movies = movies_from(earliest_year = 2014, latest_year = 2015)"
      ]
    },
    {
      "cell_type": "code",
      "execution_count": 18,
      "metadata": {
        "id": "TPtu8uBTsPVY",
        "outputId": "c309360a-d3aa-4fea-f0a6-d0fe91530e12",
        "colab": {
          "base_uri": "https://localhost:8080/"
        }
      },
      "outputs": [
        {
          "output_type": "execute_result",
          "data": {
            "text/plain": [
              "{2014, 2015}"
            ]
          },
          "metadata": {},
          "execution_count": 18
        }
      ],
      "source": [
        "set([movie['year'] for movie in selected_movies])"
      ]
    },
    {
      "cell_type": "code",
      "execution_count": 19,
      "metadata": {
        "id": "wXX_0bHVsPVY"
      },
      "outputs": [],
      "source": [
        "selected_movies = movies_from(earliest_year = 2013)"
      ]
    },
    {
      "cell_type": "code",
      "execution_count": 20,
      "metadata": {
        "id": "VDiagvkmsPVY",
        "outputId": "25832e6f-6ead-4b11-b661-1bdb60c2741f",
        "colab": {
          "base_uri": "https://localhost:8080/"
        }
      },
      "outputs": [
        {
          "output_type": "execute_result",
          "data": {
            "text/plain": [
              "{2013, 2014, 2015, 2016}"
            ]
          },
          "metadata": {},
          "execution_count": 20
        }
      ],
      "source": [
        "set([movie['year'] for movie in selected_movies])"
      ]
    },
    {
      "cell_type": "markdown",
      "metadata": {
        "id": "L-fmW3zisPVZ"
      },
      "source": [
        "So as we can see, default arguments provide us with methods that have different levels of specificity."
      ]
    },
    {
      "cell_type": "markdown",
      "metadata": {
        "id": "HcBbfQ2csPVZ"
      },
      "source": [
        "### Your turn"
      ]
    },
    {
      "cell_type": "markdown",
      "metadata": {
        "id": "Dek_vwdJsPVZ"
      },
      "source": [
        "In the previous lesson, we wrote code to select the top 100 movies by revenue."
      ]
    },
    {
      "cell_type": "code",
      "execution_count": 21,
      "metadata": {
        "id": "XVS_ReFNsPVZ"
      },
      "outputs": [],
      "source": [
        "top_100_revenue = sorted(movies,\n",
        "       key = lambda movie: movie['revenue'],\n",
        "       reverse = True)[:100]"
      ]
    },
    {
      "cell_type": "markdown",
      "metadata": {
        "id": "0-P2qaabsPVa"
      },
      "source": [
        "Write a method called `top` that: \n",
        "1. Returns the top 100 movies by any category\n",
        "    * For example, it should work for budget as well\n",
        "2. Limits to the top 100 as the default, but allows for specifying any limit.\n",
        "3. Has an argument `desc` that by default is `True` and sorts from top to bottom. "
      ]
    },
    {
      "cell_type": "code",
      "execution_count": 22,
      "metadata": {
        "id": "sQz23D0GsPVa"
      },
      "outputs": [],
      "source": [
        "def top(movies, category, limit, desc = True):\n",
        "    return sorted(movies, \n",
        "       key = lambda movie: movie[category],\n",
        "       reverse = desc)[:limit]"
      ]
    },
    {
      "cell_type": "code",
      "execution_count": 23,
      "metadata": {
        "id": "Pd965w3XsPVa",
        "outputId": "d3d6784f-b21c-4aca-b21a-38292d903d2e",
        "colab": {
          "base_uri": "https://localhost:8080/"
        }
      },
      "outputs": [
        {
          "output_type": "execute_result",
          "data": {
            "text/plain": [
              "[{'budget': 85000000,\n",
              "  'genre': 'Comedy',\n",
              "  'month': 10,\n",
              "  'revenue': 183611771,\n",
              "  'runtime': 100.0,\n",
              "  'title': '102 Dalmatians',\n",
              "  'year': 2000},\n",
              " {'budget': 37000000,\n",
              "  'genre': 'Comedy',\n",
              "  'month': 4,\n",
              "  'revenue': 96455697,\n",
              "  'runtime': 98.0,\n",
              "  'title': '13 Going on 30',\n",
              "  'year': 2004}]"
            ]
          },
          "metadata": {},
          "execution_count": 23
        }
      ],
      "source": [
        "top(movies, 'title', limit = 2, desc = False)\n",
        "\n",
        "# [{'title': '102 Dalmatians',\n",
        "#   'genre': 'Comedy',\n",
        "#   'budget': 85000000,\n",
        "#   'runtime': 100.0,\n",
        "#   'year': 2000,\n",
        "#   'month': 10,\n",
        "#   'revenue': 183611771},\n",
        "#  {'title': '13 Going on 30',\n",
        "#   'genre': 'Comedy',\n",
        "#   'budget': 37000000,\n",
        "#   'runtime': 98.0,\n",
        "#   'year': 2004,\n",
        "#   'month': 4,\n",
        "#   'revenue': 96455697}]"
      ]
    },
    {
      "cell_type": "code",
      "source": [
        "top(movies, 'budget', limit = 1, desc = True)"
      ],
      "metadata": {
        "id": "-KkebYvPyd_d",
        "outputId": "31283ed6-cfea-48fb-e267-0e1b64da2d81",
        "colab": {
          "base_uri": "https://localhost:8080/"
        }
      },
      "execution_count": 25,
      "outputs": [
        {
          "output_type": "execute_result",
          "data": {
            "text/plain": [
              "[{'budget': 380000000,\n",
              "  'genre': 'Adventure',\n",
              "  'month': 5,\n",
              "  'revenue': 1045713802,\n",
              "  'runtime': 136.0,\n",
              "  'title': 'Pirates of the Caribbean: On Stranger Tides',\n",
              "  'year': 2011}]"
            ]
          },
          "metadata": {},
          "execution_count": 25
        }
      ]
    },
    {
      "cell_type": "markdown",
      "metadata": {
        "id": "C64CX5TssPVa"
      },
      "source": [
        "### Summary"
      ]
    },
    {
      "cell_type": "markdown",
      "metadata": {
        "id": "vzE9lDeasPVa"
      },
      "source": [
        "In this lesson we saw how to use function arguments to make our code more reusable.  We identified what to turn into an argument by looking at the values that were hard-coded.  By turning these values into arguments, we allow ourselves to alter the values when executing the function.\n",
        "\n",
        "We saw that when making our code more flexible, one tradeoff is that our code sometimes becomes less clear.  We should consider this when refactoring, and hold off on making our code more flexible until we see a benefit to the flexibility.\n",
        "\n",
        "Finally, we saw that through the use of a helper method that we could reuse the code that is shared between functions while still providing unique functionality when needed.\n",
        "\n"
      ]
    },
    {
      "cell_type": "markdown",
      "metadata": {
        "id": "JAt8me04sPVa"
      },
      "source": [
        "* Challenges"
      ]
    },
    {
      "cell_type": "code",
      "execution_count": 26,
      "metadata": {
        "id": "uC-z5l4csPVb"
      },
      "outputs": [],
      "source": [
        "def find_by(movies, category, value):\n",
        "    return [movie for movie in movies \n",
        "    if movie[category] == value]"
      ]
    },
    {
      "cell_type": "code",
      "execution_count": 28,
      "metadata": {
        "id": "eSW4RcV8sPVb"
      },
      "outputs": [],
      "source": [
        "def top(movies, category, limit = 100, desc = True):\n",
        "    return sorted(movies, \n",
        "       key = lambda movie: movie[category],\n",
        "       reverse = desc)[:limit]"
      ]
    }
  ],
  "metadata": {
    "kernelspec": {
      "display_name": "Python 3 (ipykernel)",
      "language": "python",
      "name": "python3"
    },
    "language_info": {
      "codemirror_mode": {
        "name": "ipython",
        "version": 3
      },
      "file_extension": ".py",
      "mimetype": "text/x-python",
      "name": "python",
      "nbconvert_exporter": "python",
      "pygments_lexer": "ipython3",
      "version": "3.9.10"
    },
    "colab": {
      "name": "5-refactor-into-functions.ipynb",
      "provenance": [],
      "include_colab_link": true
    }
  },
  "nbformat": 4,
  "nbformat_minor": 0
}