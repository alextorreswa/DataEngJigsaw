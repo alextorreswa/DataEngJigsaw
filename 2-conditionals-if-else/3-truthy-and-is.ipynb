{
  "cells": [
    {
      "cell_type": "markdown",
      "metadata": {
        "id": "oUWbNQsx9VGH"
      },
      "source": [
        "# Truthy, Falsy, and Is Discussion Questions"
      ]
    },
    {
      "cell_type": "markdown",
      "metadata": {
        "id": "baXyLtM69VGJ"
      },
      "source": [
        "### Introduction"
      ]
    },
    {
      "cell_type": "markdown",
      "metadata": {
        "id": "5oxqpU7S9VGJ"
      },
      "source": [
        "Now let's explore comparison operators a little further."
      ]
    },
    {
      "cell_type": "markdown",
      "metadata": {
        "id": "ui7rEzs69VGK"
      },
      "source": [
        "### Truthiness and Falsiness"
      ]
    },
    {
      "cell_type": "markdown",
      "metadata": {
        "id": "6dSuT-l49VGK"
      },
      "source": [
        "Let's see the following:"
      ]
    },
    {
      "cell_type": "code",
      "execution_count": 1,
      "metadata": {
        "id": "iu2Glq7F9VGK",
        "outputId": "4f306f86-ee81-4703-e635-9445966e66b2",
        "colab": {
          "base_uri": "https://localhost:8080/"
        }
      },
      "outputs": [
        {
          "output_type": "stream",
          "name": "stdout",
          "text": [
            "Yes\n"
          ]
        }
      ],
      "source": [
        "if 1:\n",
        "    print('Yes')"
      ]
    },
    {
      "cell_type": "code",
      "execution_count": 2,
      "metadata": {
        "id": "uIDd9RFv9VGL"
      },
      "outputs": [],
      "source": [
        "if 0:\n",
        "    print('Yes')"
      ]
    },
    {
      "cell_type": "code",
      "execution_count": 3,
      "metadata": {
        "id": "NE6qPvZv9VGM",
        "outputId": "7406c6af-00d4-436d-ae70-ede765262746",
        "colab": {
          "base_uri": "https://localhost:8080/"
        }
      },
      "outputs": [
        {
          "output_type": "stream",
          "name": "stdout",
          "text": [
            "Yes\n"
          ]
        }
      ],
      "source": [
        "if ['freddy']:\n",
        "    print('Yes')"
      ]
    },
    {
      "cell_type": "code",
      "execution_count": 4,
      "metadata": {
        "id": "m6JVoBad9VGM"
      },
      "outputs": [],
      "source": [
        "if []:\n",
        "    print('Yes')"
      ]
    },
    {
      "cell_type": "code",
      "execution_count": 5,
      "metadata": {
        "id": "zCIy7uxx9VGN",
        "outputId": "dfa48a81-7ca4-4ba9-fe9c-dfbcdb41f6cc",
        "colab": {
          "base_uri": "https://localhost:8080/"
        }
      },
      "outputs": [
        {
          "output_type": "stream",
          "name": "stdout",
          "text": [
            "Yes\n"
          ]
        }
      ],
      "source": [
        "if 'freddy':\n",
        "    print('Yes')"
      ]
    },
    {
      "cell_type": "code",
      "execution_count": 6,
      "metadata": {
        "id": "DH9pJYzF9VGN"
      },
      "outputs": [],
      "source": [
        "if '':\n",
        "    print('Yes')"
      ]
    },
    {
      "cell_type": "code",
      "execution_count": 7,
      "metadata": {
        "id": "RCHGLwZP9VGN"
      },
      "outputs": [],
      "source": [
        "if {}:\n",
        "    print('Yes')"
      ]
    },
    {
      "cell_type": "code",
      "execution_count": 8,
      "metadata": {
        "id": "gMHVN70k9VGO",
        "outputId": "b9652423-9c76-44f1-a35e-237ffbc02d85",
        "colab": {
          "base_uri": "https://localhost:8080/"
        }
      },
      "outputs": [
        {
          "output_type": "stream",
          "name": "stdout",
          "text": [
            "Yes\n"
          ]
        }
      ],
      "source": [
        "if {'name': 'Freddy'}:\n",
        "    print('Yes')"
      ]
    },
    {
      "cell_type": "code",
      "execution_count": 9,
      "metadata": {
        "id": "x0TqghqK9VGO",
        "outputId": "a021e40c-5e1c-4662-fe12-a76be076ce75",
        "colab": {
          "base_uri": "https://localhost:8080/"
        }
      },
      "outputs": [
        {
          "output_type": "execute_result",
          "data": {
            "text/plain": [
              "1"
            ]
          },
          "metadata": {},
          "execution_count": 9
        }
      ],
      "source": [
        "len({'name': 'Freddy'})"
      ]
    },
    {
      "cell_type": "code",
      "execution_count": 10,
      "metadata": {
        "id": "Ib-JSyHg9VGO",
        "outputId": "5e22fbee-dcb0-4d74-82a2-bdb74b385742",
        "colab": {
          "base_uri": "https://localhost:8080/"
        }
      },
      "outputs": [
        {
          "output_type": "execute_result",
          "data": {
            "text/plain": [
              "0"
            ]
          },
          "metadata": {},
          "execution_count": 10
        }
      ],
      "source": [
        "len({})"
      ]
    },
    {
      "cell_type": "markdown",
      "metadata": {
        "id": "SHprsBsJ9VGO"
      },
      "source": [
        "* What can we conclude from the above?"
      ]
    },
    {
      "cell_type": "markdown",
      "metadata": {
        "id": "ilBFtjY89VGO"
      },
      "source": [
        "### Understanding is vs == "
      ]
    },
    {
      "cell_type": "markdown",
      "metadata": {
        "id": "6Pu3VRLV9VGP"
      },
      "source": [
        "> Singletons"
      ]
    },
    {
      "cell_type": "code",
      "execution_count": 11,
      "metadata": {
        "id": "Y5mIcUYv9VGP",
        "outputId": "d2597baf-bf70-457a-8ec0-e3d98405b72c",
        "colab": {
          "base_uri": "https://localhost:8080/"
        }
      },
      "outputs": [
        {
          "output_type": "execute_result",
          "data": {
            "text/plain": [
              "True"
            ]
          },
          "metadata": {},
          "execution_count": 11
        }
      ],
      "source": [
        "None is None"
      ]
    },
    {
      "cell_type": "code",
      "execution_count": 12,
      "metadata": {
        "id": "jDOfZAae9VGP",
        "outputId": "946b39c2-3635-4222-fa92-29b56a7b4715",
        "colab": {
          "base_uri": "https://localhost:8080/"
        }
      },
      "outputs": [
        {
          "output_type": "execute_result",
          "data": {
            "text/plain": [
              "True"
            ]
          },
          "metadata": {},
          "execution_count": 12
        }
      ],
      "source": [
        "False is False"
      ]
    },
    {
      "cell_type": "code",
      "execution_count": 16,
      "metadata": {
        "id": "6sfduVmC9VGP",
        "outputId": "9e739fd2-0cf5-4736-a23a-24fdc8de9872",
        "colab": {
          "base_uri": "https://localhost:8080/"
        }
      },
      "outputs": [
        {
          "output_type": "execute_result",
          "data": {
            "text/plain": [
              "True"
            ]
          },
          "metadata": {},
          "execution_count": 16
        }
      ],
      "source": [
        "type('bob') is str"
      ]
    },
    {
      "cell_type": "markdown",
      "metadata": {
        "id": "b4EIpa1i9VGP"
      },
      "source": [
        "> Is for non-singletons, don't use them."
      ]
    },
    {
      "cell_type": "code",
      "execution_count": 14,
      "metadata": {
        "id": "hjkE__bi9VGP"
      },
      "outputs": [],
      "source": [
        "first = 'bob'\n",
        "second = 'bob'"
      ]
    },
    {
      "cell_type": "code",
      "execution_count": 17,
      "metadata": {
        "id": "oeXO4GQE9VGQ",
        "outputId": "386424ac-1ab6-4076-e635-0113b481837f",
        "colab": {
          "base_uri": "https://localhost:8080/"
        }
      },
      "outputs": [
        {
          "output_type": "execute_result",
          "data": {
            "text/plain": [
              "True"
            ]
          },
          "metadata": {},
          "execution_count": 17
        }
      ],
      "source": [
        "first is second"
      ]
    },
    {
      "cell_type": "code",
      "execution_count": 19,
      "metadata": {
        "id": "kZwotZ1e9VGQ"
      },
      "outputs": [],
      "source": [
        "num = '190-281920890'\n",
        "other_num = '190-281920890'"
      ]
    },
    {
      "cell_type": "code",
      "execution_count": 21,
      "metadata": {
        "id": "gF5yJml09VGQ",
        "outputId": "365e8958-c806-4256-e9f8-51f88f969d5f",
        "colab": {
          "base_uri": "https://localhost:8080/"
        }
      },
      "outputs": [
        {
          "output_type": "execute_result",
          "data": {
            "text/plain": [
              "False"
            ]
          },
          "metadata": {},
          "execution_count": 21
        }
      ],
      "source": [
        "num is other_num"
      ]
    },
    {
      "cell_type": "code",
      "execution_count": 22,
      "metadata": {
        "id": "BPnxVuh19VGQ",
        "outputId": "70a7e0b9-aeeb-430e-e92a-e5e3912255e0",
        "colab": {
          "base_uri": "https://localhost:8080/"
        }
      },
      "outputs": [
        {
          "output_type": "execute_result",
          "data": {
            "text/plain": [
              "139783786736176"
            ]
          },
          "metadata": {},
          "execution_count": 22
        }
      ],
      "source": [
        "id(num)"
      ]
    },
    {
      "cell_type": "code",
      "execution_count": 23,
      "metadata": {
        "id": "iat4q4fG9VGQ",
        "outputId": "5bd4a348-677c-4900-8dba-5e7b02e2564c",
        "colab": {
          "base_uri": "https://localhost:8080/"
        }
      },
      "outputs": [
        {
          "output_type": "execute_result",
          "data": {
            "text/plain": [
              "139783786736752"
            ]
          },
          "metadata": {},
          "execution_count": 23
        }
      ],
      "source": [
        "id(other_num)"
      ]
    },
    {
      "cell_type": "code",
      "execution_count": 24,
      "metadata": {
        "id": "PlMri7oU9VGQ",
        "outputId": "f904c4d7-4574-45ef-b01b-07a5b0ae4217",
        "colab": {
          "base_uri": "https://localhost:8080/"
        }
      },
      "outputs": [
        {
          "output_type": "execute_result",
          "data": {
            "text/plain": [
              "139783786693744"
            ]
          },
          "metadata": {},
          "execution_count": 24
        }
      ],
      "source": [
        "id(first)"
      ]
    },
    {
      "cell_type": "code",
      "execution_count": 25,
      "metadata": {
        "id": "dWDF1V-F9VGQ",
        "outputId": "b5bc2ac9-f93a-4746-ce94-a91eae5142e3",
        "colab": {
          "base_uri": "https://localhost:8080/"
        }
      },
      "outputs": [
        {
          "output_type": "execute_result",
          "data": {
            "text/plain": [
              "139783786693744"
            ]
          },
          "metadata": {},
          "execution_count": 25
        }
      ],
      "source": [
        "id(second)"
      ]
    },
    {
      "cell_type": "markdown",
      "metadata": {
        "id": "HPJOzO439VGQ"
      },
      "source": [
        "> How do you think that `is` works?"
      ]
    },
    {
      "cell_type": "markdown",
      "metadata": {
        "id": "XPFzMMzX9VGQ"
      },
      "source": [
        "When should we avoid using is?"
      ]
    }
  ],
  "metadata": {
    "kernelspec": {
      "display_name": "Python 3",
      "language": "python",
      "name": "python3"
    },
    "language_info": {
      "codemirror_mode": {
        "name": "ipython",
        "version": 3
      },
      "file_extension": ".py",
      "mimetype": "text/x-python",
      "name": "python",
      "nbconvert_exporter": "python",
      "pygments_lexer": "ipython3",
      "version": "3.8.3"
    },
    "colab": {
      "name": "3-truthy-and-is.ipynb",
      "provenance": []
    }
  },
  "nbformat": 4,
  "nbformat_minor": 0
}