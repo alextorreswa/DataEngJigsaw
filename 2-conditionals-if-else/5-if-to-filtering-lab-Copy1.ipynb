{
  "cells": [
    {
      "cell_type": "markdown",
      "metadata": {
        "id": "view-in-github",
        "colab_type": "text"
      },
      "source": [
        "<a href=\"https://colab.research.google.com/github/alextorreswa/DataEngJigsaw/blob/main/2-conditionals-if-else/5-if-to-filtering-lab-Copy1.ipynb\" target=\"_parent\"><img src=\"https://colab.research.google.com/assets/colab-badge.svg\" alt=\"Open In Colab\"/></a>"
      ]
    },
    {
      "cell_type": "markdown",
      "id": "71beac7d-7c2e-47a1-b6d1-0fb015573ab2",
      "metadata": {
        "id": "71beac7d-7c2e-47a1-b6d1-0fb015573ab2"
      },
      "source": [
        "# If and Filtering Lab"
      ]
    },
    {
      "cell_type": "markdown",
      "id": "b358d60e-567f-4908-bd2a-1129542547d8",
      "metadata": {
        "id": "b358d60e-567f-4908-bd2a-1129542547d8"
      },
      "source": [
        "### Introduction"
      ]
    },
    {
      "cell_type": "markdown",
      "id": "7e0207d8-5792-4681-8441-994b68dde4c2",
      "metadata": {
        "id": "7e0207d8-5792-4681-8441-994b68dde4c2"
      },
      "source": [
        "In this lesson, we'll work with conditionals to display information about members of congress, and to the select members of congress based on certain criteria.  Let's get started."
      ]
    },
    {
      "cell_type": "markdown",
      "id": "d789b1d9-1d19-4b32-aba2-0379eb9debdf",
      "metadata": {
        "id": "d789b1d9-1d19-4b32-aba2-0379eb9debdf"
      },
      "source": [
        "### Loading Data"
      ]
    },
    {
      "cell_type": "markdown",
      "id": "fa3969a5-7536-4e5d-a8de-06cdf8c741fe",
      "metadata": {
        "id": "fa3969a5-7536-4e5d-a8de-06cdf8c741fe"
      },
      "source": [
        "Let's begin by loading data about congress persons, and convert our data to a list of dictionaries."
      ]
    },
    {
      "cell_type": "code",
      "execution_count": 1,
      "id": "0278fc46-c412-465d-bf74-de0cb5e79103",
      "metadata": {
        "id": "0278fc46-c412-465d-bf74-de0cb5e79103"
      },
      "outputs": [],
      "source": [
        "import pandas as pd\n",
        "url = \"https://raw.githubusercontent.com/eng-6-22/mod-1-a-data-structures/master/2-conditionals-if-else/congress_persons.csv\"\n",
        "df = pd.read_csv(url)"
      ]
    },
    {
      "cell_type": "code",
      "execution_count": 2,
      "id": "617239e8-f121-45a9-aa8a-a99dc33bdc30",
      "metadata": {
        "id": "617239e8-f121-45a9-aa8a-a99dc33bdc30"
      },
      "outputs": [],
      "source": [
        "congress_persons = df.to_dict('records')"
      ]
    },
    {
      "cell_type": "code",
      "execution_count": 3,
      "id": "6e33889c-5ecc-4a4c-b81a-80e602aca404",
      "metadata": {
        "id": "6e33889c-5ecc-4a4c-b81a-80e602aca404",
        "outputId": "2dc8be99-c9cd-46bb-cbff-a6d9dacf9869",
        "colab": {
          "base_uri": "https://localhost:8080/"
        }
      },
      "outputs": [
        {
          "output_type": "execute_result",
          "data": {
            "text/plain": [
              "[{'age': 85.9,\n",
              "  'bioguide': 'M000112',\n",
              "  'birthday': '1861-02-09',\n",
              "  'chamber': 'house',\n",
              "  'congress': 80,\n",
              "  'firstname': 'Joseph',\n",
              "  'incumbent': 'Yes',\n",
              "  'lastname': 'Mansfield',\n",
              "  'middlename': 'Jefferson',\n",
              "  'party': 'D',\n",
              "  'state': 'TX',\n",
              "  'suffix': nan,\n",
              "  'termstart': '1947-01-03'}]"
            ]
          },
          "metadata": {},
          "execution_count": 3
        }
      ],
      "source": [
        "congress_persons[:1]"
      ]
    },
    {
      "cell_type": "markdown",
      "id": "39d040fb-ad62-437a-90e9-95ca6c97de61",
      "metadata": {
        "id": "39d040fb-ad62-437a-90e9-95ca6c97de61"
      },
      "source": [
        "And now let's select our first congress person, Joe Mansfied."
      ]
    },
    {
      "cell_type": "code",
      "execution_count": 4,
      "id": "b9e0676e-682b-4832-adc9-761397604d0e",
      "metadata": {
        "id": "b9e0676e-682b-4832-adc9-761397604d0e",
        "outputId": "7caa220b-2a9b-4eb5-9566-bccdf242edd0",
        "colab": {
          "base_uri": "https://localhost:8080/"
        }
      },
      "outputs": [
        {
          "output_type": "execute_result",
          "data": {
            "text/plain": [
              "{'age': 85.9,\n",
              " 'bioguide': 'M000112',\n",
              " 'birthday': '1861-02-09',\n",
              " 'chamber': 'house',\n",
              " 'congress': 80,\n",
              " 'firstname': 'Joseph',\n",
              " 'incumbent': 'Yes',\n",
              " 'lastname': 'Mansfield',\n",
              " 'middlename': 'Jefferson',\n",
              " 'party': 'D',\n",
              " 'state': 'TX',\n",
              " 'suffix': nan,\n",
              " 'termstart': '1947-01-03'}"
            ]
          },
          "metadata": {},
          "execution_count": 4
        }
      ],
      "source": [
        "congress_person = congress_persons[0]\n",
        "congress_person"
      ]
    },
    {
      "cell_type": "markdown",
      "id": "55143db3-5e52-4533-a173-ed7fc22fc43a",
      "metadata": {
        "id": "55143db3-5e52-4533-a173-ed7fc22fc43a"
      },
      "source": [
        "### Writing some logic"
      ]
    },
    {
      "cell_type": "markdown",
      "id": "56476b7c-e71c-4c90-96b4-54ea8b97eec3",
      "metadata": {
        "id": "56476b7c-e71c-4c90-96b4-54ea8b97eec3"
      },
      "source": [
        "Write an `if else` statement that prints `older` if he is over 70 years old, and `younger` if younger than 70 years old."
      ]
    },
    {
      "cell_type": "code",
      "execution_count": 5,
      "id": "27fe2fab-081c-492a-bc04-a9bade7285b8",
      "metadata": {
        "id": "27fe2fab-081c-492a-bc04-a9bade7285b8",
        "outputId": "a41d9d6e-4e3f-443f-fddf-4193b8028049",
        "colab": {
          "base_uri": "https://localhost:8080/"
        }
      },
      "outputs": [
        {
          "output_type": "stream",
          "name": "stdout",
          "text": [
            "older\n"
          ]
        }
      ],
      "source": [
        "if congress_person['age'] > 70:\n",
        "  print(\"older\")\n",
        "else:\n",
        "  print(\"younger\")\n",
        "\n",
        "    \n",
        "# older"
      ]
    },
    {
      "cell_type": "markdown",
      "id": "4f946402-5579-4390-b24d-888effbf3330",
      "metadata": {
        "id": "4f946402-5579-4390-b24d-888effbf3330"
      },
      "source": [
        "Now let's make sure our else logic works.  We'll copy our congress person."
      ]
    },
    {
      "cell_type": "code",
      "execution_count": 6,
      "id": "61594e33-72fa-4f87-970a-c0d3af5135d2",
      "metadata": {
        "id": "61594e33-72fa-4f87-970a-c0d3af5135d2"
      },
      "outputs": [],
      "source": [
        "congress_person = congress_person.copy()"
      ]
    },
    {
      "cell_type": "markdown",
      "id": "22e42edc-c1cd-4946-b0ee-f05250921d70",
      "metadata": {
        "id": "22e42edc-c1cd-4946-b0ee-f05250921d70"
      },
      "source": [
        "And then update the age to be 65."
      ]
    },
    {
      "cell_type": "code",
      "execution_count": null,
      "id": "c1cb0d9a-c012-48b0-b55d-c130b0cc1d83",
      "metadata": {
        "id": "c1cb0d9a-c012-48b0-b55d-c130b0cc1d83"
      },
      "outputs": [],
      "source": [
        ""
      ]
    },
    {
      "cell_type": "code",
      "execution_count": 8,
      "id": "167eb595-92e8-4a69-9db6-fb122747db53",
      "metadata": {
        "id": "167eb595-92e8-4a69-9db6-fb122747db53"
      },
      "outputs": [],
      "source": [
        "congress_person['age'] = 65\n",
        "\n",
        "# 65"
      ]
    },
    {
      "cell_type": "markdown",
      "id": "53e6d0e2-56c6-470d-b65d-8a0bb2aa3afb",
      "metadata": {
        "id": "53e6d0e2-56c6-470d-b65d-8a0bb2aa3afb"
      },
      "source": [
        "Then copy the code from the if else statement again and run the code."
      ]
    },
    {
      "cell_type": "code",
      "execution_count": 9,
      "id": "7db10cfe-cb94-435a-bb71-868fd8317fdb",
      "metadata": {
        "id": "7db10cfe-cb94-435a-bb71-868fd8317fdb",
        "outputId": "a74d6e5a-41c8-42ce-8975-0f8910e60749",
        "colab": {
          "base_uri": "https://localhost:8080/"
        }
      },
      "outputs": [
        {
          "output_type": "stream",
          "name": "stdout",
          "text": [
            "younger\n"
          ]
        }
      ],
      "source": [
        "if congress_person['age'] > 70:\n",
        "  print(\"older\")\n",
        "else:\n",
        "  print(\"younger\")\n",
        "\n",
        "# younger"
      ]
    },
    {
      "cell_type": "markdown",
      "id": "de617059-b60b-4ca9-adcf-c5abd49d524a",
      "metadata": {
        "id": "de617059-b60b-4ca9-adcf-c5abd49d524a"
      },
      "source": [
        "Next, let's write code that only has an `if` statement (and no `else`).  If the `congress_person` is Democratic it should print `MOC is Democratic` (moc stands for member of congress)."
      ]
    },
    {
      "cell_type": "code",
      "execution_count": 11,
      "id": "b28b6de2-6352-416f-873a-9da53e19df7d",
      "metadata": {
        "id": "b28b6de2-6352-416f-873a-9da53e19df7d",
        "outputId": "da64ffd1-7fb0-4233-b801-c1dcff112401",
        "colab": {
          "base_uri": "https://localhost:8080/"
        }
      },
      "outputs": [
        {
          "output_type": "stream",
          "name": "stdout",
          "text": [
            "MOC is Democratic\n"
          ]
        }
      ],
      "source": [
        "if congress_person['party'] == 'D': \n",
        "    print(\"MOC is Democratic\")\n",
        "    \n",
        "# MOC is Democratic"
      ]
    },
    {
      "cell_type": "markdown",
      "id": "de0d2758-d7d4-4298-8e0c-29a15593009c",
      "metadata": {
        "id": "de0d2758-d7d4-4298-8e0c-29a15593009c"
      },
      "source": [
        "> Note that when the if condition is not met, the code above simply does nothing. "
      ]
    },
    {
      "cell_type": "markdown",
      "id": "a25c0ed0-d117-4dc1-8e3f-ac862ea6275f",
      "metadata": {
        "id": "a25c0ed0-d117-4dc1-8e3f-ac862ea6275f"
      },
      "source": [
        "### And and Or"
      ]
    },
    {
      "cell_type": "markdown",
      "id": "1520913c-b7ad-4e96-9066-326db17dd1f6",
      "metadata": {
        "id": "1520913c-b7ad-4e96-9066-326db17dd1f6"
      },
      "source": [
        "Now Python also has `and` and `or` keywords.  Let's take a look."
      ]
    },
    {
      "cell_type": "markdown",
      "id": "fe2f6996-31a3-47bd-bcd2-112c4a8019ee",
      "metadata": {
        "id": "fe2f6996-31a3-47bd-bcd2-112c4a8019ee"
      },
      "source": [
        "* And statement"
      ]
    },
    {
      "cell_type": "code",
      "execution_count": 12,
      "id": "d503d943-cd60-41f7-95d1-baba89abd324",
      "metadata": {
        "id": "d503d943-cd60-41f7-95d1-baba89abd324"
      },
      "outputs": [],
      "source": [
        "hometown = 'nyc'\n",
        "age = 35"
      ]
    },
    {
      "cell_type": "code",
      "execution_count": 13,
      "id": "ac2cc204-4163-45ba-8f7f-4db0d4218915",
      "metadata": {
        "id": "ac2cc204-4163-45ba-8f7f-4db0d4218915",
        "outputId": "7c18ff87-6bca-4c93-ccbb-3355eb632ee3",
        "colab": {
          "base_uri": "https://localhost:8080/"
        }
      },
      "outputs": [
        {
          "output_type": "stream",
          "name": "stdout",
          "text": [
            "both met\n"
          ]
        }
      ],
      "source": [
        "if age > 30 and hometown == 'nyc':\n",
        "    print('both met')"
      ]
    },
    {
      "cell_type": "code",
      "execution_count": 14,
      "id": "626aecc4-a874-4100-81ec-f675c1f59988",
      "metadata": {
        "id": "626aecc4-a874-4100-81ec-f675c1f59988"
      },
      "outputs": [],
      "source": [
        "hometown = 'boston'\n",
        "age = 35"
      ]
    },
    {
      "cell_type": "code",
      "execution_count": 16,
      "id": "0c657502-c818-4614-810d-8e4ee9bbfac7",
      "metadata": {
        "id": "0c657502-c818-4614-810d-8e4ee9bbfac7"
      },
      "outputs": [],
      "source": [
        "if age > 30 and hometown == 'nyc':\n",
        "    print('both met')"
      ]
    },
    {
      "cell_type": "markdown",
      "id": "eccc51d6-2171-4a51-823c-caf09ca9b9a0",
      "metadata": {
        "id": "eccc51d6-2171-4a51-823c-caf09ca9b9a0"
      },
      "source": [
        "For `and`, if both conditions are met, the return value will be True, and the if condition is met. "
      ]
    },
    {
      "cell_type": "markdown",
      "id": "e62c7653-0035-447e-b79a-666b13807172",
      "metadata": {
        "id": "e62c7653-0035-447e-b79a-666b13807172"
      },
      "source": [
        "* Or statement "
      ]
    },
    {
      "cell_type": "code",
      "execution_count": 17,
      "id": "8c508ca8-6ebe-4760-8263-852c4b72cae8",
      "metadata": {
        "id": "8c508ca8-6ebe-4760-8263-852c4b72cae8"
      },
      "outputs": [],
      "source": [
        "hometown = 'nyc'\n",
        "age = 35"
      ]
    },
    {
      "cell_type": "code",
      "execution_count": 18,
      "id": "d083a878-ce0d-4ef8-86be-ea742c57ccd8",
      "metadata": {
        "id": "d083a878-ce0d-4ef8-86be-ea742c57ccd8",
        "outputId": "e34b4a10-36de-4600-8aac-3b573b443b85",
        "colab": {
          "base_uri": "https://localhost:8080/"
        }
      },
      "outputs": [
        {
          "output_type": "stream",
          "name": "stdout",
          "text": [
            "nyc or 30\n"
          ]
        }
      ],
      "source": [
        "if hometown == 'nyc' or age == 30:\n",
        "    print('nyc or 30')"
      ]
    },
    {
      "cell_type": "markdown",
      "id": "c24511a9-d1b3-423a-ad99-104aa695ba4a",
      "metadata": {
        "id": "c24511a9-d1b3-423a-ad99-104aa695ba4a"
      },
      "source": [
        " For `or` if *any* condition is met, `True` will be returned and the if condition is met."
      ]
    },
    {
      "cell_type": "code",
      "execution_count": 19,
      "id": "bcf7e0fd-5999-410c-8448-567a9130a26e",
      "metadata": {
        "id": "bcf7e0fd-5999-410c-8448-567a9130a26e"
      },
      "outputs": [],
      "source": [
        "hometown = 'boston'\n",
        "age = 35"
      ]
    },
    {
      "cell_type": "code",
      "execution_count": 20,
      "id": "8f1dc17f-e752-4eb0-820a-94e8d3e4812b",
      "metadata": {
        "id": "8f1dc17f-e752-4eb0-820a-94e8d3e4812b"
      },
      "outputs": [],
      "source": [
        "if hometown == 'nyc' or age == 30:\n",
        "    print('nyc or 30')"
      ]
    },
    {
      "cell_type": "markdown",
      "id": "c3010198-7bd0-4294-b970-077d06be7664",
      "metadata": {
        "id": "c3010198-7bd0-4294-b970-077d06be7664"
      },
      "source": [
        "If neither condition is met, the if statement is not run."
      ]
    },
    {
      "cell_type": "markdown",
      "id": "5271b2a0-481c-4247-aec3-2175b779d6ea",
      "metadata": {
        "id": "5271b2a0-481c-4247-aec3-2175b779d6ea"
      },
      "source": [
        "### Practice"
      ]
    },
    {
      "cell_type": "markdown",
      "id": "965b78d5-994d-4aa5-b8a3-b53721a0d49a",
      "metadata": {
        "id": "965b78d5-994d-4aa5-b8a3-b53721a0d49a"
      },
      "source": [
        "Ok, now write an if statement that only prints `older Democrat` if the congress person is over 70 and democratic."
      ]
    },
    {
      "cell_type": "code",
      "execution_count": 22,
      "id": "603628a8-43eb-4c83-a1ef-34221426665e",
      "metadata": {
        "id": "603628a8-43eb-4c83-a1ef-34221426665e"
      },
      "outputs": [],
      "source": [
        "congress_person = {'congress': 80,\n",
        " 'chamber': 'house',\n",
        " 'bioguide': 'M000112',\n",
        " 'firstname': 'Joseph',\n",
        " 'middlename': 'Jefferson',\n",
        " 'lastname': 'Mansfield',\n",
        " 'suffix': float('NaN'),\n",
        " 'birthday': '1861-02-09',\n",
        " 'state': 'TX',\n",
        " 'party': 'D',\n",
        " 'incumbent': 'Yes',\n",
        " 'termstart': '1947-01-03',\n",
        " 'age': 85.9}"
      ]
    },
    {
      "cell_type": "code",
      "execution_count": 23,
      "id": "a907ec6d-68c5-4f48-a775-c39067c746f1",
      "metadata": {
        "id": "a907ec6d-68c5-4f48-a775-c39067c746f1",
        "outputId": "ab9b4630-0a71-4948-faa4-2ae67a288c8e",
        "colab": {
          "base_uri": "https://localhost:8080/"
        }
      },
      "outputs": [
        {
          "output_type": "stream",
          "name": "stdout",
          "text": [
            "older Democrat\n"
          ]
        }
      ],
      "source": [
        "if congress_person['age'] > 70 and congress_person['party'] == 'D':\n",
        "  print('older Democrat')\n",
        "    \n",
        "# older democrat"
      ]
    },
    {
      "cell_type": "markdown",
      "id": "95e3a38a-1cad-4760-b5a5-b9d9c3d16194",
      "metadata": {
        "id": "95e3a38a-1cad-4760-b5a5-b9d9c3d16194"
      },
      "source": [
        "### Filtering"
      ]
    },
    {
      "cell_type": "markdown",
      "id": "f30c10b7-d5f1-4867-99e4-7cd285e22a61",
      "metadata": {
        "id": "f30c10b7-d5f1-4867-99e4-7cd285e22a61"
      },
      "source": [
        "Next, use a loop to store all of those members of congress whose age is greater or equal to 70 in a list called `older_mocs` and a loop to store the younger members of congress in a loop called `younger_mocs`."
      ]
    },
    {
      "cell_type": "markdown",
      "id": "ceb82d15-c764-4ab7-bdbf-07f5c19b8b85",
      "metadata": {
        "id": "ceb82d15-c764-4ab7-bdbf-07f5c19b8b85"
      },
      "source": [
        "> Both `older_mocs` and `younger_mocs` should be a list of dictionaries."
      ]
    },
    {
      "cell_type": "code",
      "execution_count": 28,
      "id": "30d66a8c-4f69-4ad2-b5bd-9aaf1554cbc5",
      "metadata": {
        "id": "30d66a8c-4f69-4ad2-b5bd-9aaf1554cbc5"
      },
      "outputs": [],
      "source": [
        "younger_mocs = [ congress_person for congress_person in congress_persons if congress_person['age'] < 70 ]\n",
        "older_mocs = [ congress_person for congress_person in congress_persons if congress_person['age'] >= 70 ]"
      ]
    },
    {
      "cell_type": "code",
      "execution_count": 29,
      "id": "30208794-8120-42f2-86bd-e8ea519c4246",
      "metadata": {
        "id": "30208794-8120-42f2-86bd-e8ea519c4246",
        "outputId": "27067659-6359-429d-a510-d933cb0178e0",
        "colab": {
          "base_uri": "https://localhost:8080/"
        }
      },
      "outputs": [
        {
          "output_type": "execute_result",
          "data": {
            "text/plain": [
              "17391"
            ]
          },
          "metadata": {},
          "execution_count": 29
        }
      ],
      "source": [
        "len(younger_mocs)\n",
        "\n",
        "# 17391"
      ]
    },
    {
      "cell_type": "code",
      "execution_count": 30,
      "id": "c534c6fe-67ae-4bba-a919-c6412c1017ef",
      "metadata": {
        "id": "c534c6fe-67ae-4bba-a919-c6412c1017ef",
        "outputId": "1b0cc128-2e99-48ba-ba97-5a77de6f7411",
        "colab": {
          "base_uri": "https://localhost:8080/"
        }
      },
      "outputs": [
        {
          "output_type": "execute_result",
          "data": {
            "text/plain": [
              "1244"
            ]
          },
          "metadata": {},
          "execution_count": 30
        }
      ],
      "source": [
        "len(older_mocs)\n",
        "\n",
        "# 1244"
      ]
    },
    {
      "cell_type": "markdown",
      "id": "d0f2bae6-c955-4a6a-ad62-e1dea8b00433",
      "metadata": {
        "id": "d0f2bae6-c955-4a6a-ad62-e1dea8b00433"
      },
      "source": [
        "Ok, next let's try to filter by party.  Let's begin by getting a unique list of all of the listed parties in our dataset."
      ]
    },
    {
      "cell_type": "code",
      "execution_count": 32,
      "id": "cbc5efee-4aa2-40a7-bb61-48d9a7fc32ae",
      "metadata": {
        "id": "cbc5efee-4aa2-40a7-bb61-48d9a7fc32ae"
      },
      "outputs": [],
      "source": [
        "parties = [congress_person['party'] for congress_person in congress_persons]"
      ]
    },
    {
      "cell_type": "code",
      "execution_count": 33,
      "id": "636e9002-608b-459b-8420-e2d31c170303",
      "metadata": {
        "id": "636e9002-608b-459b-8420-e2d31c170303",
        "outputId": "3414e74a-0d91-4c18-8502-2f8dda2713cc",
        "colab": {
          "base_uri": "https://localhost:8080/"
        }
      },
      "outputs": [
        {
          "output_type": "execute_result",
          "data": {
            "text/plain": [
              "['ID', 'D', 'L', 'R', 'AL', 'I']"
            ]
          },
          "metadata": {},
          "execution_count": 33
        }
      ],
      "source": [
        "list(set(parties))\n",
        "\n",
        "# ['AL', 'D', 'I', 'ID', 'L', 'R']"
      ]
    },
    {
      "cell_type": "markdown",
      "id": "c874424a-c411-4661-a609-4edcb7efaa3e",
      "metadata": {
        "id": "c874424a-c411-4661-a609-4edcb7efaa3e"
      },
      "source": [
        "Then let's use a for loop (without a list comprehension) to select the democratic members of congress and place them in a list called democrats, and the republic members of congress and place them in a list called republicans, and place every other member in a list called others.\n",
        "\n",
        "> Use a single loop to accomplish this."
      ]
    },
    {
      "cell_type": "code",
      "execution_count": 37,
      "id": "cd34ad59-377d-4d1f-8003-7a22440a5fb4",
      "metadata": {
        "id": "cd34ad59-377d-4d1f-8003-7a22440a5fb4"
      },
      "outputs": [],
      "source": [
        "democrats = []\n",
        "republicans = [] \n",
        "others = []\n",
        "\n",
        "for congress_person in congress_persons:\n",
        "  if congress_person['party'] == \"D\":\n",
        "    democrats.append(congress_person)\n",
        "  elif congress_person['party'] == \"R\":\n",
        "    republicans.append(congress_person)\n",
        "  else:\n",
        "    others.append(congress_person)        \n"
      ]
    },
    {
      "cell_type": "code",
      "execution_count": 38,
      "id": "de4b9e45-20c8-4c78-8fa9-dbd8bf19097b",
      "metadata": {
        "id": "de4b9e45-20c8-4c78-8fa9-dbd8bf19097b",
        "outputId": "bf55d24f-1c78-4539-fda6-ca897f91541e",
        "colab": {
          "base_uri": "https://localhost:8080/"
        }
      },
      "outputs": [
        {
          "output_type": "execute_result",
          "data": {
            "text/plain": [
              "10290"
            ]
          },
          "metadata": {},
          "execution_count": 38
        }
      ],
      "source": [
        "len(democrats)\n",
        "# 10290"
      ]
    },
    {
      "cell_type": "code",
      "execution_count": 39,
      "id": "1c69b663-2fe4-482d-9908-fc2cef9936a9",
      "metadata": {
        "id": "1c69b663-2fe4-482d-9908-fc2cef9936a9",
        "outputId": "477ec1e0-2a64-4077-96ed-701a0cfa90b6",
        "colab": {
          "base_uri": "https://localhost:8080/"
        }
      },
      "outputs": [
        {
          "output_type": "execute_result",
          "data": {
            "text/plain": [
              "8274"
            ]
          },
          "metadata": {},
          "execution_count": 39
        }
      ],
      "source": [
        "len(republicans)\n",
        "\n",
        "# 8274"
      ]
    },
    {
      "cell_type": "code",
      "execution_count": 40,
      "id": "6d0d388c-4a46-4026-b378-ea75d9fbc35a",
      "metadata": {
        "id": "6d0d388c-4a46-4026-b378-ea75d9fbc35a",
        "outputId": "838e0f9a-8d9a-4b79-b070-645f6234fcd6",
        "colab": {
          "base_uri": "https://localhost:8080/"
        }
      },
      "outputs": [
        {
          "output_type": "execute_result",
          "data": {
            "text/plain": [
              "71"
            ]
          },
          "metadata": {},
          "execution_count": 40
        }
      ],
      "source": [
        "len(others)\n",
        "\n",
        "# 71"
      ]
    },
    {
      "cell_type": "markdown",
      "id": "d367f908-bedc-4dd7-9234-aa85546341cb",
      "metadata": {
        "id": "d367f908-bedc-4dd7-9234-aa85546341cb"
      },
      "source": [
        "### Using List Comprehension"
      ]
    },
    {
      "cell_type": "markdown",
      "id": "68d48505-c615-419a-be98-9231f6a5b4c1",
      "metadata": {
        "id": "68d48505-c615-419a-be98-9231f6a5b4c1"
      },
      "source": [
        "Now you may have noticed that our list of congress_persons contains members from multiple different years.  Use list comprehension to find a unique list of all of the different `congress` numbers, sorted from smallest to largest -- every two years congress is given a different numbers.  "
      ]
    },
    {
      "cell_type": "code",
      "execution_count": 46,
      "id": "889f7da8-b74c-4ba2-8122-47686ebb81f9",
      "metadata": {
        "id": "889f7da8-b74c-4ba2-8122-47686ebb81f9",
        "outputId": "fc136e46-9a76-479f-8e23-919c8989515f",
        "colab": {
          "base_uri": "https://localhost:8080/"
        }
      },
      "outputs": [
        {
          "output_type": "execute_result",
          "data": {
            "text/plain": [
              "[80, 81, 82, 83, 84]"
            ]
          },
          "metadata": {},
          "execution_count": 46
        }
      ],
      "source": [
        "congresses = list(set([ congress_person['congress'] for congress_person in congress_persons]))\n",
        "congresses.sort()\n"
      ]
    },
    {
      "cell_type": "markdown",
      "id": "38d208d4-0152-4dba-b16c-7a4e5567530c",
      "metadata": {
        "id": "38d208d4-0152-4dba-b16c-7a4e5567530c"
      },
      "source": [
        "And then find the largest number in the list."
      ]
    },
    {
      "cell_type": "code",
      "execution_count": 47,
      "id": "e9d415e1-39bd-4244-a9fd-6360649647bc",
      "metadata": {
        "id": "e9d415e1-39bd-4244-a9fd-6360649647bc",
        "outputId": "bc4945d6-f8bf-4e0b-e66b-28c44f5f3b30",
        "colab": {
          "base_uri": "https://localhost:8080/"
        }
      },
      "outputs": [
        {
          "output_type": "execute_result",
          "data": {
            "text/plain": [
              "113"
            ]
          },
          "metadata": {},
          "execution_count": 47
        }
      ],
      "source": [
        "most_recent = congresses[-1]\n",
        "most_recent\n",
        "# 113"
      ]
    },
    {
      "cell_type": "markdown",
      "id": "bda73c1a-66c7-45ef-afac-23abf9c7a530",
      "metadata": {
        "id": "bda73c1a-66c7-45ef-afac-23abf9c7a530"
      },
      "source": [
        "Now select all of the congress_persons who are part of the 113 congress."
      ]
    },
    {
      "cell_type": "code",
      "execution_count": 50,
      "id": "d7709ab9-51bb-44b1-977f-ca2972a162aa",
      "metadata": {
        "id": "d7709ab9-51bb-44b1-977f-ca2972a162aa"
      },
      "outputs": [],
      "source": [
        "recent_congresspersons = [ congress_person for congress_person in congress_persons if congress_person['congress'] == 113]"
      ]
    },
    {
      "cell_type": "code",
      "execution_count": 51,
      "id": "04fd49d6-0301-4409-94c5-514d66417d47",
      "metadata": {
        "id": "04fd49d6-0301-4409-94c5-514d66417d47",
        "outputId": "3a613aaa-43e8-48b5-88a9-209833ce4d59",
        "colab": {
          "base_uri": "https://localhost:8080/"
        }
      },
      "outputs": [
        {
          "output_type": "execute_result",
          "data": {
            "text/plain": [
              "544"
            ]
          },
          "metadata": {},
          "execution_count": 51
        }
      ],
      "source": [
        "len(recent_congresspersons)\n",
        "\n",
        "# 544"
      ]
    },
    {
      "cell_type": "code",
      "execution_count": 52,
      "id": "4bc4f531-32e7-468b-bd80-52a2744b6a15",
      "metadata": {
        "id": "4bc4f531-32e7-468b-bd80-52a2744b6a15",
        "outputId": "f7da2093-31f3-4ed7-f1ca-68c08476680a",
        "colab": {
          "base_uri": "https://localhost:8080/"
        }
      },
      "outputs": [
        {
          "output_type": "execute_result",
          "data": {
            "text/plain": [
              "{'age': 89.7,\n",
              " 'bioguide': 'H000067',\n",
              " 'birthday': '1923-05-03',\n",
              " 'chamber': 'house',\n",
              " 'congress': 113,\n",
              " 'firstname': 'Ralph',\n",
              " 'incumbent': 'Yes',\n",
              " 'lastname': 'Hall',\n",
              " 'middlename': 'M.',\n",
              " 'party': 'R',\n",
              " 'state': 'TX',\n",
              " 'suffix': nan,\n",
              " 'termstart': '2013-01-03'}"
            ]
          },
          "metadata": {},
          "execution_count": 52
        }
      ],
      "source": [
        "recent_congresspersons[0]\n",
        "\n",
        "# {'congress': 113,\n",
        "#  'chamber': 'house',\n",
        "#  'bioguide': 'H000067',\n",
        "#  'firstname': 'Ralph',\n",
        "#  'middlename': 'M.',\n",
        "#  'lastname': 'Hall',\n",
        "#  'suffix': nan,\n",
        "#  'birthday': '1923-05-03',\n",
        "#  'state': 'TX',\n",
        "#  'party': 'R',\n",
        "#  'incumbent': 'Yes',\n",
        "#  'termstart': '2013-01-03',\n",
        "#  'age': 89.7}"
      ]
    },
    {
      "cell_type": "markdown",
      "id": "0e796369-ba81-4c95-aead-d102a15e1165",
      "metadata": {
        "id": "0e796369-ba81-4c95-aead-d102a15e1165"
      },
      "source": [
        "Now from the list of congresspersons, use two separate list comprehensions to collect a list of democrats and republicans."
      ]
    },
    {
      "cell_type": "code",
      "execution_count": 55,
      "id": "bfe39547-df4e-433e-bd96-7a23c3ce94ec",
      "metadata": {
        "id": "bfe39547-df4e-433e-bd96-7a23c3ce94ec"
      },
      "outputs": [],
      "source": [
        "dem_recent_congresspersons = [ recent_congressperson for recent_congressperson in recent_congresspersons if recent_congressperson['party'] == 'D' ]"
      ]
    },
    {
      "cell_type": "code",
      "execution_count": null,
      "id": "84970e5b-dbb8-4275-939f-8c533dd25c57",
      "metadata": {
        "id": "84970e5b-dbb8-4275-939f-8c533dd25c57"
      },
      "outputs": [],
      "source": [
        "len(dem_recent_congresspersons)\n",
        "\n",
        "# 259"
      ]
    },
    {
      "cell_type": "code",
      "execution_count": 59,
      "id": "9e739dea-d8f8-44d2-88f2-f5b539c6bb65",
      "metadata": {
        "id": "9e739dea-d8f8-44d2-88f2-f5b539c6bb65"
      },
      "outputs": [],
      "source": [
        "repub_recent_congresspersons = [ recent_congressperson for recent_congressperson in recent_congresspersons if recent_congressperson['party'] == 'R' ]"
      ]
    },
    {
      "cell_type": "code",
      "execution_count": 60,
      "id": "06bc1f4f-3ee6-492a-b35a-da6bcdfe21c0",
      "metadata": {
        "id": "06bc1f4f-3ee6-492a-b35a-da6bcdfe21c0",
        "outputId": "003c060d-cbda-4b61-8a07-ee6f7b28cebf",
        "colab": {
          "base_uri": "https://localhost:8080/"
        }
      },
      "outputs": [
        {
          "output_type": "execute_result",
          "data": {
            "text/plain": [
              "283"
            ]
          },
          "metadata": {},
          "execution_count": 60
        }
      ],
      "source": [
        "len(repub_recent_congresspersons)"
      ]
    },
    {
      "cell_type": "markdown",
      "id": "a9e5441b-655d-4488-9a5d-d45ef8d62966",
      "metadata": {
        "id": "a9e5441b-655d-4488-9a5d-d45ef8d62966"
      },
      "source": [
        "From here, select the democrats who are over 65 and then select the republicans who are over 65."
      ]
    },
    {
      "cell_type": "code",
      "execution_count": 62,
      "id": "ba6c1de6-c860-4554-8702-13623e6623a0",
      "metadata": {
        "id": "ba6c1de6-c860-4554-8702-13623e6623a0"
      },
      "outputs": [],
      "source": [
        "older_dems = [dem_recent_congressperson for dem_recent_congressperson in dem_recent_congresspersons if dem_recent_congressperson['age'] > 65]"
      ]
    },
    {
      "cell_type": "code",
      "execution_count": 63,
      "id": "238dca41-51d5-437d-9b93-f3c11c72f174",
      "metadata": {
        "id": "238dca41-51d5-437d-9b93-f3c11c72f174",
        "outputId": "a81a7c0c-4105-4241-b466-4af908343ead",
        "colab": {
          "base_uri": "https://localhost:8080/"
        }
      },
      "outputs": [
        {
          "output_type": "execute_result",
          "data": {
            "text/plain": [
              "85"
            ]
          },
          "metadata": {},
          "execution_count": 63
        }
      ],
      "source": [
        "len(older_dems)"
      ]
    },
    {
      "cell_type": "code",
      "execution_count": 65,
      "id": "6cb2d5c7-441a-4b3b-804d-149d871ac860",
      "metadata": {
        "id": "6cb2d5c7-441a-4b3b-804d-149d871ac860"
      },
      "outputs": [],
      "source": [
        "older_repubs = [repub_recent_congressperson for repub_recent_congressperson in repub_recent_congresspersons if repub_recent_congressperson['age'] > 65] "
      ]
    },
    {
      "cell_type": "code",
      "execution_count": 66,
      "id": "44a20391-d826-4c89-a153-577877f92c4f",
      "metadata": {
        "id": "44a20391-d826-4c89-a153-577877f92c4f",
        "outputId": "965a5700-6dd1-478c-8a2e-90b5fa25b76c",
        "colab": {
          "base_uri": "https://localhost:8080/"
        }
      },
      "outputs": [
        {
          "output_type": "execute_result",
          "data": {
            "text/plain": [
              "49"
            ]
          },
          "metadata": {},
          "execution_count": 66
        }
      ],
      "source": [
        "len(older_repubs)"
      ]
    },
    {
      "cell_type": "markdown",
      "id": "2d7ac49f-d6af-430f-8eb2-fce63aa16bb5",
      "metadata": {
        "id": "2d7ac49f-d6af-430f-8eb2-fce63aa16bb5"
      },
      "source": [
        "### Summary"
      ]
    },
    {
      "cell_type": "markdown",
      "id": "5bb2661a-bf92-4eba-ad78-8d2ecbae4b1e",
      "metadata": {
        "id": "5bb2661a-bf92-4eba-ad78-8d2ecbae4b1e"
      },
      "source": [
        "In this lesson we practiced using if else statements, filtering with loops, and filtering with list comprehensions to explore members of congress."
      ]
    }
  ],
  "metadata": {
    "kernelspec": {
      "display_name": "Python 3 (ipykernel)",
      "language": "python",
      "name": "python3"
    },
    "language_info": {
      "codemirror_mode": {
        "name": "ipython",
        "version": 3
      },
      "file_extension": ".py",
      "mimetype": "text/x-python",
      "name": "python",
      "nbconvert_exporter": "python",
      "pygments_lexer": "ipython3",
      "version": "3.9.10"
    },
    "colab": {
      "name": "5-if-to-filtering-lab-Copy1.ipynb",
      "provenance": [],
      "include_colab_link": true
    }
  },
  "nbformat": 4,
  "nbformat_minor": 5
}