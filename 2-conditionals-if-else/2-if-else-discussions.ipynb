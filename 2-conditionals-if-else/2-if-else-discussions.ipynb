{
  "cells": [
    {
      "cell_type": "markdown",
      "metadata": {
        "id": "view-in-github",
        "colab_type": "text"
      },
      "source": [
        "<a href=\"https://colab.research.google.com/github/alextorreswa/DataEngJigsaw/blob/main/2-conditionals-if-else/2-if-else-discussions.ipynb\" target=\"_parent\"><img src=\"https://colab.research.google.com/assets/colab-badge.svg\" alt=\"Open In Colab\"/></a>"
      ]
    },
    {
      "cell_type": "markdown",
      "metadata": {
        "id": "YTGzk66r5IoU"
      },
      "source": [
        "# Comparison Operators"
      ]
    },
    {
      "cell_type": "markdown",
      "metadata": {
        "id": "rjCd1JAe5IoW"
      },
      "source": [
        "### Introduction"
      ]
    },
    {
      "cell_type": "markdown",
      "metadata": {
        "id": "un32Ytnk5IoX"
      },
      "source": [
        "> Here is an example of a conditional statement in Python."
      ]
    },
    {
      "cell_type": "code",
      "execution_count": 2,
      "metadata": {
        "id": "J-sHGUiu5IoX"
      },
      "outputs": [],
      "source": [
        "def can_drive(age):\n",
        "    if age > 16:\n",
        "        return True\n",
        "    else:\n",
        "        return False"
      ]
    },
    {
      "cell_type": "markdown",
      "metadata": {
        "id": "97xuwg405IoY"
      },
      "source": [
        "The function above relies on [comparison operators](https://www.tutorialspoint.com/python/python_basic_operators.htm).  Let's explore some comparison operators in Python below."
      ]
    },
    {
      "cell_type": "markdown",
      "metadata": {
        "id": "TBugYOfw5IoY"
      },
      "source": [
        "### Comparison Operators"
      ]
    },
    {
      "cell_type": "code",
      "execution_count": 3,
      "metadata": {
        "id": "avoU9f025IoZ",
        "outputId": "2e86a18c-c2c0-4d4b-848c-b1aebeeeb16e",
        "colab": {
          "base_uri": "https://localhost:8080/"
        }
      },
      "outputs": [
        {
          "output_type": "stream",
          "name": "stdout",
          "text": [
            "yes\n"
          ]
        }
      ],
      "source": [
        "if 1 < 2:\n",
        "    print('yes')"
      ]
    },
    {
      "cell_type": "code",
      "execution_count": 6,
      "metadata": {
        "id": "5EkEAEju5IoZ"
      },
      "outputs": [],
      "source": [
        "if 1 > 2:\n",
        "    print('yes')"
      ]
    },
    {
      "cell_type": "code",
      "execution_count": 5,
      "metadata": {
        "id": "fxnalyQy5Ioa",
        "outputId": "752e629f-382a-4039-e8f0-668f32ff23e1",
        "colab": {
          "base_uri": "https://localhost:8080/"
        }
      },
      "outputs": [
        {
          "output_type": "stream",
          "name": "stdout",
          "text": [
            "yes\n"
          ]
        }
      ],
      "source": [
        "if 1 < 3 < 5:\n",
        "    print('yes')"
      ]
    },
    {
      "cell_type": "code",
      "execution_count": 7,
      "metadata": {
        "id": "mlPZ2kL15Ioa"
      },
      "outputs": [],
      "source": [
        "if 1 == 2:\n",
        "    print('yes')"
      ]
    },
    {
      "cell_type": "code",
      "execution_count": 8,
      "metadata": {
        "id": "rYcJytGO5Ioa",
        "outputId": "69a08161-b4a7-4e03-f431-37954834dcab",
        "colab": {
          "base_uri": "https://localhost:8080/"
        }
      },
      "outputs": [
        {
          "output_type": "stream",
          "name": "stdout",
          "text": [
            "yes\n"
          ]
        }
      ],
      "source": [
        "if 1 == 1:\n",
        "    print('yes')"
      ]
    },
    {
      "cell_type": "code",
      "execution_count": 9,
      "metadata": {
        "id": "-Tfhgjnk5Iob"
      },
      "outputs": [],
      "source": [
        "if 'Hello' == \"hello\":\n",
        "    print('yes')"
      ]
    },
    {
      "cell_type": "code",
      "execution_count": 10,
      "metadata": {
        "id": "HMs-M20s5Iob",
        "outputId": "2670cb2d-513d-4c22-c597-0cbf561e4ea4",
        "colab": {
          "base_uri": "https://localhost:8080/"
        }
      },
      "outputs": [
        {
          "output_type": "stream",
          "name": "stdout",
          "text": [
            "yes\n"
          ]
        }
      ],
      "source": [
        "if 'hello' == \"hello\":\n",
        "    print('yes')"
      ]
    },
    {
      "cell_type": "code",
      "execution_count": 11,
      "metadata": {
        "id": "u02UGDVK5Iob"
      },
      "outputs": [],
      "source": [
        "if '1' == 1:\n",
        "    print('yes')"
      ]
    },
    {
      "cell_type": "code",
      "execution_count": 12,
      "metadata": {
        "id": "yp9oZsG85Iob",
        "outputId": "e01aa227-34c9-481e-8c35-a67a6317844a",
        "colab": {
          "base_uri": "https://localhost:8080/"
        }
      },
      "outputs": [
        {
          "output_type": "stream",
          "name": "stdout",
          "text": [
            "yes\n"
          ]
        }
      ],
      "source": [
        "if '1' != 1:\n",
        "    print('yes')"
      ]
    },
    {
      "cell_type": "markdown",
      "metadata": {
        "id": "73flBGVo5Ioc"
      },
      "source": [
        "The above are our **comparison operators**."
      ]
    },
    {
      "cell_type": "markdown",
      "metadata": {
        "id": "fPPMGN-b5Ioc"
      },
      "source": [
        "* What can we infer from `==`.\n",
        "* How do we represent non-equality."
      ]
    },
    {
      "cell_type": "markdown",
      "metadata": {
        "id": "HnvpGJ645Iod"
      },
      "source": [
        "### Truth in Numbers"
      ]
    },
    {
      "cell_type": "code",
      "execution_count": null,
      "metadata": {
        "id": "5QslRJOR5Iod",
        "outputId": "bca8c778-bc23-456e-faf7-38d3d2ede565"
      },
      "outputs": [
        {
          "data": {
            "text/plain": [
              "True"
            ]
          },
          "execution_count": 40,
          "metadata": {},
          "output_type": "execute_result"
        }
      ],
      "source": [
        "1 == True"
      ]
    },
    {
      "cell_type": "code",
      "execution_count": null,
      "metadata": {
        "id": "jZYkOTBi5Iod",
        "outputId": "e34ff61b-546a-4d80-8e87-b71b05927b55"
      },
      "outputs": [
        {
          "data": {
            "text/plain": [
              "True"
            ]
          },
          "execution_count": 41,
          "metadata": {},
          "output_type": "execute_result"
        }
      ],
      "source": [
        "0 == False"
      ]
    },
    {
      "cell_type": "markdown",
      "metadata": {
        "id": "GEBUAIDv5Iod"
      },
      "source": [
        "> The last one's should be a bit of a surprise.  It means that instead of a list of True or False values, an equivalent list is one of 1s or 0s. "
      ]
    },
    {
      "cell_type": "code",
      "execution_count": 13,
      "metadata": {
        "id": "-N4B4YvP5Iod",
        "outputId": "9f4dac40-39b2-438a-8d82-c6b91107d9fe",
        "colab": {
          "base_uri": "https://localhost:8080/"
        }
      },
      "outputs": [
        {
          "output_type": "execute_result",
          "data": {
            "text/plain": [
              "True"
            ]
          },
          "metadata": {},
          "execution_count": 13
        }
      ],
      "source": [
        "[True, False] == [1, 0]"
      ]
    },
    {
      "cell_type": "markdown",
      "metadata": {
        "id": "XDK8gQQE5Ioe"
      },
      "source": [
        "### Practice with If Else"
      ]
    },
    {
      "cell_type": "markdown",
      "metadata": {
        "id": "fnJ6jsl85Ioe"
      },
      "source": [
        "So when we use an `if else` statement our code moves through the first branch if we pass `if` a True value and moves through the second branch if we pass through a False value. "
      ]
    },
    {
      "cell_type": "code",
      "execution_count": 16,
      "metadata": {
        "id": "UBj3xIi65Ioe"
      },
      "outputs": [],
      "source": [
        "def what():\n",
        "    if True:\n",
        "        return 1\n",
        "    else:\n",
        "        return 0"
      ]
    },
    {
      "cell_type": "code",
      "execution_count": 17,
      "metadata": {
        "id": "-lzvdWPO5Ioe",
        "outputId": "f2634cec-1ae9-45a0-d81f-1bf6fa2294e1",
        "colab": {
          "base_uri": "https://localhost:8080/"
        }
      },
      "outputs": [
        {
          "output_type": "execute_result",
          "data": {
            "text/plain": [
              "1"
            ]
          },
          "metadata": {},
          "execution_count": 17
        }
      ],
      "source": [
        "what()"
      ]
    },
    {
      "cell_type": "markdown",
      "metadata": {
        "id": "oWNlP4O15Ioe"
      },
      "source": [
        "> Your turn."
      ]
    },
    {
      "cell_type": "markdown",
      "metadata": {
        "id": "ENGF75jN5Ioe"
      },
      "source": [
        "Ok, now that we know more about boolean operators.  Let's practice a bit writing some `if else` statements. "
      ]
    },
    {
      "cell_type": "markdown",
      "metadata": {
        "id": "eyxSLn3w5Ioe"
      },
      "source": [
        "> Write a method that checks if two first names are precisely the same.  It returns `True` if they are the same and `False` otherwise."
      ]
    },
    {
      "cell_type": "code",
      "execution_count": 18,
      "metadata": {
        "id": "75O4Sq-a5Ioe"
      },
      "outputs": [],
      "source": [
        "def same_name(name_one, name_two):\n",
        "  if name_one == name_two:\n",
        "    return True\n",
        "  else:\n",
        "    return False\n",
        "  "
      ]
    },
    {
      "cell_type": "code",
      "execution_count": 19,
      "metadata": {
        "id": "oi3mXHqr5Iof",
        "outputId": "80063192-cb43-48b1-bd13-7038efbd1607",
        "colab": {
          "base_uri": "https://localhost:8080/"
        }
      },
      "outputs": [
        {
          "output_type": "execute_result",
          "data": {
            "text/plain": [
              "True"
            ]
          },
          "metadata": {},
          "execution_count": 19
        }
      ],
      "source": [
        "same_name('sally', 'sally')\n",
        "# True"
      ]
    },
    {
      "cell_type": "code",
      "execution_count": 20,
      "metadata": {
        "id": "zgD35bTQ5Iof",
        "outputId": "b27d5761-afd9-431a-e2b0-1a0b163c1aed",
        "colab": {
          "base_uri": "https://localhost:8080/"
        }
      },
      "outputs": [
        {
          "output_type": "execute_result",
          "data": {
            "text/plain": [
              "False"
            ]
          },
          "metadata": {},
          "execution_count": 20
        }
      ],
      "source": [
        "same_name('sally', 'Sally')\n",
        "# False"
      ]
    },
    {
      "cell_type": "markdown",
      "metadata": {
        "id": "96Q2DibG5Iof"
      },
      "source": [
        "> Now write a new function that returns True even if the capitalization of the names is different."
      ]
    },
    {
      "cell_type": "code",
      "execution_count": 22,
      "metadata": {
        "id": "6CxPjV_N5Iof"
      },
      "outputs": [],
      "source": [
        "def same_name_case_insensitive(name_one, name_two):\n",
        "  if name_one.upper() == name_two.upper():\n",
        "    return True\n",
        "  else:\n",
        "    return False"
      ]
    },
    {
      "cell_type": "code",
      "execution_count": 23,
      "metadata": {
        "id": "jk4Ti47v5Iof",
        "outputId": "7ad7fd1b-392e-49c2-94a6-ee6532c9fa03",
        "colab": {
          "base_uri": "https://localhost:8080/"
        }
      },
      "outputs": [
        {
          "output_type": "execute_result",
          "data": {
            "text/plain": [
              "True"
            ]
          },
          "metadata": {},
          "execution_count": 23
        }
      ],
      "source": [
        "same_name_case_insensitive('Sally', 'sally')\n",
        "# True"
      ]
    },
    {
      "cell_type": "markdown",
      "metadata": {
        "id": "EeBN0Q2b5Iog"
      },
      "source": [
        "### Refactoring if else"
      ]
    },
    {
      "cell_type": "markdown",
      "metadata": {
        "id": "BiJ_fY8m5Iog"
      },
      "source": [
        "With if else functions, we can sometimes be repetitive."
      ]
    },
    {
      "cell_type": "markdown",
      "metadata": {
        "id": "F9HtpcKk5Iog"
      },
      "source": [
        "> For example, here is the `can_drive` function that we started with.  "
      ]
    },
    {
      "cell_type": "code",
      "execution_count": 24,
      "metadata": {
        "id": "IXGo0nmq5Ioh"
      },
      "outputs": [],
      "source": [
        "def can_drive(age):\n",
        "    if age > 16:\n",
        "        return True\n",
        "    else:\n",
        "        return False"
      ]
    },
    {
      "cell_type": "code",
      "execution_count": 25,
      "metadata": {
        "id": "Mj799xiK5Ioh",
        "outputId": "861da17f-3d50-4cf3-caee-00aeb417ae88",
        "colab": {
          "base_uri": "https://localhost:8080/"
        }
      },
      "outputs": [
        {
          "output_type": "execute_result",
          "data": {
            "text/plain": [
              "True"
            ]
          },
          "metadata": {},
          "execution_count": 25
        }
      ],
      "source": [
        "can_drive(17)"
      ]
    },
    {
      "cell_type": "markdown",
      "metadata": {
        "id": "RJ9UdSdX5Ioh"
      },
      "source": [
        "> Can you see a way that we can rewrite this in just one line, and without ever using the keywords `if else`? "
      ]
    },
    {
      "cell_type": "code",
      "execution_count": 29,
      "metadata": {
        "id": "pnYWTThR5Ioh"
      },
      "outputs": [],
      "source": [
        "def can_drive(age):\n",
        "    True if age > 16 else False"
      ]
    },
    {
      "cell_type": "code",
      "execution_count": 30,
      "metadata": {
        "id": "IXCIiyoE5Ioh"
      },
      "outputs": [],
      "source": [
        "can_drive(15)"
      ]
    },
    {
      "cell_type": "markdown",
      "metadata": {
        "id": "iJoewtQZ5Ioh"
      },
      "source": [
        "> Can you write a function with that checks for the same name, and is case insensitive, without the keywords `if else`."
      ]
    },
    {
      "cell_type": "code",
      "execution_count": 54,
      "metadata": {
        "id": "OO3Vusbp5Ioi"
      },
      "outputs": [],
      "source": [
        "def same_name_case_insensitive(name_one, name_two):\n",
        "    name_one.upper() == name_two.upper() and print(True)\n",
        "    name_one.upper() != name_two.upper() and print(False)"
      ]
    },
    {
      "cell_type": "code",
      "execution_count": 57,
      "metadata": {
        "id": "40B_5F5F5Ioi",
        "outputId": "85baf22a-9308-4ecb-bfdc-343c8c257d63",
        "colab": {
          "base_uri": "https://localhost:8080/"
        }
      },
      "outputs": [
        {
          "output_type": "stream",
          "name": "stdout",
          "text": [
            "True\n"
          ]
        }
      ],
      "source": [
        "same_name_case_insensitive('Sally', 'sally')\n",
        "# True"
      ]
    },
    {
      "cell_type": "code",
      "execution_count": 58,
      "metadata": {
        "id": "anhhA-vx5Ioi",
        "outputId": "fdf16778-28c9-4949-d22a-89edf860d491",
        "colab": {
          "base_uri": "https://localhost:8080/"
        }
      },
      "outputs": [
        {
          "output_type": "stream",
          "name": "stdout",
          "text": [
            "False\n"
          ]
        }
      ],
      "source": [
        "same_name_case_insensitive('Sally', 'fred')\n",
        "# False"
      ]
    },
    {
      "cell_type": "markdown",
      "metadata": {
        "id": "KTGsQzYw5Ioi"
      },
      "source": [
        "### Multibranch if else"
      ]
    },
    {
      "cell_type": "code",
      "execution_count": 59,
      "metadata": {
        "id": "AZpD8NnU5Ioi"
      },
      "outputs": [],
      "source": [
        "def discount(airline_miles):\n",
        "    if airline_miles > 20000:\n",
        "        return .2\n",
        "    elif airline_miles > 10000:\n",
        "        return .1\n",
        "    else:\n",
        "        return 0"
      ]
    },
    {
      "cell_type": "markdown",
      "metadata": {
        "id": "MiLtD3Rw5Ioi"
      },
      "source": [
        "Practice writing your own multi-branch if else statement below."
      ]
    },
    {
      "cell_type": "markdown",
      "metadata": {
        "id": "35vjckWy5Ioi"
      },
      "source": [
        "> Write a function that returns places someone in a yoga class based on how long they have been practicing yoga.  \n",
        "\n",
        "* If 2 months or fewer, return `'beginner'`\n",
        "* If between 2 months and 2 years, return `'intermediate'`\n",
        "* If more than two years return `'advanced'` class"
      ]
    },
    {
      "cell_type": "code",
      "execution_count": 60,
      "metadata": {
        "id": "iwPxX6xC5Ioi"
      },
      "outputs": [],
      "source": [
        "def yoga_level(months):\n",
        "    if months <= 2:\n",
        "        return 'beginner'\n",
        "    elif 2 < months < 24:\n",
        "        return 'intermediate'\n",
        "    else:\n",
        "        return 'advanced'"
      ]
    },
    {
      "cell_type": "code",
      "execution_count": 61,
      "metadata": {
        "id": "g4GyhduY5Ioi",
        "outputId": "6dd87beb-6b8f-4335-f3b8-ccf47c2c03ca",
        "colab": {
          "base_uri": "https://localhost:8080/",
          "height": 35
        }
      },
      "outputs": [
        {
          "output_type": "execute_result",
          "data": {
            "text/plain": [
              "'beginner'"
            ],
            "application/vnd.google.colaboratory.intrinsic+json": {
              "type": "string"
            }
          },
          "metadata": {},
          "execution_count": 61
        }
      ],
      "source": [
        "yoga_level(2)\n",
        "# 'beginner'"
      ]
    },
    {
      "cell_type": "code",
      "execution_count": 62,
      "metadata": {
        "id": "0ZfdCks85Ioj",
        "outputId": "bb3cf015-5d35-4d46-efd7-8b8dd38942d7",
        "colab": {
          "base_uri": "https://localhost:8080/",
          "height": 35
        }
      },
      "outputs": [
        {
          "output_type": "execute_result",
          "data": {
            "text/plain": [
              "'intermediate'"
            ],
            "application/vnd.google.colaboratory.intrinsic+json": {
              "type": "string"
            }
          },
          "metadata": {},
          "execution_count": 62
        }
      ],
      "source": [
        "yoga_level(3)\n",
        "# 'intermediate'"
      ]
    },
    {
      "cell_type": "code",
      "execution_count": 63,
      "metadata": {
        "id": "xJDmDC4s5Ioj",
        "outputId": "87a122c3-b84c-42d5-971e-0515277fa337",
        "colab": {
          "base_uri": "https://localhost:8080/",
          "height": 35
        }
      },
      "outputs": [
        {
          "output_type": "execute_result",
          "data": {
            "text/plain": [
              "'advanced'"
            ],
            "application/vnd.google.colaboratory.intrinsic+json": {
              "type": "string"
            }
          },
          "metadata": {},
          "execution_count": 63
        }
      ],
      "source": [
        "yoga_level(25)\n",
        "# 'advanced'"
      ]
    },
    {
      "cell_type": "markdown",
      "metadata": {
        "id": "NB1d0O565Ioj"
      },
      "source": [
        "### Summary"
      ]
    },
    {
      "cell_type": "markdown",
      "metadata": {
        "id": "-ytvGlXA5Ioj"
      },
      "source": [
        "In this lesson, we practiced using `if else` conditionals in Python.  The general pattern for an `if else` conditional is:"
      ]
    },
    {
      "cell_type": "markdown",
      "metadata": {
        "id": "jypVhBgQ5Ioj"
      },
      "source": [
        "```python\n",
        "if comparison:\n",
        "    # do     \n",
        "else:\n",
        "    # do\n",
        "```"
      ]
    },
    {
      "cell_type": "markdown",
      "metadata": {
        "id": "GopOZPqc5Ioj"
      },
      "source": [
        "We saw that a lot of understanding if else statements is understanding the rules of conditionals.  We can check for equality using `==` and inequality with `!=`.  We also saw that `1 == True`."
      ]
    }
  ],
  "metadata": {
    "kernelspec": {
      "display_name": "Python 3",
      "language": "python",
      "name": "python3"
    },
    "language_info": {
      "codemirror_mode": {
        "name": "ipython",
        "version": 3
      },
      "file_extension": ".py",
      "mimetype": "text/x-python",
      "name": "python",
      "nbconvert_exporter": "python",
      "pygments_lexer": "ipython3",
      "version": "3.8.3"
    },
    "colab": {
      "name": "2-if-else-discussions.ipynb",
      "provenance": [],
      "include_colab_link": true
    }
  },
  "nbformat": 4,
  "nbformat_minor": 0
}