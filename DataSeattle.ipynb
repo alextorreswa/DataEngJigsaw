{
  "nbformat": 4,
  "nbformat_minor": 0,
  "metadata": {
    "colab": {
      "name": "Untitled0.ipynb",
      "provenance": [],
      "authorship_tag": "ABX9TyNk7DSIfKFVupBux+tJOR+A"
    },
    "kernelspec": {
      "name": "python3",
      "display_name": "Python 3"
    },
    "language_info": {
      "name": "python"
    }
  },
  "cells": [
    {
      "cell_type": "code",
      "execution_count": 2,
      "metadata": {
        "colab": {
          "base_uri": "https://localhost:8080/"
        },
        "id": "hDSf3Di-yovE",
        "outputId": "86d800af-9fb8-4c38-b4ae-2c83a06d3b7b"
      },
      "outputs": [
        {
          "output_type": "execute_result",
          "data": {
            "text/plain": [
              "[{'expiresdate': '2023-04-21',\n",
              "  'latitude': 47.61506676,\n",
              "  'link': {'url': 'https://cosaccela.seattle.gov/portal/customize/LinkToRecord.aspx?altId=001-0100004'},\n",
              "  'location1': {'latitude': '47.61506676', 'longitude': '-122.32485293'},\n",
              "  'longitude': -122.32485293,\n",
              "  'originaladdress1': '1531 BELMONT AVE',\n",
              "  'originalcity': 'SEATTLE',\n",
              "  'originalstate': 'WA',\n",
              "  'originalzip': 98122,\n",
              "  'permitnum': '001-0100004',\n",
              "  'permittypedesc': 'Registration',\n",
              "  'permittypemapped': 'Rental Property',\n",
              "  'propertycontactname': 'Michelle Hawley',\n",
              "  'propertyname': 'The Annapolis',\n",
              "  'registereddate': '2021-03-24',\n",
              "  'rentalhousingunits': 23,\n",
              "  'statuscurrent': 'Active Registration'},\n",
              " {'expiresdate': '2023-05-11',\n",
              "  'latitude': 47.68191074,\n",
              "  'link': {'url': 'https://cosaccela.seattle.gov/portal/customize/LinkToRecord.aspx?altId=001-0100005'},\n",
              "  'location1': {'latitude': '47.68191074', 'longitude': '-122.28921011'},\n",
              "  'longitude': -122.28921011,\n",
              "  'originaladdress1': '3600 NE 73RD PL',\n",
              "  'originalcity': 'SEATTLE',\n",
              "  'originalstate': 'WA',\n",
              "  'originalzip': 98115,\n",
              "  'permitnum': '001-0100005',\n",
              "  'permittypedesc': 'Registration',\n",
              "  'permittypemapped': 'Rental Property',\n",
              "  'propertycontactname': 'Maven Properties NW',\n",
              "  'propertyname': 'TERRACE VIEW BLDG 7',\n",
              "  'registereddate': '2021-05-11',\n",
              "  'rentalhousingunits': 12,\n",
              "  'statuscurrent': 'Active Registration'},\n",
              " {'expiresdate': '2024-03-02',\n",
              "  'latitude': 47.57098331,\n",
              "  'link': {'url': 'https://cosaccela.seattle.gov/portal/customize/LinkToRecord.aspx?altId=001-0100010'},\n",
              "  'location1': {'latitude': '47.57098331', 'longitude': '-122.38726139'},\n",
              "  'longitude': -122.38726139,\n",
              "  'originaladdress1': '3705 CALIFORNIA AVE SW',\n",
              "  'originalcity': 'SEATTLE',\n",
              "  'originalstate': 'WA',\n",
              "  'originalzip': 98116,\n",
              "  'permitnum': '001-0100010',\n",
              "  'permittypedesc': 'Registration',\n",
              "  'permittypemapped': 'Rental Property',\n",
              "  'propertycontactname': 'Associates West Real Estate, Inc',\n",
              "  'propertyname': 'Terrace View',\n",
              "  'registereddate': '2022-03-02',\n",
              "  'rentalhousingunits': 28,\n",
              "  'statuscurrent': 'Active Registration'}]"
            ]
          },
          "metadata": {},
          "execution_count": 2
        }
      ],
      "source": [
        "import pandas as pd\n",
        "url = \"https://data.seattle.gov/resource/j2xh-c7vt.json\"\n",
        "df = pd.read_json(url)\n",
        "rentals = df.to_dict('records')\n",
        "rentals[:3]\n",
        "\n",
        "units_mean =  "
      ]
    }
  ]
}