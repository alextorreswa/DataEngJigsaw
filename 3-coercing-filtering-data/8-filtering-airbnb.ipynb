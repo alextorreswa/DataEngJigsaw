{
  "cells": [
    {
      "cell_type": "markdown",
      "metadata": {
        "id": "6jpnVA1vy_MT"
      },
      "source": [
        "# Filtering Airbnb"
      ]
    },
    {
      "cell_type": "markdown",
      "metadata": {
        "id": "KGKKIRXey_MV"
      },
      "source": [
        "### Introduction"
      ]
    },
    {
      "cell_type": "markdown",
      "metadata": {
        "id": "kJXzkZZoy_MW"
      },
      "source": [
        "In this lesson, we'll use our knowledge of loops and filtering to work with Airbnb data in New York City. Let's get started."
      ]
    },
    {
      "cell_type": "markdown",
      "metadata": {
        "id": "ufRhAycPy_MW"
      },
      "source": [
        "### Loading and Exploring our Data"
      ]
    },
    {
      "cell_type": "markdown",
      "metadata": {
        "id": "fOzwwjZzy_MW"
      },
      "source": [
        "Let's start by loading up our data."
      ]
    },
    {
      "cell_type": "code",
      "execution_count": 1,
      "metadata": {
        "id": "FRDO8WL1y_MX"
      },
      "outputs": [],
      "source": [
        "import pandas as pd\n",
        "listings_df = pd.read_csv('https://raw.githubusercontent.com/eng-6-22/mod-1-a-data-structures/master/3-coercing-filtering-data/AB_NYC_2019.csv')\n",
        "\n",
        "listings = listings_df.to_dict('records')"
      ]
    },
    {
      "cell_type": "markdown",
      "metadata": {
        "id": "hlHcifeLy_MY"
      },
      "source": [
        "Let's start by seeing the number of listings we have gathered."
      ]
    },
    {
      "cell_type": "code",
      "execution_count": 2,
      "metadata": {
        "id": "LsQbUQ3Ey_MY",
        "outputId": "96943a5f-6bf4-43d1-8f61-fe0bd580ab29",
        "colab": {
          "base_uri": "https://localhost:8080/"
        }
      },
      "outputs": [
        {
          "output_type": "execute_result",
          "data": {
            "text/plain": [
              "48895"
            ]
          },
          "metadata": {},
          "execution_count": 2
        }
      ],
      "source": [
        "len(listings)\n",
        "\n",
        "# 48895"
      ]
    },
    {
      "cell_type": "markdown",
      "metadata": {
        "id": "mL8R80Isy_MZ"
      },
      "source": [
        "And now, let's see which attributes are available to us on each listing.  Look at the keys available on a single listing."
      ]
    },
    {
      "cell_type": "code",
      "execution_count": 4,
      "metadata": {
        "id": "TTOHq-QLy_Ma",
        "outputId": "4f71575e-bf97-477e-f70d-e25835969db1",
        "colab": {
          "base_uri": "https://localhost:8080/"
        }
      },
      "outputs": [
        {
          "output_type": "execute_result",
          "data": {
            "text/plain": [
              "dict_keys(['id', 'name', 'host_id', 'host_name', 'neighbourhood_group', 'neighbourhood', 'latitude', 'longitude', 'room_type', 'price', 'minimum_nights', 'number_of_reviews', 'last_review', 'reviews_per_month', 'calculated_host_listings_count', 'availability_365'])"
            ]
          },
          "metadata": {},
          "execution_count": 4
        }
      ],
      "source": [
        "listings[0].keys()\n",
        "\n",
        "# dict_keys(['id', 'name', 'host_id', 'host_name', 'neighbourhood_group', \n",
        "# 'neighbourhood', 'latitude', 'longitude', 'room_type', 'price',\n",
        "# 'minimum_nights', 'number_of_reviews', 'last_review', 'reviews_per_month', \n",
        "# 'calculated_host_listings_count', 'availability_365'])"
      ]
    },
    {
      "cell_type": "markdown",
      "metadata": {
        "id": "YMCT7cCYy_Ma"
      },
      "source": [
        "Now we'll like to calculate some statistics with this data.  Before doing so, let's get a sense of how recent our data is.  "
      ]
    },
    {
      "cell_type": "markdown",
      "metadata": {
        "id": "9UNzuJMty_Ma"
      },
      "source": [
        "To start, let's select just the `last_review` value from each element.  \n",
        "> Use list comprehension to create a list of `last_reviews`, one for each listing."
      ]
    },
    {
      "cell_type": "code",
      "execution_count": 49,
      "metadata": {
        "id": "h_8on5ZMy_Mb"
      },
      "outputs": [],
      "source": [
        "last_reviews = [ listing['last_review'] for listing in listings ]"
      ]
    },
    {
      "cell_type": "code",
      "execution_count": 50,
      "metadata": {
        "id": "4eOx94bYy_Mb",
        "outputId": "e90a6f62-8fcf-4caa-a1c9-9255e795ebaf",
        "colab": {
          "base_uri": "https://localhost:8080/"
        }
      },
      "outputs": [
        {
          "output_type": "execute_result",
          "data": {
            "text/plain": [
              "['2018-10-19', '2019-05-21', nan, '2019-07-05', '2018-11-19']"
            ]
          },
          "metadata": {},
          "execution_count": 50
        }
      ],
      "source": [
        "last_reviews[:5]\n",
        "\n",
        "# ['2018-10-19', '2019-05-21', nan, '2019-07-05', '2018-11-19']"
      ]
    },
    {
      "cell_type": "markdown",
      "metadata": {
        "id": "fA7TzNXJy_Mb"
      },
      "source": [
        "We can see from the above that some of our listings have `nan` values.  \n",
        "> As we may know `nan` stands for not a number and is generally used to represent missing values.  \n",
        "\n",
        "Let's filter out the listings with last_review values of `nan`.  Removing only `nan` values can be tricky.  So here's a hint to get you started:"
      ]
    },
    {
      "cell_type": "markdown",
      "metadata": {
        "id": "dl9D9ahqy_Mc"
      },
      "source": [
        "> nan is of type `float`.  So to check if the our value is `nan` we can use something like the following."
      ]
    },
    {
      "cell_type": "code",
      "execution_count": 8,
      "metadata": {
        "id": "XK1AtXaYy_Mc",
        "outputId": "f4476523-787c-4553-c7fe-0c729e94f67a",
        "colab": {
          "base_uri": "https://localhost:8080/"
        }
      },
      "outputs": [
        {
          "output_type": "execute_result",
          "data": {
            "text/plain": [
              "False"
            ]
          },
          "metadata": {},
          "execution_count": 8
        }
      ],
      "source": [
        "type(last_reviews[0]) == float"
      ]
    },
    {
      "cell_type": "code",
      "execution_count": 9,
      "metadata": {
        "id": "7OZTgQ9My_Mc",
        "outputId": "6c5d486c-b789-4216-d11f-899f5c5a4a9b",
        "colab": {
          "base_uri": "https://localhost:8080/"
        }
      },
      "outputs": [
        {
          "output_type": "execute_result",
          "data": {
            "text/plain": [
              "True"
            ]
          },
          "metadata": {},
          "execution_count": 9
        }
      ],
      "source": [
        "type(last_reviews[2]) == float"
      ]
    },
    {
      "cell_type": "code",
      "execution_count": 51,
      "metadata": {
        "id": "MuIZbyg5y_Mc",
        "outputId": "6b146448-1748-487d-c72e-6e6d14e9aae5",
        "colab": {
          "base_uri": "https://localhost:8080/"
        }
      },
      "outputs": [
        {
          "output_type": "execute_result",
          "data": {
            "text/plain": [
              "('2018-10-19', nan)"
            ]
          },
          "metadata": {},
          "execution_count": 51
        }
      ],
      "source": [
        "last_reviews[0], last_reviews[2]\n",
        "# ('2018-10-19', nan)"
      ]
    },
    {
      "cell_type": "markdown",
      "metadata": {
        "id": "PxYEIPPty_Md"
      },
      "source": [
        "Now, use what you learned from above to select *listings* that do not have a `last_review` value of nan."
      ]
    },
    {
      "cell_type": "code",
      "execution_count": 53,
      "metadata": {
        "id": "cK_QyPuTy_Md"
      },
      "outputs": [],
      "source": [
        "listings_not_nan = [ listing for listing in listings if type(listing['last_review']) != float ]"
      ]
    },
    {
      "cell_type": "code",
      "execution_count": 54,
      "metadata": {
        "id": "nvDLMH3Ay_Md",
        "outputId": "8e864581-5ae8-4f1c-c527-d39845bbfe60",
        "colab": {
          "base_uri": "https://localhost:8080/"
        }
      },
      "outputs": [
        {
          "output_type": "execute_result",
          "data": {
            "text/plain": [
              "38843"
            ]
          },
          "metadata": {},
          "execution_count": 54
        }
      ],
      "source": [
        "len(listings_not_nan)\n",
        "\n",
        "# 38843"
      ]
    },
    {
      "cell_type": "markdown",
      "metadata": {
        "id": "qcdM-qvMy_Md"
      },
      "source": [
        "Calculate the percentage of listings we have left."
      ]
    },
    {
      "cell_type": "code",
      "execution_count": 55,
      "metadata": {
        "id": "mPLOXW2my_Me",
        "outputId": "dfd5978d-f0ed-4835-c7ef-97ea3d2c617c",
        "colab": {
          "base_uri": "https://localhost:8080/"
        }
      },
      "outputs": [
        {
          "output_type": "execute_result",
          "data": {
            "text/plain": [
              "0.7944166070150323"
            ]
          },
          "metadata": {},
          "execution_count": 55
        }
      ],
      "source": [
        "len(listings_not_nan) / len(listings)\n",
        "\n",
        "# 0.7944166070150323"
      ]
    },
    {
      "cell_type": "markdown",
      "metadata": {
        "id": "4yj-5qb4y_Me"
      },
      "source": [
        "Ok, not amazing, but not bad."
      ]
    },
    {
      "cell_type": "markdown",
      "metadata": {
        "id": "hKK0SCB9y_Me"
      },
      "source": [
        "### Back on Track"
      ]
    },
    {
      "cell_type": "markdown",
      "metadata": {
        "id": "e3hGmyFWy_Me"
      },
      "source": [
        "Now that we've removed our listings with a last_review of nan, let's make sure that we are working with relatively recent reviews."
      ]
    },
    {
      "cell_type": "markdown",
      "metadata": {
        "id": "LnvmMGT0y_Me"
      },
      "source": [
        "Our first step is to change the first `last_review` value from to a Python string to a datetime object.\n",
        "\n",
        "> Let's practice this on a single element first."
      ]
    },
    {
      "cell_type": "markdown",
      "metadata": {
        "id": "EZKAUgbUy_Me"
      },
      "source": [
        "> See [this post](https://chrisalbon.com/code/python/basics/date_and_time_basics/) for coercing data to a datetime to do so."
      ]
    },
    {
      "cell_type": "code",
      "execution_count": 21,
      "metadata": {
        "id": "KmWshku0y_Mf"
      },
      "outputs": [],
      "source": [
        "first_listing = listings[0]"
      ]
    },
    {
      "cell_type": "code",
      "execution_count": 43,
      "metadata": {
        "id": "VlpggHGVy_Mf",
        "outputId": "cabb9ea4-46b0-4708-bd84-de95170971ba",
        "colab": {
          "base_uri": "https://localhost:8080/"
        }
      },
      "outputs": [
        {
          "output_type": "execute_result",
          "data": {
            "text/plain": [
              "(2018, 10, 19)"
            ]
          },
          "metadata": {},
          "execution_count": 43
        }
      ],
      "source": [
        "last_review = first_listing['last_review']\n",
        "\n",
        "year = int(last_review.split('-')[0])\n",
        "month = int(last_review.split('-')[1])\n",
        "day = int(last_review.split('-')[2])\n",
        "\n",
        "year, month, day "
      ]
    },
    {
      "cell_type": "code",
      "execution_count": 44,
      "metadata": {
        "id": "qnqRvN5qy_Mf"
      },
      "outputs": [],
      "source": [
        "from datetime import datetime\n",
        "\n",
        "last_review_datetime = datetime(year, month, day)"
      ]
    },
    {
      "cell_type": "code",
      "execution_count": 45,
      "metadata": {
        "id": "45LoeeePy_Mf",
        "outputId": "cb0bacbd-66d6-446e-91b6-0e6af3515371",
        "colab": {
          "base_uri": "https://localhost:8080/"
        }
      },
      "outputs": [
        {
          "output_type": "execute_result",
          "data": {
            "text/plain": [
              "(2018, 10)"
            ]
          },
          "metadata": {},
          "execution_count": 45
        }
      ],
      "source": [
        "last_review_datetime.year, last_review_datetime.month "
      ]
    },
    {
      "cell_type": "code",
      "execution_count": 57,
      "metadata": {
        "id": "H6phS_Hay_Mf",
        "outputId": "c230065f-0b26-4cb8-fee9-9fcb9e74e575",
        "colab": {
          "base_uri": "https://localhost:8080/"
        }
      },
      "outputs": [
        {
          "output_type": "execute_result",
          "data": {
            "text/plain": [
              "[{'availability_365': 365,\n",
              "  'calculated_host_listings_count': 6,\n",
              "  'host_id': 2787,\n",
              "  'host_name': 'John',\n",
              "  'id': 2539,\n",
              "  'last_review': '2018-10-19',\n",
              "  'latitude': 40.64749,\n",
              "  'longitude': -73.97237,\n",
              "  'minimum_nights': 1,\n",
              "  'name': 'Clean & quiet apt home by the park',\n",
              "  'neighbourhood': 'Kensington',\n",
              "  'neighbourhood_group': 'Brooklyn',\n",
              "  'number_of_reviews': 9,\n",
              "  'price': 149,\n",
              "  'reviews_per_month': 0.21,\n",
              "  'room_type': 'Private room'},\n",
              " {'availability_365': 355,\n",
              "  'calculated_host_listings_count': 2,\n",
              "  'host_id': 2845,\n",
              "  'host_name': 'Jennifer',\n",
              "  'id': 2595,\n",
              "  'last_review': '2019-05-21',\n",
              "  'latitude': 40.75362,\n",
              "  'longitude': -73.98377,\n",
              "  'minimum_nights': 1,\n",
              "  'name': 'Skylit Midtown Castle',\n",
              "  'neighbourhood': 'Midtown',\n",
              "  'neighbourhood_group': 'Manhattan',\n",
              "  'number_of_reviews': 45,\n",
              "  'price': 225,\n",
              "  'reviews_per_month': 0.38,\n",
              "  'room_type': 'Entire home/apt'},\n",
              " {'availability_365': 194,\n",
              "  'calculated_host_listings_count': 1,\n",
              "  'host_id': 4869,\n",
              "  'host_name': 'LisaRoxanne',\n",
              "  'id': 3831,\n",
              "  'last_review': '2019-07-05',\n",
              "  'latitude': 40.68514,\n",
              "  'longitude': -73.95976,\n",
              "  'minimum_nights': 1,\n",
              "  'name': 'Cozy Entire Floor of Brownstone',\n",
              "  'neighbourhood': 'Clinton Hill',\n",
              "  'neighbourhood_group': 'Brooklyn',\n",
              "  'number_of_reviews': 270,\n",
              "  'price': 89,\n",
              "  'reviews_per_month': 4.64,\n",
              "  'room_type': 'Entire home/apt'},\n",
              " {'availability_365': 0,\n",
              "  'calculated_host_listings_count': 1,\n",
              "  'host_id': 7192,\n",
              "  'host_name': 'Laura',\n",
              "  'id': 5022,\n",
              "  'last_review': '2018-11-19',\n",
              "  'latitude': 40.79851,\n",
              "  'longitude': -73.94399,\n",
              "  'minimum_nights': 10,\n",
              "  'name': 'Entire Apt: Spacious Studio/Loft by central park',\n",
              "  'neighbourhood': 'East Harlem',\n",
              "  'neighbourhood_group': 'Manhattan',\n",
              "  'number_of_reviews': 9,\n",
              "  'price': 80,\n",
              "  'reviews_per_month': 0.1,\n",
              "  'room_type': 'Entire home/apt'},\n",
              " {'availability_365': 129,\n",
              "  'calculated_host_listings_count': 1,\n",
              "  'host_id': 7322,\n",
              "  'host_name': 'Chris',\n",
              "  'id': 5099,\n",
              "  'last_review': '2019-06-22',\n",
              "  'latitude': 40.74767,\n",
              "  'longitude': -73.975,\n",
              "  'minimum_nights': 3,\n",
              "  'name': 'Large Cozy 1 BR Apartment In Midtown East',\n",
              "  'neighbourhood': 'Murray Hill',\n",
              "  'neighbourhood_group': 'Manhattan',\n",
              "  'number_of_reviews': 74,\n",
              "  'price': 200,\n",
              "  'reviews_per_month': 0.59,\n",
              "  'room_type': 'Entire home/apt'}]"
            ]
          },
          "metadata": {},
          "execution_count": 57
        }
      ],
      "source": [
        "listings_not_nan_copied = listings_not_nan.copy()\n",
        "listings_not_nan_copied[:5]"
      ]
    },
    {
      "cell_type": "markdown",
      "metadata": {
        "id": "byy0Uh0yy_Mf"
      },
      "source": [
        "> Now iterate through the copy of `listings_not_nan_copied` and change each `last_review` to a datetime."
      ]
    },
    {
      "cell_type": "code",
      "execution_count": 58,
      "metadata": {
        "id": "vDBSTNJ6y_Mf"
      },
      "outputs": [],
      "source": [
        "for listing in listings_not_nan_copied:\n",
        "  year = int(listing['last_review'].split('-')[0])\n",
        "  month = int(listing['last_review'].split('-')[1])\n",
        "  day = int(listing['last_review'].split('-')[2])\n",
        "\n",
        "  new_date = datetime(year, month, day)\n",
        "  listing['last_review'] = new_date\n"
      ]
    },
    {
      "cell_type": "markdown",
      "metadata": {
        "id": "Ej9OE7EAy_Mg"
      },
      "source": [
        "> We can check that each `last_review` is now a datetime object."
      ]
    },
    {
      "cell_type": "code",
      "execution_count": 59,
      "metadata": {
        "id": "iexSHvJIy_Mg",
        "outputId": "9d79e654-a19d-4458-9d36-540999d7b738",
        "colab": {
          "base_uri": "https://localhost:8080/"
        }
      },
      "outputs": [
        {
          "output_type": "execute_result",
          "data": {
            "text/plain": [
              "[datetime.datetime(2018, 10, 19, 0, 0), datetime.datetime(2019, 5, 21, 0, 0)]"
            ]
          },
          "metadata": {},
          "execution_count": 59
        }
      ],
      "source": [
        "updated_last_reviews = [listing['last_review'] \n",
        "                        for listing in listings_not_nan_copied]\n",
        "\n",
        "updated_last_reviews[:2]\n",
        "\n",
        "# [datetime.datetime(2018, 10, 19, 0, 0), datetime.datetime(2019, 5, 21, 0, 0)]"
      ]
    },
    {
      "cell_type": "markdown",
      "metadata": {
        "id": "x7GVN8fvy_Mg"
      },
      "source": [
        "Ok, now find the listing with the oldest last_review, and then we'll find the listing with the most recent last review."
      ]
    },
    {
      "cell_type": "code",
      "execution_count": 64,
      "metadata": {
        "id": "01TvOgEMy_Mg"
      },
      "outputs": [],
      "source": [
        "earliest_listing = sorted(listings_not_nan_copied, key=lambda listing: listing[\"last_review\"])[0]"
      ]
    },
    {
      "cell_type": "code",
      "execution_count": 65,
      "metadata": {
        "id": "BgBv5MBQy_Mg",
        "outputId": "e70cbd9e-2244-4887-9289-2bb8fab72d1f",
        "colab": {
          "base_uri": "https://localhost:8080/"
        }
      },
      "outputs": [
        {
          "output_type": "execute_result",
          "data": {
            "text/plain": [
              "datetime.datetime(2011, 3, 28, 0, 0)"
            ]
          },
          "metadata": {},
          "execution_count": 65
        }
      ],
      "source": [
        "earliest_listing['last_review']\n",
        "\n",
        "# datetime.datetime(2011, 3, 28, 0, 0)"
      ]
    },
    {
      "cell_type": "code",
      "execution_count": 66,
      "metadata": {
        "id": "Ouf925_Uy_Mh"
      },
      "outputs": [],
      "source": [
        "latest_listing = sorted(listings_not_nan_copied, key=lambda listing: listing[\"last_review\"])[-1]\n"
      ]
    },
    {
      "cell_type": "code",
      "execution_count": 67,
      "metadata": {
        "id": "HcxGsLEYy_Mh",
        "outputId": "7c641416-b2f7-46a9-ec2e-67ebe3543861",
        "colab": {
          "base_uri": "https://localhost:8080/"
        }
      },
      "outputs": [
        {
          "output_type": "execute_result",
          "data": {
            "text/plain": [
              "datetime.datetime(2019, 7, 8, 0, 0)"
            ]
          },
          "metadata": {},
          "execution_count": 67
        }
      ],
      "source": [
        "latest_listing['last_review']\n",
        "# datetime.datetime(2019, 7, 8, 0, 0)"
      ]
    },
    {
      "cell_type": "markdown",
      "metadata": {
        "id": "xO6k2jvJy_Mh"
      },
      "source": [
        "So we can see that our data ranges from 2011 to July 2019.  Let's limit our data so that we only are working with data from July 2017 to July 2019."
      ]
    },
    {
      "cell_type": "code",
      "execution_count": 69,
      "metadata": {
        "id": "3RcidkfWy_Mh"
      },
      "outputs": [],
      "source": [
        "start = datetime(2017, 7, 1)\n",
        "\n",
        "recent_listings = [ listing_not_nan_copied for listing_not_nan_copied in listings_not_nan_copied if listing_not_nan_copied['last_review'] >= start ]"
      ]
    },
    {
      "cell_type": "code",
      "execution_count": 70,
      "metadata": {
        "id": "KzbDBru1y_Mh",
        "outputId": "5564fda0-0b5e-4221-86c1-811a1ab59b76",
        "colab": {
          "base_uri": "https://localhost:8080/"
        }
      },
      "outputs": [
        {
          "output_type": "execute_result",
          "data": {
            "text/plain": [
              "33259"
            ]
          },
          "metadata": {},
          "execution_count": 70
        }
      ],
      "source": [
        "len(recent_listings)\n",
        "\n",
        "# 33259"
      ]
    },
    {
      "cell_type": "markdown",
      "metadata": {
        "id": "RJDXCS8By_Mh"
      },
      "source": [
        "So now we have about 11000 recent listings."
      ]
    },
    {
      "cell_type": "markdown",
      "metadata": {
        "id": "TMJuFk-Jy_Mh"
      },
      "source": [
        "### Listings by Neighborhood"
      ]
    },
    {
      "cell_type": "markdown",
      "metadata": {
        "id": "SSCvW1IUy_Mh"
      },
      "source": [
        "Let's getter a better sense of some of these recent listings.  Begin by creating a list of each `neighbourhood_group` of our recent listings."
      ]
    },
    {
      "cell_type": "code",
      "execution_count": 73,
      "metadata": {
        "id": "UpwgZRhyy_Mh",
        "outputId": "fe3f4e6c-1a70-4ec3-b720-e6079565f550",
        "colab": {
          "base_uri": "https://localhost:8080/"
        }
      },
      "outputs": [
        {
          "output_type": "execute_result",
          "data": {
            "text/plain": [
              "{'Bronx', 'Brooklyn', 'Manhattan', 'Queens', 'Staten Island'}"
            ]
          },
          "metadata": {},
          "execution_count": 73
        }
      ],
      "source": [
        "set([listing_not_nan_copied['neighbourhood_group'] for listing_not_nan_copied in listings_not_nan_copied])\n",
        "\n",
        "# ['Queens', 'Brooklyn', 'Bronx', 'Manhattan', 'Staten Island']"
      ]
    },
    {
      "cell_type": "markdown",
      "metadata": {
        "id": "uXKI0CEty_Mi"
      },
      "source": [
        "Ok, so it looks like the five boroughs.  Now let's find the number `recent_listings` in Manhattan that were less than or equal to 50 dollars."
      ]
    },
    {
      "cell_type": "code",
      "execution_count": 82,
      "metadata": {
        "id": "QA4ZVNM1y_Mi"
      },
      "outputs": [],
      "source": [
        "cheaper_manhattan_listings = [recent_listing for recent_listing in recent_listings if recent_listing['neighbourhood_group'] == 'Manhattan' and recent_listing['price'] <= 50 ]"
      ]
    },
    {
      "cell_type": "code",
      "execution_count": 83,
      "metadata": {
        "id": "5Hr8ec9uy_Mi",
        "outputId": "a1e7aad8-ccd3-4eba-b901-52bccc1c481f",
        "colab": {
          "base_uri": "https://localhost:8080/"
        }
      },
      "outputs": [
        {
          "output_type": "execute_result",
          "data": {
            "text/plain": [
              "640"
            ]
          },
          "metadata": {},
          "execution_count": 83
        }
      ],
      "source": [
        "len(cheaper_manhattan_listings)\n",
        "\n",
        "# 215"
      ]
    },
    {
      "cell_type": "markdown",
      "metadata": {
        "id": "SvinTy0Uy_Mi"
      },
      "source": [
        "### Summary"
      ]
    },
    {
      "cell_type": "markdown",
      "metadata": {
        "id": "V50eJLlby_Mi"
      },
      "source": [
        "In this lesson, we saw how to use filtering to reduce our dataset down to higher quality data and to then query our data.  We also worked to remove `nan` values by looking to see if the datatype of our data was a float.  As an alternative, we could have also used the function from the math library."
      ]
    },
    {
      "cell_type": "code",
      "execution_count": null,
      "metadata": {
        "id": "Q0ayh8Cwy_Mi",
        "outputId": "ea9a4493-93cc-4eac-d76f-2f24f93ee96c"
      },
      "outputs": [
        {
          "data": {
            "text/plain": [
              "True"
            ]
          },
          "execution_count": 139,
          "metadata": {},
          "output_type": "execute_result"
        }
      ],
      "source": [
        "import math\n",
        "import numpy as np\n",
        "\n",
        "math.isnan(np.nan)"
      ]
    }
  ],
  "metadata": {
    "kernelspec": {
      "display_name": "Python 3 (ipykernel)",
      "language": "python",
      "name": "python3"
    },
    "language_info": {
      "codemirror_mode": {
        "name": "ipython",
        "version": 3
      },
      "file_extension": ".py",
      "mimetype": "text/x-python",
      "name": "python",
      "nbconvert_exporter": "python",
      "pygments_lexer": "ipython3",
      "version": "3.9.10"
    },
    "colab": {
      "name": "8-filtering-airbnb.ipynb",
      "provenance": []
    }
  },
  "nbformat": 4,
  "nbformat_minor": 0
}