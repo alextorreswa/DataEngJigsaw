{
  "cells": [
    {
      "cell_type": "markdown",
      "id": "00775971-a6ee-47f9-9c5d-da11c658b617",
      "metadata": {
        "id": "00775971-a6ee-47f9-9c5d-da11c658b617"
      },
      "source": [
        "# Subqueries Lab"
      ]
    },
    {
      "cell_type": "markdown",
      "id": "523b58ac-daee-42c7-a583-4cb946f6c871",
      "metadata": {
        "id": "523b58ac-daee-42c7-a583-4cb946f6c871"
      },
      "source": [
        "### Introduction"
      ]
    },
    {
      "cell_type": "code",
      "execution_count": 1,
      "id": "bd0997b5-9a4d-4b41-936a-72e65efb2db3",
      "metadata": {
        "id": "bd0997b5-9a4d-4b41-936a-72e65efb2db3"
      },
      "outputs": [],
      "source": [
        "orders = {\"headers\": [\"order_number\", \"customer_number\"], \"values\": [[1, 1], [2, 2], [3, 3], [4, 3], [5, 1]]}"
      ]
    },
    {
      "cell_type": "code",
      "execution_count": 2,
      "id": "f4a2f862-d571-440c-a595-44506bb34594",
      "metadata": {
        "id": "f4a2f862-d571-440c-a595-44506bb34594"
      },
      "outputs": [],
      "source": [
        "import pandas as pd\n",
        "def build_dataframe(data):\n",
        "    columns = data['headers']\n",
        "    values = data['values']\n",
        "    df = pd.DataFrame(values)\n",
        "    df.columns = columns\n",
        "    return df"
      ]
    },
    {
      "cell_type": "code",
      "execution_count": 3,
      "id": "058f71e3-7f60-4a65-9c12-96fbe0d4fe85",
      "metadata": {
        "id": "058f71e3-7f60-4a65-9c12-96fbe0d4fe85"
      },
      "outputs": [],
      "source": [
        "import sqlite3\n",
        "\n",
        "conn = sqlite3.connect('crm.db')"
      ]
    },
    {
      "cell_type": "code",
      "execution_count": 4,
      "id": "2010dd27-906c-4e01-bfcc-81c36a962767",
      "metadata": {
        "id": "2010dd27-906c-4e01-bfcc-81c36a962767"
      },
      "outputs": [],
      "source": [
        "orders_df = build_dataframe(orders)"
      ]
    },
    {
      "cell_type": "code",
      "execution_count": 5,
      "id": "db7dfa44-01ed-4da0-a41d-b5d739385996",
      "metadata": {
        "id": "db7dfa44-01ed-4da0-a41d-b5d739385996"
      },
      "outputs": [],
      "source": [
        "orders_df.to_sql('orders', conn, if_exists = 'replace', index = False)"
      ]
    },
    {
      "cell_type": "markdown",
      "id": "c68302c7-021c-40f5-96ee-4e7b65277c45",
      "metadata": {
        "id": "c68302c7-021c-40f5-96ee-4e7b65277c45"
      },
      "source": [
        "### Viewing our Data"
      ]
    },
    {
      "cell_type": "code",
      "execution_count": null,
      "id": "6650a9b6-c8ea-407a-8b96-b08ae4f2301e",
      "metadata": {
        "id": "6650a9b6-c8ea-407a-8b96-b08ae4f2301e",
        "outputId": "163e00bc-ef06-4a8d-dadb-524b7592b2ff"
      },
      "outputs": [
        {
          "data": {
            "text/html": [
              "<div>\n",
              "<style scoped>\n",
              "    .dataframe tbody tr th:only-of-type {\n",
              "        vertical-align: middle;\n",
              "    }\n",
              "\n",
              "    .dataframe tbody tr th {\n",
              "        vertical-align: top;\n",
              "    }\n",
              "\n",
              "    .dataframe thead th {\n",
              "        text-align: right;\n",
              "    }\n",
              "</style>\n",
              "<table border=\"1\" class=\"dataframe\">\n",
              "  <thead>\n",
              "    <tr style=\"text-align: right;\">\n",
              "      <th></th>\n",
              "      <th>order_number</th>\n",
              "      <th>customer_number</th>\n",
              "    </tr>\n",
              "  </thead>\n",
              "  <tbody>\n",
              "    <tr>\n",
              "      <th>0</th>\n",
              "      <td>1</td>\n",
              "      <td>1</td>\n",
              "    </tr>\n",
              "    <tr>\n",
              "      <th>1</th>\n",
              "      <td>2</td>\n",
              "      <td>2</td>\n",
              "    </tr>\n",
              "    <tr>\n",
              "      <th>2</th>\n",
              "      <td>3</td>\n",
              "      <td>3</td>\n",
              "    </tr>\n",
              "    <tr>\n",
              "      <th>3</th>\n",
              "      <td>4</td>\n",
              "      <td>3</td>\n",
              "    </tr>\n",
              "    <tr>\n",
              "      <th>4</th>\n",
              "      <td>5</td>\n",
              "      <td>1</td>\n",
              "    </tr>\n",
              "  </tbody>\n",
              "</table>\n",
              "</div>"
            ],
            "text/plain": [
              "   order_number  customer_number\n",
              "0             1                1\n",
              "1             2                2\n",
              "2             3                3\n",
              "3             4                3\n",
              "4             5                1"
            ]
          },
          "execution_count": 14,
          "metadata": {},
          "output_type": "execute_result"
        }
      ],
      "source": [
        "pd.read_sql('select * from orders', conn)"
      ]
    },
    {
      "cell_type": "markdown",
      "id": "04b67464-2a0d-4968-8dad-4b574e014ca9",
      "metadata": {
        "id": "04b67464-2a0d-4968-8dad-4b574e014ca9"
      },
      "source": [
        "### Problem"
      ]
    },
    {
      "cell_type": "markdown",
      "id": "e927851b-0ede-40f5-b57d-1502045d6862",
      "metadata": {
        "id": "e927851b-0ede-40f5-b57d-1502045d6862"
      },
      "source": [
        "Write an SQL query to find the customer_number for the customer or customers who have placed the largest number of orders."
      ]
    },
    {
      "cell_type": "code",
      "execution_count": 13,
      "id": "d5451a3e-12e8-47c4-990f-a6ea8309fd66",
      "metadata": {
        "id": "d5451a3e-12e8-47c4-990f-a6ea8309fd66",
        "outputId": "7e8e2af7-ad42-4a9e-9fd4-304f7f7fe470",
        "colab": {
          "base_uri": "https://localhost:8080/",
          "height": 112
        }
      },
      "outputs": [
        {
          "output_type": "execute_result",
          "data": {
            "text/plain": [
              "   customer_number  total\n",
              "0                1      2\n",
              "1                3      2"
            ],
            "text/html": [
              "\n",
              "  <div id=\"df-51bccd47-0f53-44c5-8fbf-036a36c2d7ff\">\n",
              "    <div class=\"colab-df-container\">\n",
              "      <div>\n",
              "<style scoped>\n",
              "    .dataframe tbody tr th:only-of-type {\n",
              "        vertical-align: middle;\n",
              "    }\n",
              "\n",
              "    .dataframe tbody tr th {\n",
              "        vertical-align: top;\n",
              "    }\n",
              "\n",
              "    .dataframe thead th {\n",
              "        text-align: right;\n",
              "    }\n",
              "</style>\n",
              "<table border=\"1\" class=\"dataframe\">\n",
              "  <thead>\n",
              "    <tr style=\"text-align: right;\">\n",
              "      <th></th>\n",
              "      <th>customer_number</th>\n",
              "      <th>total</th>\n",
              "    </tr>\n",
              "  </thead>\n",
              "  <tbody>\n",
              "    <tr>\n",
              "      <th>0</th>\n",
              "      <td>1</td>\n",
              "      <td>2</td>\n",
              "    </tr>\n",
              "    <tr>\n",
              "      <th>1</th>\n",
              "      <td>3</td>\n",
              "      <td>2</td>\n",
              "    </tr>\n",
              "  </tbody>\n",
              "</table>\n",
              "</div>\n",
              "      <button class=\"colab-df-convert\" onclick=\"convertToInteractive('df-51bccd47-0f53-44c5-8fbf-036a36c2d7ff')\"\n",
              "              title=\"Convert this dataframe to an interactive table.\"\n",
              "              style=\"display:none;\">\n",
              "        \n",
              "  <svg xmlns=\"http://www.w3.org/2000/svg\" height=\"24px\"viewBox=\"0 0 24 24\"\n",
              "       width=\"24px\">\n",
              "    <path d=\"M0 0h24v24H0V0z\" fill=\"none\"/>\n",
              "    <path d=\"M18.56 5.44l.94 2.06.94-2.06 2.06-.94-2.06-.94-.94-2.06-.94 2.06-2.06.94zm-11 1L8.5 8.5l.94-2.06 2.06-.94-2.06-.94L8.5 2.5l-.94 2.06-2.06.94zm10 10l.94 2.06.94-2.06 2.06-.94-2.06-.94-.94-2.06-.94 2.06-2.06.94z\"/><path d=\"M17.41 7.96l-1.37-1.37c-.4-.4-.92-.59-1.43-.59-.52 0-1.04.2-1.43.59L10.3 9.45l-7.72 7.72c-.78.78-.78 2.05 0 2.83L4 21.41c.39.39.9.59 1.41.59.51 0 1.02-.2 1.41-.59l7.78-7.78 2.81-2.81c.8-.78.8-2.07 0-2.86zM5.41 20L4 18.59l7.72-7.72 1.47 1.35L5.41 20z\"/>\n",
              "  </svg>\n",
              "      </button>\n",
              "      \n",
              "  <style>\n",
              "    .colab-df-container {\n",
              "      display:flex;\n",
              "      flex-wrap:wrap;\n",
              "      gap: 12px;\n",
              "    }\n",
              "\n",
              "    .colab-df-convert {\n",
              "      background-color: #E8F0FE;\n",
              "      border: none;\n",
              "      border-radius: 50%;\n",
              "      cursor: pointer;\n",
              "      display: none;\n",
              "      fill: #1967D2;\n",
              "      height: 32px;\n",
              "      padding: 0 0 0 0;\n",
              "      width: 32px;\n",
              "    }\n",
              "\n",
              "    .colab-df-convert:hover {\n",
              "      background-color: #E2EBFA;\n",
              "      box-shadow: 0px 1px 2px rgba(60, 64, 67, 0.3), 0px 1px 3px 1px rgba(60, 64, 67, 0.15);\n",
              "      fill: #174EA6;\n",
              "    }\n",
              "\n",
              "    [theme=dark] .colab-df-convert {\n",
              "      background-color: #3B4455;\n",
              "      fill: #D2E3FC;\n",
              "    }\n",
              "\n",
              "    [theme=dark] .colab-df-convert:hover {\n",
              "      background-color: #434B5C;\n",
              "      box-shadow: 0px 1px 3px 1px rgba(0, 0, 0, 0.15);\n",
              "      filter: drop-shadow(0px 1px 2px rgba(0, 0, 0, 0.3));\n",
              "      fill: #FFFFFF;\n",
              "    }\n",
              "  </style>\n",
              "\n",
              "      <script>\n",
              "        const buttonEl =\n",
              "          document.querySelector('#df-51bccd47-0f53-44c5-8fbf-036a36c2d7ff button.colab-df-convert');\n",
              "        buttonEl.style.display =\n",
              "          google.colab.kernel.accessAllowed ? 'block' : 'none';\n",
              "\n",
              "        async function convertToInteractive(key) {\n",
              "          const element = document.querySelector('#df-51bccd47-0f53-44c5-8fbf-036a36c2d7ff');\n",
              "          const dataTable =\n",
              "            await google.colab.kernel.invokeFunction('convertToInteractive',\n",
              "                                                     [key], {});\n",
              "          if (!dataTable) return;\n",
              "\n",
              "          const docLinkHtml = 'Like what you see? Visit the ' +\n",
              "            '<a target=\"_blank\" href=https://colab.research.google.com/notebooks/data_table.ipynb>data table notebook</a>'\n",
              "            + ' to learn more about interactive tables.';\n",
              "          element.innerHTML = '';\n",
              "          dataTable['output_type'] = 'display_data';\n",
              "          await google.colab.output.renderOutput(dataTable, element);\n",
              "          const docLink = document.createElement('div');\n",
              "          docLink.innerHTML = docLinkHtml;\n",
              "          element.appendChild(docLink);\n",
              "        }\n",
              "      </script>\n",
              "    </div>\n",
              "  </div>\n",
              "  "
            ]
          },
          "metadata": {},
          "execution_count": 13
        }
      ],
      "source": [
        "query = \"\"\" \n",
        "        SELECT customer_number, COUNT(*) total\n",
        "        FROM orders\n",
        "        GROUP BY customer_number\n",
        "        HAVING total = (SELECT COUNT(*) FROM orders\n",
        "          GROUP BY customer_number\n",
        "          ORDER BY 1 DESC\n",
        "          LIMIT 1)      \n",
        "        \"\"\"\n",
        "\n",
        "pd.read_sql(query, conn)\n",
        "\n",
        "# customer_number\ttotal\n",
        "# 0\t1\t2\n",
        "# 1\t3\t2"
      ]
    },
    {
      "cell_type": "markdown",
      "id": "249a85dd-670e-42c3-8505-65b4841c206e",
      "metadata": {
        "id": "249a85dd-670e-42c3-8505-65b4841c206e"
      },
      "source": [
        "### References"
      ]
    },
    {
      "cell_type": "markdown",
      "id": "d4cdc051-b7b7-41cb-b884-cf46913351bb",
      "metadata": {
        "id": "d4cdc051-b7b7-41cb-b884-cf46913351bb"
      },
      "source": [
        "[Customer largest orders](https://leetcode.com/problems/customer-placing-the-largest-number-of-orders/)"
      ]
    }
  ],
  "metadata": {
    "kernelspec": {
      "display_name": "Python 3 (ipykernel)",
      "language": "python",
      "name": "python3"
    },
    "language_info": {
      "codemirror_mode": {
        "name": "ipython",
        "version": 3
      },
      "file_extension": ".py",
      "mimetype": "text/x-python",
      "name": "python",
      "nbconvert_exporter": "python",
      "pygments_lexer": "ipython3",
      "version": "3.9.10"
    },
    "colab": {
      "provenance": []
    }
  },
  "nbformat": 4,
  "nbformat_minor": 5
}