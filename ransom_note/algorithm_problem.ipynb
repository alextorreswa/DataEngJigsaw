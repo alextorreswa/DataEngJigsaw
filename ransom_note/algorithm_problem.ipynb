{
  "cells": [
    {
      "cell_type": "markdown",
      "id": "computational-afghanistan",
      "metadata": {
        "id": "computational-afghanistan"
      },
      "source": [
        "# Ransom Note"
      ]
    },
    {
      "cell_type": "markdown",
      "id": "acquired-pacific",
      "metadata": {
        "id": "acquired-pacific"
      },
      "source": [
        "Design a function that determines whether you can build a ransom note from cut up letters in a magazine article."
      ]
    },
    {
      "cell_type": "markdown",
      "id": "extra-drink",
      "metadata": {
        "id": "extra-drink"
      },
      "source": [
        "Here's an example:"
      ]
    },
    {
      "cell_type": "code",
      "execution_count": 18,
      "id": "postal-china",
      "metadata": {
        "id": "postal-china"
      },
      "outputs": [],
      "source": [
        "magazine = [\"h\", \"e\", \"r\", \"e\", \"a\", \"r\", \"e\", \"s\", \"o\", \"m\",\n",
        "\"e\", \"n\", \"i\", \"c\", \"e\", \"c\", \"l\", \"o\", \"t\", \"h\", \"e\", \"s\", \"t\",\n",
        "\"h\", \"a\", \"t\", \"y\", \"o\", \"u\", \"s\", \"h\", \"o\", \"u\", \"l\", \"d\", \"b\",\n",
        "\"u\", \"y\", \"t\", \"h\", \"e\", \"y\", \"a\", \"r\", \"e\", \"c\", \"h\", \"e\", \"a\",\n",
        "\"p\", \"a\", \"n\", \"d\", \"w\", \"o\", \"n\", \"d\", \"e\", \"r\", \"f\", \"u\", \"l\",\n",
        " \"f\", \"o\", \"r\", \"t\", \"h\", \"e\", \"s\", \"u\", \"m\", \"m\", \"e\", \"r\"]\n",
        "\n",
        "note = \"give me the beer or else\""
      ]
    },
    {
      "cell_type": "code",
      "execution_count": 19,
      "id": "tight-default",
      "metadata": {
        "id": "tight-default"
      },
      "outputs": [],
      "source": [
        "def check_build_ransom_note(magazine, note):\n",
        "  for letter in note:\n",
        "    if letter in magazine:\n",
        "      magazine.remove(letter)\n",
        "    else:\n",
        "      return print(\"It is not posiblle build ransom note\")\n",
        "  return print(\"I did a ransom note\")"
      ]
    },
    {
      "cell_type": "code",
      "source": [
        "check_build_ransom_note(magazine, note)"
      ],
      "metadata": {
        "id": "ezdDKC2ROkgR",
        "outputId": "18cec7d6-e72d-47b2-da65-aaedfdcabefa",
        "colab": {
          "base_uri": "https://localhost:8080/"
        }
      },
      "id": "ezdDKC2ROkgR",
      "execution_count": 20,
      "outputs": [
        {
          "output_type": "stream",
          "name": "stdout",
          "text": [
            "I did a ransom note\n"
          ]
        }
      ]
    },
    {
      "cell_type": "code",
      "source": [],
      "metadata": {
        "id": "aKfZK_q7OumS"
      },
      "id": "aKfZK_q7OumS",
      "execution_count": null,
      "outputs": []
    }
  ],
  "metadata": {
    "kernelspec": {
      "display_name": "Python 3",
      "language": "python",
      "name": "python3"
    },
    "language_info": {
      "codemirror_mode": {
        "name": "ipython",
        "version": 3
      },
      "file_extension": ".py",
      "mimetype": "text/x-python",
      "name": "python",
      "nbconvert_exporter": "python",
      "pygments_lexer": "ipython3",
      "version": "3.8.6"
    },
    "colab": {
      "provenance": []
    }
  },
  "nbformat": 4,
  "nbformat_minor": 5
}