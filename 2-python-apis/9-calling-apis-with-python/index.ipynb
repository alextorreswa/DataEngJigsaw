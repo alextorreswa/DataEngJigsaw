{
  "cells": [
    {
      "cell_type": "markdown",
      "metadata": {
        "id": "view-in-github",
        "colab_type": "text"
      },
      "source": [
        "<a href=\"https://colab.research.google.com/github/alextorreswa/DataEngJigsaw/blob/main/2-python-apis/9-calling-apis-with-python/index.ipynb\" target=\"_parent\"><img src=\"https://colab.research.google.com/assets/colab-badge.svg\" alt=\"Open In Colab\"/></a>"
      ]
    },
    {
      "cell_type": "markdown",
      "metadata": {
        "id": "c01hpqltihcy"
      },
      "source": [
        "# Calling APIs with Python"
      ]
    },
    {
      "cell_type": "markdown",
      "metadata": {
        "id": "qfTK2056ihc0"
      },
      "source": [
        "### Introduction"
      ]
    },
    {
      "cell_type": "markdown",
      "metadata": {
        "id": "ly8vjFy6ihc1"
      },
      "source": [
        "So now that we know about what an API is, and how we request information from an API, we can now try calling an API with Python"
      ]
    },
    {
      "cell_type": "markdown",
      "metadata": {
        "id": "yD78Ymmdihc1"
      },
      "source": [
        "## Using Python to Make Web Requests  "
      ]
    },
    {
      "cell_type": "markdown",
      "metadata": {
        "id": "9e3FR7vxihc1"
      },
      "source": [
        "Our task is to access the Google books API with Python.  \n",
        "\n",
        "We know how to access this API in general.  All we need to do go to a URL like the following: `https://www.googleapis.com/books/v1/volumes?q=Tom%20Sawyer`.  Also, as we know, what we are really doing is: \n",
        "\n",
        "1. Directing our browser to make a GET request to the URL above\n",
        "2. Capturing the response in our browser\n",
        "\n",
        "Let's try the same in Python."
      ]
    },
    {
      "cell_type": "markdown",
      "metadata": {
        "id": "wjBSSyzCihc2"
      },
      "source": [
        "Now just as a browser has the ability to make requests, Python has this ability as well.  We just have to use the `requests` object.  The requests module is just a library that allows us to make web requests and capture responses.  "
      ]
    },
    {
      "cell_type": "markdown",
      "metadata": {
        "id": "lOjYq4leihc2"
      },
      "source": [
        "> By **module** we just mean library.  A library is a collection of methods that we can use.  Here we want to use a method that can make a request to a website."
      ]
    },
    {
      "cell_type": "code",
      "execution_count": null,
      "metadata": {
        "id": "KEqjy4Cjihc2",
        "outputId": "29a72140-489d-47e3-c24f-55b2ae9efe6c"
      },
      "outputs": [
        {
          "ename": "NameError",
          "evalue": "name 'requests' is not defined",
          "output_type": "error",
          "traceback": [
            "\u001b[0;31m---------------------------------------------------------------------------\u001b[0m",
            "\u001b[0;31mNameError\u001b[0m                                 Traceback (most recent call last)",
            "\u001b[0;32m<ipython-input-2-5e482a8a1a83>\u001b[0m in \u001b[0;36m<module>\u001b[0;34m()\u001b[0m\n\u001b[0;32m----> 1\u001b[0;31m \u001b[0mrequests\u001b[0m\u001b[0;34m\u001b[0m\u001b[0m\n\u001b[0m",
            "\u001b[0;31mNameError\u001b[0m: name 'requests' is not defined"
          ]
        }
      ],
      "source": [
        "requests"
      ]
    },
    {
      "cell_type": "markdown",
      "metadata": {
        "id": "yy0PPG_Cihc4"
      },
      "source": [
        "Oops, we just got an error, indicating that Python does not know what `requests` means.  Unlike, say the ability to add two numbers, Python cannot make requests right out of the box. So we first need to tell Python we are about to use the module `requests`.  We do this with the line `import requests`, which tells Python to give us access to this module. "
      ]
    },
    {
      "cell_type": "code",
      "execution_count": null,
      "metadata": {
        "id": "xKl-GkGiihc4"
      },
      "outputs": [],
      "source": [
        "import requests"
      ]
    },
    {
      "cell_type": "markdown",
      "metadata": {
        "id": "uUbjfDUnihc5"
      },
      "source": [
        "And now we can use that module."
      ]
    },
    {
      "cell_type": "markdown",
      "metadata": {
        "id": "DNgi97bwihc5"
      },
      "source": [
        "> press shift + enter if you'd like to code along."
      ]
    },
    {
      "cell_type": "code",
      "execution_count": null,
      "metadata": {
        "id": "91v9-47Uihc5",
        "outputId": "e0985c91-e005-4ef1-9356-61f27b118319"
      },
      "outputs": [
        {
          "data": {
            "text/plain": [
              "<module 'requests' from '/Users/jeff/anaconda3/lib/python3.7/site-packages/requests/__init__.py'>"
            ]
          },
          "execution_count": 3,
          "metadata": {},
          "output_type": "execute_result"
        }
      ],
      "source": [
        "requests"
      ]
    },
    {
      "cell_type": "markdown",
      "metadata": {
        "id": "ghZEAPIWihc5"
      },
      "source": [
        "> keep pressing shift + enter"
      ]
    },
    {
      "cell_type": "markdown",
      "metadata": {
        "id": "-ai7km5cihc5"
      },
      "source": [
        "Now to use this module to make our GET request to Google Books URL, we write the following."
      ]
    },
    {
      "cell_type": "code",
      "execution_count": null,
      "metadata": {
        "id": "K20zzRoBihc6",
        "outputId": "f0fbe441-125c-4e52-d1a8-36e891546385"
      },
      "outputs": [
        {
          "data": {
            "text/plain": [
              "<Response [200]>"
            ]
          },
          "execution_count": 8,
          "metadata": {},
          "output_type": "execute_result"
        }
      ],
      "source": [
        "requests.get(\"https://www.googleapis.com/books/v1/volumes?q=Tom%20Sawyer\")"
      ]
    },
    {
      "cell_type": "markdown",
      "metadata": {
        "id": "vH27HGXoihc6"
      },
      "source": [
        "> Press `shift` and `enter` again. "
      ]
    },
    {
      "cell_type": "markdown",
      "metadata": {
        "id": "aPGhH6BNihc6"
      },
      "source": [
        "See that?  That `<Response [200]>` means not only did we make a request to the Google Books API, but that we also got back a Response from that API. "
      ]
    },
    {
      "cell_type": "markdown",
      "metadata": {
        "id": "WCnxmW9xihc6"
      },
      "source": [
        "If we want to see that response, we just need to first capture the response in a variable, by updating our code to be the following."
      ]
    },
    {
      "cell_type": "code",
      "execution_count": null,
      "metadata": {
        "id": "8CpmpSC6ihc6"
      },
      "outputs": [],
      "source": [
        "response = requests.get(\"https://www.googleapis.com/books/v1/volumes?q=Tom%20Sawyer\")"
      ]
    },
    {
      "cell_type": "markdown",
      "metadata": {
        "id": "pdpe_r3Jihc7"
      },
      "source": [
        "Now we have captured that response in the variable `response`."
      ]
    },
    {
      "cell_type": "code",
      "execution_count": null,
      "metadata": {
        "id": "iYzIRVldihc7",
        "outputId": "612fb501-2d97-4d0b-dcc7-87ba9b34ca78"
      },
      "outputs": [
        {
          "data": {
            "text/plain": [
              "<Response [200]>"
            ]
          },
          "execution_count": 5,
          "metadata": {},
          "output_type": "execute_result"
        }
      ],
      "source": [
        "response"
      ]
    },
    {
      "cell_type": "markdown",
      "metadata": {
        "id": "whXLEO9_ihc7"
      },
      "source": [
        "And just like we used the web inspector in Google Chrome to inspect our response, we can inspect various aspects of that response with Python.  So if we want to see the status code of the response, we can ask for it."
      ]
    },
    {
      "cell_type": "code",
      "execution_count": null,
      "metadata": {
        "id": "Eb_V2EOzihc7",
        "outputId": "44766f2d-d712-458e-a5d4-33ed1864fd38"
      },
      "outputs": [
        {
          "data": {
            "text/plain": [
              "200"
            ]
          },
          "execution_count": 6,
          "metadata": {},
          "output_type": "execute_result"
        }
      ],
      "source": [
        "response.status_code"
      ]
    },
    {
      "cell_type": "markdown",
      "metadata": {
        "id": "nTzMF7_-ihc7"
      },
      "source": [
        "And if we want to see all of the JSON, we can ask for that as well. (Scroll down -- there's a lot of data sent to us -- and we'll meet up at the bottom of the page.)"
      ]
    },
    {
      "cell_type": "code",
      "execution_count": null,
      "metadata": {
        "id": "xOA3HH-Qihc7"
      },
      "outputs": [],
      "source": [
        "# response.json()"
      ]
    },
    {
      "cell_type": "markdown",
      "metadata": {
        "id": "Ur3_1QTWihc8"
      },
      "source": [
        "## Ok, back to the show"
      ]
    },
    {
      "cell_type": "markdown",
      "metadata": {
        "id": "1zf_Dm3Cihc8"
      },
      "source": [
        "Congrats! You just made a web request and received back the response in JSON. We did it with these three lines: "
      ]
    },
    {
      "cell_type": "markdown",
      "metadata": {
        "id": "CdiqUEgpihc8"
      },
      "source": [
        "```python\n",
        "import requests\n",
        "response = requests.get(\"https://www.googleapis.com/books/v1/volumes?q=Tom%20Sawyer\")\n",
        "response.json()\n",
        "```"
      ]
    },
    {
      "cell_type": "markdown",
      "metadata": {
        "id": "gKWXFjaIihc8"
      },
      "source": [
        "As you may have guessed what's limiting us now, is that we don't know how all of the JSON we get back when we type in that information.  That's fine - we'll understand it when we learn Python, which  we'll focus on Python throughout the whole next unit.  For now, it's enough to appreciate that we are both able to write the code above, and understand why that code makes sense.  With this knowledge (and some practice), we can request information from a variety of APIs."
      ]
    },
    {
      "cell_type": "markdown",
      "metadata": {
        "id": "mAgfl3iLihc8"
      },
      "source": [
        "### Summary"
      ]
    },
    {
      "cell_type": "markdown",
      "metadata": {
        "id": "FbLbNYFBihc8"
      },
      "source": [
        "In this lesson, we ended up making an API call with Python.  This was both fun (hopefully).  It's fun because we can get a sense of all of the information that is available to us as data scientists.  And we can request that information in just a few steps:"
      ]
    },
    {
      "cell_type": "markdown",
      "metadata": {
        "id": "-YKTrSXiihc8"
      },
      "source": [
        "First import the proper module so that we can make a GET request to an API."
      ]
    },
    {
      "cell_type": "code",
      "execution_count": 1,
      "metadata": {
        "id": "xbDLQVMSihc8"
      },
      "outputs": [],
      "source": [
        "import requests"
      ]
    },
    {
      "cell_type": "markdown",
      "metadata": {
        "id": "7Q7y_WGuihc8"
      },
      "source": [
        "Then make the request and store the response in a variable."
      ]
    },
    {
      "cell_type": "code",
      "execution_count": 2,
      "metadata": {
        "id": "7P_ra1dMihc9"
      },
      "outputs": [],
      "source": [
        "response = requests.get(\"https://www.googleapis.com/books/v1/volumes?q=Tom%20Sawyer\")"
      ]
    },
    {
      "cell_type": "markdown",
      "metadata": {
        "id": "1DMfY1lKihc9"
      },
      "source": [
        "Finally, display the data from that "
      ]
    },
    {
      "cell_type": "code",
      "execution_count": 11,
      "metadata": {
        "id": "FmKa_kTtihc9"
      },
      "outputs": [],
      "source": [
        "dict_res = dict(response.json())['items']"
      ]
    },
    {
      "cell_type": "code",
      "source": [
        "dict_res[-1]"
      ],
      "metadata": {
        "id": "ZFullEyOj7z1",
        "outputId": "6cd0f246-7f59-469c-af43-b239cd87dd55",
        "colab": {
          "base_uri": "https://localhost:8080/"
        }
      },
      "execution_count": 13,
      "outputs": [
        {
          "output_type": "execute_result",
          "data": {
            "text/plain": [
              "{'accessInfo': {'accessViewStatus': 'NONE',\n",
              "  'country': 'US',\n",
              "  'embeddable': False,\n",
              "  'epub': {'isAvailable': False},\n",
              "  'pdf': {'isAvailable': False},\n",
              "  'publicDomain': False,\n",
              "  'quoteSharingAllowed': False,\n",
              "  'textToSpeechPermission': 'ALLOWED',\n",
              "  'viewability': 'NO_PAGES',\n",
              "  'webReaderLink': 'http://play.google.com/books/reader?id=VSUnjgEACAAJ&hl=&printsec=frontcover&source=gbs_api'},\n",
              " 'etag': 'uCjv8oIgwoM',\n",
              " 'id': 'VSUnjgEACAAJ',\n",
              " 'kind': 'books#volume',\n",
              " 'saleInfo': {'country': 'US',\n",
              "  'isEbook': False,\n",
              "  'saleability': 'NOT_FOR_SALE'},\n",
              " 'searchInfo': {'textSnippet': '&quot; Here they all are, the denizens of Mark Twain&#39;s fictional town St. Petersburg - Tom Sawyer, Huck Finn, Aunt Polly, Becky Thatcher, Jim and Injun Joe - in one collection bringing together all four Tom and Huck adventures: The Adventures of ...'},\n",
              " 'selfLink': 'https://www.googleapis.com/books/v1/volumes/VSUnjgEACAAJ',\n",
              " 'volumeInfo': {'allowAnonLogging': False,\n",
              "  'authors': ['Mark Twain'],\n",
              "  'canonicalVolumeLink': 'https://books.google.com/books/about/Tom_Sawyer_Collection.html?hl=&id=VSUnjgEACAAJ',\n",
              "  'contentVersion': 'preview-1.0.0',\n",
              "  'description': '\"You feel mighty free and easy comfortable on a raft.\" Here they all are, the denizens of Mark Twain\\'s fictional town St. Petersburg - Tom Sawyer, Huck Finn, Aunt Polly, Becky Thatcher, Jim and Injun Joe - in one collection bringing together all four Tom and Huck adventures: The Adventures of Tom Sawyer The Adventures of Huckleberry Finn Tom Sawyer Abroad Tom Sawyer Detective The Adventures of Tom Sawyer remains a coming of age classic that needs no introduction and its first sequel Huckleberry Finn has been called the greatest of great American novels. Tom Sawyer Abroad and Tom Sawyer Detective are minor gems and recommended to fans of the franchise and Twain devotees. There\\'s something here for everyone, from the young to the old, the lowbrow to the high. \"All modern American literature comes from one book by Mark Twain called \\'Huckleberry Finn.\\' There was nothing before. There has been nothing as good since.\" - Ernest Hemingway.',\n",
              "  'imageLinks': {'smallThumbnail': 'http://books.google.com/books/content?id=VSUnjgEACAAJ&printsec=frontcover&img=1&zoom=5&source=gbs_api',\n",
              "   'thumbnail': 'http://books.google.com/books/content?id=VSUnjgEACAAJ&printsec=frontcover&img=1&zoom=1&source=gbs_api'},\n",
              "  'industryIdentifiers': [{'identifier': '1517129990', 'type': 'ISBN_10'},\n",
              "   {'identifier': '9781517129996', 'type': 'ISBN_13'}],\n",
              "  'infoLink': 'http://books.google.com/books?id=VSUnjgEACAAJ&dq=Tom+Sawyer&hl=&source=gbs_api',\n",
              "  'language': 'en',\n",
              "  'maturityRating': 'NOT_MATURE',\n",
              "  'pageCount': 496,\n",
              "  'previewLink': 'http://books.google.com/books?id=VSUnjgEACAAJ&dq=Tom+Sawyer&hl=&cd=10&source=gbs_api',\n",
              "  'printType': 'BOOK',\n",
              "  'publishedDate': '2015-08-30',\n",
              "  'publisher': 'CreateSpace',\n",
              "  'readingModes': {'image': False, 'text': False},\n",
              "  'subtitle': 'All Four Books',\n",
              "  'title': 'Tom Sawyer Collection'}}"
            ]
          },
          "metadata": {},
          "execution_count": 13
        }
      ]
    },
    {
      "cell_type": "markdown",
      "metadata": {
        "id": "l6dr7lzyihc9"
      },
      "source": [
        "Next up, we'll ask you to work with some new APIs in Python."
      ]
    }
  ],
  "metadata": {
    "kernelspec": {
      "display_name": "Python 3",
      "language": "python",
      "name": "python3"
    },
    "language_info": {
      "codemirror_mode": {
        "name": "ipython",
        "version": 3
      },
      "file_extension": ".py",
      "mimetype": "text/x-python",
      "name": "python",
      "nbconvert_exporter": "python",
      "pygments_lexer": "ipython3",
      "version": "3.7.4"
    },
    "colab": {
      "name": "index.ipynb",
      "provenance": [],
      "include_colab_link": true
    }
  },
  "nbformat": 4,
  "nbformat_minor": 0
}