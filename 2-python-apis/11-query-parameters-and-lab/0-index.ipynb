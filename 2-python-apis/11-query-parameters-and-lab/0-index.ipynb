{
  "cells": [
    {
      "cell_type": "markdown",
      "metadata": {
        "id": "view-in-github",
        "colab_type": "text"
      },
      "source": [
        "<a href=\"https://colab.research.google.com/github/alextorreswa/DataEngJigsaw/blob/main/2-python-apis/11-query-parameters-and-lab/0-index.ipynb\" target=\"_parent\"><img src=\"https://colab.research.google.com/assets/colab-badge.svg\" alt=\"Open In Colab\"/></a>"
      ]
    },
    {
      "cell_type": "markdown",
      "metadata": {
        "id": "J6M3FQSLuiqn"
      },
      "source": [
        "# APIs with Query Parameters Lab"
      ]
    },
    {
      "cell_type": "markdown",
      "metadata": {
        "id": "hbdtKKhguiqq"
      },
      "source": [
        "### Working with NYC Open Data\n",
        "\n",
        "In this lab, we'll become practice working with APIs with some of the data provided by NYC open data."
      ]
    },
    {
      "cell_type": "markdown",
      "metadata": {
        "id": "p1ZY1wKouiqr"
      },
      "source": [
        "<img src=\"https://github.com/jigsawlabs/curriculum-assets/blob/master/introduction-to-apis/10-query-parameters-and-lab/nyc-data-sets.png?raw=true\" width=\"60%\"/>"
      ]
    },
    {
      "cell_type": "markdown",
      "metadata": {
        "id": "_eHrOKhluiqs"
      },
      "source": [
        "Just [click here](https://opendata.cityofnewyork.us/data/) to reach the API.  There you will find datasets on anything from food carts in NYC, to NYC public school testing.  The one that we are looking for is NYC restaurant inspections, [found here](https://data.cityofnewyork.us/Health/DOHMH-New-York-City-Restaurant-Inspection-Results/43nn-pn8j).  Once you click there, you click on the button that says API to the right, and then onto API Docs (next to developer portal), you will find what we are looking for."
      ]
    },
    {
      "cell_type": "markdown",
      "metadata": {
        "id": "rlizVxXjuiqs"
      },
      "source": [
        "<img src=\"https://github.com/jigsawlabs/curriculum-assets/blob/master/introduction-to-apis/10-query-parameters-and-lab/nyc-restaurant-api.png?raw=true\" >"
      ]
    },
    {
      "cell_type": "markdown",
      "metadata": {
        "id": "SpplFUasuiqt"
      },
      "source": [
        "Or you can just [click here](https://dev.socrata.com/foundry/data.cityofnewyork.us/9w7m-hzhe).  Now scroll down until you reach the Getting Started section."
      ]
    },
    {
      "cell_type": "markdown",
      "metadata": {
        "id": "j4Ypl4bwuiqt"
      },
      "source": [
        "<img src=\"https://github.com/jigsawlabs/curriculum-assets/blob/master/introduction-to-apis/10-query-parameters-and-lab/getting-started.png?raw=true\" width=\"40%\"/>"
      ]
    },
    {
      "cell_type": "markdown",
      "metadata": {
        "id": "GSpvGmjNuiqu"
      },
      "source": [
        "In the documentation, you may see the word API endpoint.  API endpoint is just another word for url.  You can click on that URL to hit the API with your web browser."
      ]
    },
    {
      "cell_type": "markdown",
      "metadata": {
        "id": "sPB8wkc_uiqu"
      },
      "source": [
        "If you did so, you may notice quite a long list of restaurants.  Let's try to avoid that by using query parameters to scope down our results.  If you scroll down in the documentation, you'll find a section called `Fields`, and then you'll see a number of blue bars that we can click on.  Let's click on the one that says `cuisine description`, so that we can see how to filter our results to only include American food."
      ]
    },
    {
      "cell_type": "markdown",
      "metadata": {
        "id": "h3u5r4M9uiqv"
      },
      "source": [
        "<img src=\"https://github.com/jigsawlabs/curriculum-assets/blob/master/introduction-to-apis/10-query-parameters-and-lab/cuisine-description.png?raw=true\" >"
      ]
    },
    {
      "cell_type": "markdown",
      "metadata": {
        "id": "1ikDFcxJuiqx"
      },
      "source": [
        "That URL is what we are looking for, it filters the results appropriately using query parameters.  Notice our old pattern.\n",
        "\n",
        "We have the regular url.  Then the `?` kicks off the query parameters.  Then we have the `field=value` pattern of `cuisine_description=Caribbean`.  (Note that if the Carribean is not capitalized, the query will not work.)"
      ]
    },
    {
      "cell_type": "markdown",
      "metadata": {
        "id": "Re1KKKyWuiqy"
      },
      "source": [
        "### Combining Query Parameters\n",
        "\n",
        "Now, let's say if we want to see if American restaurants with violations that are in the zipcode 10001.  Well looking at [the documentation](https://dev.socrata.com/foundry/data.cityofnewyork.us/9w7m-hzhe), we should be to specify `zipcode=10001` to only see the first two Carribean restaurants.  How do we use more than one query parameter simultaneously?\n",
        "\n",
        "Everything is the same except that we separate the `field=value` pairs with a `&`. \n",
        "\n",
        "[`\"https://data.cityofnewyork.us/resource/9w7m-hzhe.json?cuisine_description=American&zipcode=10001\"`](https://data.cityofnewyork.us/resource/9w7m-hzhe.json?cuisine_description=American&zipcode=10001)\n",
        "\n",
        "If you'll click on the link above, you'll see data scoped down to those values.\n",
        "\n",
        "The main take away from query parameters is the following:\n",
        "\n",
        "1. Query parameters begin with a `?`\n",
        "2. To combine query parameters separate each `field=value` pair with a `&`\n",
        "3. We can generally combine many query parameters together\n",
        "\n",
        "### Limiting Values\n",
        "\n",
        "Now in many APIs we can limit the number of values that we can return.  This is simply with another query parameter.  You can find the the information on limiting data, by clicking on the link `paging through data`, or [clicking here](https://dev.socrata.com/docs/paging.html#2.1).\n",
        "\n",
        "As it says, we simply limit the number of results with the field `$limit` and a value indicating the number of results to limit to.  So if we only want to see the first 3 results, we use the query parameter, `$limit=3`.\n",
        "\n",
        "### Time for Python\n",
        "\n",
        "Ok, now it's time to make the request with Python.  \n",
        "\n",
        "In Python, write out the code to reach the url listed above, `\"https://data.cityofnewyork.us/resource/9w7m-hzhe.json\"` but limit the number of results to just one result.\n",
        "\n",
        "Next, make a request to look for restaurants in the zipcode 10001, that are Italian restaurants, and limit it to just three results.\n",
        "\n",
        "Finally, make a request to the API to find the three Italian restaurants in zipcode 10001 that received a grade of A for their health code."
      ]
    },
    {
      "cell_type": "code",
      "execution_count": 12,
      "metadata": {
        "id": "wsM4z7wsuiq0",
        "outputId": "6618dc2f-5f69-4f1f-a219-ab7e304ba6bf",
        "colab": {
          "base_uri": "https://localhost:8080/"
        }
      },
      "outputs": [
        {
          "output_type": "execute_result",
          "data": {
            "text/plain": [
              "[{'action': 'Violations were cited in the following area(s).',\n",
              "  'bbl': '4053340022',\n",
              "  'bin': '4120429',\n",
              "  'boro': 'Queens',\n",
              "  'building': '4118',\n",
              "  'camis': '50089415',\n",
              "  'census_tract': '117100',\n",
              "  'community_board': '407',\n",
              "  'council_district': '20',\n",
              "  'critical_flag': 'Critical',\n",
              "  'cuisine_description': 'Asian/Asian Fusion',\n",
              "  'dba': 'DAON NY',\n",
              "  'grade': 'A',\n",
              "  'grade_date': '2019-04-02T00:00:00.000',\n",
              "  'inspection_date': '2019-04-02T00:00:00.000',\n",
              "  'inspection_type': 'Pre-permit (Operational) / Initial Inspection',\n",
              "  'latitude': '40.761085089035',\n",
              "  'longitude': '-73.803898577402',\n",
              "  'nta': 'QN51',\n",
              "  'phone': '9179130320',\n",
              "  'record_date': '2022-06-29T06:00:19.000',\n",
              "  'score': '12',\n",
              "  'street': '162ND ST',\n",
              "  'violation_code': '06D',\n",
              "  'violation_description': 'Food contact surface not properly washed, rinsed and sanitized after each use and following any activity when contamination may have occurred.',\n",
              "  'zipcode': '11358'}]"
            ]
          },
          "metadata": {},
          "execution_count": 12
        }
      ],
      "source": [
        "import requests\n",
        "\n",
        "url = \"https://data.cityofnewyork.us/resource/9w7m-hzhe.json?$limit=1\"\n",
        "\n",
        "response = requests.get(url)\n",
        "results = response.json()\n",
        "results\n"
      ]
    },
    {
      "cell_type": "code",
      "source": [
        "url = \"https://data.cityofnewyork.us/resource/9w7m-hzhe.json?cuisine_description=Italian&zipcode=10001&$limit=3\"\n",
        "\n",
        "response = requests.get(url)\n",
        "results = response.json()\n",
        "results"
      ],
      "metadata": {
        "id": "IMW_Lkady8RG",
        "outputId": "2f71bc51-9edd-4dab-8339-a9eaf74c7a97",
        "colab": {
          "base_uri": "https://localhost:8080/"
        }
      },
      "execution_count": 11,
      "outputs": [
        {
          "output_type": "execute_result",
          "data": {
            "text/plain": [
              "[{'action': 'Violations were cited in the following area(s).',\n",
              "  'bbl': '1007220004',\n",
              "  'bin': '1012783',\n",
              "  'boro': 'Manhattan',\n",
              "  'building': '248',\n",
              "  'camis': '40617736',\n",
              "  'census_tract': '009300',\n",
              "  'community_board': '104',\n",
              "  'council_district': '03',\n",
              "  'critical_flag': 'Critical',\n",
              "  'cuisine_description': 'Italian',\n",
              "  'dba': 'BOTTINO',\n",
              "  'grade': 'A',\n",
              "  'grade_date': '2019-08-27T00:00:00.000',\n",
              "  'inspection_date': '2019-08-27T00:00:00.000',\n",
              "  'inspection_type': 'Cycle Inspection / Re-inspection',\n",
              "  'latitude': '40.748601985022',\n",
              "  'longitude': '-74.003493609025',\n",
              "  'nta': 'MN13',\n",
              "  'phone': '2122066766',\n",
              "  'record_date': '2022-06-29T06:00:19.000',\n",
              "  'score': '12',\n",
              "  'street': '10 AVENUE',\n",
              "  'violation_code': '04M',\n",
              "  'violation_description': \"Live roaches present in facility's food and/or non-food areas.\",\n",
              "  'zipcode': '10001'},\n",
              " {'action': 'Establishment re-opened by DOHMH.',\n",
              "  'bbl': '1007220004',\n",
              "  'bin': '1012783',\n",
              "  'boro': 'Manhattan',\n",
              "  'building': '248',\n",
              "  'camis': '40617736',\n",
              "  'census_tract': '009300',\n",
              "  'community_board': '104',\n",
              "  'council_district': '03',\n",
              "  'critical_flag': 'Critical',\n",
              "  'cuisine_description': 'Italian',\n",
              "  'dba': 'BOTTINO',\n",
              "  'grade': 'Z',\n",
              "  'grade_date': '2020-03-05T00:00:00.000',\n",
              "  'inspection_date': '2020-03-05T00:00:00.000',\n",
              "  'inspection_type': 'Cycle Inspection / Reopening Inspection',\n",
              "  'latitude': '40.748601985022',\n",
              "  'longitude': '-74.003493609025',\n",
              "  'nta': 'MN13',\n",
              "  'phone': '2122066766',\n",
              "  'record_date': '2022-06-29T06:00:19.000',\n",
              "  'score': '10',\n",
              "  'street': '10 AVENUE',\n",
              "  'violation_code': '04M',\n",
              "  'violation_description': \"Live roaches present in facility's food and/or non-food areas.\",\n",
              "  'zipcode': '10001'},\n",
              " {'action': 'Violations were cited in the following area(s).',\n",
              "  'bbl': '1007580037',\n",
              "  'bin': '1013561',\n",
              "  'boro': 'Manhattan',\n",
              "  'building': '481',\n",
              "  'camis': '40559636',\n",
              "  'census_tract': '011100',\n",
              "  'community_board': '104',\n",
              "  'council_district': '03',\n",
              "  'critical_flag': 'Critical',\n",
              "  'cuisine_description': 'Italian',\n",
              "  'dba': 'TRATTORIA BIANCA',\n",
              "  'inspection_date': '2022-01-05T00:00:00.000',\n",
              "  'inspection_type': 'Cycle Inspection / Initial Inspection',\n",
              "  'latitude': '40.752288062254',\n",
              "  'longitude': '-73.9934021983',\n",
              "  'nta': 'MN13',\n",
              "  'phone': '2122688460',\n",
              "  'record_date': '2022-06-29T06:00:19.000',\n",
              "  'score': '19',\n",
              "  'street': '8 AVENUE',\n",
              "  'violation_code': '06C',\n",
              "  'violation_description': 'Food not protected from potential source of contamination during storage, preparation, transportation, display or service.',\n",
              "  'zipcode': '10001'}]"
            ]
          },
          "metadata": {},
          "execution_count": 11
        }
      ]
    },
    {
      "cell_type": "code",
      "source": [
        "url = \"https://data.cityofnewyork.us/resource/9w7m-hzhe.json?cuisine_description=Italian&zipcode=10001&$limit=3&grade=A\"\n",
        "\n",
        "response = requests.get(url)\n",
        "results = response.json()\n",
        "results"
      ],
      "metadata": {
        "id": "qgzmxKCS0iM6",
        "outputId": "d2f4cfa2-ccba-414f-80c8-bad6fdeb9f15",
        "colab": {
          "base_uri": "https://localhost:8080/"
        }
      },
      "execution_count": 13,
      "outputs": [
        {
          "output_type": "execute_result",
          "data": {
            "text/plain": [
              "[{'action': 'Violations were cited in the following area(s).',\n",
              "  'bbl': '1007220004',\n",
              "  'bin': '1012783',\n",
              "  'boro': 'Manhattan',\n",
              "  'building': '248',\n",
              "  'camis': '40617736',\n",
              "  'census_tract': '009300',\n",
              "  'community_board': '104',\n",
              "  'council_district': '03',\n",
              "  'critical_flag': 'Critical',\n",
              "  'cuisine_description': 'Italian',\n",
              "  'dba': 'BOTTINO',\n",
              "  'grade': 'A',\n",
              "  'grade_date': '2019-08-27T00:00:00.000',\n",
              "  'inspection_date': '2019-08-27T00:00:00.000',\n",
              "  'inspection_type': 'Cycle Inspection / Re-inspection',\n",
              "  'latitude': '40.748601985022',\n",
              "  'longitude': '-74.003493609025',\n",
              "  'nta': 'MN13',\n",
              "  'phone': '2122066766',\n",
              "  'record_date': '2022-06-29T06:00:19.000',\n",
              "  'score': '12',\n",
              "  'street': '10 AVENUE',\n",
              "  'violation_code': '04M',\n",
              "  'violation_description': \"Live roaches present in facility's food and/or non-food areas.\",\n",
              "  'zipcode': '10001'},\n",
              " {'action': 'Violations were cited in the following area(s).',\n",
              "  'bbl': '1008290013',\n",
              "  'bin': '1015678',\n",
              "  'boro': 'Manhattan',\n",
              "  'building': '43',\n",
              "  'camis': '50071597',\n",
              "  'census_tract': '005800',\n",
              "  'community_board': '105',\n",
              "  'council_district': '03',\n",
              "  'critical_flag': 'Critical',\n",
              "  'cuisine_description': 'Italian',\n",
              "  'dba': 'CARDONCELLO DIVINO',\n",
              "  'grade': 'A',\n",
              "  'grade_date': '2019-11-18T00:00:00.000',\n",
              "  'inspection_date': '2019-11-18T00:00:00.000',\n",
              "  'inspection_type': 'Cycle Inspection / Initial Inspection',\n",
              "  'latitude': '40.744849478908',\n",
              "  'longitude': '-73.989613596812',\n",
              "  'nta': 'MN13',\n",
              "  'phone': '3472780797',\n",
              "  'record_date': '2022-06-29T06:00:19.000',\n",
              "  'score': '7',\n",
              "  'street': 'WEST   27 STREET',\n",
              "  'violation_code': '02B',\n",
              "  'violation_description': 'Hot food item not held at or above 140º F.',\n",
              "  'zipcode': '10001'},\n",
              " {'action': 'Violations were cited in the following area(s).',\n",
              "  'bbl': '1007780071',\n",
              "  'bin': '1014272',\n",
              "  'boro': 'Manhattan',\n",
              "  'building': '378',\n",
              "  'camis': '40385693',\n",
              "  'census_tract': '009500',\n",
              "  'community_board': '105',\n",
              "  'council_district': '03',\n",
              "  'critical_flag': 'Critical',\n",
              "  'cuisine_description': 'Italian',\n",
              "  'dba': 'SALUMERIA BEILLESE, BIRICCHINO REST',\n",
              "  'grade': 'A',\n",
              "  'grade_date': '2022-01-05T00:00:00.000',\n",
              "  'inspection_date': '2022-01-05T00:00:00.000',\n",
              "  'inspection_type': 'Cycle Inspection / Initial Inspection',\n",
              "  'latitude': '40.748947801474',\n",
              "  'longitude': '-73.995806203675',\n",
              "  'nta': 'MN17',\n",
              "  'phone': '2127367376',\n",
              "  'record_date': '2022-06-29T06:00:19.000',\n",
              "  'score': '12',\n",
              "  'street': '8 AVENUE',\n",
              "  'violation_code': '06E',\n",
              "  'violation_description': 'Sanitized equipment or utensil, including in-use food dispensing utensil, improperly used or stored.',\n",
              "  'zipcode': '10001'}]"
            ]
          },
          "metadata": {},
          "execution_count": 13
        }
      ]
    },
    {
      "cell_type": "markdown",
      "metadata": {
        "id": "URvOh5-8uiq1"
      },
      "source": [
        "### Summary\n",
        "\n",
        "Great job! In this lesson, we saw how to use query parameters to filter down the amount of information from an API.  Even more importantly, we spent some time seeing how we can read documentation online to solve our problems."
      ]
    }
  ],
  "metadata": {
    "kernelspec": {
      "display_name": "Python 3",
      "language": "python",
      "name": "python3"
    },
    "language_info": {
      "codemirror_mode": {
        "name": "ipython",
        "version": 3
      },
      "file_extension": ".py",
      "mimetype": "text/x-python",
      "name": "python",
      "nbconvert_exporter": "python",
      "pygments_lexer": "ipython3",
      "version": "3.7.4"
    },
    "colab": {
      "name": "0-index.ipynb",
      "provenance": [],
      "include_colab_link": true
    }
  },
  "nbformat": 4,
  "nbformat_minor": 0
}