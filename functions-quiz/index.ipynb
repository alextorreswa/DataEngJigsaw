{
  "cells": [
    {
      "cell_type": "markdown",
      "id": "c67a1e95-8483-443b-96aa-dadf61fa2de6",
      "metadata": {
        "id": "c67a1e95-8483-443b-96aa-dadf61fa2de6"
      },
      "source": [
        "# Functions and APIs Quiz"
      ]
    },
    {
      "cell_type": "markdown",
      "id": "f9c78744-d6ae-40d6-8b30-3d6fc68922ee",
      "metadata": {
        "id": "f9c78744-d6ae-40d6-8b30-3d6fc68922ee"
      },
      "source": [
        "### Building a function"
      ]
    },
    {
      "cell_type": "markdown",
      "id": "a3c653c4-2c00-428e-a4ee-9ca308461204",
      "metadata": {
        "id": "a3c653c4-2c00-428e-a4ee-9ca308461204"
      },
      "source": [
        "The below makes a request to the to the [Google Books API](https://developers.google.com/books/docs/v1/reference/volumes/list#parameters)."
      ]
    },
    {
      "cell_type": "code",
      "execution_count": 1,
      "id": "386cf3b9-0544-456a-80da-9784af80c4a9",
      "metadata": {
        "id": "386cf3b9-0544-456a-80da-9784af80c4a9"
      },
      "outputs": [],
      "source": [
        "import requests\n",
        "\n",
        "root_url = \"https://www.googleapis.com/books/v1/volumes?q=mark twain\"\n",
        "response = requests.get(root_url)\n",
        "book_results = response.json()"
      ]
    },
    {
      "cell_type": "markdown",
      "id": "7dbb79b7-1f58-4e03-a78a-feefb5bd79c7",
      "metadata": {
        "id": "7dbb79b7-1f58-4e03-a78a-feefb5bd79c7"
      },
      "source": [
        "We can confirm this by viewing the `book_results` variable -- of course, its a bit long."
      ]
    },
    {
      "cell_type": "markdown",
      "id": "d2bdeea0-afa1-408e-ba50-0d3c55d48333",
      "metadata": {
        "id": "d2bdeea0-afa1-408e-ba50-0d3c55d48333"
      },
      "source": [
        "1. Create a function called `make_request` that takes in the url as an argument and returns the results."
      ]
    },
    {
      "cell_type": "code",
      "execution_count": 44,
      "id": "351cfc1c-ee9a-409e-b23f-4b99e522fab5",
      "metadata": {
        "id": "351cfc1c-ee9a-409e-b23f-4b99e522fab5"
      },
      "outputs": [],
      "source": [
        "def make_request(url):\n",
        "  response = requests.get(url)\n",
        "  book_results = response.json()\n",
        "  return book_results"
      ]
    },
    {
      "cell_type": "markdown",
      "id": "aa0977c0-9d40-4020-b209-501910c4322d",
      "metadata": {
        "id": "aa0977c0-9d40-4020-b209-501910c4322d"
      },
      "source": [
        "2. Next write a function called `make_params` that takes in a dictionary of parameters and then returns a string of those query parameters.\n",
        "\n",
        "For example if we provide as an input to the function the following:"
      ]
    },
    {
      "cell_type": "code",
      "execution_count": 2,
      "id": "3e9fb784-17ac-4d01-80fa-60c46de21701",
      "metadata": {
        "id": "3e9fb784-17ac-4d01-80fa-60c46de21701"
      },
      "outputs": [],
      "source": [
        "params = {'q': 'mark twain', 'maxResults': '20'}"
      ]
    },
    {
      "cell_type": "markdown",
      "id": "74cbbcac-2a0f-4967-bc9d-a70c4c5e7bcc",
      "metadata": {
        "id": "74cbbcac-2a0f-4967-bc9d-a70c4c5e7bcc"
      },
      "source": [
        "We should be returned: "
      ]
    },
    {
      "cell_type": "code",
      "execution_count": null,
      "id": "e15ba903-43c4-425a-ba10-7a6631633386",
      "metadata": {
        "id": "e15ba903-43c4-425a-ba10-7a6631633386",
        "outputId": "c7686427-d8e3-4002-fa54-46e698bc60b8"
      },
      "outputs": [
        {
          "data": {
            "text/plain": [
              "'q=mark twain&maxResults=20'"
            ]
          },
          "execution_count": 14,
          "metadata": {},
          "output_type": "execute_result"
        }
      ],
      "source": [
        "'q=mark twain&maxResults=20'"
      ]
    },
    {
      "cell_type": "markdown",
      "id": "3e0f1e77-6862-43af-937a-c571b0bc3b4a",
      "metadata": {
        "id": "3e0f1e77-6862-43af-937a-c571b0bc3b4a"
      },
      "source": [
        "And if we provide to the function the following:"
      ]
    },
    {
      "cell_type": "code",
      "execution_count": 12,
      "id": "0dc657ba-e2fc-4a2a-8d43-39aa40b5b5a2",
      "metadata": {
        "id": "0dc657ba-e2fc-4a2a-8d43-39aa40b5b5a2"
      },
      "outputs": [],
      "source": [
        "params = {'q': 'mark twain', 'maxResults': '20', 'filter': 'ebooks'}"
      ]
    },
    {
      "cell_type": "markdown",
      "id": "8a50de1c-ccfc-4e35-a63c-28aba78e286a",
      "metadata": {
        "id": "8a50de1c-ccfc-4e35-a63c-28aba78e286a"
      },
      "source": [
        "We should be returned:"
      ]
    },
    {
      "cell_type": "code",
      "execution_count": null,
      "id": "daccd6a8-60c0-4650-ba4d-98f726185bf4",
      "metadata": {
        "id": "daccd6a8-60c0-4650-ba4d-98f726185bf4"
      },
      "outputs": [],
      "source": [
        "'q=mark twain&maxResults=20&filter=ebooks'"
      ]
    },
    {
      "cell_type": "markdown",
      "id": "b678a523-e268-47cf-9d01-d281a3fd0ead",
      "metadata": {
        "id": "b678a523-e268-47cf-9d01-d281a3fd0ead"
      },
      "source": [
        "> Write the function in the cell below."
      ]
    },
    {
      "cell_type": "code",
      "source": [
        "def make_params( params ):\n",
        "  result = []\n",
        "  for key, value in params.items():\n",
        "    result.append(key + '=' + value)\n",
        "  return \"&\".join(result)\n",
        "\n",
        "make_params(params)"
      ],
      "metadata": {
        "colab": {
          "base_uri": "https://localhost:8080/",
          "height": 36
        },
        "id": "N0lZSyuBrLfc",
        "outputId": "4db26245-9b5c-46fb-f94d-39706ac89e3c"
      },
      "id": "N0lZSyuBrLfc",
      "execution_count": 46,
      "outputs": [
        {
          "output_type": "execute_result",
          "data": {
            "text/plain": [
              "'q=mark twain&maxResults=20&filter=ebooks'"
            ],
            "application/vnd.google.colaboratory.intrinsic+json": {
              "type": "string"
            }
          },
          "metadata": {},
          "execution_count": 46
        }
      ]
    },
    {
      "cell_type": "code",
      "source": [
        "def make_params( params ):\n",
        "  return \"&\".join( [ key + '=' + value for key, value in params.items()] )\n",
        "\n",
        "make_params(params)"
      ],
      "metadata": {
        "colab": {
          "base_uri": "https://localhost:8080/",
          "height": 36
        },
        "id": "ya9GcEyz1CvO",
        "outputId": "ce4b5b2a-9c0c-4832-c7e6-a74d97fdd6ad"
      },
      "id": "ya9GcEyz1CvO",
      "execution_count": 47,
      "outputs": [
        {
          "output_type": "execute_result",
          "data": {
            "text/plain": [
              "'q=mark twain&maxResults=20&filter=ebooks'"
            ],
            "application/vnd.google.colaboratory.intrinsic+json": {
              "type": "string"
            }
          },
          "metadata": {},
          "execution_count": 47
        }
      ]
    },
    {
      "cell_type": "markdown",
      "id": "b646643a-086b-45f7-948a-f8c78377c20b",
      "metadata": {
        "id": "b646643a-086b-45f7-948a-f8c78377c20b"
      },
      "source": [
        "3. Parsing Parameters"
      ]
    },
    {
      "cell_type": "markdown",
      "id": "7e2d39e1-1e51-4834-b4f6-36a911d22b85",
      "metadata": {
        "id": "7e2d39e1-1e51-4834-b4f6-36a911d22b85"
      },
      "source": [
        "Now write a function called `parse_ids` that given a `response` from the google books volumes endpoint returns a list of the book ids."
      ]
    },
    {
      "cell_type": "markdown",
      "id": "a862f0cb-0de4-4f77-9f06-ff9be8990f1b",
      "metadata": {
        "id": "a862f0cb-0de4-4f77-9f06-ff9be8990f1b"
      },
      "source": [
        "> For example, if we pass the following `book_response` to the `parse_ids` function."
      ]
    },
    {
      "cell_type": "code",
      "execution_count": 48,
      "id": "1a194e6a-1efa-4ea0-85e6-270ef860232e",
      "metadata": {
        "id": "1a194e6a-1efa-4ea0-85e6-270ef860232e"
      },
      "outputs": [],
      "source": [
        "root_url = \"https://www.googleapis.com/books/v1/volumes?q=mark twain\"\n",
        "response = requests.get(root_url)\n",
        "book_response = response.json()"
      ]
    },
    {
      "cell_type": "code",
      "source": [
        "print(book_response)"
      ],
      "metadata": {
        "colab": {
          "base_uri": "https://localhost:8080/"
        },
        "id": "mjyBNH7rt1ca",
        "outputId": "9f8cb1c4-038e-486c-92c3-0802b6537ff8"
      },
      "id": "mjyBNH7rt1ca",
      "execution_count": 19,
      "outputs": [
        {
          "output_type": "stream",
          "name": "stdout",
          "text": [
            "{'kind': 'books#volumes', 'totalItems': 422, 'items': [{'kind': 'books#volume', 'id': 'vmtaAAAAMAAJ', 'etag': 'l/GmMamnbL4', 'selfLink': 'https://www.googleapis.com/books/v1/volumes/vmtaAAAAMAAJ', 'volumeInfo': {'title': 'The Complete Short Stories of Mark Twain', 'authors': ['Mark Twain'], 'publisher': 'Doubleday Books', 'publishedDate': '1985', 'description': \"Sixty stories present moral lessons, facetious advice, tongue-in-cheek memoirs, and modern fables told in Twain's style of humor, satire, or bitter irony\", 'industryIdentifiers': [{'type': 'OTHER', 'identifier': 'UOM:39015010717802'}], 'readingModes': {'text': False, 'image': False}, 'pageCount': 676, 'printType': 'BOOK', 'categories': ['Fiction'], 'averageRating': 5, 'ratingsCount': 2, 'maturityRating': 'NOT_MATURE', 'allowAnonLogging': False, 'contentVersion': '0.2.1.0.preview.0', 'panelizationSummary': {'containsEpubBubbles': False, 'containsImageBubbles': False}, 'imageLinks': {'smallThumbnail': 'http://books.google.com/books/content?id=vmtaAAAAMAAJ&printsec=frontcover&img=1&zoom=5&source=gbs_api', 'thumbnail': 'http://books.google.com/books/content?id=vmtaAAAAMAAJ&printsec=frontcover&img=1&zoom=1&source=gbs_api'}, 'language': 'en', 'previewLink': 'http://books.google.com.tw/books?id=vmtaAAAAMAAJ&q=mark+twain&dq=mark+twain&hl=&cd=1&source=gbs_api', 'infoLink': 'http://books.google.com.tw/books?id=vmtaAAAAMAAJ&dq=mark+twain&hl=&source=gbs_api', 'canonicalVolumeLink': 'https://books.google.com/books/about/The_Complete_Short_Stories_of_Mark_Twain.html?hl=&id=vmtaAAAAMAAJ'}, 'saleInfo': {'country': 'TW', 'saleability': 'NOT_FOR_SALE', 'isEbook': False}, 'accessInfo': {'country': 'TW', 'viewability': 'NO_PAGES', 'embeddable': False, 'publicDomain': False, 'textToSpeechPermission': 'ALLOWED', 'epub': {'isAvailable': False}, 'pdf': {'isAvailable': False}, 'webReaderLink': 'http://play.google.com/books/reader?id=vmtaAAAAMAAJ&hl=&printsec=frontcover&source=gbs_api', 'accessViewStatus': 'NONE', 'quoteSharingAllowed': False}, 'searchInfo': {'textSnippet': 'Sixty stories present moral lessons, facetious advice, tongue-in-cheek memoirs, and modern fables told in Twain&#39;s style of humor, satire, or bitter irony'}}, {'kind': 'books#volume', 'id': 'zW1k-XS6XLEC', 'etag': 'VpiguP8Sxso', 'selfLink': 'https://www.googleapis.com/books/v1/volumes/zW1k-XS6XLEC', 'volumeInfo': {'title': 'The Mark Twain Encyclopedia', 'authors': ['J. R. LeMaster', 'James Darrell Wilson', 'Christie Graves Hamric'], 'publisher': 'Taylor & Francis', 'publishedDate': '1993', 'description': \"A reference guide to the great American author (1835-1910) for students and general readers. The approximately 740 entries, arranged alphabetically, are essentially a collection of articles, ranging significantly in length and covering a variety of topics pertaining to Twain's life, intellectual milieu, literary career, and achievements. Because so much of Twain's writing reflects Samuel Clemens's personal experience, particular attention is given to the interface between art and life, i.e., between imaginative reconstructions and their factual sources of inspiration. Each entry is accompanied by a selective bibliography to guide readers to sources of additional information. Annotation copyright by Book News, Inc., Portland, OR\", 'industryIdentifiers': [{'type': 'ISBN_10', 'identifier': '082407212X'}, {'type': 'ISBN_13', 'identifier': '9780824072124'}], 'readingModes': {'text': False, 'image': True}, 'pageCount': 848, 'printType': 'BOOK', 'categories': ['Literary Criticism'], 'maturityRating': 'NOT_MATURE', 'allowAnonLogging': False, 'contentVersion': '0.5.6.0.preview.1', 'panelizationSummary': {'containsEpubBubbles': False, 'containsImageBubbles': False}, 'imageLinks': {'smallThumbnail': 'http://books.google.com/books/content?id=zW1k-XS6XLEC&printsec=frontcover&img=1&zoom=5&edge=curl&source=gbs_api', 'thumbnail': 'http://books.google.com/books/content?id=zW1k-XS6XLEC&printsec=frontcover&img=1&zoom=1&edge=curl&source=gbs_api'}, 'language': 'en', 'previewLink': 'http://books.google.com.tw/books?id=zW1k-XS6XLEC&pg=PA179&dq=mark+twain&hl=&cd=2&source=gbs_api', 'infoLink': 'http://books.google.com.tw/books?id=zW1k-XS6XLEC&dq=mark+twain&hl=&source=gbs_api', 'canonicalVolumeLink': 'https://books.google.com/books/about/The_Mark_Twain_Encyclopedia.html?hl=&id=zW1k-XS6XLEC'}, 'saleInfo': {'country': 'TW', 'saleability': 'NOT_FOR_SALE', 'isEbook': False}, 'accessInfo': {'country': 'TW', 'viewability': 'PARTIAL', 'embeddable': True, 'publicDomain': False, 'textToSpeechPermission': 'ALLOWED', 'epub': {'isAvailable': False}, 'pdf': {'isAvailable': False}, 'webReaderLink': 'http://play.google.com/books/reader?id=zW1k-XS6XLEC&hl=&printsec=frontcover&source=gbs_api', 'accessViewStatus': 'SAMPLE', 'quoteSharingAllowed': False}, 'searchInfo': {'textSnippet': '<b>Mark Twain</b> and Science : Ad- explanation of man&#39;s duality and made the ventures of a Mind . Baton Rouge : Louisiana State superego the major adversary for a number of UP , 1988 . his fictional characters . Ensor , Allison , ed .'}}, {'kind': 'books#volume', 'id': 'TIewAAAAIAAJ', 'etag': '5ah+rXnC0Yc', 'selfLink': 'https://www.googleapis.com/books/v1/volumes/TIewAAAAIAAJ', 'volumeInfo': {'title': 'Mark Twain', 'subtitle': 'A Sumptuous Variety', 'authors': ['Robert Giddings'], 'publisher': 'Barnes & Noble Imports', 'publishedDate': '1985', 'description': 'To find more information about Rowman and Littlefield titles, please visit www.rowmanlittlefield.com.', 'industryIdentifiers': [{'type': 'OTHER', 'identifier': 'UCSC:32106006951245'}], 'readingModes': {'text': False, 'image': False}, 'pageCount': 255, 'printType': 'BOOK', 'categories': ['Literary Criticism'], 'maturityRating': 'NOT_MATURE', 'allowAnonLogging': False, 'contentVersion': '0.4.2.0.preview.0', 'panelizationSummary': {'containsEpubBubbles': False, 'containsImageBubbles': False}, 'imageLinks': {'smallThumbnail': 'http://books.google.com/books/content?id=TIewAAAAIAAJ&printsec=frontcover&img=1&zoom=5&source=gbs_api', 'thumbnail': 'http://books.google.com/books/content?id=TIewAAAAIAAJ&printsec=frontcover&img=1&zoom=1&source=gbs_api'}, 'language': 'en', 'previewLink': 'http://books.google.com.tw/books?id=TIewAAAAIAAJ&q=mark+twain&dq=mark+twain&hl=&cd=3&source=gbs_api', 'infoLink': 'http://books.google.com.tw/books?id=TIewAAAAIAAJ&dq=mark+twain&hl=&source=gbs_api', 'canonicalVolumeLink': 'https://books.google.com/books/about/Mark_Twain.html?hl=&id=TIewAAAAIAAJ'}, 'saleInfo': {'country': 'TW', 'saleability': 'NOT_FOR_SALE', 'isEbook': False}, 'accessInfo': {'country': 'TW', 'viewability': 'NO_PAGES', 'embeddable': False, 'publicDomain': False, 'textToSpeechPermission': 'ALLOWED', 'epub': {'isAvailable': False}, 'pdf': {'isAvailable': False}, 'webReaderLink': 'http://play.google.com/books/reader?id=TIewAAAAIAAJ&hl=&printsec=frontcover&source=gbs_api', 'accessViewStatus': 'NONE', 'quoteSharingAllowed': False}, 'searchInfo': {'textSnippet': 'See Harold Aspiz, <b>Mark Twain&#39;s</b> Reading, unpublished doctoral dissertation, University of California at Los Angeles, 1950 and M. M. Brasher, <b>Mark Twain</b>: Son of Missouri (1964). 13. Quoted in Cleanth Brooks, R. W. B. Lewis and Robert Penn&nbsp;...'}}, {'kind': 'books#volume', 'id': '0aNYcqB84h4C', 'etag': 'rkDsdWu23LY', 'selfLink': 'https://www.googleapis.com/books/v1/volumes/0aNYcqB84h4C', 'volumeInfo': {'title': 'Mark Twain and the American West', 'authors': ['Joseph L. Coulombe'], 'publisher': 'University of Missouri Press', 'publishedDate': '2003', 'description': \"In Mark Twain and the American West, Joseph Coulombe explores how Mark Twain deliberately manipulated contemporary conceptions of the American West to create and then modify a public image that eventually won worldwide fame. He establishes the central role of the western region in the development of a persona that not only helped redefine American manhood and literary celebrity in the late nineteenth century, but also produced some of the most complex and challenging writings in the American canon.Coulombe sheds new light on previously underappreciated components of Twain's distinctly western persona. Gathering evidence from contemporary newspapers, letters, literature, and advice manuals, Coulombe shows how Twain's persona in the early 1860s as a hard-drinking, low-living straight-talker was an implicit response to western conventions of manhood. He then traces the author's movement toward a more sophisticated public image, arguing that Twain characterized language and authorship in the same manner that he described western men: direct, bold, physical, even violent. In this way, Twain capitalized upon common images of the West to create himself as a new sort of western outlaw--one who wrote.Coulombe outlines Twain's struggle to find the proper balance between changing cultural attitudes toward male respectability and rebellion and his own shifting perceptions of the East and the West. Focusing on the tension between these goals, Coulombe explores Twain's emergence as the moneyed and masculine man-of-letters, his treatment of American Indians in its relation to his depiction of Jim in Adventures of Huckleberry Finn, the enigmatic connection of Huck Finn to the natural world, and Twain's profound influence on Willa Cather's western novels.Mark Twain and the American West is sure to generate new interest and discussion about Mark Twain and his influence. By understanding how conventions of the region, conceptions of money and class, and constructions of manhood intersect with the creation of Twain's persona, Coulombe helps us better appreciate the writer's lasting effect on American thought and literature through the twentieth century and into the twenty-first.\", 'industryIdentifiers': [{'type': 'ISBN_13', 'identifier': '9780826263186'}, {'type': 'ISBN_10', 'identifier': '0826263186'}], 'readingModes': {'text': True, 'image': True}, 'pageCount': 181, 'printType': 'BOOK', 'categories': ['Fiction'], 'maturityRating': 'NOT_MATURE', 'allowAnonLogging': False, 'contentVersion': '1.5.2.0.preview.3', 'panelizationSummary': {'containsEpubBubbles': False, 'containsImageBubbles': False}, 'imageLinks': {'smallThumbnail': 'http://books.google.com/books/content?id=0aNYcqB84h4C&printsec=frontcover&img=1&zoom=5&edge=curl&source=gbs_api', 'thumbnail': 'http://books.google.com/books/content?id=0aNYcqB84h4C&printsec=frontcover&img=1&zoom=1&edge=curl&source=gbs_api'}, 'language': 'en', 'previewLink': 'http://books.google.com.tw/books?id=0aNYcqB84h4C&pg=PA94&dq=mark+twain&hl=&cd=4&source=gbs_api', 'infoLink': 'http://books.google.com.tw/books?id=0aNYcqB84h4C&dq=mark+twain&hl=&source=gbs_api', 'canonicalVolumeLink': 'https://books.google.com/books/about/Mark_Twain_and_the_American_West.html?hl=&id=0aNYcqB84h4C'}, 'saleInfo': {'country': 'TW', 'saleability': 'NOT_FOR_SALE', 'isEbook': False}, 'accessInfo': {'country': 'TW', 'viewability': 'PARTIAL', 'embeddable': True, 'publicDomain': False, 'textToSpeechPermission': 'ALLOWED', 'epub': {'isAvailable': True, 'acsTokenLink': 'http://books.google.com.tw/books/download/Mark_Twain_and_the_American_West-sample-epub.acsm?id=0aNYcqB84h4C&format=epub&output=acs4_fulfillment_token&dl_type=sample&source=gbs_api'}, 'pdf': {'isAvailable': True, 'acsTokenLink': 'http://books.google.com.tw/books/download/Mark_Twain_and_the_American_West-sample-pdf.acsm?id=0aNYcqB84h4C&format=pdf&output=acs4_fulfillment_token&dl_type=sample&source=gbs_api'}, 'webReaderLink': 'http://play.google.com/books/reader?id=0aNYcqB84h4C&hl=&printsec=frontcover&source=gbs_api', 'accessViewStatus': 'SAMPLE', 'quoteSharingAllowed': False}, 'searchInfo': {'textSnippet': 'On the other hand, Helen Harris challenges the very idea that Twain&#39;s representation of American Indians substantially improved at all (&quot;<b>Mark Twain&#39;s</b> Response to the Native American&quot;). James C. McNutt interprets Twain&#39;s prejudice as an&nbsp;...'}}, {'kind': 'books#volume', 'id': 'wDiDCnOP6lIC', 'etag': 'eCr63SGGkXM', 'selfLink': 'https://www.googleapis.com/books/v1/volumes/wDiDCnOP6lIC', 'volumeInfo': {'title': \"Mark Twain's Letters, Volume 4\", 'subtitle': '1870–1871', 'authors': ['Mark Twain'], 'publisher': 'Univ of California Press', 'publishedDate': '1995-12-27', 'description': '\"You ought to see Livy & me, now-a-days—you never saw such a serenely satisfied couple of doves in all your life. I spent Jan 1, 2, 3 & 5 there, & left at 8 last night. With my vile temper & variable moods, it seems an incomprehensible miracle that we two have been right together in the same house half the time for a year & a half, & yet have never had a cross word, or a lover\\'s \\'tiff,\\' or a pouting spell, or a misunderstanding, or the faintest shadow of a jealous suspicion. Now isn\\'t that absolutely wonderful? Could I have had such an experience with any other girl on earth? I am perfectly certain I could not. . . . We are to be married on Feb. 2d.\" So begins Volume 4 of the letters, with Samuel Clemens anticipating his wedding to Olivia L. Langdon. The 338 letters in this volume document the first two years of a loving marriage that would last more than thirty years. They recount, in Clemens\\'s own inimitable voice, a tumultuous time: a growing international fame, the birth of a sickly first child, and the near-fatal illness of his wife. At the beginning of 1870, fresh from the success of The Innocents Abroad, Clemens is on \"the long agony\" of a lecture tour and planning to settle in Buffalo as editor of the Express. By the end of 1871, he has moved to Hartford and is again on tour, anticipating the publication of Roughing It and the birth of his second child. The intervening letters show Clemens bursting with literary ideas, business schemes, and inventions, and they show him erupting with frustration, anger, and grief, but more often with dazzling humor and surprising self-revelation. In addition to Roughing It, Clemens wrote some enduringly popular short pieces during this period, but he saved some of his best writing for private letters, many of which are published here for the first time.', 'industryIdentifiers': [{'type': 'ISBN_10', 'identifier': '0520917294'}, {'type': 'ISBN_13', 'identifier': '9780520917293'}], 'readingModes': {'text': False, 'image': True}, 'pageCount': 828, 'printType': 'BOOK', 'categories': ['Literary Criticism'], 'maturityRating': 'NOT_MATURE', 'allowAnonLogging': False, 'contentVersion': '0.1.3.0.preview.1', 'panelizationSummary': {'containsEpubBubbles': False, 'containsImageBubbles': False}, 'imageLinks': {'smallThumbnail': 'http://books.google.com/books/content?id=wDiDCnOP6lIC&printsec=frontcover&img=1&zoom=5&edge=curl&source=gbs_api', 'thumbnail': 'http://books.google.com/books/content?id=wDiDCnOP6lIC&printsec=frontcover&img=1&zoom=1&edge=curl&source=gbs_api'}, 'language': 'en', 'previewLink': 'http://books.google.com.tw/books?id=wDiDCnOP6lIC&pg=PA385&dq=mark+twain&hl=&cd=5&source=gbs_api', 'infoLink': 'https://play.google.com/store/books/details?id=wDiDCnOP6lIC&source=gbs_api', 'canonicalVolumeLink': 'https://play.google.com/store/books/details?id=wDiDCnOP6lIC'}, 'saleInfo': {'country': 'TW', 'saleability': 'FOR_SALE', 'isEbook': True, 'listPrice': {'amount': 2813, 'currencyCode': 'TWD'}, 'retailPrice': {'amount': 1969, 'currencyCode': 'TWD'}, 'buyLink': 'https://play.google.com/store/books/details?id=wDiDCnOP6lIC&rdid=book-wDiDCnOP6lIC&rdot=1&source=gbs_api', 'offers': [{'finskyOfferType': 1, 'listPrice': {'amountInMicros': 2813000000, 'currencyCode': 'TWD'}, 'retailPrice': {'amountInMicros': 1969000000, 'currencyCode': 'TWD'}}]}, 'accessInfo': {'country': 'TW', 'viewability': 'PARTIAL', 'embeddable': True, 'publicDomain': False, 'textToSpeechPermission': 'ALLOWED', 'epub': {'isAvailable': False}, 'pdf': {'isAvailable': True, 'acsTokenLink': 'http://books.google.com.tw/books/download/Mark_Twain_s_Letters_Volume_4-sample-pdf.acsm?id=wDiDCnOP6lIC&format=pdf&output=acs4_fulfillment_token&dl_type=sample&source=gbs_api'}, 'webReaderLink': 'http://play.google.com/books/reader?id=wDiDCnOP6lIC&hl=&printsec=frontcover&source=gbs_api', 'accessViewStatus': 'SAMPLE', 'quoteSharingAllowed': False}, 'searchInfo': {'textSnippet': '1870–1871 <b>Mark Twain</b> Victor Fischer, Michael Barry Frank, Lin Salamo. store . He was sentenced to hang . Ruloff&#39;s trial and subsequent appeals — among them a tumultuous 5 April appearance in Elmira before the New York Supreme Court&nbsp;...'}}, {'kind': 'books#volume', 'id': '0tQjH8yzrdcC', 'etag': 'FcYPzA+Puj8', 'selfLink': 'https://www.googleapis.com/books/v1/volumes/0tQjH8yzrdcC', 'volumeInfo': {'title': 'Autobiography of Mark Twain, Volume 1', 'subtitle': 'The Complete and Authoritative Edition', 'authors': ['Mark Twain'], 'publisher': 'Univ of California Press', 'publishedDate': '2010-11-15', 'description': '\"I\\'ve struck it!\" Mark Twain wrote in a 1904 letter to a friend. \"And I will give it away—to you. You will never know how much enjoyment you have lost until you get to dictating your autobiography.\" Thus, after dozens of false starts and hundreds of pages, Twain embarked on his \"Final (and Right) Plan\" for telling the story of his life. His innovative notion—to \"talk only about the thing which interests you for the moment\"—meant that his thoughts could range freely. The strict instruction that many of these texts remain unpublished for 100 years meant that when they came out, he would be \"dead, and unaware, and indifferent,\" and that he was therefore free to speak his \"whole frank mind.\" The year 2010 marks the 100th anniversary of Twain\\'s death. In celebration of this important milestone and in honor of the cherished tradition of publishing Mark Twain\\'s works, UC Press is proud to offer for the first time Mark Twain\\'s uncensored autobiography in its entirety and exactly as he left it. This major literary event brings to readers, admirers, and scholars the first of three volumes and presents Mark Twain\\'s authentic and unsuppressed voice, brimming with humor, ideas, and opinions, and speaking clearly from the grave as he intended. Editors: Harriet E. Smith, Benjamin Griffin, Victor Fischer, Michael B. Frank, Sharon K. Goetz, Leslie Myrick', 'industryIdentifiers': [{'type': 'ISBN_13', 'identifier': '9780520946996'}, {'type': 'ISBN_10', 'identifier': '0520946995'}], 'readingModes': {'text': True, 'image': True}, 'pageCount': 760, 'printType': 'BOOK', 'categories': ['Literary Criticism'], 'averageRating': 3.5, 'ratingsCount': 26, 'maturityRating': 'NOT_MATURE', 'allowAnonLogging': True, 'contentVersion': '1.6.2.0.preview.3', 'panelizationSummary': {'containsEpubBubbles': False, 'containsImageBubbles': False}, 'imageLinks': {'smallThumbnail': 'http://books.google.com/books/content?id=0tQjH8yzrdcC&printsec=frontcover&img=1&zoom=5&edge=curl&source=gbs_api', 'thumbnail': 'http://books.google.com/books/content?id=0tQjH8yzrdcC&printsec=frontcover&img=1&zoom=1&edge=curl&source=gbs_api'}, 'language': 'en', 'previewLink': 'http://books.google.com.tw/books?id=0tQjH8yzrdcC&pg=PA3&dq=mark+twain&hl=&cd=6&source=gbs_api', 'infoLink': 'https://play.google.com/store/books/details?id=0tQjH8yzrdcC&source=gbs_api', 'canonicalVolumeLink': 'https://play.google.com/store/books/details?id=0tQjH8yzrdcC'}, 'saleInfo': {'country': 'TW', 'saleability': 'FOR_SALE', 'isEbook': True, 'listPrice': {'amount': 1355, 'currencyCode': 'TWD'}, 'retailPrice': {'amount': 948, 'currencyCode': 'TWD'}, 'buyLink': 'https://play.google.com/store/books/details?id=0tQjH8yzrdcC&rdid=book-0tQjH8yzrdcC&rdot=1&source=gbs_api', 'offers': [{'finskyOfferType': 1, 'listPrice': {'amountInMicros': 1355000000, 'currencyCode': 'TWD'}, 'retailPrice': {'amountInMicros': 948000000, 'currencyCode': 'TWD'}}]}, 'accessInfo': {'country': 'TW', 'viewability': 'PARTIAL', 'embeddable': True, 'publicDomain': False, 'textToSpeechPermission': 'ALLOWED', 'epub': {'isAvailable': True, 'acsTokenLink': 'http://books.google.com.tw/books/download/Autobiography_of_Mark_Twain_Volume_1-sample-epub.acsm?id=0tQjH8yzrdcC&format=epub&output=acs4_fulfillment_token&dl_type=sample&source=gbs_api'}, 'pdf': {'isAvailable': True, 'acsTokenLink': 'http://books.google.com.tw/books/download/Autobiography_of_Mark_Twain_Volume_1-sample-pdf.acsm?id=0tQjH8yzrdcC&format=pdf&output=acs4_fulfillment_token&dl_type=sample&source=gbs_api'}, 'webReaderLink': 'http://play.google.com/books/reader?id=0tQjH8yzrdcC&hl=&printsec=frontcover&source=gbs_api', 'accessViewStatus': 'SAMPLE', 'quoteSharingAllowed': False}, 'searchInfo': {'textSnippet': 'The Complete and Authoritative Edition <b>Mark Twain</b> Harriet E. Smith, Benjamin Griffin, Victor Fischer, Michael Barry Frank. wish” was mistaken: Clemens never intended to include all those false starts, let alone in chronological order;&nbsp;...'}}, {'kind': 'books#volume', 'id': '24RaAAAAMAAJ', 'etag': 'xfqvLa8eHtc', 'selfLink': 'https://www.googleapis.com/books/v1/volumes/24RaAAAAMAAJ', 'volumeInfo': {'title': 'Constructing Mark Twain', 'subtitle': 'New Directions in Scholarship', 'authors': ['Laura E. Skandera-Trombley', 'Michael J. Kiskis', 'Michael J.. Kiskis'], 'publishedDate': '2001', 'description': \"The thirteen essays in this collection combine to offer a complex and deeply nuanced picture of Samuel Clemens. With the purpose of straying from the usual notions of Clemens (most notably the Clemens/Twain split that has ruled Twain scholarship for over thirty years), the editors have assembled contributions from a wide range of Twain scholars. As a whole, the collection argues that it is time we approach Clemens not as a shadow behind the literary persona but as a complex and intricate creator of stories, a creator who is deeply embedded in the political events of his time and who used a mix of literary, social, and personal experience to fuel the movements of his pen. The essays illuminate Clemens's connections with people and events not usually given the spotlight and introduce us to Clemens as a man deeply embroiled in the process of making literary gold out of everyday experiences. From Clemens's wonderings on race and identity to his looking to family and domesticity as defining experiences, from musings on the language that Clemens used so effectively to consideration of the images and processes of composition, these essays challenge long-held notions of why Clemens was so successful and so influential a writer. While that search itself is not new, the varied approaches within this collection highlight markedly inventive ways of reading the life and work of Samuel Clemens.\", 'industryIdentifiers': [{'type': 'OTHER', 'identifier': 'UOM:39015054152189'}], 'readingModes': {'text': False, 'image': False}, 'pageCount': 252, 'printType': 'BOOK', 'categories': ['Literary Criticism'], 'maturityRating': 'NOT_MATURE', 'allowAnonLogging': False, 'contentVersion': '0.4.1.0.preview.0', 'panelizationSummary': {'containsEpubBubbles': False, 'containsImageBubbles': False}, 'imageLinks': {'smallThumbnail': 'http://books.google.com/books/content?id=24RaAAAAMAAJ&printsec=frontcover&img=1&zoom=5&source=gbs_api', 'thumbnail': 'http://books.google.com/books/content?id=24RaAAAAMAAJ&printsec=frontcover&img=1&zoom=1&source=gbs_api'}, 'language': 'en', 'previewLink': 'http://books.google.com.tw/books?id=24RaAAAAMAAJ&q=mark+twain&dq=mark+twain&hl=&cd=7&source=gbs_api', 'infoLink': 'http://books.google.com.tw/books?id=24RaAAAAMAAJ&dq=mark+twain&hl=&source=gbs_api', 'canonicalVolumeLink': 'https://books.google.com/books/about/Constructing_Mark_Twain.html?hl=&id=24RaAAAAMAAJ'}, 'saleInfo': {'country': 'TW', 'saleability': 'NOT_FOR_SALE', 'isEbook': False}, 'accessInfo': {'country': 'TW', 'viewability': 'NO_PAGES', 'embeddable': False, 'publicDomain': False, 'textToSpeechPermission': 'ALLOWED', 'epub': {'isAvailable': False}, 'pdf': {'isAvailable': False}, 'webReaderLink': 'http://play.google.com/books/reader?id=24RaAAAAMAAJ&hl=&printsec=frontcover&source=gbs_api', 'accessViewStatus': 'NONE', 'quoteSharingAllowed': False}, 'searchInfo': {'textSnippet': '&quot;An &#39;Unconscious and Profitable Cerebration&#39;: <b>Mark Twain</b> and Literary Intentionality.&quot; Nineteenth-Century Literature 50:3 (Dec. 1995): 357-80. , ed. The Cambridge Companion to <b>Mark Twain</b>. New York: Cambridge University Press, 1995.'}}, {'kind': 'books#volume', 'id': 'aUjtuQEACAAJ', 'etag': '06jKBIrJenQ', 'selfLink': 'https://www.googleapis.com/books/v1/volumes/aUjtuQEACAAJ', 'volumeInfo': {'title': 'Mark Twain', 'authors': ['I. M. Walker'], 'publisher': 'Routledge', 'publishedDate': '2019-06-24', 'description': '\"Cover\"--\"Half Title Page\"--\"Title Page\" -- \"Copyright Page\" -- \"Original Title Page\" -- \"Original Copyright Page\" -- \"Contents\" -- \"Mark Twain: His Life and Works \" -- \"Scheme of Extracts \" -- \"The Comic Narrator \" -- \"1 The Innocents Abroad, vol. 1, ch. 12.\" -- \"2 The Innocents Abroad, vol. 1, ch. 19.\" -- \"3 Roughing It, vol. 1, ch. 24.\" -- \"4 Roughing It, vol. 1, ch. 24.\" -- \"5 Life on the Mississippi, ch. 13.\" -- \"6 Huckleberry Finn, ch. 22.\" -- \"Techniques of Humour\" -- \"7 \\'The Celebrated Jumping Frog of Calaveras County\\'.\" -- \"8 \\'The Celebrated Jumping Frog of Calaveras County\\'.\" -- \"9 The Innocents Abroad, vol. II, ch. 26.\" -- \"10 The Innocents Abroad, vol. I, ch. 11.\" -- \"11 Roughing It, vol. I, ch. 7.\" -- \"12 The Adventures of Tom Sawyer, ch. 4.\" -- \"13 Huckleberry Finn, ch. 5.\" -- \"Character Portrayal\" -- \"14 The Gilded Age, ch. 11.\" -- \"15 Huckleberry Finn, ch. 5.\" -- \"16 Huckleberry Finn, ch. 6.\" -- \"17 Huckleberry Finn, ch. 6.\" -- \"18 Huckleberry Finn, ch. 31.\" -- \"Style and Description \" -- \"19 Life on the Mississippi, ch. 9.\" -- \"20 Roughing It, vol. II, ch. 2.\" -- \"21 Life on the Mississippi, ch. 4.\" -- \"22 The Adventures of Tom Sawyer, ch. 16.\" -- \"23 Huckleberry Finn, ch. 9.\" -- \"24 Huckleberry Finn, ch. 32.\" -- \"25 The Autobiography of Mark Twain, ch. 4.\" -- \"Irony and Satire\" -- \"26 Huckleberry Finn, ch. 21.\" -- \"27 Pudd\\'nhead Wilson, ch. 2 .\" -- \"28 The Mysterious Stranger, ch. 1O.\" -- \"29 A Conn\\'ecticut Yankee, ch. 20.\" -- \"30 A Connecticut Yankee, ch. 43.\" -- \"31 The Mysterious Stranger, ch. 2', 'industryIdentifiers': [{'type': 'ISBN_10', 'identifier': '1138505277'}, {'type': 'ISBN_13', 'identifier': '9781138505278'}], 'readingModes': {'text': False, 'image': False}, 'pageCount': 112, 'printType': 'BOOK', 'maturityRating': 'NOT_MATURE', 'allowAnonLogging': False, 'contentVersion': 'preview-1.0.0', 'panelizationSummary': {'containsEpubBubbles': False, 'containsImageBubbles': False}, 'imageLinks': {'smallThumbnail': 'http://books.google.com/books/content?id=aUjtuQEACAAJ&printsec=frontcover&img=1&zoom=5&source=gbs_api', 'thumbnail': 'http://books.google.com/books/content?id=aUjtuQEACAAJ&printsec=frontcover&img=1&zoom=1&source=gbs_api'}, 'language': 'en', 'previewLink': 'http://books.google.com.tw/books?id=aUjtuQEACAAJ&dq=mark+twain&hl=&cd=8&source=gbs_api', 'infoLink': 'http://books.google.com.tw/books?id=aUjtuQEACAAJ&dq=mark+twain&hl=&source=gbs_api', 'canonicalVolumeLink': 'https://books.google.com/books/about/Mark_Twain.html?hl=&id=aUjtuQEACAAJ'}, 'saleInfo': {'country': 'TW', 'saleability': 'NOT_FOR_SALE', 'isEbook': False}, 'accessInfo': {'country': 'TW', 'viewability': 'NO_PAGES', 'embeddable': False, 'publicDomain': False, 'textToSpeechPermission': 'ALLOWED', 'epub': {'isAvailable': False}, 'pdf': {'isAvailable': False}, 'webReaderLink': 'http://play.google.com/books/reader?id=aUjtuQEACAAJ&hl=&printsec=frontcover&source=gbs_api', 'accessViewStatus': 'NONE', 'quoteSharingAllowed': False}, 'searchInfo': {'textSnippet': '&quot;Cover&quot;--&quot;Half Title Page&quot;--&quot;Title Page&quot; -- &quot;Copyright Page&quot; -- &quot;Original Title Page&quot; -- &quot;Original Copyright Page&quot; -- &quot;Contents&quot; -- &quot;Mark Twain: His Life and Works &quot; -- &quot;Scheme of Extracts &quot; -- &quot;The Comic Narrator &quot; -- &quot;1 The Innocents ...'}}, {'kind': 'books#volume', 'id': 'DnOuAAAAIAAJ', 'etag': 'jTruhwdTpgQ', 'selfLink': 'https://www.googleapis.com/books/v1/volumes/DnOuAAAAIAAJ', 'volumeInfo': {'title': 'Mark Twain', 'authors': ['Mark Twain'], 'publisher': 'Running Press', 'publishedDate': '1976-11-21', 'description': 'Contains nearly every piece of major fiction that Mark Twain created in its totally unabridged state.', 'industryIdentifiers': [{'type': 'ISBN_10', 'identifier': '0914294547'}, {'type': 'ISBN_13', 'identifier': '9780914294542'}], 'readingModes': {'text': False, 'image': False}, 'pageCount': 1312, 'printType': 'BOOK', 'categories': ['Fiction'], 'averageRating': 5, 'ratingsCount': 4, 'maturityRating': 'NOT_MATURE', 'allowAnonLogging': False, 'contentVersion': '0.6.1.0.preview.0', 'panelizationSummary': {'containsEpubBubbles': False, 'containsImageBubbles': False}, 'imageLinks': {'smallThumbnail': 'http://books.google.com/books/content?id=DnOuAAAAIAAJ&printsec=frontcover&img=1&zoom=5&source=gbs_api', 'thumbnail': 'http://books.google.com/books/content?id=DnOuAAAAIAAJ&printsec=frontcover&img=1&zoom=1&source=gbs_api'}, 'language': 'en', 'previewLink': 'http://books.google.com.tw/books?id=DnOuAAAAIAAJ&q=mark+twain&dq=mark+twain&hl=&cd=9&source=gbs_api', 'infoLink': 'http://books.google.com.tw/books?id=DnOuAAAAIAAJ&dq=mark+twain&hl=&source=gbs_api', 'canonicalVolumeLink': 'https://books.google.com/books/about/Mark_Twain.html?hl=&id=DnOuAAAAIAAJ'}, 'saleInfo': {'country': 'TW', 'saleability': 'NOT_FOR_SALE', 'isEbook': False}, 'accessInfo': {'country': 'TW', 'viewability': 'NO_PAGES', 'embeddable': False, 'publicDomain': False, 'textToSpeechPermission': 'ALLOWED', 'epub': {'isAvailable': False}, 'pdf': {'isAvailable': False}, 'webReaderLink': 'http://play.google.com/books/reader?id=DnOuAAAAIAAJ&hl=&printsec=frontcover&source=gbs_api', 'accessViewStatus': 'NONE', 'quoteSharingAllowed': False}, 'searchInfo': {'textSnippet': '<b>Mark Twain</b>. of its publication. This information, sometimes including historical insights, was often culled from interpretations of reviews contemporary to the piece. Publication dates were taken, in the most part, from Twain&#39;s&nbsp;...'}}, {'kind': 'books#volume', 'id': 'mWHcDAAAQBAJ', 'etag': 'OVYROcMEh/k', 'selfLink': 'https://www.googleapis.com/books/v1/volumes/mWHcDAAAQBAJ', 'volumeInfo': {'title': 'Adventures of Huckleberry Finn', 'authors': ['Mark Twain'], 'publisher': 'Courier Corporation', 'publishedDate': '1994-05-26', 'description': 'Referring to \"Adventures of Huckleberry Finn, \" H. L. Mencken noted that his discovery of this classic American novel was \"the most stupendous event of my whole life\"; Ernest Hemingway declared that \"all modern American literature stems from this one book,\" while T. S. Eliot called Huck \"one of the permanent symbolic figures of fiction, not unworthy to take a place with Ulysses, Faust, Don Quixote, Don Juan, Hamlet.\" The novel\\'s preeminence derives from its wonderfully imaginative re-creation of boyhood adventures along the mighty Mississippi River, its inspired characterization, the author\\'s remarkable ear for dialogue, and the book\\'s understated development of serious underlying themes: \"natural\" man versus \"civilized\" society, the evils of slavery, the innate value and dignity of human beings, the stultifying effects of convention, and other topics. But most of all, \"Adventures of Huckleberry Finn\" is a wonderful story filled with high adventure and unforgettable characters (including the great river itself) that no one who has read it will ever forget. Unabridged Dover (1994) republication of the text of the first American edition, published by Charles L. Webster and Company, New York, 1885. New introductory Note.\"', 'industryIdentifiers': [{'type': 'ISBN_13', 'identifier': '9780486280615'}, {'type': 'ISBN_10', 'identifier': '0486280616'}], 'readingModes': {'text': False, 'image': True}, 'pageCount': 220, 'printType': 'BOOK', 'categories': ['Fiction'], 'maturityRating': 'NOT_MATURE', 'allowAnonLogging': True, 'contentVersion': '1.5.0.0.preview.1', 'panelizationSummary': {'containsEpubBubbles': False, 'containsImageBubbles': False}, 'imageLinks': {'smallThumbnail': 'http://books.google.com/books/content?id=mWHcDAAAQBAJ&printsec=frontcover&img=1&zoom=5&edge=curl&source=gbs_api', 'thumbnail': 'http://books.google.com/books/content?id=mWHcDAAAQBAJ&printsec=frontcover&img=1&zoom=1&edge=curl&source=gbs_api'}, 'language': 'en', 'previewLink': 'http://books.google.com.tw/books?id=mWHcDAAAQBAJ&printsec=frontcover&dq=mark+twain&hl=&cd=10&source=gbs_api', 'infoLink': 'http://books.google.com.tw/books?id=mWHcDAAAQBAJ&dq=mark+twain&hl=&source=gbs_api', 'canonicalVolumeLink': 'https://books.google.com/books/about/Adventures_of_Huckleberry_Finn.html?hl=&id=mWHcDAAAQBAJ'}, 'saleInfo': {'country': 'TW', 'saleability': 'NOT_FOR_SALE', 'isEbook': False}, 'accessInfo': {'country': 'TW', 'viewability': 'PARTIAL', 'embeddable': True, 'publicDomain': False, 'textToSpeechPermission': 'ALLOWED', 'epub': {'isAvailable': False}, 'pdf': {'isAvailable': False}, 'webReaderLink': 'http://play.google.com/books/reader?id=mWHcDAAAQBAJ&hl=&printsec=frontcover&source=gbs_api', 'accessViewStatus': 'SAMPLE', 'quoteSharingAllowed': False}, 'searchInfo': {'textSnippet': 'Referring to &quot;Adventures of Huckleberry Finn, &quot; H. L. Mencken noted that his discovery of this classic American novel was &quot;the most stupendous event of my whole life&quot;; Ernest Hemingway declared that &quot;all modern American literature stems ...'}}]}\n"
          ]
        }
      ]
    },
    {
      "cell_type": "markdown",
      "id": "a822e9b6-6241-4da3-81e4-a7608213e703",
      "metadata": {
        "id": "a822e9b6-6241-4da3-81e4-a7608213e703"
      },
      "source": [
        "We should get the following."
      ]
    },
    {
      "cell_type": "code",
      "source": [
        "def parse_ids(book_response):\n",
        "  ids = []\n",
        "  for items in book_response['items']:\n",
        "    ids.append(items['id'])\n",
        "  return ids\n",
        "\n",
        "parse_ids(book_response)"
      ],
      "metadata": {
        "colab": {
          "base_uri": "https://localhost:8080/"
        },
        "id": "WEvFEvMFuNJ2",
        "outputId": "a2b65f26-b216-4020-b3a7-90d485787b16"
      },
      "id": "WEvFEvMFuNJ2",
      "execution_count": 28,
      "outputs": [
        {
          "output_type": "execute_result",
          "data": {
            "text/plain": [
              "['vmtaAAAAMAAJ', 'zW1k-XS6XLEC', 'TIewAAAAIAAJ', '0aNYcqB84h4C', 'wDiDCnOP6lIC', '0tQjH8yzrdcC', '24RaAAAAMAAJ', 'aUjtuQEACAAJ', 'DnOuAAAAIAAJ', 'mWHcDAAAQBAJ']"
            ]
          },
          "metadata": {},
          "execution_count": 28
        }
      ]
    },
    {
      "cell_type": "code",
      "source": [
        "def parse_ids(book_response):\n",
        "  return [ item['id'] for item in book_response['items'] ]\n",
        "  \n",
        "parse_ids(book_response)"
      ],
      "metadata": {
        "colab": {
          "base_uri": "https://localhost:8080/"
        },
        "id": "5VaORo16v_TT",
        "outputId": "43437fc3-c6b6-445b-c2d8-90cccc69edd4"
      },
      "id": "5VaORo16v_TT",
      "execution_count": 29,
      "outputs": [
        {
          "output_type": "execute_result",
          "data": {
            "text/plain": [
              "['vmtaAAAAMAAJ', 'zW1k-XS6XLEC', 'TIewAAAAIAAJ', '0aNYcqB84h4C', 'wDiDCnOP6lIC', '0tQjH8yzrdcC', '24RaAAAAMAAJ', 'aUjtuQEACAAJ', 'DnOuAAAAIAAJ', 'mWHcDAAAQBAJ']"
            ]
          },
          "metadata": {},
          "execution_count": 29
        }
      ]
    },
    {
      "cell_type": "code",
      "execution_count": 15,
      "id": "7392c0ae-2c29-45f7-938a-c57c100393ca",
      "metadata": {
        "id": "7392c0ae-2c29-45f7-938a-c57c100393ca"
      },
      "outputs": [],
      "source": [
        "# ['lj1Rc68iZ0YC',\n",
        "#  'InlaAAAAMAAJ',\n",
        "#  'LxLYQjAz180C',\n",
        "#  'NaMOWJwb0-4C',\n",
        "#  'svkyM1SmbHkC',\n",
        "#  '4zdalyq897AC',\n",
        "#  '19jnAgAAQBAJ',\n",
        "#  'HXQKAQAAQBAJ',\n",
        "#  's5yymAEACAAJ',\n",
        "#  'N2MqDwAAQBAJ']"
      ]
    },
    {
      "cell_type": "markdown",
      "id": "b6f8475f-7888-43c1-a7ac-df28c2f98d2a",
      "metadata": {
        "id": "b6f8475f-7888-43c1-a7ac-df28c2f98d2a"
      },
      "source": [
        "Finally write a function that allows us to pass through a response from the API as one argument, and a list of keys as the other argument.  The function should return to us a list of dictionaries where the keys of each dictionary are the keys passed through the function.\n",
        "\n",
        "The possible returned attributes should be any of:\n",
        "\n",
        "`'title', subtitle', 'authors', 'publisher', 'publishedDate', or 'description'`."
      ]
    },
    {
      "cell_type": "markdown",
      "id": "77d2f49a-7c4b-4d08-9733-a898ceb38e2a",
      "metadata": {
        "id": "77d2f49a-7c4b-4d08-9733-a898ceb38e2a"
      },
      "source": [
        "> Notice that these attributes are under the `volumeInfo` key of each book."
      ]
    },
    {
      "cell_type": "markdown",
      "id": "86c98f2c-f32a-457e-839b-263101fb9fdc",
      "metadata": {
        "id": "86c98f2c-f32a-457e-839b-263101fb9fdc"
      },
      "source": [
        "> **Hint**: It may help to write a function that solves this for a single book first, or simply to solve this outside of a function altogether."
      ]
    },
    {
      "cell_type": "code",
      "execution_count": 40,
      "id": "4ffe1062-7e1d-4541-880b-e185a8a3ac80",
      "metadata": {
        "id": "4ffe1062-7e1d-4541-880b-e185a8a3ac80"
      },
      "outputs": [],
      "source": [
        "def selected_attrs(response, keys = ['title', 'authors']):\n",
        "  attrs = []\n",
        "  for item in book_response['items']:\n",
        "    dic = {}    \n",
        "    for key in keys:\n",
        "      if bool(item['volumeInfo'].get(key)):\n",
        "        dic[key] = item['volumeInfo'].get(key)\n",
        "    attrs.append(dic)\n",
        "  return attrs"
      ]
    },
    {
      "cell_type": "code",
      "source": [
        "def selected_attrs(response, keys = ['title', 'authors']):\n",
        "  attrs = []\n",
        "  for item in book_response['items']:\n",
        "    attrs.append({ key: item['volumeInfo'].get(key) for key in keys if bool(item['volumeInfo'].get(key)) })  \n",
        "  return attrs"
      ],
      "metadata": {
        "id": "UYHZtRxw2Ht3"
      },
      "id": "UYHZtRxw2Ht3",
      "execution_count": 50,
      "outputs": []
    },
    {
      "cell_type": "code",
      "source": [
        "def selected_attrs(response, keys = ['title', 'authors']):\n",
        "  return [ { key: item['volumeInfo'].get(key) for key in keys if bool(item['volumeInfo'].get(key)) } for item in book_response['items'] ]"
      ],
      "metadata": {
        "id": "S9pe2MPG3Wri"
      },
      "id": "S9pe2MPG3Wri",
      "execution_count": 52,
      "outputs": []
    },
    {
      "cell_type": "markdown",
      "id": "1703544c-d424-4abd-96fc-4efc61a65f15",
      "metadata": {
        "id": "1703544c-d424-4abd-96fc-4efc61a65f15"
      },
      "source": [
        "```\n",
        "[{'title': 'Mr. Clemens and Mark Twain', 'subtitle': 'A Biography'},\n",
        " {'title': \"Mark Twain's Autobiography\"},\n",
        " {'title': 'The Complete Short Stories of Mark Twain'}]\n",
        "```"
      ]
    },
    {
      "cell_type": "code",
      "execution_count": 53,
      "id": "db8be82e-be73-4bb8-9743-e42169199664",
      "metadata": {
        "colab": {
          "base_uri": "https://localhost:8080/"
        },
        "id": "db8be82e-be73-4bb8-9743-e42169199664",
        "outputId": "30f903e3-840b-48b2-cbca-184d156af941"
      },
      "outputs": [
        {
          "output_type": "execute_result",
          "data": {
            "text/plain": [
              "[{'title': 'The Complete Short Stories of Mark Twain'}, {'title': 'The Mark Twain Encyclopedia'}, {'title': 'Mark Twain', 'subtitle': 'A Sumptuous Variety'}, {'title': 'Mark Twain and the American West'}, {'title': \"Mark Twain's Letters, Volume 4\", 'subtitle': '1870–1871'}, {'title': 'Autobiography of Mark Twain, Volume 1', 'subtitle': 'The Complete and Authoritative Edition'}, {'title': 'Constructing Mark Twain', 'subtitle': 'New Directions in Scholarship'}, {'title': 'Mark Twain'}, {'title': 'Mark Twain'}, {'title': 'Adventures of Huckleberry Finn'}]"
            ]
          },
          "metadata": {},
          "execution_count": 53
        }
      ],
      "source": [
        "selected_attrs(book_response, keys = ['title', 'subtitle'])\n",
        "\n",
        "# [{'title': 'Mr. Clemens and Mark Twain', 'subtitle': 'A Biography'},\n",
        "#  {'title': \"Mark Twain's Autobiography\"},\n",
        "#  {'title': 'The Complete Short Stories of Mark Twain'},\n",
        "#  {'title': 'Roughing It'},\n",
        "#  {'title': 'The Extraordinary Mark Twain (according to Susy)'},\n",
        "#  {'title': 'Mississippi Writings'},\n",
        "#  {'title': 'The Adventures of Mark Twain by Huckleberry Finn',\n",
        "#   'subtitle': 'with audio recording'},\n",
        "#  {'title': 'Autobiography of Mark Twain, Volume 2',\n",
        "#   'subtitle': 'The Complete and Authoritative Edition'},\n",
        "#  {'title': 'Mark Twain',\n",
        "#   'subtitle': 'Man in White : the Grand Adventure of His Final Years'},\n",
        "#  {'title': 'Mark Twain and Philosophy'}]"
      ]
    },
    {
      "cell_type": "markdown",
      "id": "c5450582-0ca3-46bb-bd13-59946d0f7446",
      "metadata": {
        "id": "c5450582-0ca3-46bb-bd13-59946d0f7446"
      },
      "source": [
        "And if no keys are provided, the function should return `title` and `authors` like so."
      ]
    },
    {
      "cell_type": "code",
      "execution_count": 54,
      "id": "aa96c069-f3f2-468d-8f2c-889cb35570c7",
      "metadata": {
        "colab": {
          "base_uri": "https://localhost:8080/"
        },
        "id": "aa96c069-f3f2-468d-8f2c-889cb35570c7",
        "outputId": "9a54b913-17b4-467a-cafd-4a9b24ca4309"
      },
      "outputs": [
        {
          "output_type": "execute_result",
          "data": {
            "text/plain": [
              "[{'title': 'The Complete Short Stories of Mark Twain', 'authors': ['Mark Twain']}, {'title': 'The Mark Twain Encyclopedia', 'authors': ['J. R. LeMaster', 'James Darrell Wilson', 'Christie Graves Hamric']}, {'title': 'Mark Twain', 'authors': ['Robert Giddings']}, {'title': 'Mark Twain and the American West', 'authors': ['Joseph L. Coulombe']}, {'title': \"Mark Twain's Letters, Volume 4\", 'authors': ['Mark Twain']}, {'title': 'Autobiography of Mark Twain, Volume 1', 'authors': ['Mark Twain']}, {'title': 'Constructing Mark Twain', 'authors': ['Laura E. Skandera-Trombley', 'Michael J. Kiskis', 'Michael J.. Kiskis']}, {'title': 'Mark Twain', 'authors': ['I. M. Walker']}, {'title': 'Mark Twain', 'authors': ['Mark Twain']}, {'title': 'Adventures of Huckleberry Finn', 'authors': ['Mark Twain']}]"
            ]
          },
          "metadata": {},
          "execution_count": 54
        }
      ],
      "source": [
        "selected_attrs(book_response)\n",
        "\n",
        "# [{'title': 'Mr. Clemens and Mark Twain', 'authors': ['Justin Kaplan']},\n",
        "#  {'title': \"Mark Twain's Autobiography\", 'authors': ['Mark Twain']},\n",
        "#  {'title': 'The Complete Short Stories of Mark Twain',\n",
        "#   'authors': ['Mark Twain']},\n",
        "#  {'title': 'Roughing It', 'authors': ['Mark Twain']},\n",
        "#  {'title': 'The Extraordinary Mark Twain (according to Susy)',\n",
        "#   'authors': ['Barbara Kerley']},\n",
        "#  {'title': 'Mississippi Writings',\n",
        "#   'authors': ['Theophilus Parvin', 'Mark Twain']},\n",
        "#  {'title': 'The Adventures of Mark Twain by Huckleberry Finn',\n",
        "#   'authors': ['Robert Burleigh']},\n",
        "#  {'title': 'Autobiography of Mark Twain, Volume 2', 'authors': ['Mark Twain']},\n",
        "#  {'title': 'Mark Twain', 'authors': ['Michael Shelden']},\n",
        "#  {'title': 'Mark Twain and Philosophy', 'authors': ['Alan Goldman']}]"
      ]
    },
    {
      "cell_type": "markdown",
      "id": "43e25f51-dd27-4dbb-ac9b-143522e89587",
      "metadata": {
        "id": "43e25f51-dd27-4dbb-ac9b-143522e89587"
      },
      "source": [
        "The end."
      ]
    },
    {
      "cell_type": "code",
      "execution_count": null,
      "id": "d362d6e6-4cd9-403c-9434-1784c244ec09",
      "metadata": {
        "id": "d362d6e6-4cd9-403c-9434-1784c244ec09"
      },
      "outputs": [],
      "source": [
        ""
      ]
    }
  ],
  "metadata": {
    "kernelspec": {
      "display_name": "Python 3 (ipykernel)",
      "language": "python",
      "name": "python3"
    },
    "language_info": {
      "codemirror_mode": {
        "name": "ipython",
        "version": 3
      },
      "file_extension": ".py",
      "mimetype": "text/x-python",
      "name": "python",
      "nbconvert_exporter": "python",
      "pygments_lexer": "ipython3",
      "version": "3.9.10"
    },
    "colab": {
      "name": "index.ipynb",
      "provenance": []
    }
  },
  "nbformat": 4,
  "nbformat_minor": 5
}