{
  "cells": [
    {
      "cell_type": "markdown",
      "id": "f6e75d6e-2f2e-4463-83e5-9342f6ebf428",
      "metadata": {
        "id": "f6e75d6e-2f2e-4463-83e5-9342f6ebf428"
      },
      "source": [
        "# Tracking indices"
      ]
    },
    {
      "cell_type": "markdown",
      "id": "c6e19045-8839-4fc8-b45a-e9c1edb76fd6",
      "metadata": {
        "id": "c6e19045-8839-4fc8-b45a-e9c1edb76fd6"
      },
      "source": [
        "### Introduction"
      ]
    },
    {
      "cell_type": "markdown",
      "id": "27794f20-edae-416a-b1d0-a9f14c73b548",
      "metadata": {
        "id": "27794f20-edae-416a-b1d0-a9f14c73b548"
      },
      "source": [
        "One difficult thing when working with loops is simply tracking one or more index."
      ]
    },
    {
      "cell_type": "markdown",
      "id": "994da345-7fa1-4312-a0b6-2e85d8d63c66",
      "metadata": {
        "id": "994da345-7fa1-4312-a0b6-2e85d8d63c66"
      },
      "source": [
        "### Indices with Loops"
      ]
    },
    {
      "cell_type": "markdown",
      "id": "3ccd253c-8873-4d2c-b271-1cd1ccee59ec",
      "metadata": {
        "id": "3ccd253c-8873-4d2c-b271-1cd1ccee59ec"
      },
      "source": [
        "When looping through a list of elements, one way to select each element is through the index."
      ]
    },
    {
      "cell_type": "code",
      "execution_count": 1,
      "id": "e05a13db-bcd5-43ab-8793-05636139c032",
      "metadata": {
        "id": "e05a13db-bcd5-43ab-8793-05636139c032",
        "outputId": "dd389621-0bee-463b-d612-198f79a73f95",
        "colab": {
          "base_uri": "https://localhost:8080/"
        }
      },
      "outputs": [
        {
          "output_type": "stream",
          "name": "stdout",
          "text": [
            "d\n",
            "f\n",
            "l\n",
            "a\n",
            "c\n"
          ]
        }
      ],
      "source": [
        "letters = ['d', 'f', 'l', 'a', 'c']\n",
        "\n",
        "for i in range(len(letters)):\n",
        "    print(letters[i])"
      ]
    },
    {
      "cell_type": "markdown",
      "id": "4c73a134-1645-47a2-a8fa-9a330825dd76",
      "metadata": {
        "id": "4c73a134-1645-47a2-a8fa-9a330825dd76"
      },
      "source": [
        "Above we use the range function.  This is useful when selecting each element in a list.  Let's take a deeper look at it.  "
      ]
    },
    {
      "cell_type": "code",
      "execution_count": 2,
      "id": "994b4691-9a01-43a1-99a0-085b0c8b8903",
      "metadata": {
        "id": "994b4691-9a01-43a1-99a0-085b0c8b8903",
        "outputId": "cdc3cbfc-9354-427b-a122-17649ef42904",
        "colab": {
          "base_uri": "https://localhost:8080/"
        }
      },
      "outputs": [
        {
          "output_type": "execute_result",
          "data": {
            "text/plain": [
              "5"
            ]
          },
          "metadata": {},
          "execution_count": 2
        }
      ],
      "source": [
        "len(letters)"
      ]
    },
    {
      "cell_type": "code",
      "execution_count": 3,
      "id": "f77ff256-b2c1-4f1c-94f5-5c03be04d1ed",
      "metadata": {
        "id": "f77ff256-b2c1-4f1c-94f5-5c03be04d1ed",
        "outputId": "f79e47f3-04cb-4002-bc86-f2ebeccaf416",
        "colab": {
          "base_uri": "https://localhost:8080/"
        }
      },
      "outputs": [
        {
          "output_type": "execute_result",
          "data": {
            "text/plain": [
              "range(0, 5)"
            ]
          },
          "metadata": {},
          "execution_count": 3
        }
      ],
      "source": [
        "range(len(letters))"
      ]
    },
    {
      "cell_type": "markdown",
      "id": "ccd44b76-ee20-4e80-821c-f61a2148711c",
      "metadata": {
        "id": "ccd44b76-ee20-4e80-821c-f61a2148711c"
      },
      "source": [
        "Notice that while we create a range from 0 to 5, notice that the range function only produces a list of numbers from 0 to 4. "
      ]
    },
    {
      "cell_type": "code",
      "execution_count": 4,
      "id": "906e61f5-d47e-44eb-a3e9-56ba78ac41e8",
      "metadata": {
        "id": "906e61f5-d47e-44eb-a3e9-56ba78ac41e8",
        "outputId": "dca0475e-2af8-455a-e6fc-c06509cdd5a4",
        "colab": {
          "base_uri": "https://localhost:8080/"
        }
      },
      "outputs": [
        {
          "output_type": "execute_result",
          "data": {
            "text/plain": [
              "[0, 1, 2, 3, 4]"
            ]
          },
          "metadata": {},
          "execution_count": 4
        }
      ],
      "source": [
        "list(range(len(letters)))"
      ]
    },
    {
      "cell_type": "markdown",
      "id": "3e909820-994c-470a-ba16-c3bd740df1ae",
      "metadata": {
        "id": "3e909820-994c-470a-ba16-c3bd740df1ae"
      },
      "source": [
        "This works out perfectly to select the each of the five elements of our list above the list."
      ]
    },
    {
      "cell_type": "code",
      "execution_count": 5,
      "id": "71fbf1de-b7fc-497f-ad77-aaa706d72491",
      "metadata": {
        "id": "71fbf1de-b7fc-497f-ad77-aaa706d72491",
        "outputId": "f93605bb-4a20-4bb1-ea0b-be6ad660a637",
        "colab": {
          "base_uri": "https://localhost:8080/"
        }
      },
      "outputs": [
        {
          "output_type": "stream",
          "name": "stdout",
          "text": [
            "d\n",
            "f\n",
            "l\n",
            "a\n",
            "c\n"
          ]
        }
      ],
      "source": [
        "letters = ['d', 'f', 'l', 'a', 'c']\n",
        "\n",
        "for i in range(len(letters)):\n",
        "#     i = 0 through 4\n",
        "    print(letters[i])"
      ]
    },
    {
      "cell_type": "markdown",
      "id": "c3be83c7-1017-4bb8-a2e2-230935fbbbda",
      "metadata": {
        "id": "c3be83c7-1017-4bb8-a2e2-230935fbbbda"
      },
      "source": [
        "### Tracking multiple indices"
      ]
    },
    {
      "cell_type": "markdown",
      "id": "a164844f-717d-4eb5-9f2f-96f6a182957c",
      "metadata": {
        "id": "a164844f-717d-4eb5-9f2f-96f6a182957c"
      },
      "source": [
        "Notice that sometimes we'll need to track multiple indices of a list.  "
      ]
    },
    {
      "cell_type": "markdown",
      "id": "a6aa39d5-e71d-4cd9-8574-dcba5d6c8fa2",
      "metadata": {
        "id": "a6aa39d5-e71d-4cd9-8574-dcba5d6c8fa2"
      },
      "source": [
        "For example, above we have the index increment from 0 to the length of the list.  But what if we want a separate number that moves backwards through the indices at the same time.  \n",
        "\n",
        "Given a list of letters write a function that prints out the following."
      ]
    },
    {
      "cell_type": "code",
      "execution_count": 9,
      "id": "a3062493-4fd9-4bfa-bbfc-30dac0e8ee68",
      "metadata": {
        "id": "a3062493-4fd9-4bfa-bbfc-30dac0e8ee68"
      },
      "outputs": [],
      "source": [
        "def two_indices(letters):\n",
        "    for n in range(len(letters)):\n",
        "      print(n, len(letters)-n-1)"
      ]
    },
    {
      "cell_type": "code",
      "execution_count": 10,
      "id": "0eec98d8-0918-44e4-a3ec-047955939806",
      "metadata": {
        "id": "0eec98d8-0918-44e4-a3ec-047955939806",
        "outputId": "a6ceccf6-6d04-4cf6-fbcc-1601f596cd94",
        "colab": {
          "base_uri": "https://localhost:8080/"
        }
      },
      "outputs": [
        {
          "output_type": "stream",
          "name": "stdout",
          "text": [
            "0 4\n",
            "1 3\n",
            "2 2\n",
            "3 1\n",
            "4 0\n"
          ]
        }
      ],
      "source": [
        "two_indices(letters)\n",
        "\n",
        "# 0 4\n",
        "# 1 3\n",
        "# 2 2\n",
        "# 3 1\n",
        "# 4 0"
      ]
    },
    {
      "cell_type": "markdown",
      "id": "27cbf4a9-d615-40d9-918b-9d3f240f56a6",
      "metadata": {
        "id": "27cbf4a9-d615-40d9-918b-9d3f240f56a6"
      },
      "source": [
        "### Finding Palindromes"
      ]
    },
    {
      "cell_type": "markdown",
      "id": "b396e273-ce9f-461d-b40f-f3efad0c5184",
      "metadata": {
        "id": "b396e273-ce9f-461d-b40f-f3efad0c5184"
      },
      "source": [
        "Oftentimes a good first step when using the brute force mechanism is to first make sure that the indices are being looped through correctly."
      ]
    },
    {
      "cell_type": "markdown",
      "id": "94744805-23a0-4ce4-848f-50b6f1a71058",
      "metadata": {
        "id": "94744805-23a0-4ce4-848f-50b6f1a71058"
      },
      "source": [
        "Use that technique to check if a word is a palindrome.  A palindrome is a word that is the same both forwards and backwards.  \n",
        "\n",
        "Use the brute force mechanism to check if a word is a palindrome, and first print out the indices before solving the problem.  "
      ]
    },
    {
      "cell_type": "code",
      "execution_count": 21,
      "id": "313d1f5d-6fe6-44fc-bee2-1f0269045752",
      "metadata": {
        "id": "313d1f5d-6fe6-44fc-bee2-1f0269045752"
      },
      "outputs": [],
      "source": [
        "def is_palindrome(word):\n",
        "    for n in range(len(word)):\n",
        "      # print(word[n], word[len(word)-n-1])\n",
        "      if word[n] != word[len(word)-n-1]:\n",
        "        return False\n",
        "    return True"
      ]
    },
    {
      "cell_type": "code",
      "execution_count": 22,
      "id": "dc828626-b691-4728-bfe6-a529a1f49576",
      "metadata": {
        "id": "dc828626-b691-4728-bfe6-a529a1f49576",
        "outputId": "2e4df1b5-9255-4c64-fb8f-869fb8022a13",
        "colab": {
          "base_uri": "https://localhost:8080/"
        }
      },
      "outputs": [
        {
          "output_type": "execute_result",
          "data": {
            "text/plain": [
              "True"
            ]
          },
          "metadata": {},
          "execution_count": 22
        }
      ],
      "source": [
        "yes = 'kayak'\n",
        "\n",
        "is_palindrome(yes)\n",
        "# True"
      ]
    },
    {
      "cell_type": "code",
      "execution_count": 23,
      "id": "1ddd0c12-385e-48de-9568-d1b90f6376b9",
      "metadata": {
        "id": "1ddd0c12-385e-48de-9568-d1b90f6376b9",
        "outputId": "58b0efb5-271d-4120-e14a-5ddf719abfe9",
        "colab": {
          "base_uri": "https://localhost:8080/"
        }
      },
      "outputs": [
        {
          "output_type": "execute_result",
          "data": {
            "text/plain": [
              "False"
            ]
          },
          "metadata": {},
          "execution_count": 23
        }
      ],
      "source": [
        "no = 'kayaki'\n",
        "\n",
        "is_palindrome(no)\n",
        "# False"
      ]
    },
    {
      "cell_type": "markdown",
      "id": "8f29e3cc-46bb-4032-817b-8d0a7216152c",
      "metadata": {
        "id": "8f29e3cc-46bb-4032-817b-8d0a7216152c"
      },
      "source": [
        "### Reversing a list"
      ]
    },
    {
      "cell_type": "markdown",
      "id": "78ded48d-9321-4386-aef4-8f894da6b19e",
      "metadata": {
        "id": "78ded48d-9321-4386-aef4-8f894da6b19e"
      },
      "source": [
        "Reversing a list is another problem that can be solved using the brute force mechanism.  Use the brute force mechanism to reverse a list.  "
      ]
    },
    {
      "cell_type": "markdown",
      "id": "5a53aa24-b9f6-4440-8f19-6e335112357f",
      "metadata": {
        "id": "5a53aa24-b9f6-4440-8f19-6e335112357f"
      },
      "source": [
        "> Remember to use the print statement to both print out any used indices and ultimately the selected elements."
      ]
    },
    {
      "cell_type": "code",
      "execution_count": 25,
      "id": "5d8c138c-1664-4f5d-8add-5f81760203ad",
      "metadata": {
        "id": "5d8c138c-1664-4f5d-8add-5f81760203ad"
      },
      "outputs": [],
      "source": [
        "array = [1, 2, 3, 4, 5]"
      ]
    },
    {
      "cell_type": "code",
      "execution_count": 40,
      "id": "dfb54694-9493-482f-874a-b48c2037a984",
      "metadata": {
        "id": "dfb54694-9493-482f-874a-b48c2037a984",
        "outputId": "29bddcff-dc66-4e8d-919e-3a12ce0fe7f9",
        "colab": {
          "base_uri": "https://localhost:8080/"
        }
      },
      "outputs": [
        {
          "output_type": "execute_result",
          "data": {
            "text/plain": [
              "[5, 4, 3, 2, 1]"
            ]
          },
          "metadata": {},
          "execution_count": 40
        }
      ],
      "source": [
        "def reverse(array):\n",
        "    r = []\n",
        "    for n in range(len(array)):\n",
        "        r.append(array[-n-1])\n",
        "    return r\n",
        "     \n",
        "reverse(array)\n",
        "\n",
        "# [5, 4, 3, 2, 1]"
      ]
    },
    {
      "cell_type": "code",
      "source": [],
      "metadata": {
        "id": "YeUHLE1e5xHB"
      },
      "id": "YeUHLE1e5xHB",
      "execution_count": 35,
      "outputs": []
    }
  ],
  "metadata": {
    "kernelspec": {
      "display_name": "Python 3 (ipykernel)",
      "language": "python",
      "name": "python3"
    },
    "language_info": {
      "codemirror_mode": {
        "name": "ipython",
        "version": 3
      },
      "file_extension": ".py",
      "mimetype": "text/x-python",
      "name": "python",
      "nbconvert_exporter": "python",
      "pygments_lexer": "ipython3",
      "version": "3.9.10"
    },
    "colab": {
      "provenance": []
    }
  },
  "nbformat": 4,
  "nbformat_minor": 5
}