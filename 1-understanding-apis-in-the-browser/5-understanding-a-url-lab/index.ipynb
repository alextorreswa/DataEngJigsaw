{
  "cells": [
    {
      "cell_type": "markdown",
      "metadata": {
        "id": "4XA3RUuCAC74"
      },
      "source": [
        "# Exploring API URLs Lab"
      ]
    },
    {
      "cell_type": "markdown",
      "metadata": {
        "id": "2zojKHckAC78"
      },
      "source": [
        "In this lab, we'll practice working with the Google books API and reading the documentation.  "
      ]
    },
    {
      "cell_type": "markdown",
      "metadata": {
        "id": "sdAdWc_xAC79"
      },
      "source": [
        "Begin by going to the [Google Books API](https://developers.google.com/books), and then click on `Guides` followed by `getting started`. "
      ]
    },
    {
      "cell_type": "markdown",
      "metadata": {
        "id": "Iq_w4nPLAC7-"
      },
      "source": [
        "### Getting an Overview"
      ]
    },
    {
      "cell_type": "markdown",
      "metadata": {
        "id": "4rZ4a0FPAC7-"
      },
      "source": [
        "* One good way to get an overview of what's available in an API, is to look at some of the examples.  Scroll down to the section that says `Rest`, and read that section, including `Rest in the Books API`.  "
      ]
    },
    {
      "cell_type": "markdown",
      "metadata": {
        "id": "tcz6czxJAC7-"
      },
      "source": [
        "### Using the API"
      ]
    },
    {
      "cell_type": "markdown",
      "metadata": {
        "id": "9PlzGH4JAC7_"
      },
      "source": [
        "1. Ok, now work with the API, starting by passing through a search term to the API.  \n",
        "\n",
        "2. From there see, if you can identify the book Id.  Then make a search for a specific book using the id."
      ]
    },
    {
      "cell_type": "markdown",
      "metadata": {
        "id": "4wMgJpLEAC7_"
      },
      "source": [
        "### Using Query Parameters"
      ]
    },
    {
      "cell_type": "markdown",
      "metadata": {
        "id": "SGfHcBRWAC8A"
      },
      "source": [
        "Next, we want to begin to use more capabilities of the books API.  Click on the navigation button that says `Reference`.  Notice that over to the left, is documentation organized by each resource: bookshelf, and volume.\n",
        "\n",
        "Use the documentation to make a request to find `cooking` books ordered by the most recently published books."
      ]
    }
  ],
  "metadata": {
    "kernelspec": {
      "display_name": "Python 3 (ipykernel)",
      "language": "python",
      "name": "python3"
    },
    "language_info": {
      "codemirror_mode": {
        "name": "ipython",
        "version": 3
      },
      "file_extension": ".py",
      "mimetype": "text/x-python",
      "name": "python",
      "nbconvert_exporter": "python",
      "pygments_lexer": "ipython3",
      "version": "3.9.10"
    },
    "colab": {
      "name": "index.ipynb",
      "provenance": []
    }
  },
  "nbformat": 4,
  "nbformat_minor": 0
}