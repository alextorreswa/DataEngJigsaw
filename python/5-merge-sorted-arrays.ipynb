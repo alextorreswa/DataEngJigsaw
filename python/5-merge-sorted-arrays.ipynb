{
  "cells": [
    {
      "cell_type": "markdown",
      "id": "8811bc32-66ec-4d9d-83a9-ab091e4b198a",
      "metadata": {
        "id": "8811bc32-66ec-4d9d-83a9-ab091e4b198a"
      },
      "source": [
        "# Merge Sorted Arrays"
      ]
    },
    {
      "cell_type": "markdown",
      "id": "552243db-bf0c-4ca5-99e8-971600b290d1",
      "metadata": {
        "id": "552243db-bf0c-4ca5-99e8-971600b290d1"
      },
      "source": [
        "You are given two integer arrays nums1 and nums2, sorted in non-decreasing order, and two integers m and n, representing the number of elements in nums1 and nums2 respectively."
      ]
    },
    {
      "cell_type": "code",
      "execution_count": 1,
      "id": "bb38501e-8ded-43cb-a6bc-83a89cfe18d3",
      "metadata": {
        "id": "bb38501e-8ded-43cb-a6bc-83a89cfe18d3"
      },
      "outputs": [],
      "source": [
        "nums1 = [1,2,3,0,0,0]\n",
        "m = 3\n",
        "nums2 = [2,5,6]\n",
        "n = 3"
      ]
    },
    {
      "cell_type": "code",
      "execution_count": 2,
      "id": "467912b9-472f-42c5-a415-d16674bf11f6",
      "metadata": {
        "colab": {
          "base_uri": "https://localhost:8080/"
        },
        "id": "467912b9-472f-42c5-a415-d16674bf11f6",
        "outputId": "4aa2845e-3533-4c78-ac6e-7b7137995f44"
      },
      "outputs": [
        {
          "output_type": "execute_result",
          "data": {
            "text/plain": [
              "[1, 2, 2, 3, 5, 6]"
            ]
          },
          "metadata": {},
          "execution_count": 2
        }
      ],
      "source": [
        "# Result\n",
        "[1,2,2,3,5,6]"
      ]
    },
    {
      "cell_type": "code",
      "execution_count": 7,
      "id": "e5daff2b-f8ed-4654-a851-4266909cc3ef",
      "metadata": {
        "id": "e5daff2b-f8ed-4654-a851-4266909cc3ef"
      },
      "outputs": [],
      "source": [
        "nums1 = [0]\n",
        "m = 0\n",
        "nums2 = [1]\n",
        "n = 1"
      ]
    },
    {
      "cell_type": "code",
      "execution_count": null,
      "id": "6e472844-976e-48f9-a3a6-9889cd30a733",
      "metadata": {
        "id": "6e472844-976e-48f9-a3a6-9889cd30a733",
        "outputId": "fa9c0971-a59a-44bf-f7ab-9aedd7e5d6e5"
      },
      "outputs": [
        {
          "data": {
            "text/plain": [
              "[1]"
            ]
          },
          "execution_count": 4,
          "metadata": {},
          "output_type": "execute_result"
        }
      ],
      "source": [
        "# Result\n",
        "[1]"
      ]
    },
    {
      "cell_type": "markdown",
      "id": "b56d63c9-6044-4663-850a-cfb7500cc2a5",
      "metadata": {
        "id": "b56d63c9-6044-4663-850a-cfb7500cc2a5"
      },
      "source": [
        "Explanation: The arrays we are merging are [] and [1].\n",
        "The result of the merge is [1].\n",
        "Note that because m = 0, there are no elements in nums1. The 0 is only there to ensure the merge result can fit in nums1."
      ]
    },
    {
      "cell_type": "code",
      "execution_count": 5,
      "id": "2eb5e879-edaa-4825-b7da-f00c6beb0ebf",
      "metadata": {
        "id": "2eb5e879-edaa-4825-b7da-f00c6beb0ebf"
      },
      "outputs": [],
      "source": [
        "def merge_numbers(nums1, m, nums2, n):\n",
        "  return sorted(nums1[:m] + nums2[:n])"
      ]
    },
    {
      "cell_type": "code",
      "source": [
        "merge_numbers(nums1, m, nums2, n)"
      ],
      "metadata": {
        "colab": {
          "base_uri": "https://localhost:8080/"
        },
        "id": "Jar5PQvgiL1Q",
        "outputId": "db27e5fb-7ead-4ec6-824f-3da3e05858c6"
      },
      "id": "Jar5PQvgiL1Q",
      "execution_count": 8,
      "outputs": [
        {
          "output_type": "execute_result",
          "data": {
            "text/plain": [
              "[1]"
            ]
          },
          "metadata": {},
          "execution_count": 8
        }
      ]
    }
  ],
  "metadata": {
    "kernelspec": {
      "display_name": "Python 3 (ipykernel)",
      "language": "python",
      "name": "python3"
    },
    "language_info": {
      "codemirror_mode": {
        "name": "ipython",
        "version": 3
      },
      "file_extension": ".py",
      "mimetype": "text/x-python",
      "name": "python",
      "nbconvert_exporter": "python",
      "pygments_lexer": "ipython3",
      "version": "3.10.6"
    },
    "colab": {
      "provenance": []
    }
  },
  "nbformat": 4,
  "nbformat_minor": 5
}