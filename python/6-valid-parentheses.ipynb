{
  "cells": [
    {
      "cell_type": "markdown",
      "id": "0b506512-dec2-4d24-ac91-692067c6c556",
      "metadata": {
        "id": "0b506512-dec2-4d24-ac91-692067c6c556"
      },
      "source": [
        "### Valid Parentheses"
      ]
    },
    {
      "cell_type": "markdown",
      "id": "326b7d70-52f7-4dff-bab4-d1962f5c7cae",
      "metadata": {
        "id": "326b7d70-52f7-4dff-bab4-d1962f5c7cae"
      },
      "source": [
        "Given a string s containing just the characters '(', ')', '{', '}', '[' and ']', determine if the input string is valid.\n",
        "\n",
        "An input string is valid if:\n",
        "\n",
        "Open brackets must be closed by the same type of brackets.\n",
        "Open brackets must be closed in the correct order.\n",
        "Every close bracket has a corresponding open bracket of the same type."
      ]
    },
    {
      "cell_type": "code",
      "execution_count": 67,
      "id": "55ca2e89-5824-4148-bdd4-93ac39279e64",
      "metadata": {
        "id": "55ca2e89-5824-4148-bdd4-93ac39279e64"
      },
      "outputs": [],
      "source": [
        "s = \"()\"\n",
        "# True "
      ]
    },
    {
      "cell_type": "code",
      "source": [
        "s = \"()[]{}\"\n",
        "# True"
      ],
      "metadata": {
        "id": "bLtHHmHJa78u"
      },
      "id": "bLtHHmHJa78u",
      "execution_count": 84,
      "outputs": []
    },
    {
      "cell_type": "code",
      "source": [
        "s = \"(]\"\n",
        "# False"
      ],
      "metadata": {
        "id": "wQ2uycPJa-ph"
      },
      "id": "wQ2uycPJa-ph",
      "execution_count": 87,
      "outputs": []
    },
    {
      "cell_type": "code",
      "execution_count": 90,
      "id": "9417a79e-c151-4552-9f4c-91be622af44f",
      "metadata": {
        "id": "9417a79e-c151-4552-9f4c-91be622af44f"
      },
      "outputs": [],
      "source": [
        "def valid_parentheses(s):\n",
        "  characters = {'(':')', '{':'}', '[':']'}\n",
        "  stack = []\n",
        "  for i, c in enumerate(s):\n",
        "    if len(stack) == 0: \n",
        "      stack.append(c)\n",
        "    elif characters.get(stack[-1]) == c:\n",
        "      stack.pop() \n",
        "    else:\n",
        "      stack.append(c)    \n",
        "    # print(i, c, stack)\n",
        "  if len(stack) == 0:\n",
        "    return True\n",
        "  else:\n",
        "    return False"
      ]
    },
    {
      "cell_type": "code",
      "source": [
        "valid_parentheses(s)"
      ],
      "metadata": {
        "id": "py6PsfH7a4by",
        "outputId": "67219ceb-77a0-4ebd-cd64-773628d50aeb",
        "colab": {
          "base_uri": "https://localhost:8080/"
        }
      },
      "id": "py6PsfH7a4by",
      "execution_count": 91,
      "outputs": [
        {
          "output_type": "execute_result",
          "data": {
            "text/plain": [
              "False"
            ]
          },
          "metadata": {},
          "execution_count": 91
        }
      ]
    }
  ],
  "metadata": {
    "kernelspec": {
      "display_name": "Python 3 (ipykernel)",
      "language": "python",
      "name": "python3"
    },
    "language_info": {
      "codemirror_mode": {
        "name": "ipython",
        "version": 3
      },
      "file_extension": ".py",
      "mimetype": "text/x-python",
      "name": "python",
      "nbconvert_exporter": "python",
      "pygments_lexer": "ipython3",
      "version": "3.10.6"
    },
    "colab": {
      "provenance": []
    }
  },
  "nbformat": 4,
  "nbformat_minor": 5
}