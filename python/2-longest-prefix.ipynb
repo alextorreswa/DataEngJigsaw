{
  "cells": [
    {
      "cell_type": "markdown",
      "id": "d81ad1f9-4785-4947-81bf-56898c6ed46a",
      "metadata": {
        "id": "d81ad1f9-4785-4947-81bf-56898c6ed46a"
      },
      "source": [
        "# Longest Common Prefix"
      ]
    },
    {
      "cell_type": "markdown",
      "id": "b1c3d154-e80b-4cbe-9143-a3accc008bf5",
      "metadata": {
        "id": "b1c3d154-e80b-4cbe-9143-a3accc008bf5"
      },
      "source": [
        "* This is leetcode problem 14"
      ]
    },
    {
      "cell_type": "markdown",
      "id": "2027eba9-dc05-4999-b57d-13bb7e6a6524",
      "metadata": {
        "id": "2027eba9-dc05-4999-b57d-13bb7e6a6524"
      },
      "source": [
        "Write a function to find the longest common prefix string amongst an array of strings.\n",
        "\n",
        "If there is no common prefix, return an empty string \"\""
      ]
    },
    {
      "cell_type": "code",
      "execution_count": 1,
      "id": "0baa7a23-3aa8-4f45-a3ac-7843c81eef7f",
      "metadata": {
        "id": "0baa7a23-3aa8-4f45-a3ac-7843c81eef7f"
      },
      "outputs": [],
      "source": [
        "strs = [\"flower\",\"flow\",\"flight\"]"
      ]
    },
    {
      "cell_type": "code",
      "execution_count": null,
      "id": "0b98b340-fc30-4a53-a616-de40c724d347",
      "metadata": {
        "id": "0b98b340-fc30-4a53-a616-de40c724d347"
      },
      "outputs": [],
      "source": [
        "# fl"
      ]
    },
    {
      "cell_type": "code",
      "execution_count": 16,
      "id": "35ae8196-b44c-453f-a010-a9b53cb5852c",
      "metadata": {
        "id": "35ae8196-b44c-453f-a010-a9b53cb5852c"
      },
      "outputs": [],
      "source": [
        "strs_2 = [\"dog\",\"racecar\",\"car\"]\n",
        "# \"\""
      ]
    },
    {
      "cell_type": "code",
      "execution_count": 14,
      "id": "6ac7c6b8-79a9-4f26-9d60-517aca93366d",
      "metadata": {
        "id": "6ac7c6b8-79a9-4f26-9d60-517aca93366d"
      },
      "outputs": [],
      "source": [
        "def longest_prefix(strs):\n",
        "  #1. find minimum length of strings in array of strings\n",
        "  min_length = float('inf')\n",
        "  for s in strs:\n",
        "    if len(s) < min_length:\n",
        "      min_length = len (s)\n",
        "  #2. compare indexes and return result (prefix or empty string)\n",
        "  result = \"\"\n",
        "  for i in range(min_length):\n",
        "    for j, s in enumerate(strs[:-1]):\n",
        "      if s[i] != strs[j+1][i]:\n",
        "        return result\n",
        "    result += s[i]\n",
        "  return result"
      ]
    },
    {
      "cell_type": "code",
      "source": [
        "longest_prefix(strs)"
      ],
      "metadata": {
        "id": "-8MirUIjNT4Y",
        "outputId": "137e315d-3e7f-4690-b7dc-539a79d7f8de",
        "colab": {
          "base_uri": "https://localhost:8080/",
          "height": 36
        }
      },
      "id": "-8MirUIjNT4Y",
      "execution_count": 15,
      "outputs": [
        {
          "output_type": "execute_result",
          "data": {
            "text/plain": [
              "'fl'"
            ],
            "application/vnd.google.colaboratory.intrinsic+json": {
              "type": "string"
            }
          },
          "metadata": {},
          "execution_count": 15
        }
      ]
    },
    {
      "cell_type": "code",
      "source": [
        "longest_prefix(strs_2)"
      ],
      "metadata": {
        "id": "OmGLJjpGN9kZ",
        "outputId": "f1c067e9-f238-4024-d97d-be10e34e1053",
        "colab": {
          "base_uri": "https://localhost:8080/",
          "height": 36
        }
      },
      "id": "OmGLJjpGN9kZ",
      "execution_count": 18,
      "outputs": [
        {
          "output_type": "execute_result",
          "data": {
            "text/plain": [
              "''"
            ],
            "application/vnd.google.colaboratory.intrinsic+json": {
              "type": "string"
            }
          },
          "metadata": {},
          "execution_count": 18
        }
      ]
    },
    {
      "cell_type": "code",
      "source": [
        "strs_3 = [\"dogcar\",\"dogcarracecar\",\"dogcar\"]"
      ],
      "metadata": {
        "id": "BVKT_X76OoO6"
      },
      "id": "BVKT_X76OoO6",
      "execution_count": 26,
      "outputs": []
    },
    {
      "cell_type": "code",
      "source": [
        "longest_prefix(strs_3)"
      ],
      "metadata": {
        "id": "fRLOEkn7OuVV",
        "outputId": "9dc4e565-7b1d-4f72-b6c3-fdf966587344",
        "colab": {
          "base_uri": "https://localhost:8080/",
          "height": 36
        }
      },
      "id": "fRLOEkn7OuVV",
      "execution_count": 27,
      "outputs": [
        {
          "output_type": "execute_result",
          "data": {
            "text/plain": [
              "'dogcar'"
            ],
            "application/vnd.google.colaboratory.intrinsic+json": {
              "type": "string"
            }
          },
          "metadata": {},
          "execution_count": 27
        }
      ]
    }
  ],
  "metadata": {
    "kernelspec": {
      "display_name": "Python 3 (ipykernel)",
      "language": "python",
      "name": "python3"
    },
    "language_info": {
      "codemirror_mode": {
        "name": "ipython",
        "version": 3
      },
      "file_extension": ".py",
      "mimetype": "text/x-python",
      "name": "python",
      "nbconvert_exporter": "python",
      "pygments_lexer": "ipython3",
      "version": "3.10.6"
    },
    "colab": {
      "provenance": []
    }
  },
  "nbformat": 4,
  "nbformat_minor": 5
}