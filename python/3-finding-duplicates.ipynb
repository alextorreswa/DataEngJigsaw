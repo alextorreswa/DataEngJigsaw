{
  "cells": [
    {
      "cell_type": "markdown",
      "id": "c79d4a08-2346-4370-beac-adf313fc9286",
      "metadata": {
        "id": "c79d4a08-2346-4370-beac-adf313fc9286"
      },
      "source": [
        "# Finding Duplicates"
      ]
    },
    {
      "cell_type": "markdown",
      "id": "7e6ecb8e-4950-46af-81b2-ac588af25cf1",
      "metadata": {
        "id": "7e6ecb8e-4950-46af-81b2-ac588af25cf1"
      },
      "source": [
        "### Problem\n",
        "\n",
        "Given two lists, find the duplicate elements."
      ]
    },
    {
      "cell_type": "code",
      "execution_count": 1,
      "id": "839fe7eb-326a-4e16-bbcf-72dedaad5fdb",
      "metadata": {
        "id": "839fe7eb-326a-4e16-bbcf-72dedaad5fdb"
      },
      "outputs": [],
      "source": [
        "l_1 = [1, 6, 3, 8, 2]\n",
        "\n",
        "l_2 = [1, 4, 0, 2, 1, 9, 11]"
      ]
    },
    {
      "cell_type": "markdown",
      "id": "1f76ad51-ccef-4716-9d5f-f9fa885a49a4",
      "metadata": {
        "id": "1f76ad51-ccef-4716-9d5f-f9fa885a49a4"
      },
      "source": [
        "First solve using the \"brute force\" solution, and then see if you can find a solution that is big o(n)."
      ]
    },
    {
      "cell_type": "markdown",
      "id": "d470dfe7-2a0b-4640-87a9-c27f29263fd1",
      "metadata": {
        "id": "d470dfe7-2a0b-4640-87a9-c27f29263fd1"
      },
      "source": [
        "For the solution, you can ask Chatgpt."
      ]
    },
    {
      "cell_type": "code",
      "execution_count": 8,
      "id": "3a958c57-daaa-4819-9293-de324443a930",
      "metadata": {
        "id": "3a958c57-daaa-4819-9293-de324443a930"
      },
      "outputs": [],
      "source": [
        "def find_duplicates(l_1, l_2):\n",
        "  return list(set(l_1) & set(l_2))"
      ]
    },
    {
      "cell_type": "code",
      "source": [
        "find_duplicates(l_1, l_2)"
      ],
      "metadata": {
        "id": "uckjVRVkn3Lo",
        "outputId": "1efd501e-1453-42be-b15d-76f2b2dd8971",
        "colab": {
          "base_uri": "https://localhost:8080/"
        }
      },
      "id": "uckjVRVkn3Lo",
      "execution_count": 9,
      "outputs": [
        {
          "output_type": "execute_result",
          "data": {
            "text/plain": [
              "[1, 2]"
            ]
          },
          "metadata": {},
          "execution_count": 9
        }
      ]
    },
    {
      "cell_type": "code",
      "source": [
        "def find_duplicates(l_1, l_2):\n",
        "  return [value for value in l_1 if value in l_2]"
      ],
      "metadata": {
        "id": "Nig6Vdhno8m0"
      },
      "id": "Nig6Vdhno8m0",
      "execution_count": 10,
      "outputs": []
    },
    {
      "cell_type": "code",
      "source": [
        "find_duplicates(l_1, l_2)"
      ],
      "metadata": {
        "id": "PCThL7tlo-Zv",
        "outputId": "f662cda9-bc16-48ca-a8ef-333efff6d32d",
        "colab": {
          "base_uri": "https://localhost:8080/"
        }
      },
      "id": "PCThL7tlo-Zv",
      "execution_count": 11,
      "outputs": [
        {
          "output_type": "execute_result",
          "data": {
            "text/plain": [
              "[1, 2]"
            ]
          },
          "metadata": {},
          "execution_count": 11
        }
      ]
    }
  ],
  "metadata": {
    "kernelspec": {
      "display_name": "Python 3 (ipykernel)",
      "language": "python",
      "name": "python3"
    },
    "language_info": {
      "codemirror_mode": {
        "name": "ipython",
        "version": 3
      },
      "file_extension": ".py",
      "mimetype": "text/x-python",
      "name": "python",
      "nbconvert_exporter": "python",
      "pygments_lexer": "ipython3",
      "version": "3.10.6"
    },
    "colab": {
      "provenance": []
    }
  },
  "nbformat": 4,
  "nbformat_minor": 5
}