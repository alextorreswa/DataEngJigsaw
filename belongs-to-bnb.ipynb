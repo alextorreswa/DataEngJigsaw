{
  "cells": [
    {
      "cell_type": "markdown",
      "metadata": {
        "id": "K2VUv5WuVfSt"
      },
      "source": [
        "# Belongs to Airbnb Lab"
      ]
    },
    {
      "cell_type": "markdown",
      "metadata": {
        "tags": [],
        "id": "4rIwrCjWVfSw"
      },
      "source": [
        "### Introduction\n",
        "In this lab we will continue to explore the relationships between data in different tables of a database. The Airbnb database for this lab contains four tables, `hosts`, `listings`, `locations`, and `neighborhoods`. In order to understand and analyze the data, we need to first understand the relationships between the tables. Relationships include \"Has One\" and \"Has Many\". For example, a `listing` has one host. And a `location` has many listings. "
      ]
    },
    {
      "cell_type": "markdown",
      "metadata": {
        "id": "vbi0IYvwVfSw"
      },
      "source": [
        "Ok, now let's begin by connecting to the database and reviewing the schema of the tables."
      ]
    },
    {
      "cell_type": "markdown",
      "metadata": {
        "id": "1QaEyCbBVfSx"
      },
      "source": [
        "### Loading and Exploring Data"
      ]
    },
    {
      "cell_type": "markdown",
      "metadata": {
        "id": "8-NaU1MqVfSx"
      },
      "source": [
        "The data is already loaded into the sqlite database.  However if another copy is needed it is also available in the `/data` folder."
      ]
    },
    {
      "cell_type": "code",
      "execution_count": 1,
      "metadata": {
        "id": "VFBIM6u-VfSx"
      },
      "outputs": [],
      "source": [
        "import sqlite3\n",
        "conn = sqlite3.connect('./airbnb.db')\n",
        "cursor = conn.cursor()"
      ]
    },
    {
      "cell_type": "code",
      "execution_count": 2,
      "metadata": {
        "id": "SiHvNloIVfSy"
      },
      "outputs": [],
      "source": [
        "import pandas as pd\n",
        "root_url = \"https://raw.githubusercontent.com/data-eng-10-21/belongs-to-bnb/master/data/\"\n",
        "names = ['hosts', 'neighborhoods', 'locations', 'listings']\n",
        "loaded_dfs = [pd.read_csv(f'{root_url}{name}.csv') for name in names]\n"
      ]
    },
    {
      "cell_type": "code",
      "execution_count": 3,
      "metadata": {
        "id": "-kOVF__xVfSz"
      },
      "outputs": [],
      "source": [
        "for index, name in enumerate(names):\n",
        "    loaded_dfs[index].to_sql(f'{name}', conn, index = False, if_exists = 'replace')"
      ]
    },
    {
      "cell_type": "code",
      "execution_count": 4,
      "metadata": {
        "id": "plrtGdhVVfSz",
        "outputId": "c55b5296-3d62-4431-9c1b-91caed0f70b7",
        "colab": {
          "base_uri": "https://localhost:8080/"
        }
      },
      "outputs": [
        {
          "output_type": "execute_result",
          "data": {
            "text/plain": [
              "[('hosts',), ('neighborhoods',), ('locations',), ('listings',)]"
            ]
          },
          "metadata": {},
          "execution_count": 4
        }
      ],
      "source": [
        "cursor.execute('SELECT name from sqlite_master where type= \"table\"')\n",
        "cursor.fetchall()"
      ]
    },
    {
      "cell_type": "code",
      "execution_count": 5,
      "metadata": {
        "id": "k459KbrSVfS0",
        "outputId": "399a3cae-a502-4ba5-b9a0-ba7a2d7e3792",
        "colab": {
          "base_uri": "https://localhost:8080/"
        }
      },
      "outputs": [
        {
          "output_type": "execute_result",
          "data": {
            "text/plain": [
              "[(0, 'id', 'INTEGER', 0, None, 0), (1, 'host_name', 'TEXT', 0, None, 0)]"
            ]
          },
          "metadata": {},
          "execution_count": 5
        }
      ],
      "source": [
        "cursor.execute('PRAGMA table_info(hosts)')\n",
        "cursor.fetchall()"
      ]
    },
    {
      "cell_type": "code",
      "execution_count": 6,
      "metadata": {
        "id": "4JZE1BTlVfS1",
        "outputId": "87e127ab-971c-4513-bb69-f4ce01058c68",
        "colab": {
          "base_uri": "https://localhost:8080/"
        }
      },
      "outputs": [
        {
          "output_type": "execute_result",
          "data": {
            "text/plain": [
              "[(0, 'id', 'INTEGER', 0, None, 0),\n",
              " (1, 'name', 'TEXT', 0, None, 0),\n",
              " (2, 'neighbourhood_group', 'TEXT', 0, None, 0)]"
            ]
          },
          "metadata": {},
          "execution_count": 6
        }
      ],
      "source": [
        "cursor.execute('PRAGMA table_info(neighborhoods)')\n",
        "cursor.fetchall()"
      ]
    },
    {
      "cell_type": "code",
      "execution_count": 7,
      "metadata": {
        "id": "hab5ElIAVfS1",
        "outputId": "819ec921-ae43-40f8-aae5-a5aa4a6da0fe",
        "colab": {
          "base_uri": "https://localhost:8080/"
        }
      },
      "outputs": [
        {
          "output_type": "execute_result",
          "data": {
            "text/plain": [
              "[(0, 'id', 'INTEGER', 0, None, 0),\n",
              " (1, 'longitude', 'REAL', 0, None, 0),\n",
              " (2, 'latitude', 'REAL', 0, None, 0),\n",
              " (3, 'neighborhood_id', 'INTEGER', 0, None, 0)]"
            ]
          },
          "metadata": {},
          "execution_count": 7
        }
      ],
      "source": [
        "cursor.execute('PRAGMA table_info(locations)')\n",
        "cursor.fetchall()"
      ]
    },
    {
      "cell_type": "code",
      "execution_count": 8,
      "metadata": {
        "id": "iYB_2T1wVfS1",
        "outputId": "a5a5d27b-a3e3-4731-86e2-c832b6a3d2af",
        "colab": {
          "base_uri": "https://localhost:8080/"
        }
      },
      "outputs": [
        {
          "output_type": "execute_result",
          "data": {
            "text/plain": [
              "[(0, 'id', 'INTEGER', 0, None, 0),\n",
              " (1, 'name', 'TEXT', 0, None, 0),\n",
              " (2, 'host_id', 'INTEGER', 0, None, 0),\n",
              " (3, 'location_id', 'INTEGER', 0, None, 0),\n",
              " (4, 'number_of_reviews', 'INTEGER', 0, None, 0),\n",
              " (5, 'occupancy', 'INTEGER', 0, None, 0),\n",
              " (6, 'price', 'INTEGER', 0, None, 0),\n",
              " (7, 'room_type', 'TEXT', 0, None, 0),\n",
              " (8, 'host_listings_count', 'INTEGER', 0, None, 0)]"
            ]
          },
          "metadata": {},
          "execution_count": 8
        }
      ],
      "source": [
        "cursor.execute('PRAGMA table_info(listings)')\n",
        "cursor.fetchall()"
      ]
    },
    {
      "cell_type": "markdown",
      "metadata": {
        "id": "9SYztDCJVfS1"
      },
      "source": [
        "We'll start off with some basic one table queries:"
      ]
    },
    {
      "cell_type": "markdown",
      "metadata": {
        "id": "Gg1RjYpRVfS2"
      },
      "source": [
        "* Which listing name has the highest price?"
      ]
    },
    {
      "cell_type": "code",
      "execution_count": 10,
      "metadata": {
        "id": "n-DRdxi-VfS2",
        "outputId": "d8a2d46f-02da-4d79-fa81-12e3973bebd6",
        "colab": {
          "base_uri": "https://localhost:8080/"
        }
      },
      "outputs": [
        {
          "output_type": "execute_result",
          "data": {
            "text/plain": [
              "[('Furnished room in Astoria apartment', 10000)]"
            ]
          },
          "metadata": {},
          "execution_count": 10
        }
      ],
      "source": [
        "query = \"\"\"\n",
        "        SELECT name, MAX(price)\n",
        "        FROM listings \n",
        "\"\"\"\n",
        "\n",
        "cursor.execute(query)\n",
        "cursor.fetchall()\n",
        "# [('M', 682.0)]"
      ]
    },
    {
      "cell_type": "markdown",
      "metadata": {
        "id": "hhaD1DrwVfS2"
      },
      "source": [
        "* What is the id of the location with the lowest longitude?"
      ]
    },
    {
      "cell_type": "code",
      "execution_count": 13,
      "metadata": {
        "id": "fCCDiOWrVfS2",
        "outputId": "00d6cad9-1d48-4db1-942e-7af46e6d33fc",
        "colab": {
          "base_uri": "https://localhost:8080/"
        }
      },
      "outputs": [
        {
          "output_type": "execute_result",
          "data": {
            "text/plain": [
              "[(45652, -74.24441999999999)]"
            ]
          },
          "metadata": {},
          "execution_count": 13
        }
      ],
      "source": [
        "query = \"\"\"\n",
        "        SELECT locations.id, MIN(longitude)\n",
        "        FROM locations \n",
        "\"\"\"\n",
        "\n",
        "cursor.execute(query)\n",
        "cursor.fetchall()\n",
        "# [('M', 682.0)]"
      ]
    },
    {
      "cell_type": "markdown",
      "metadata": {
        "id": "tqlo4drSVfS2"
      },
      "source": [
        "* What is the greatest occupancy of a listing?"
      ]
    },
    {
      "cell_type": "code",
      "execution_count": 18,
      "metadata": {
        "id": "16I0AQqlVfS2",
        "outputId": "051dbf49-aca6-4d4c-9e08-c4900d6e3885",
        "colab": {
          "base_uri": "https://localhost:8080/"
        }
      },
      "outputs": [
        {
          "output_type": "execute_result",
          "data": {
            "text/plain": [
              "[('Entire Apt: Spacious Studio/Loft by central park', 365)]"
            ]
          },
          "metadata": {},
          "execution_count": 18
        }
      ],
      "source": [
        "query = \"\"\"\n",
        "        SELECT name, occupancy\n",
        "        FROM listings \n",
        "        ORDER BY occupancy DESC\n",
        "        LIMIT 1\n",
        "\"\"\"\n",
        "\n",
        "cursor.execute(query)\n",
        "cursor.fetchall()\n",
        "# [('M', 682.0)]"
      ]
    },
    {
      "cell_type": "code",
      "source": [
        "query = \"\"\"\n",
        "        SELECT name, MAX(occupancy)\n",
        "        FROM listings \n",
        "\"\"\"\n",
        "\n",
        "cursor.execute(query)\n",
        "cursor.fetchall()\n",
        "# [('M', 682.0)]"
      ],
      "metadata": {
        "id": "aFSETJndqveX",
        "outputId": "e24af186-2573-4519-b2ce-14505deaeac8",
        "colab": {
          "base_uri": "https://localhost:8080/"
        }
      },
      "execution_count": 19,
      "outputs": [
        {
          "output_type": "execute_result",
          "data": {
            "text/plain": [
              "[('Entire Apt: Spacious Studio/Loft by central park', 365)]"
            ]
          },
          "metadata": {},
          "execution_count": 19
        }
      ]
    },
    {
      "cell_type": "markdown",
      "metadata": {
        "id": "zndvVZPTVfS3"
      },
      "source": [
        "* What is the average price of a listing?"
      ]
    },
    {
      "cell_type": "code",
      "execution_count": 21,
      "metadata": {
        "id": "ccBIyKukVfS3",
        "outputId": "64b6d29c-70fc-44c9-ce77-70ffe3b7cdde",
        "colab": {
          "base_uri": "https://localhost:8080/"
        }
      },
      "outputs": [
        {
          "output_type": "execute_result",
          "data": {
            "text/plain": [
              "[(152.7206871868289,)]"
            ]
          },
          "metadata": {},
          "execution_count": 21
        }
      ],
      "source": [
        "query = \"\"\"\n",
        "        SELECT AVG(price)\n",
        "        FROM listings \n",
        "        \"\"\"\n",
        "\n",
        "cursor.execute(query)\n",
        "cursor.fetchall()\n",
        "# [('M', 682.0)]"
      ]
    },
    {
      "cell_type": "markdown",
      "metadata": {
        "id": "M2cE3E2YVfS3"
      },
      "source": [
        "* What is the count of number of hosts?"
      ]
    },
    {
      "cell_type": "code",
      "execution_count": 22,
      "metadata": {
        "id": "XwsGamX_VfS3",
        "outputId": "cdf906cc-39e6-416e-e6db-75a9691311e0",
        "colab": {
          "base_uri": "https://localhost:8080/"
        }
      },
      "outputs": [
        {
          "output_type": "execute_result",
          "data": {
            "text/plain": [
              "[(37457,)]"
            ]
          },
          "metadata": {},
          "execution_count": 22
        }
      ],
      "source": [
        "query = \"\"\"\n",
        "        SELECT COUNT(id)\n",
        "        FROM hosts \n",
        "        \"\"\"\n",
        "\n",
        "cursor.execute(query)\n",
        "cursor.fetchall()\n",
        "# [('M', 682.0)]"
      ]
    },
    {
      "cell_type": "markdown",
      "metadata": {
        "id": "YJEwxxj5VfS3"
      },
      "source": [
        "### Relationships\n",
        "To help us better understand the relationships, create queries below that JOIN the tables.  Before doing so, write our the relationships between each of the entities.  \n",
        "\n",
        "> Remember that if there is a foreign key on a table, this means that the entity has one of the other table.  For example, the `neighborhood_id` on `location` means that a location has one neighborhood."
      ]
    },
    {
      "cell_type": "markdown",
      "metadata": {
        "id": "VP9RIQLsVfS3"
      },
      "source": [
        "### JOINs"
      ]
    },
    {
      "cell_type": "markdown",
      "metadata": {
        "id": "g92gs6CCVfS3"
      },
      "source": [
        "For the following queries, use the relationships between the tables to find the solutions"
      ]
    },
    {
      "cell_type": "markdown",
      "metadata": {
        "id": "DwPtuFMOVfS3"
      },
      "source": [
        "* What is the longitude and latitude of the listing of the highest price?"
      ]
    },
    {
      "cell_type": "code",
      "execution_count": 66,
      "metadata": {
        "id": "5FzyZ6BIVfS4",
        "outputId": "56fd365d-3172-4b40-9942-4361dc21bb7f",
        "colab": {
          "base_uri": "https://localhost:8080/"
        }
      },
      "outputs": [
        {
          "output_type": "execute_result",
          "data": {
            "text/plain": [
              "[(-73.91651, 40.7681, 10000)]"
            ]
          },
          "metadata": {},
          "execution_count": 66
        }
      ],
      "source": [
        "query = \"\"\"\n",
        "        SELECT longitude, latitude, MAX(price) as highprice\n",
        "        FROM locations \n",
        "        JOIN listings ON listings.location_id = locations.id\n",
        "        \"\"\"\n",
        "cursor.execute(query)\n",
        "cursor.fetchall()\n",
        "# [('M', 682.0)]"
      ]
    },
    {
      "cell_type": "markdown",
      "metadata": {
        "id": "wNdLmq4fVfS4"
      },
      "source": [
        "* What is the neighborhood id of the listing with the lowest price?"
      ]
    },
    {
      "cell_type": "code",
      "execution_count": 67,
      "metadata": {
        "id": "dGHiN6gDVfS4",
        "outputId": "732c3256-dc03-4ee3-b405-5bc17c878515",
        "colab": {
          "base_uri": "https://localhost:8080/"
        }
      },
      "outputs": [
        {
          "output_type": "execute_result",
          "data": {
            "text/plain": [
              "[(6, 0)]"
            ]
          },
          "metadata": {},
          "execution_count": 67
        }
      ],
      "source": [
        "query = \"\"\"\n",
        "        SELECT neighborhood_id, MIN(price) as lowprice\n",
        "        FROM locations \n",
        "        JOIN listings ON listings.location_id = locations.id\n",
        "        \"\"\"\n",
        "cursor.execute(query)\n",
        "cursor.fetchall()\n",
        "# [('M', 682.0)]"
      ]
    },
    {
      "cell_type": "markdown",
      "metadata": {
        "id": "5SvJawBzVfS4"
      },
      "source": [
        "* What is the longitude and latitude of the listing of the lowest price?"
      ]
    },
    {
      "cell_type": "code",
      "execution_count": 64,
      "metadata": {
        "id": "BL_WcndNVfS4",
        "outputId": "b79c3ae5-37d1-4ebf-b07c-275efab92f24",
        "colab": {
          "base_uri": "https://localhost:8080/"
        }
      },
      "outputs": [
        {
          "output_type": "execute_result",
          "data": {
            "text/plain": [
              "[(-73.95428000000001, 40.69023, 0)]"
            ]
          },
          "metadata": {},
          "execution_count": 64
        }
      ],
      "source": [
        "query = \"\"\"\n",
        "        SELECT longitude, latitude, MIN(price) as lowprice\n",
        "        FROM locations \n",
        "        JOIN listings ON listings.location_id = locations.id\n",
        "        \"\"\"\n",
        "cursor.execute(query)\n",
        "cursor.fetchall()\n",
        "# [('M', 682.0)]"
      ]
    },
    {
      "cell_type": "markdown",
      "metadata": {
        "id": "qieKqr80VfS4"
      },
      "source": [
        "### Relations and GROUP BY"
      ]
    },
    {
      "cell_type": "markdown",
      "metadata": {
        "id": "Iwki3_KSVfS4"
      },
      "source": [
        "* What is the name of the host has the most number of reviews?"
      ]
    },
    {
      "cell_type": "code",
      "execution_count": 68,
      "metadata": {
        "id": "XGO0QI7dVfS4",
        "outputId": "aa1d87c9-e3a8-4c0c-a899-cf3c49c23159",
        "colab": {
          "base_uri": "https://localhost:8080/"
        }
      },
      "outputs": [
        {
          "output_type": "execute_result",
          "data": {
            "text/plain": [
              "[('Michael', 11081)]"
            ]
          },
          "metadata": {},
          "execution_count": 68
        }
      ],
      "source": [
        "query = \"\"\"\n",
        "        SELECT host_name, SUM(number_of_reviews) total_reviwes\n",
        "        FROM hosts \n",
        "        JOIN listings ON listings.host_id = hosts.id\n",
        "        GROUP BY host_name\n",
        "        ORDER BY total_reviwes DESC  \n",
        "        LIMIT 1\n",
        "        \"\"\"\n",
        "cursor.execute(query)\n",
        "cursor.fetchall()"
      ]
    },
    {
      "cell_type": "markdown",
      "metadata": {
        "id": "j77tYcpUVfS4"
      },
      "source": [
        "* What is the name of the host with the highest average listing price?"
      ]
    },
    {
      "cell_type": "code",
      "execution_count": 53,
      "metadata": {
        "id": "rIBdhxe3VfS5",
        "outputId": "f0a7a7b8-ab26-4eac-9e1c-8e0dac756030",
        "colab": {
          "base_uri": "https://localhost:8080/"
        }
      },
      "outputs": [
        {
          "output_type": "execute_result",
          "data": {
            "text/plain": [
              "[('Olson', 9999.0)]"
            ]
          },
          "metadata": {},
          "execution_count": 53
        }
      ],
      "source": [
        "query = \"\"\"\n",
        "        SELECT host_name, avg(price) as avg_price\n",
        "        FROM hosts \n",
        "        JOIN listings ON listings.host_id = hosts.id\n",
        "        GROUP BY host_name\n",
        "        ORDER BY avg_price DESC\n",
        "        LIMIT 1\n",
        "        \"\"\"\n",
        "cursor.execute(query)\n",
        "cursor.fetchall()"
      ]
    },
    {
      "cell_type": "markdown",
      "metadata": {
        "id": "tUSX_o8LVfS5"
      },
      "source": [
        "* What is the name of the host with the lowest average listing price?"
      ]
    },
    {
      "cell_type": "code",
      "execution_count": 51,
      "metadata": {
        "id": "0I6XDrIGVfS5",
        "outputId": "2791e2ae-19c2-478c-c628-0417fc11f766",
        "colab": {
          "base_uri": "https://localhost:8080/"
        }
      },
      "outputs": [
        {
          "output_type": "execute_result",
          "data": {
            "text/plain": [
              "[('Aymeric', 0.0)]"
            ]
          },
          "metadata": {},
          "execution_count": 51
        }
      ],
      "source": [
        "query = \"\"\"\n",
        "        SELECT host_name, avg(price) as avg_price\n",
        "        FROM hosts \n",
        "        JOIN listings ON listings.host_id = hosts.id\n",
        "        GROUP BY host_name\n",
        "        ORDER BY avg_price ASC\n",
        "        LIMIT 1\n",
        "        \"\"\"\n",
        "cursor.execute(query)\n",
        "cursor.fetchall()"
      ]
    },
    {
      "cell_type": "markdown",
      "metadata": {
        "id": "230s2zQ7VfS5"
      },
      "source": [
        "* What is the name of the neighborhood with the most number of locations"
      ]
    },
    {
      "cell_type": "code",
      "execution_count": 44,
      "metadata": {
        "id": "pedqPtA7VfS5",
        "outputId": "982c82fa-6527-4e63-a695-c3ce24dbdcd1",
        "colab": {
          "base_uri": "https://localhost:8080/"
        }
      },
      "outputs": [
        {
          "output_type": "execute_result",
          "data": {
            "text/plain": [
              "[('Williamsburg', 3914)]"
            ]
          },
          "metadata": {},
          "execution_count": 44
        }
      ],
      "source": [
        "query = \"\"\"\n",
        "        SELECT neighborhoods.name, count(locations.id) as total_locations\n",
        "        FROM neighborhoods \n",
        "        JOIN locations ON locations.neighborhood_id = neighborhoods.id\n",
        "        GROUP BY neighborhoods.name\n",
        "        ORDER BY total_locations DESC\n",
        "        LIMIT 1\n",
        "        \"\"\"\n",
        "cursor.execute(query)\n",
        "cursor.fetchall()"
      ]
    },
    {
      "cell_type": "markdown",
      "metadata": {
        "id": "hCp8-9eWVfS5"
      },
      "source": [
        "* What are the names of the neighborhoods with 10 locations?"
      ]
    },
    {
      "cell_type": "code",
      "execution_count": 45,
      "metadata": {
        "id": "FyV95YpaVfS5",
        "outputId": "5fd424a1-e65c-42a8-b89a-04bbe60518e2",
        "colab": {
          "base_uri": "https://localhost:8080/"
        }
      },
      "outputs": [
        {
          "output_type": "execute_result",
          "data": {
            "text/plain": [
              "[('Bergen Beach', 10),\n",
              " ('East Morrisania', 10),\n",
              " ('Great Kills', 10),\n",
              " ('Melrose', 10),\n",
              " ('North Riverdale', 10),\n",
              " ('Westchester Square', 10)]"
            ]
          },
          "metadata": {},
          "execution_count": 45
        }
      ],
      "source": [
        "query = \"\"\"\n",
        "        SELECT neighborhoods.name, count(locations.id) as total_locations\n",
        "        FROM neighborhoods \n",
        "        JOIN locations ON locations.neighborhood_id = neighborhoods.id\n",
        "        GROUP BY neighborhoods.name\n",
        "        HAVING total_locations = 10\n",
        "        \"\"\"\n",
        "cursor.execute(query)\n",
        "cursor.fetchall()"
      ]
    },
    {
      "cell_type": "markdown",
      "metadata": {
        "id": "Q7MfMGu1VfS5"
      },
      "source": [
        "The following questions will require joins of three tables"
      ]
    },
    {
      "cell_type": "markdown",
      "metadata": {
        "id": "u_PTUkbpVfS5"
      },
      "source": [
        "* What is the average occupancy of each neighborhood?"
      ]
    },
    {
      "cell_type": "code",
      "execution_count": 69,
      "metadata": {
        "id": "Dovqlz4RVfS5",
        "outputId": "8ef205e9-f54f-41ff-9dbb-adda30b4ccea",
        "colab": {
          "base_uri": "https://localhost:8080/"
        }
      },
      "outputs": [
        {
          "output_type": "execute_result",
          "data": {
            "text/plain": [
              "[('Bay Terrace, Staten Island', 365.0),\n",
              " ('New Dorp', 365.0),\n",
              " ('Woodrow', 365.0),\n",
              " ('Downtown Brooklyn', 325.51807228915663),\n",
              " ('Morningside Heights', 321.9450867052023),\n",
              " ('Navy Yard', 316.07142857142856),\n",
              " ('Rossville', 306.0),\n",
              " ('Cobble Hill', 301.7878787878788),\n",
              " ('Stuyvesant Town', 299.8918918918919),\n",
              " ('New Springville', 299.75),\n",
              " ('Sea Gate', 299.42857142857144),\n",
              " ('Brooklyn Heights', 298.961038961039),\n",
              " ('Civic Center', 296.7307692307692),\n",
              " ('Columbia St', 295.9047619047619),\n",
              " ('Nolita', 295.1897233201581),\n",
              " ('Carroll Gardens', 293.3304721030043),\n",
              " ('Roosevelt Island', 292.4155844155844),\n",
              " ('East Village', 290.3761467889908),\n",
              " ('Williamsburg', 290.2772959183674),\n",
              " ('Boerum Hill', 287.728813559322),\n",
              " ('Prospect Heights', 287.484593837535),\n",
              " ('Greenpoint', 285.92286995515695),\n",
              " ('Vinegar Hill', 285.47058823529414),\n",
              " ('Emerson Hill', 284.2),\n",
              " ('Little Neck', 283.8),\n",
              " ('Windsor Terrace', 283.11464968152865),\n",
              " ('Greenwich Village', 282.94897959183675),\n",
              " ('South Slope', 281.23943661971833),\n",
              " ('Kensington', 281.0514285714286),\n",
              " ('West Village', 279.5403645833333),\n",
              " ('Two Bridges', 278.7638888888889),\n",
              " ('Park Slope', 276.2134387351779),\n",
              " ('Todt Hill', 276.0),\n",
              " ('Fort Greene', 274.85071574642126),\n",
              " ('Chinatown', 274.20380434782606),\n",
              " ('Melrose', 271.4),\n",
              " ('Arden Heights', 270.75),\n",
              " ('Flatbush', 270.51529790660226),\n",
              " ('Gramercy', 270.4733727810651),\n",
              " ('Clinton Hill', 269.986013986014),\n",
              " ('Prospect-Lefferts Gardens', 269.88971962616824),\n",
              " ('Bushwick', 269.44908722109534),\n",
              " ('Crown Heights', 268.97953964194375),\n",
              " ('Red Hook', 268.7974683544304),\n",
              " ('Upper West Side', 268.41653982749875),\n",
              " ('Lower East Side', 267.834248079034),\n",
              " ('Midwood', 267.1834862385321),\n",
              " ('Woodlawn', 266.72727272727275),\n",
              " ('Inwood', 266.45238095238096),\n",
              " ('Washington Heights', 266.0678531701891),\n",
              " ('East Harlem', 266.0268576544315),\n",
              " ('Battery Park City', 264.6714285714286),\n",
              " ('Breezy Point', 264.6666666666667),\n",
              " ('Little Italy', 264.6611570247934),\n",
              " ('NoHo', 263.1794871794872),\n",
              " ('Harlem', 258.4224981188864),\n",
              " ('Sunset Park', 258.35897435897436),\n",
              " ('Astoria', 255.8088888888889),\n",
              " ('SoHo', 254.64245810055866),\n",
              " (\"Prince's Bay\", 254.5),\n",
              " ('Westerleigh', 252.5),\n",
              " ('Upper East Side', 252.20189098998887),\n",
              " ('Chelsea', 251.00449236298292),\n",
              " ('Ridgewood', 250.5744680851064),\n",
              " ('DUMBO', 250.52777777777777),\n",
              " ('Shore Acres', 250.42857142857142),\n",
              " ('Marble Hill', 250.33333333333334),\n",
              " ('Bedford-Stuyvesant', 248.36537425955842),\n",
              " ('Ditmars Steinway', 247.2621359223301),\n",
              " ('Long Island City', 246.74301675977654),\n",
              " ('Tremont', 246.0),\n",
              " ('Brownsville', 243.672131147541),\n",
              " ('Kips Bay', 243.28297872340426),\n",
              " ('Gowanus', 242.2834008097166),\n",
              " ('Flatiron District', 241.95),\n",
              " ('Kew Gardens Hills', 240.3846153846154),\n",
              " ('Sunnyside', 239.29201101928373),\n",
              " ('Morris Park', 239.0),\n",
              " ('Tribeca', 238.4915254237288),\n",
              " ('Forest Hills', 237.26388888888889),\n",
              " ('Elmhurst', 236.60337552742615),\n",
              " ('Gravesend', 234.80882352941177),\n",
              " ('Woodside', 234.78297872340426),\n",
              " ('City Island', 233.77777777777777),\n",
              " ('Rego Park', 231.43396226415095),\n",
              " ('Soundview', 231.33333333333334),\n",
              " ('Bensonhurst', 230.16),\n",
              " ('University Heights', 229.71428571428572),\n",
              " ('Morrisania', 229.5),\n",
              " ('Mount Eden', 228.83333333333334),\n",
              " ('Fresh Meadows', 227.03125),\n",
              " ('Bergen Beach', 226.8),\n",
              " (\"Hell's Kitchen\", 226.1532175689479),\n",
              " ('Jamaica Hills', 224.875),\n",
              " ('Parkchester', 224.56410256410257),\n",
              " ('Grymes Hill', 223.42857142857142),\n",
              " ('College Point', 223.3684210526316),\n",
              " ('New Brighton', 222.4),\n",
              " ('Bay Ridge', 222.0709219858156),\n",
              " ('Schuylerville', 221.76923076923077),\n",
              " ('Fordham', 221.44444444444446),\n",
              " ('Fieldston', 221.25),\n",
              " ('Cambria Heights', 220.8846153846154),\n",
              " ('Dyker Heights', 220.25),\n",
              " ('Bronxdale', 219.57894736842104),\n",
              " ('Hollis', 219.21428571428572),\n",
              " ('Pelham Gardens', 218.64285714285714),\n",
              " ('Mott Haven', 218.06666666666666),\n",
              " ('Glendale', 217.72222222222223),\n",
              " ('Great Kills', 216.4),\n",
              " ('Jackson Heights', 214.72043010752688),\n",
              " ('Fort Hamilton', 214.0),\n",
              " ('Port Morris', 212.82608695652175),\n",
              " ('Ozone Park', 211.16129032258064),\n",
              " ('Longwood', 210.7741935483871),\n",
              " ('Norwood', 210.70967741935485),\n",
              " ('Mount Hope', 209.35),\n",
              " ('Van Nest', 208.63636363636363),\n",
              " ('Dongan Hills', 207.71428571428572),\n",
              " ('Midtown', 207.29644012944985),\n",
              " ('Baychester', 207.14285714285714),\n",
              " ('Kingsbridge', 207.05714285714285),\n",
              " ('Highbridge', 206.44444444444446),\n",
              " ('Castle Hill', 205.66666666666666),\n",
              " ('Concourse Village', 205.46875),\n",
              " ('Westchester Square', 205.3),\n",
              " ('Concourse', 204.96),\n",
              " ('Sheepshead Bay', 204.46341463414635),\n",
              " ('Riverdale', 204.1818181818182),\n",
              " ('Silver Lake', 203.0),\n",
              " ('Rockaway Beach', 202.57142857142858),\n",
              " ('Graniteville', 202.0),\n",
              " ('Coney Island', 201.76470588235293),\n",
              " ('Allerton', 201.33333333333334),\n",
              " (\"Bull's Head\", 199.33333333333334),\n",
              " ('Far Rockaway', 199.13793103448276),\n",
              " ('North Riverdale', 199.0),\n",
              " ('Flushing', 198.7488262910798),\n",
              " ('Queens Village', 198.56666666666666),\n",
              " ('Borough Park', 196.6764705882353),\n",
              " ('Cypress Hills', 196.5037037037037),\n",
              " ('East Elmhurst', 195.5081081081081),\n",
              " ('Holliswood', 195.5),\n",
              " ('Brighton Beach', 194.13333333333333),\n",
              " ('Jamaica Estates', 193.68421052631578),\n",
              " ('Olinville', 192.5),\n",
              " ('Murray Hill', 191.6783505154639),\n",
              " ('New Dorp Beach', 190.6),\n",
              " ('Rosebank', 189.85714285714286),\n",
              " ('Throgs Neck', 189.20833333333334),\n",
              " ('Whitestone', 187.72727272727272),\n",
              " ('Briarwood', 187.07142857142858),\n",
              " ('Rosedale', 187.05084745762713),\n",
              " ('Claremont Village', 185.32142857142858),\n",
              " ('East Flatbush', 184.056),\n",
              " ('South Beach', 182.125),\n",
              " ('Laurelton', 180.38888888888889),\n",
              " ('East New York', 178.46330275229357),\n",
              " ('Belle Harbor', 178.375),\n",
              " ('Maspeth', 177.4909090909091),\n",
              " ('Belmont', 177.33333333333334),\n",
              " ('Oakwood', 176.6),\n",
              " ('Arverne', 176.57142857142858),\n",
              " ('Jamaica', 176.4935064935065),\n",
              " ('Castleton Corners', 176.25),\n",
              " ('Clifton', 175.6),\n",
              " ('Bayside', 175.07692307692307),\n",
              " ('Port Richmond', 174.0),\n",
              " ('Mariners Harbor', 173.5),\n",
              " ('Financial District', 173.46370967741936),\n",
              " ('St. George', 173.25),\n",
              " ('Eltingville', 172.0),\n",
              " ('East Morrisania', 171.5),\n",
              " ('Richmond Hill', 170.06382978723406),\n",
              " ('Bath Beach', 168.88235294117646),\n",
              " ('Flatlands', 167.75903614457832),\n",
              " ('Wakefield', 167.3),\n",
              " ('Morris Heights', 166.76470588235293),\n",
              " ('Woodhaven', 164.07954545454547),\n",
              " ('Kew Gardens', 163.84375),\n",
              " ('Pelham Bay', 163.35294117647058),\n",
              " ('Theater District', 163.12847222222223),\n",
              " ('Springfield Gardens', 160.98823529411766),\n",
              " ('Douglaston', 159.375),\n",
              " ('Manhattan Beach', 159.375),\n",
              " ('Bayswater', 157.64705882352942),\n",
              " ('Huguenot', 157.0),\n",
              " ('Howard Beach', 156.5),\n",
              " ('Tompkinsville', 155.57142857142858),\n",
              " ('Middle Village', 154.0),\n",
              " ('Edenwald', 151.53846153846155),\n",
              " ('Lighthouse Hill', 149.5),\n",
              " ('Stapleton', 149.37037037037038),\n",
              " ('Bay Terrace', 142.5),\n",
              " ('Canarsie', 141.12925170068027),\n",
              " ('Williamsbridge', 140.55),\n",
              " ('Howland Hook', 139.5),\n",
              " ('St. Albans', 139.02631578947367),\n",
              " ('South Ozone Park', 138.9),\n",
              " ('Neponsit', 134.0),\n",
              " ('Clason Point', 133.71428571428572),\n",
              " ('Midland Beach', 129.0),\n",
              " ('Hunts Point', 125.83333333333333),\n",
              " ('Grant City', 124.66666666666667),\n",
              " ('Bellerose', 122.14285714285714),\n",
              " ('Unionport', 121.0),\n",
              " ('Corona', 120.828125),\n",
              " ('West Farms', 120.5),\n",
              " ('Concord', 109.42307692307692),\n",
              " ('Arrochar', 109.19047619047619),\n",
              " ('Tottenville', 97.42857142857143),\n",
              " ('Spuyten Duyvil', 95.0),\n",
              " ('West Brighton', 90.27777777777777),\n",
              " ('Randall Manor', 89.78947368421052),\n",
              " ('Edgemere', 89.72727272727273),\n",
              " ('Mill Basin', 75.0),\n",
              " ('Richmondtown', 65.0),\n",
              " ('Eastchester', 31.53846153846154),\n",
              " ('Willowbrook', 14.0),\n",
              " ('Co-op City', 1.0),\n",
              " ('Fort Wadsworth', 0.0)]"
            ]
          },
          "metadata": {},
          "execution_count": 69
        }
      ],
      "source": [
        "query = \"\"\"\n",
        "        SELECT n.name, avg(lis.occupancy) as avg_occupancy\n",
        "        FROM neighborhoods n \n",
        "        JOIN locations loc ON loc.neighborhood_id = n.id\n",
        "        JOIN listings lis ON lis.location_id = loc.id\n",
        "        GROUP BY n.name\n",
        "        ORDER BY avg_occupancy DESC\n",
        "        \"\"\"\n",
        "cursor.execute(query)\n",
        "cursor.fetchall()"
      ]
    },
    {
      "cell_type": "markdown",
      "metadata": {
        "id": "iOi2AeJtVfS5"
      },
      "source": [
        "* What is the total number of reviews for each neighborhood?"
      ]
    },
    {
      "cell_type": "code",
      "execution_count": 49,
      "metadata": {
        "id": "zF4mIVVGVfS5",
        "outputId": "9ca18598-dc15-4f86-cfa7-b92e696874d1",
        "colab": {
          "base_uri": "https://localhost:8080/"
        }
      },
      "outputs": [
        {
          "output_type": "execute_result",
          "data": {
            "text/plain": [
              "[('Bedford-Stuyvesant', 110352),\n",
              " ('Williamsburg', 85427),\n",
              " ('Harlem', 75962),\n",
              " ('Bushwick', 52514),\n",
              " (\"Hell's Kitchen\", 50227),\n",
              " ('East Village', 44670),\n",
              " ('East Harlem', 36446),\n",
              " ('Crown Heights', 36408),\n",
              " ('Upper West Side', 36058),\n",
              " ('Upper East Side', 31686),\n",
              " ('Lower East Side', 24161),\n",
              " ('Chelsea', 23641),\n",
              " ('Midtown', 19444),\n",
              " ('Greenpoint', 19429),\n",
              " ('Astoria', 19310),\n",
              " ('Washington Heights', 17161),\n",
              " ('East Elmhurst', 15107),\n",
              " ('West Village', 14885),\n",
              " ('Flushing', 14818),\n",
              " ('Park Slope', 14638),\n",
              " ('Clinton Hill', 14586),\n",
              " ('Prospect-Lefferts Gardens', 14051),\n",
              " ('Flatbush', 12787),\n",
              " ('East Flatbush', 12448),\n",
              " ('Long Island City', 12256),\n",
              " ('Prospect Heights', 10875),\n",
              " ('Fort Greene', 10608),\n",
              " ('South Slope', 10405),\n",
              " ('Chinatown', 9941),\n",
              " ('Jamaica', 9910),\n",
              " ('Sunnyside', 8070),\n",
              " ('Sunset Park', 7882),\n",
              " ('Ditmars Steinway', 7852),\n",
              " ('Ridgewood', 7778),\n",
              " ('Gowanus', 7709),\n",
              " ('Gramercy', 7682),\n",
              " ('SoHo', 7235),\n",
              " ('Financial District', 6931),\n",
              " ('East New York', 6759),\n",
              " ('Greenwich Village', 6526),\n",
              " ('Carroll Gardens', 5897),\n",
              " ('Springfield Gardens', 5873),\n",
              " ('Kips Bay', 5837),\n",
              " ('Nolita', 5634),\n",
              " ('Elmhurst', 5554),\n",
              " ('Canarsie', 5338),\n",
              " ('Jackson Heights', 5061),\n",
              " ('Woodside', 5035),\n",
              " ('Inwood', 4690),\n",
              " ('Morningside Heights', 4599),\n",
              " ('Murray Hill', 4535),\n",
              " ('Cypress Hills', 4482),\n",
              " ('Theater District', 4342),\n",
              " ('Windsor Terrace', 4324),\n",
              " ('Boerum Hill', 4295),\n",
              " ('Sheepshead Bay', 3262),\n",
              " ('Richmond Hill', 3230),\n",
              " ('Forest Hills', 3210),\n",
              " ('Kensington', 2972),\n",
              " ('Cobble Hill', 2888),\n",
              " ('Little Italy', 2799),\n",
              " ('Woodhaven', 2792),\n",
              " ('Rego Park', 2754),\n",
              " ('Bay Ridge', 2618),\n",
              " ('St. Albans', 2584),\n",
              " ('Brooklyn Heights', 2555),\n",
              " ('Mott Haven', 2542),\n",
              " ('Maspeth', 2490),\n",
              " ('Tompkinsville', 2400),\n",
              " ('Red Hook', 2263),\n",
              " ('Arverne', 2253),\n",
              " ('Borough Park', 2232),\n",
              " ('Queens Village', 2147),\n",
              " ('Two Bridges', 2129),\n",
              " ('Tribeca', 2034),\n",
              " ('St. George', 1987),\n",
              " ('South Ozone Park', 1947),\n",
              " ('Brownsville', 1912),\n",
              " ('Bensonhurst', 1845),\n",
              " ('Flatlands', 1839),\n",
              " ('Corona', 1806),\n",
              " ('Allerton', 1803),\n",
              " ('Rosedale', 1673),\n",
              " ('Midwood', 1655),\n",
              " ('Longwood', 1653),\n",
              " ('Concourse', 1643),\n",
              " ('Ozone Park', 1512),\n",
              " ('Glendale', 1459),\n",
              " ('Kingsbridge', 1435),\n",
              " ('Flatiron District', 1419),\n",
              " ('DUMBO', 1382),\n",
              " ('Rockaway Beach', 1358),\n",
              " ('Brighton Beach', 1347),\n",
              " ('Gravesend', 1336),\n",
              " ('Highbridge', 1318),\n",
              " ('Wakefield', 1279),\n",
              " ('Briarwood', 1247),\n",
              " ('Roosevelt Island', 1214),\n",
              " ('Downtown Brooklyn', 1188),\n",
              " ('Pelham Gardens', 1140),\n",
              " ('Williamsbridge', 1138),\n",
              " ('Middle Village', 1055),\n",
              " ('Fresh Meadows', 1045),\n",
              " ('Stapleton', 1036),\n",
              " ('NoHo', 994),\n",
              " ('Fordham', 956),\n",
              " ('Port Morris', 948),\n",
              " ('Bayside', 928),\n",
              " ('Parkchester', 911),\n",
              " ('Concourse Village', 807),\n",
              " ('University Heights', 779),\n",
              " ('Throgs Neck', 769),\n",
              " ('City Island', 759),\n",
              " ('Fort Hamilton', 745),\n",
              " ('Clifton', 708),\n",
              " ('Columbia St', 685),\n",
              " ('West Brighton', 656),\n",
              " ('Concord', 648),\n",
              " ('Civic Center', 637),\n",
              " ('Jamaica Estates', 596),\n",
              " ('Battery Park City', 580),\n",
              " ('Vinegar Hill', 545),\n",
              " ('Laurelton', 528),\n",
              " ('Norwood', 519),\n",
              " ('Cambria Heights', 485),\n",
              " ('Woodlawn', 484),\n",
              " ('East Morrisania', 480),\n",
              " ('Morris Heights', 465),\n",
              " ('Bronxdale', 458),\n",
              " ('Pelham Bay', 442),\n",
              " ('Soundview', 441),\n",
              " ('College Point', 439),\n",
              " ('Mount Hope', 435),\n",
              " ('Schuylerville', 423),\n",
              " ('Mount Eden', 420),\n",
              " ('Dyker Heights', 415),\n",
              " ('Manhattan Beach', 405),\n",
              " ('Far Rockaway', 374),\n",
              " ('Coney Island', 373),\n",
              " ('Bath Beach', 363),\n",
              " ('Claremont Village', 350),\n",
              " ('Randall Manor', 342),\n",
              " ('Kew Gardens', 332),\n",
              " ('Kew Gardens Hills', 331),\n",
              " ('Clason Point', 316),\n",
              " ('Baychester', 310),\n",
              " ('Arrochar', 307),\n",
              " ('Stuyvesant Town', 302),\n",
              " ('Belmont', 296),\n",
              " ('Riverdale', 293),\n",
              " ('Howard Beach', 272),\n",
              " ('Morris Park', 271),\n",
              " ('Great Kills', 264),\n",
              " ('Navy Yard', 251),\n",
              " ('Bay Terrace', 249),\n",
              " ('Whitestone', 249),\n",
              " ('Silver Lake', 237),\n",
              " ('New Springville', 235),\n",
              " ('Eltingville', 228),\n",
              " ('Tremont', 227),\n",
              " ('Rosebank', 215),\n",
              " ('Van Nest', 206),\n",
              " ('Bergen Beach', 205),\n",
              " ('New Brighton', 201),\n",
              " ('Edenwald', 200),\n",
              " ('Bayswater', 191),\n",
              " ('Morrisania', 186),\n",
              " ('North Riverdale', 182),\n",
              " ('Hunts Point', 176),\n",
              " ('Mariners Harbor', 173),\n",
              " ('Marble Hill', 168),\n",
              " ('Douglaston', 167),\n",
              " ('Huguenot', 167),\n",
              " ('Hollis', 164),\n",
              " ('Grant City', 161),\n",
              " ('Dongan Hills', 158),\n",
              " ('Eastchester', 157),\n",
              " ('Westchester Square', 155),\n",
              " ('Port Richmond', 153),\n",
              " ('Fieldston', 146),\n",
              " ('Shore Acres', 146),\n",
              " ('Tottenville', 139),\n",
              " ('Graniteville', 123),\n",
              " ('Bellerose', 118),\n",
              " ('Castle Hill', 118),\n",
              " ('Edgemere', 113),\n",
              " ('Unionport', 104),\n",
              " ('Castleton Corners', 101),\n",
              " ('South Beach', 95),\n",
              " (\"Bull's Head\", 92),\n",
              " ('Melrose', 90),\n",
              " ('Richmondtown', 79),\n",
              " ('Lighthouse Hill', 78),\n",
              " ('Belle Harbor', 74),\n",
              " ('Grymes Hill', 74),\n",
              " ('New Dorp Beach', 74),\n",
              " ('Spuyten Duyvil', 70),\n",
              " ('Jamaica Hills', 69),\n",
              " ('Mill Basin', 69),\n",
              " ('Emerson Hill', 56),\n",
              " ('Neponsit', 46),\n",
              " ('Howland Hook', 41),\n",
              " ('Midland Beach', 37),\n",
              " ('Co-op City', 34),\n",
              " ('Arden Heights', 31),\n",
              " ('Olinville', 30),\n",
              " (\"Prince's Bay\", 23),\n",
              " ('Rossville', 21),\n",
              " ('Little Neck', 19),\n",
              " ('Westerleigh', 18),\n",
              " ('Todt Hill', 16),\n",
              " ('Holliswood', 15),\n",
              " ('Sea Gate', 10),\n",
              " ('Oakwood', 9),\n",
              " ('Willowbrook', 9),\n",
              " ('West Farms', 7),\n",
              " ('Breezy Point', 5),\n",
              " ('Bay Terrace, Staten Island', 3),\n",
              " ('Fort Wadsworth', 0),\n",
              " ('New Dorp', 0),\n",
              " ('Woodrow', 0)]"
            ]
          },
          "metadata": {},
          "execution_count": 49
        }
      ],
      "source": [
        "query = \"\"\"\n",
        "        SELECT neighborhoods.name, sum(number_of_reviews) as total_reviews\n",
        "        FROM neighborhoods \n",
        "        JOIN locations ON locations.neighborhood_id = neighborhoods.id\n",
        "        JOIN listings ON listings.location_id = locations.id\n",
        "        GROUP BY neighborhoods.name\n",
        "        ORDER BY total_reviews DESC\n",
        "        \"\"\"\n",
        "cursor.execute(query)\n",
        "cursor.fetchall()"
      ]
    },
    {
      "cell_type": "markdown",
      "metadata": {
        "id": "2yeuzuDrVfS6"
      },
      "source": [
        "* Write a query that returns the name and average listing price of each neighborhood"
      ]
    },
    {
      "cell_type": "code",
      "execution_count": 50,
      "metadata": {
        "id": "bWRNovEPVfS6",
        "outputId": "885df23a-9189-4380-cc85-9dc4ff1d408a",
        "colab": {
          "base_uri": "https://localhost:8080/"
        }
      },
      "outputs": [
        {
          "output_type": "execute_result",
          "data": {
            "text/plain": [
              "[('Fort Wadsworth', 800.0),\n",
              " ('Woodrow', 700.0),\n",
              " ('Tribeca', 490.638418079096),\n",
              " ('Sea Gate', 487.85714285714283),\n",
              " ('Riverdale', 442.09090909090907),\n",
              " (\"Prince's Bay\", 409.5),\n",
              " ('Battery Park City', 367.5571428571429),\n",
              " ('Flatiron District', 341.925),\n",
              " ('Randall Manor', 336.0),\n",
              " ('NoHo', 295.71794871794873),\n",
              " ('SoHo', 287.1033519553073),\n",
              " ('Midtown', 282.7190938511327),\n",
              " ('Neponsit', 274.6666666666667),\n",
              " ('West Village', 267.6822916666667),\n",
              " ('Greenwich Village', 263.40561224489795),\n",
              " ('Chelsea', 249.73854447439354),\n",
              " ('Willowbrook', 249.0),\n",
              " ('Theater District', 248.01388888888889),\n",
              " ('Nolita', 230.13833992094862),\n",
              " ('Financial District', 225.49059139784947),\n",
              " ('Gramercy', 222.75443786982248),\n",
              " ('Little Italy', 222.06611570247935),\n",
              " ('Murray Hill', 220.95876288659792),\n",
              " ('Breezy Point', 213.33333333333334),\n",
              " ('Cobble Hill', 211.92929292929293),\n",
              " ('Upper West Side', 210.91831557584982),\n",
              " ('Brooklyn Heights', 209.06493506493507),\n",
              " (\"Hell's Kitchen\", 204.79417773237998),\n",
              " ('Kips Bay', 202.40851063829788),\n",
              " ('DUMBO', 196.30555555555554),\n",
              " ('Civic Center', 191.94230769230768),\n",
              " ('Upper East Side', 188.94827586206895),\n",
              " ('Vinegar Hill', 187.1764705882353),\n",
              " ('Lower East Side', 186.31284302963775),\n",
              " ('East Village', 186.0831084727469),\n",
              " ('Jamaica Estates', 182.94736842105263),\n",
              " ('Clinton Hill', 181.89335664335664),\n",
              " ('Mill Basin', 179.75),\n",
              " ('Park Slope', 176.31225296442688),\n",
              " ('Boerum Hill', 176.135593220339),\n",
              " ('Carroll Gardens', 175.91416309012877),\n",
              " ('Prospect Heights', 173.37254901960785),\n",
              " ('City Island', 173.0),\n",
              " ('Arverne', 171.7792207792208),\n",
              " ('Belle Harbor', 171.5),\n",
              " ('Stuyvesant Town', 169.1081081081081),\n",
              " ('Todt Hill', 169.0),\n",
              " ('Far Rockaway', 165.86206896551724),\n",
              " ('Columbia St', 162.95238095238096),\n",
              " ('Chinatown', 161.49728260869566),\n",
              " ('Grymes Hill', 159.14285714285714),\n",
              " ('Gowanus', 158.80161943319837),\n",
              " ('Bayside', 157.94871794871796),\n",
              " ('Lighthouse Hill', 157.5),\n",
              " ('Spuyten Duyvil', 154.75),\n",
              " ('Shore Acres', 152.71428571428572),\n",
              " ('Navy Yard', 151.64285714285714),\n",
              " ('Fort Greene', 151.37423312883436),\n",
              " ('Downtown Brooklyn', 150.34939759036143),\n",
              " ('South Slope', 146.72535211267606),\n",
              " ('Tottenville', 144.85714285714286),\n",
              " ('Greenpoint', 144.82242152466367),\n",
              " ('Bay Ridge', 144.43262411347519),\n",
              " ('Williamsburg', 143.80280612244897),\n",
              " ('Red Hook', 143.45569620253164),\n",
              " ('Bay Terrace', 142.0),\n",
              " ('Eastchester', 141.69230769230768),\n",
              " ('Eltingville', 141.66666666666666),\n",
              " ('Castleton Corners', 139.75),\n",
              " ('Windsor Terrace', 138.9936305732484),\n",
              " ('Unionport', 137.14285714285714),\n",
              " ('Holliswood', 135.75),\n",
              " ('East Harlem', 133.1987466427932),\n",
              " ('Rockaway Beach', 132.17857142857142),\n",
              " ('Jamaica Hills', 132.125),\n",
              " ('Brighton Beach', 131.93333333333334),\n",
              " ('Cypress Hills', 128.9037037037037),\n",
              " ('Long Island City', 127.46554934823091),\n",
              " ('Two Bridges', 127.06944444444444),\n",
              " ('Flatlands', 126.43373493975903),\n",
              " ('Coney Island', 123.70588235294117),\n",
              " ('Westchester Square', 122.2),\n",
              " ('West Farms', 122.0),\n",
              " ('Forest Hills', 121.625),\n",
              " ('Harlem', 118.97404063205417),\n",
              " ('Huguenot', 118.33333333333333),\n",
              " ('St. George', 118.14583333333333),\n",
              " ('Astoria', 117.18777777777778),\n",
              " ('Howard Beach', 115.4),\n",
              " ('Arrochar', 115.0),\n",
              " ('Morningside Heights', 114.78323699421965),\n",
              " ('Van Nest', 113.81818181818181),\n",
              " ('Roosevelt Island', 113.25974025974025),\n",
              " ('Sunset Park', 113.04102564102564),\n",
              " ('Clason Point', 112.76190476190476),\n",
              " ('Crown Heights', 112.480179028133),\n",
              " ('Kew Gardens Hills', 112.3076923076923),\n",
              " ('Rosebank', 111.85714285714286),\n",
              " ('Prospect-Lefferts Gardens', 110.40186915887851),\n",
              " ('Middle Village', 109.58064516129032),\n",
              " ('Bedford-Stuyvesant', 107.67824448034465),\n",
              " ('Whitestone', 107.54545454545455),\n",
              " ('Bergen Beach', 106.7),\n",
              " ('Briarwood', 105.875),\n",
              " ('Sheepshead Bay', 105.77439024390245),\n",
              " ('Pelham Bay', 105.0),\n",
              " ('Canarsie', 104.36734693877551),\n",
              " ('East Flatbush', 104.222),\n",
              " ('Manhattan Beach', 103.5),\n",
              " ('Bay Terrace, Staten Island', 102.5),\n",
              " ('New Brighton', 101.8),\n",
              " ('St. Albans', 100.82894736842105),\n",
              " ('Great Kills', 100.6),\n",
              " ('Howland Hook', 100.0),\n",
              " ('Fresh Meadows', 99.5),\n",
              " ('Bellerose', 99.35714285714286),\n",
              " ('Stapleton', 98.96296296296296),\n",
              " ('Williamsbridge', 96.75),\n",
              " ('Jamaica', 95.77056277056278),\n",
              " ('Laurelton', 95.33333333333333),\n",
              " ('Ditmars Steinway', 95.02912621359224),\n",
              " ('Edgemere', 94.72727272727273),\n",
              " ('Mariners Harbor', 94.625),\n",
              " ('Springfield Gardens', 94.23529411764706),\n",
              " ('Fort Hamilton', 93.81818181818181),\n",
              " ('Pelham Gardens', 93.60714285714286),\n",
              " ('Flushing', 93.51408450704226),\n",
              " ('Dyker Heights', 93.41666666666667),\n",
              " ('Kensington', 92.88571428571429),\n",
              " ('Flatbush', 92.21256038647343),\n",
              " ('Longwood', 91.91935483870968),\n",
              " ('Midland Beach', 91.83333333333333),\n",
              " ('Throgs Neck', 91.04166666666667),\n",
              " ('Glendale', 90.79629629629629),\n",
              " ('Port Richmond', 90.11111111111111),\n",
              " ('Washington Heights', 89.6106785317019),\n",
              " ('South Beach', 89.25),\n",
              " ('Marble Hill', 89.16666666666667),\n",
              " ('Mott Haven', 88.91666666666667),\n",
              " ('Inwood', 88.89682539682539),\n",
              " ('Hollis', 88.64285714285714),\n",
              " ('Kew Gardens', 88.375),\n",
              " ('College Point', 88.0),\n",
              " ('Allerton', 87.5952380952381),\n",
              " ('Bayswater', 87.47058823529412),\n",
              " ('Claremont Village', 87.46428571428571),\n",
              " ('Richmond Hill', 87.11702127659575),\n",
              " ('Concourse', 86.18),\n",
              " ('Wakefield', 85.58),\n",
              " ('East New York', 85.42660550458716),\n",
              " ('Ozone Park', 85.2741935483871),\n",
              " ('Woodside', 85.09787234042552),\n",
              " ('East Morrisania', 85.0),\n",
              " ('Clifton', 84.93333333333334),\n",
              " ('Sunnyside', 84.86501377410468),\n",
              " ('Bushwick', 84.80040567951319),\n",
              " ('Queens Village', 83.93333333333334),\n",
              " ('Rego Park', 83.87735849056604),\n",
              " ('Maspeth', 83.64545454545454),\n",
              " ('Morrisania', 83.44444444444444),\n",
              " ('Melrose', 83.3),\n",
              " ('Douglaston', 82.75),\n",
              " ('South Ozone Park', 82.4),\n",
              " ('Edenwald', 82.0),\n",
              " ('Bath Beach', 81.76470588235294),\n",
              " ('Cambria Heights', 81.73076923076923),\n",
              " ('Oakwood', 81.2),\n",
              " ('East Elmhurst', 81.18378378378378),\n",
              " ('Jackson Heights', 80.89784946236558),\n",
              " ('West Brighton', 80.55555555555556),\n",
              " ('Elmhurst', 80.45991561181435),\n",
              " ('Midwood', 80.33944954128441),\n",
              " ('North Riverdale', 79.9),\n",
              " ('Port Morris', 79.8913043478261),\n",
              " ('Dongan Hills', 79.42857142857143),\n",
              " ('Gravesend', 79.01470588235294),\n",
              " ('Richmondtown', 78.0),\n",
              " ('Kingsbridge', 77.92857142857143),\n",
              " ('Co-op City', 77.5),\n",
              " ('Mount Hope', 77.5),\n",
              " ('Ridgewood', 77.18439716312056),\n",
              " ('Belmont', 77.125),\n",
              " ('Morris Heights', 76.94117647058823),\n",
              " ('Rosedale', 76.69491525423729),\n",
              " ('Brownsville', 76.45901639344262),\n",
              " ('Tompkinsville', 76.19047619047619),\n",
              " ('New Springville', 76.0),\n",
              " ('Bensonhurst', 75.78666666666666),\n",
              " ('Norwood', 75.54838709677419),\n",
              " ('Baychester', 75.42857142857143),\n",
              " ('Little Neck', 75.2),\n",
              " ('Fieldston', 75.08333333333333),\n",
              " ('Rossville', 75.0),\n",
              " ('Concourse Village', 73.78125),\n",
              " ('Westerleigh', 71.5),\n",
              " ('Highbridge', 71.11111111111111),\n",
              " ('Silver Lake', 70.0),\n",
              " ('University Heights', 69.57142857142857),\n",
              " ('Fordham', 69.44444444444444),\n",
              " ('Morris Park', 69.33333333333333),\n",
              " ('Schuylerville', 69.23076923076923),\n",
              " ('Parkchester', 69.07692307692308),\n",
              " ('Graniteville', 68.66666666666667),\n",
              " ('Emerson Hill', 68.2),\n",
              " ('Arden Heights', 67.25),\n",
              " ('Woodhaven', 67.17045454545455),\n",
              " ('Olinville', 64.0),\n",
              " ('Borough Park', 63.06617647058823),\n",
              " ('Castle Hill', 63.0),\n",
              " ('Woodlawn', 60.09090909090909),\n",
              " ('Corona', 59.171875),\n",
              " ('Mount Eden', 58.5),\n",
              " ('Concord', 58.19230769230769),\n",
              " ('Grant City', 57.666666666666664),\n",
              " ('New Dorp Beach', 57.4),\n",
              " ('Bronxdale', 57.10526315789474),\n",
              " ('New Dorp', 57.0),\n",
              " ('Soundview', 53.46666666666667),\n",
              " ('Tremont', 51.54545454545455),\n",
              " ('Hunts Point', 50.5),\n",
              " (\"Bull's Head\", 47.333333333333336)]"
            ]
          },
          "metadata": {},
          "execution_count": 50
        }
      ],
      "source": [
        "query = \"\"\"\n",
        "        SELECT neighborhoods.name, avg(price) as avg_price\n",
        "        FROM neighborhoods \n",
        "        JOIN locations ON locations.neighborhood_id = neighborhoods.id\n",
        "        JOIN listings ON listings.location_id = locations.id\n",
        "        GROUP BY neighborhoods.name\n",
        "        ORDER BY avg_price DESC\n",
        "        \"\"\"\n",
        "cursor.execute(query)\n",
        "cursor.fetchall()"
      ]
    },
    {
      "cell_type": "markdown",
      "metadata": {
        "id": "Os_o5rF7VfS6"
      },
      "source": [
        "### Conclusion\n",
        "In this lab we worked on the \"Has One\" and \"Has Many\" relations in SQL. We began by mapping out the relations between the tables, which gave us a better idea of how we could then join them in our queries. We finished the lab by creating queries using JOIN clauses that connect the tables using these relationships."
      ]
    },
    {
      "cell_type": "markdown",
      "metadata": {
        "id": "AYLA7Av2VfS6"
      },
      "source": [
        "### Resources\n",
        "\n",
        "* [SAT Results](https://data.cityofnewyork.us/Education/2012-SAT-Results/f9bf-2cp4)\n",
        "* [School District Breakdown](https://data.cityofnewyork.us/Education/School-District-Breakdowns/g3vh-kbnw)"
      ]
    }
  ],
  "metadata": {
    "kernelspec": {
      "display_name": "Python 3 (ipykernel)",
      "language": "python",
      "name": "python3"
    },
    "language_info": {
      "codemirror_mode": {
        "name": "ipython",
        "version": 3
      },
      "file_extension": ".py",
      "mimetype": "text/x-python",
      "name": "python",
      "nbconvert_exporter": "python",
      "pygments_lexer": "ipython3",
      "version": "3.9.10"
    },
    "colab": {
      "name": "belongs-to-bnb.ipynb",
      "provenance": []
    }
  },
  "nbformat": 4,
  "nbformat_minor": 0
}