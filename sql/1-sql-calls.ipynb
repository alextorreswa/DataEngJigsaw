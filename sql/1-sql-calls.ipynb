{
  "cells": [
    {
      "cell_type": "markdown",
      "id": "01d6db2d-6d1c-4fcf-b095-b8a195fd57b1",
      "metadata": {
        "id": "01d6db2d-6d1c-4fcf-b095-b8a195fd57b1"
      },
      "source": [
        "# Number of Calls Between"
      ]
    },
    {
      "cell_type": "markdown",
      "id": "edd5dfaf-b0f7-4b79-be02-41370c54a368",
      "metadata": {
        "id": "edd5dfaf-b0f7-4b79-be02-41370c54a368"
      },
      "source": [
        "* Leetcode 1699 Number of Calls Between Two Persons"
      ]
    },
    {
      "cell_type": "markdown",
      "id": "8e3ba3d7-5c5c-4277-975a-76d4efb75e6d",
      "metadata": {
        "id": "8e3ba3d7-5c5c-4277-975a-76d4efb75e6d"
      },
      "source": [
        "Write an SQL query to report the number of calls and the total call duration between each pair of distinct persons (person1, person2) where person1 < person2.\n",
        "\n",
        "Return the result table in any order.\n",
        "\n",
        "The query result format is in the following example."
      ]
    },
    {
      "cell_type": "markdown",
      "id": "3b8e1e5d-03d3-4606-95ea-1f943215e798",
      "metadata": {
        "id": "3b8e1e5d-03d3-4606-95ea-1f943215e798"
      },
      "source": [
        "### Loading the Data"
      ]
    },
    {
      "cell_type": "code",
      "execution_count": 13,
      "id": "6f93f69e-9130-4692-bb4c-c8a0d797d9be",
      "metadata": {
        "id": "6f93f69e-9130-4692-bb4c-c8a0d797d9be"
      },
      "outputs": [],
      "source": [
        "import sqlite3\n",
        "\n",
        "conn = sqlite3.connect('crm.db')\n",
        "\n",
        "def build_dataframe(data):\n",
        "    columns = data['headers']\n",
        "    values = data['values']\n",
        "    df = pd.DataFrame(values)\n",
        "    df.columns = columns\n",
        "    return df"
      ]
    },
    {
      "cell_type": "code",
      "execution_count": 14,
      "id": "71437902-2463-4f26-9557-18081a7c7a69",
      "metadata": {
        "id": "71437902-2463-4f26-9557-18081a7c7a69"
      },
      "outputs": [],
      "source": [
        "values = [\n",
        "    {\"from_id\": \"1\", \"to_id\": \"2\", \"duration\": 59\n",
        "    }, {\"from_id\": \"2\", \"to_id\": \"1\", \"duration\": 11\n",
        "    },{\"from_id\": 1,\n",
        "        \"to_id\": \"3\", \"duration\": 20},\n",
        "    {\"from_id\": \"3\", \"to_id\": \"4\", \"duration\": 100},\n",
        "    {\"from_id\": \"3\", \"to_id\": \"4\",\"duration\": 200\n",
        "    },\n",
        "    {\"from_id\": \"3\", \"to_id\": \"4\", \"duration\": 200\n",
        "    },\n",
        "    {\"from_id\": \"4\", \"to_id\": \"3\", \"duration\": 499}]"
      ]
    },
    {
      "cell_type": "code",
      "execution_count": 15,
      "id": "861bc32e-6dd2-4e42-a0cd-74943366f181",
      "metadata": {
        "id": "861bc32e-6dd2-4e42-a0cd-74943366f181"
      },
      "outputs": [],
      "source": [
        "import pandas as pd\n",
        "data = {\"headers\": [\"from_id\", \"to_id\", \"duration\"], \"values\": values}\n",
        "\n",
        "df = build_dataframe(data)\n",
        "\n",
        "df.to_sql('calls', conn, if_exists = 'replace', index = False)"
      ]
    },
    {
      "cell_type": "code",
      "execution_count": 16,
      "id": "9e6e5b65-e718-4ea9-8e78-aca29b83ada9",
      "metadata": {
        "id": "9e6e5b65-e718-4ea9-8e78-aca29b83ada9",
        "outputId": "04799825-9ecc-4c56-a7e7-3162e44b04d0",
        "colab": {
          "base_uri": "https://localhost:8080/",
          "height": 269
        }
      },
      "outputs": [
        {
          "output_type": "execute_result",
          "data": {
            "text/plain": [
              "  from_id to_id  duration\n",
              "0       1     2        59\n",
              "1       2     1        11\n",
              "2       1     3        20\n",
              "3       3     4       100\n",
              "4       3     4       200\n",
              "5       3     4       200\n",
              "6       4     3       499"
            ],
            "text/html": [
              "\n",
              "  <div id=\"df-d01bca0d-98b1-4e1e-ae25-63b0cc1d08c5\">\n",
              "    <div class=\"colab-df-container\">\n",
              "      <div>\n",
              "<style scoped>\n",
              "    .dataframe tbody tr th:only-of-type {\n",
              "        vertical-align: middle;\n",
              "    }\n",
              "\n",
              "    .dataframe tbody tr th {\n",
              "        vertical-align: top;\n",
              "    }\n",
              "\n",
              "    .dataframe thead th {\n",
              "        text-align: right;\n",
              "    }\n",
              "</style>\n",
              "<table border=\"1\" class=\"dataframe\">\n",
              "  <thead>\n",
              "    <tr style=\"text-align: right;\">\n",
              "      <th></th>\n",
              "      <th>from_id</th>\n",
              "      <th>to_id</th>\n",
              "      <th>duration</th>\n",
              "    </tr>\n",
              "  </thead>\n",
              "  <tbody>\n",
              "    <tr>\n",
              "      <th>0</th>\n",
              "      <td>1</td>\n",
              "      <td>2</td>\n",
              "      <td>59</td>\n",
              "    </tr>\n",
              "    <tr>\n",
              "      <th>1</th>\n",
              "      <td>2</td>\n",
              "      <td>1</td>\n",
              "      <td>11</td>\n",
              "    </tr>\n",
              "    <tr>\n",
              "      <th>2</th>\n",
              "      <td>1</td>\n",
              "      <td>3</td>\n",
              "      <td>20</td>\n",
              "    </tr>\n",
              "    <tr>\n",
              "      <th>3</th>\n",
              "      <td>3</td>\n",
              "      <td>4</td>\n",
              "      <td>100</td>\n",
              "    </tr>\n",
              "    <tr>\n",
              "      <th>4</th>\n",
              "      <td>3</td>\n",
              "      <td>4</td>\n",
              "      <td>200</td>\n",
              "    </tr>\n",
              "    <tr>\n",
              "      <th>5</th>\n",
              "      <td>3</td>\n",
              "      <td>4</td>\n",
              "      <td>200</td>\n",
              "    </tr>\n",
              "    <tr>\n",
              "      <th>6</th>\n",
              "      <td>4</td>\n",
              "      <td>3</td>\n",
              "      <td>499</td>\n",
              "    </tr>\n",
              "  </tbody>\n",
              "</table>\n",
              "</div>\n",
              "      <button class=\"colab-df-convert\" onclick=\"convertToInteractive('df-d01bca0d-98b1-4e1e-ae25-63b0cc1d08c5')\"\n",
              "              title=\"Convert this dataframe to an interactive table.\"\n",
              "              style=\"display:none;\">\n",
              "        \n",
              "  <svg xmlns=\"http://www.w3.org/2000/svg\" height=\"24px\"viewBox=\"0 0 24 24\"\n",
              "       width=\"24px\">\n",
              "    <path d=\"M0 0h24v24H0V0z\" fill=\"none\"/>\n",
              "    <path d=\"M18.56 5.44l.94 2.06.94-2.06 2.06-.94-2.06-.94-.94-2.06-.94 2.06-2.06.94zm-11 1L8.5 8.5l.94-2.06 2.06-.94-2.06-.94L8.5 2.5l-.94 2.06-2.06.94zm10 10l.94 2.06.94-2.06 2.06-.94-2.06-.94-.94-2.06-.94 2.06-2.06.94z\"/><path d=\"M17.41 7.96l-1.37-1.37c-.4-.4-.92-.59-1.43-.59-.52 0-1.04.2-1.43.59L10.3 9.45l-7.72 7.72c-.78.78-.78 2.05 0 2.83L4 21.41c.39.39.9.59 1.41.59.51 0 1.02-.2 1.41-.59l7.78-7.78 2.81-2.81c.8-.78.8-2.07 0-2.86zM5.41 20L4 18.59l7.72-7.72 1.47 1.35L5.41 20z\"/>\n",
              "  </svg>\n",
              "      </button>\n",
              "      \n",
              "  <style>\n",
              "    .colab-df-container {\n",
              "      display:flex;\n",
              "      flex-wrap:wrap;\n",
              "      gap: 12px;\n",
              "    }\n",
              "\n",
              "    .colab-df-convert {\n",
              "      background-color: #E8F0FE;\n",
              "      border: none;\n",
              "      border-radius: 50%;\n",
              "      cursor: pointer;\n",
              "      display: none;\n",
              "      fill: #1967D2;\n",
              "      height: 32px;\n",
              "      padding: 0 0 0 0;\n",
              "      width: 32px;\n",
              "    }\n",
              "\n",
              "    .colab-df-convert:hover {\n",
              "      background-color: #E2EBFA;\n",
              "      box-shadow: 0px 1px 2px rgba(60, 64, 67, 0.3), 0px 1px 3px 1px rgba(60, 64, 67, 0.15);\n",
              "      fill: #174EA6;\n",
              "    }\n",
              "\n",
              "    [theme=dark] .colab-df-convert {\n",
              "      background-color: #3B4455;\n",
              "      fill: #D2E3FC;\n",
              "    }\n",
              "\n",
              "    [theme=dark] .colab-df-convert:hover {\n",
              "      background-color: #434B5C;\n",
              "      box-shadow: 0px 1px 3px 1px rgba(0, 0, 0, 0.15);\n",
              "      filter: drop-shadow(0px 1px 2px rgba(0, 0, 0, 0.3));\n",
              "      fill: #FFFFFF;\n",
              "    }\n",
              "  </style>\n",
              "\n",
              "      <script>\n",
              "        const buttonEl =\n",
              "          document.querySelector('#df-d01bca0d-98b1-4e1e-ae25-63b0cc1d08c5 button.colab-df-convert');\n",
              "        buttonEl.style.display =\n",
              "          google.colab.kernel.accessAllowed ? 'block' : 'none';\n",
              "\n",
              "        async function convertToInteractive(key) {\n",
              "          const element = document.querySelector('#df-d01bca0d-98b1-4e1e-ae25-63b0cc1d08c5');\n",
              "          const dataTable =\n",
              "            await google.colab.kernel.invokeFunction('convertToInteractive',\n",
              "                                                     [key], {});\n",
              "          if (!dataTable) return;\n",
              "\n",
              "          const docLinkHtml = 'Like what you see? Visit the ' +\n",
              "            '<a target=\"_blank\" href=https://colab.research.google.com/notebooks/data_table.ipynb>data table notebook</a>'\n",
              "            + ' to learn more about interactive tables.';\n",
              "          element.innerHTML = '';\n",
              "          dataTable['output_type'] = 'display_data';\n",
              "          await google.colab.output.renderOutput(dataTable, element);\n",
              "          const docLink = document.createElement('div');\n",
              "          docLink.innerHTML = docLinkHtml;\n",
              "          element.appendChild(docLink);\n",
              "        }\n",
              "      </script>\n",
              "    </div>\n",
              "  </div>\n",
              "  "
            ]
          },
          "metadata": {},
          "execution_count": 16
        }
      ],
      "source": [
        "pd.read_sql('select * from calls', conn)"
      ]
    },
    {
      "cell_type": "markdown",
      "id": "cd30e7a6-bbd9-491f-bffa-ef6cf05bcb65",
      "metadata": {
        "id": "cd30e7a6-bbd9-491f-bffa-ef6cf05bcb65"
      },
      "source": [
        "### The problem"
      ]
    },
    {
      "cell_type": "markdown",
      "id": "16b4fd48-9430-461a-a035-5a20683fccea",
      "metadata": {
        "id": "16b4fd48-9430-461a-a035-5a20683fccea"
      },
      "source": [
        "Write an SQL query to report the number of calls and the total call duration between each pair of distinct persons (person1, person2) where person1 < person2.\n",
        "\n",
        "Return the result table in any order.\n",
        "\n",
        "The query result format is in the following example."
      ]
    },
    {
      "cell_type": "markdown",
      "id": "b4bff6cc-b836-4c3a-8c61-9526d757aaf5",
      "metadata": {
        "id": "b4bff6cc-b836-4c3a-8c61-9526d757aaf5"
      },
      "source": [
        "```\n",
        "+---------+---------+------------+----------------+\n",
        "| person1 | person2 | call_count | total_duration |\n",
        "+---------+---------+------------+----------------+\n",
        "| 1       | 2       | 2          | 70             |\n",
        "| 1       | 3       | 1          | 20             |\n",
        "| 3       | 4       | 4          | 999            |\n",
        "+---------+---------+------------+----------------+\n",
        "```"
      ]
    },
    {
      "cell_type": "code",
      "execution_count": 30,
      "id": "6aea739b-f7ba-437f-b352-66952a6767bd",
      "metadata": {
        "id": "6aea739b-f7ba-437f-b352-66952a6767bd",
        "outputId": "7c4c43fb-bc69-4041-a65c-511485ee5775",
        "colab": {
          "base_uri": "https://localhost:8080/",
          "height": 143
        }
      },
      "outputs": [
        {
          "output_type": "execute_result",
          "data": {
            "text/plain": [
              "  person1 person2  call_count  total_duration\n",
              "0       1       2           2              70\n",
              "1       1       3           1              20\n",
              "2       3       4           4             999"
            ],
            "text/html": [
              "\n",
              "  <div id=\"df-b793aab0-8399-4484-9ccc-5283e4ab961c\">\n",
              "    <div class=\"colab-df-container\">\n",
              "      <div>\n",
              "<style scoped>\n",
              "    .dataframe tbody tr th:only-of-type {\n",
              "        vertical-align: middle;\n",
              "    }\n",
              "\n",
              "    .dataframe tbody tr th {\n",
              "        vertical-align: top;\n",
              "    }\n",
              "\n",
              "    .dataframe thead th {\n",
              "        text-align: right;\n",
              "    }\n",
              "</style>\n",
              "<table border=\"1\" class=\"dataframe\">\n",
              "  <thead>\n",
              "    <tr style=\"text-align: right;\">\n",
              "      <th></th>\n",
              "      <th>person1</th>\n",
              "      <th>person2</th>\n",
              "      <th>call_count</th>\n",
              "      <th>total_duration</th>\n",
              "    </tr>\n",
              "  </thead>\n",
              "  <tbody>\n",
              "    <tr>\n",
              "      <th>0</th>\n",
              "      <td>1</td>\n",
              "      <td>2</td>\n",
              "      <td>2</td>\n",
              "      <td>70</td>\n",
              "    </tr>\n",
              "    <tr>\n",
              "      <th>1</th>\n",
              "      <td>1</td>\n",
              "      <td>3</td>\n",
              "      <td>1</td>\n",
              "      <td>20</td>\n",
              "    </tr>\n",
              "    <tr>\n",
              "      <th>2</th>\n",
              "      <td>3</td>\n",
              "      <td>4</td>\n",
              "      <td>4</td>\n",
              "      <td>999</td>\n",
              "    </tr>\n",
              "  </tbody>\n",
              "</table>\n",
              "</div>\n",
              "      <button class=\"colab-df-convert\" onclick=\"convertToInteractive('df-b793aab0-8399-4484-9ccc-5283e4ab961c')\"\n",
              "              title=\"Convert this dataframe to an interactive table.\"\n",
              "              style=\"display:none;\">\n",
              "        \n",
              "  <svg xmlns=\"http://www.w3.org/2000/svg\" height=\"24px\"viewBox=\"0 0 24 24\"\n",
              "       width=\"24px\">\n",
              "    <path d=\"M0 0h24v24H0V0z\" fill=\"none\"/>\n",
              "    <path d=\"M18.56 5.44l.94 2.06.94-2.06 2.06-.94-2.06-.94-.94-2.06-.94 2.06-2.06.94zm-11 1L8.5 8.5l.94-2.06 2.06-.94-2.06-.94L8.5 2.5l-.94 2.06-2.06.94zm10 10l.94 2.06.94-2.06 2.06-.94-2.06-.94-.94-2.06-.94 2.06-2.06.94z\"/><path d=\"M17.41 7.96l-1.37-1.37c-.4-.4-.92-.59-1.43-.59-.52 0-1.04.2-1.43.59L10.3 9.45l-7.72 7.72c-.78.78-.78 2.05 0 2.83L4 21.41c.39.39.9.59 1.41.59.51 0 1.02-.2 1.41-.59l7.78-7.78 2.81-2.81c.8-.78.8-2.07 0-2.86zM5.41 20L4 18.59l7.72-7.72 1.47 1.35L5.41 20z\"/>\n",
              "  </svg>\n",
              "      </button>\n",
              "      \n",
              "  <style>\n",
              "    .colab-df-container {\n",
              "      display:flex;\n",
              "      flex-wrap:wrap;\n",
              "      gap: 12px;\n",
              "    }\n",
              "\n",
              "    .colab-df-convert {\n",
              "      background-color: #E8F0FE;\n",
              "      border: none;\n",
              "      border-radius: 50%;\n",
              "      cursor: pointer;\n",
              "      display: none;\n",
              "      fill: #1967D2;\n",
              "      height: 32px;\n",
              "      padding: 0 0 0 0;\n",
              "      width: 32px;\n",
              "    }\n",
              "\n",
              "    .colab-df-convert:hover {\n",
              "      background-color: #E2EBFA;\n",
              "      box-shadow: 0px 1px 2px rgba(60, 64, 67, 0.3), 0px 1px 3px 1px rgba(60, 64, 67, 0.15);\n",
              "      fill: #174EA6;\n",
              "    }\n",
              "\n",
              "    [theme=dark] .colab-df-convert {\n",
              "      background-color: #3B4455;\n",
              "      fill: #D2E3FC;\n",
              "    }\n",
              "\n",
              "    [theme=dark] .colab-df-convert:hover {\n",
              "      background-color: #434B5C;\n",
              "      box-shadow: 0px 1px 3px 1px rgba(0, 0, 0, 0.15);\n",
              "      filter: drop-shadow(0px 1px 2px rgba(0, 0, 0, 0.3));\n",
              "      fill: #FFFFFF;\n",
              "    }\n",
              "  </style>\n",
              "\n",
              "      <script>\n",
              "        const buttonEl =\n",
              "          document.querySelector('#df-b793aab0-8399-4484-9ccc-5283e4ab961c button.colab-df-convert');\n",
              "        buttonEl.style.display =\n",
              "          google.colab.kernel.accessAllowed ? 'block' : 'none';\n",
              "\n",
              "        async function convertToInteractive(key) {\n",
              "          const element = document.querySelector('#df-b793aab0-8399-4484-9ccc-5283e4ab961c');\n",
              "          const dataTable =\n",
              "            await google.colab.kernel.invokeFunction('convertToInteractive',\n",
              "                                                     [key], {});\n",
              "          if (!dataTable) return;\n",
              "\n",
              "          const docLinkHtml = 'Like what you see? Visit the ' +\n",
              "            '<a target=\"_blank\" href=https://colab.research.google.com/notebooks/data_table.ipynb>data table notebook</a>'\n",
              "            + ' to learn more about interactive tables.';\n",
              "          element.innerHTML = '';\n",
              "          dataTable['output_type'] = 'display_data';\n",
              "          await google.colab.output.renderOutput(dataTable, element);\n",
              "          const docLink = document.createElement('div');\n",
              "          docLink.innerHTML = docLinkHtml;\n",
              "          element.appendChild(docLink);\n",
              "        }\n",
              "      </script>\n",
              "    </div>\n",
              "  </div>\n",
              "  "
            ]
          },
          "metadata": {},
          "execution_count": 30
        }
      ],
      "source": [
        "pd.read_sql('''\n",
        "SELECT \n",
        "  CASE WHEN from_id < to_id THEN from_id \n",
        "  ELSE to_id \n",
        "  END AS person1, \n",
        "  CASE WHEN from_id < to_id THEN to_id  \n",
        "  ELSE from_id\n",
        "  END AS person2, \n",
        "  count(duration) call_count, sum(duration) total_duration\n",
        "FROM calls\n",
        "GROUP BY 1,2;\n",
        "''', conn)"
      ]
    }
  ],
  "metadata": {
    "kernelspec": {
      "display_name": "Python 3 (ipykernel)",
      "language": "python",
      "name": "python3"
    },
    "language_info": {
      "codemirror_mode": {
        "name": "ipython",
        "version": 3
      },
      "file_extension": ".py",
      "mimetype": "text/x-python",
      "name": "python",
      "nbconvert_exporter": "python",
      "pygments_lexer": "ipython3",
      "version": "3.10.6"
    },
    "colab": {
      "provenance": []
    }
  },
  "nbformat": 4,
  "nbformat_minor": 5
}