{
  "cells": [
    {
      "cell_type": "markdown",
      "metadata": {
        "id": "view-in-github",
        "colab_type": "text"
      },
      "source": [
        "<a href=\"https://colab.research.google.com/github/alextorreswa/DataEngJigsaw/blob/main/5-coercing-strings/3-coercing-strings-lab.ipynb\" target=\"_parent\"><img src=\"https://colab.research.google.com/assets/colab-badge.svg\" alt=\"Open In Colab\"/></a>"
      ]
    },
    {
      "cell_type": "markdown",
      "metadata": {
        "id": "6AkT6jdoFBuh"
      },
      "source": [
        "# Coercing Strings Lab"
      ]
    },
    {
      "cell_type": "markdown",
      "metadata": {
        "id": "Pjh4RrzaFBuk"
      },
      "source": [
        "### Introduction"
      ]
    },
    {
      "cell_type": "markdown",
      "metadata": {
        "id": "Ko4C77tKFBul"
      },
      "source": [
        "In this lesson, let's practice working with string data in Python.  We'll do so by looking at the Yelp reviews for Max's Wine Bar in Texas."
      ]
    },
    {
      "cell_type": "markdown",
      "metadata": {
        "id": "txKLMkcyFBul"
      },
      "source": [
        "### Loading The Data"
      ]
    },
    {
      "cell_type": "markdown",
      "metadata": {
        "id": "cFaiOhppFBum"
      },
      "source": [
        "We start by loading up the data, and then selecting the text from the reviews."
      ]
    },
    {
      "cell_type": "code",
      "execution_count": 1,
      "metadata": {
        "id": "a7QpYMf5FBum"
      },
      "outputs": [],
      "source": [
        "import pandas as pd\n",
        "url = \"https://raw.githubusercontent.com/eng-6-22/mod-1-a-data-structures/master/5-coercing-strings/updated-reviews.json\"\n",
        "df = pd.read_json(url)"
      ]
    },
    {
      "cell_type": "code",
      "execution_count": 2,
      "metadata": {
        "id": "f_qta_N1FBun"
      },
      "outputs": [],
      "source": [
        "reviews = list(df.text)"
      ]
    },
    {
      "cell_type": "code",
      "execution_count": 3,
      "metadata": {
        "id": "eeFB1aj9FBun",
        "outputId": "044e9e71-8bce-43e2-8715-98d3cd89c6ba",
        "colab": {
          "base_uri": "https://localhost:8080/"
        }
      },
      "outputs": [
        {
          "output_type": "execute_result",
          "data": {
            "text/plain": [
              "['Chicken and waffles are bombomski!!!! So yum 100% recommend. Outdoor area is good! Will be back.',\n",
              " \"This place holds great memories for me and my family.... \\xa0It was one of the last outtings with my mother.... Now it's closed down! The food was really good and it was a great ambience with the diverse crowd that was out. \\xa0We had a table for about 20 or so for our guest. Our waitress did not miss a beat! \\xa0She was able to get everyone's order and come back to make sure we were taken care of. \\xa0Top Notch! \\xa0Max hit the spot of providing a little of something for everyone from the menu. \\xa0The cocktails were also really good with a nice kick! The comfort food hit the spot for me.... \\xa0I was really loving the greens and fried chicken. Now when I added the waffles to the dish it makes the perfect combination. They had no problem with splitting the bill with such a large crowd. Everyone had a nice time and enjoyed the occasion as well as food....\"]"
            ]
          },
          "metadata": {},
          "execution_count": 3
        }
      ],
      "source": [
        "reviews[:2]"
      ]
    },
    {
      "cell_type": "markdown",
      "metadata": {
        "id": "_Ebv6ImeFBuo"
      },
      "source": [
        "### Finding and Counting"
      ]
    },
    {
      "cell_type": "markdown",
      "metadata": {
        "id": "Tf1Fux_NFBup"
      },
      "source": [
        "Let's start by practicing with the `find` method in Python.  We'll start by selecting the seventh review. "
      ]
    },
    {
      "cell_type": "code",
      "execution_count": 4,
      "metadata": {
        "id": "UKig1MEgFBup",
        "outputId": "c6000ecf-a652-4eb3-de65-805c759c448c",
        "colab": {
          "base_uri": "https://localhost:8080/",
          "height": 36
        }
      },
      "outputs": [
        {
          "output_type": "execute_result",
          "data": {
            "text/plain": [
              "'The friend chicken here is del'"
            ],
            "application/vnd.google.colaboratory.intrinsic+json": {
              "type": "string"
            }
          },
          "metadata": {},
          "execution_count": 4
        }
      ],
      "source": [
        "seventh_review = reviews[6]\n",
        "seventh_review[:30]"
      ]
    },
    {
      "cell_type": "markdown",
      "metadata": {
        "id": "NOjPEU9GFBup"
      },
      "source": [
        "Now imagine that we want to write a method that selects characters before and after the word chicken to see what it is often associated with."
      ]
    },
    {
      "cell_type": "markdown",
      "metadata": {
        "id": "SiW7btfyFBuq"
      },
      "source": [
        "> Begin by finding the index of the string in the `seventh_review` where the word `'chicken'` begins."
      ]
    },
    {
      "cell_type": "code",
      "execution_count": 5,
      "metadata": {
        "id": "mqVTqHybFBuq",
        "outputId": "c913391c-a69f-4501-ee6f-5e0daaf3d5ff",
        "colab": {
          "base_uri": "https://localhost:8080/"
        }
      },
      "outputs": [
        {
          "output_type": "execute_result",
          "data": {
            "text/plain": [
              "11"
            ]
          },
          "metadata": {},
          "execution_count": 5
        }
      ],
      "source": [
        "char_chicken = seventh_review.find('chicken')\n",
        "char_chicken\n",
        "# 11"
      ]
    },
    {
      "cell_type": "markdown",
      "metadata": {
        "id": "x2GBfyP5FBuq"
      },
      "source": [
        "Next, write a method that selects ten characters before the word chicken and after the word chicken.  "
      ]
    },
    {
      "cell_type": "code",
      "execution_count": 6,
      "metadata": {
        "id": "VL-Pd7p1FBuq"
      },
      "outputs": [],
      "source": [
        "def select_text(review):\n",
        "  index = review.find(\"chicken\")\n",
        "  return review[index-10:index+17]"
      ]
    },
    {
      "cell_type": "code",
      "source": [
        "seventh_review"
      ],
      "metadata": {
        "id": "R88cnZeyzx3D",
        "outputId": "09f33acb-277c-4bb1-ad2c-0a70d424afcb",
        "colab": {
          "base_uri": "https://localhost:8080/",
          "height": 54
        }
      },
      "execution_count": 7,
      "outputs": [
        {
          "output_type": "execute_result",
          "data": {
            "text/plain": [
              "\"The friend chicken here is delicious but it's even better if Frank takes care of you. He was so great to pay attention that it was my husbands birthday and brought us sparkling rose and our son some fruit from the kitchen. Order the classic fried chicken, the Max n cheese, and the asparagus. All are delicious!\""
            ],
            "application/vnd.google.colaboratory.intrinsic+json": {
              "type": "string"
            }
          },
          "metadata": {},
          "execution_count": 7
        }
      ]
    },
    {
      "cell_type": "code",
      "execution_count": 8,
      "metadata": {
        "id": "kOh-bODkFBur",
        "outputId": "61625d93-77d5-4c11-f136-2bdeb6b86cc2",
        "colab": {
          "base_uri": "https://localhost:8080/",
          "height": 36
        }
      },
      "outputs": [
        {
          "output_type": "execute_result",
          "data": {
            "text/plain": [
              "'he friend chicken here is d'"
            ],
            "application/vnd.google.colaboratory.intrinsic+json": {
              "type": "string"
            }
          },
          "metadata": {},
          "execution_count": 8
        }
      ],
      "source": [
        "select_text(seventh_review)\n",
        "# 'he friend chicken here is d'"
      ]
    },
    {
      "cell_type": "markdown",
      "metadata": {
        "id": "VeP4P-tDFBur"
      },
      "source": [
        "Now write a method that can take any string and word as an argument and return ten characters before and after that word."
      ]
    },
    {
      "cell_type": "code",
      "execution_count": 11,
      "metadata": {
        "id": "WlLFyIBMFBur"
      },
      "outputs": [],
      "source": [
        "def select_text_around(review, word):\n",
        "  index = review.find(word)\n",
        "  return review[index-10:index+10+len(word)]"
      ]
    },
    {
      "cell_type": "code",
      "execution_count": 12,
      "metadata": {
        "id": "17yGeX31FBur",
        "outputId": "ce21a2cc-b546-44d2-fb1b-ded2ef4c971b",
        "colab": {
          "base_uri": "https://localhost:8080/",
          "height": 36
        }
      },
      "outputs": [
        {
          "output_type": "execute_result",
          "data": {
            "text/plain": [
              "'e classic fried chicken, '"
            ],
            "application/vnd.google.colaboratory.intrinsic+json": {
              "type": "string"
            }
          },
          "metadata": {},
          "execution_count": 12
        }
      ],
      "source": [
        "select_text_around(seventh_review, 'fried')\n",
        "# 'e classic fried chicken, '"
      ]
    },
    {
      "cell_type": "markdown",
      "metadata": {
        "id": "1jqoGpDFFBus"
      },
      "source": [
        "2. Using Count"
      ]
    },
    {
      "cell_type": "markdown",
      "metadata": {
        "id": "WYdGVaSYFBus"
      },
      "source": [
        "Next, let's write a function that counts up the number of exclamation points in a review."
      ]
    },
    {
      "cell_type": "markdown",
      "metadata": {
        "id": "Fqi4GTXxFBus"
      },
      "source": [
        "> Do so with the `count` method."
      ]
    },
    {
      "cell_type": "code",
      "execution_count": 13,
      "metadata": {
        "id": "Rn9btvcVFBus"
      },
      "outputs": [],
      "source": [
        "def count_exclamations(review):\n",
        "    return review.count('!')"
      ]
    },
    {
      "cell_type": "code",
      "execution_count": 14,
      "metadata": {
        "id": "Clud9YXQFBus",
        "outputId": "ae96ea61-d439-40ad-f05b-ffd232fc1958",
        "colab": {
          "base_uri": "https://localhost:8080/"
        }
      },
      "outputs": [
        {
          "output_type": "execute_result",
          "data": {
            "text/plain": [
              "5"
            ]
          },
          "metadata": {},
          "execution_count": 14
        }
      ],
      "source": [
        "first_review = reviews[0]\n",
        "count_exclamations(first_review)\n",
        "# 5"
      ]
    },
    {
      "cell_type": "markdown",
      "metadata": {
        "id": "ciOp84FlFBut"
      },
      "source": [
        "There are other ways to do this.  For example, note that we can iterate through the characters of a string."
      ]
    },
    {
      "cell_type": "markdown",
      "metadata": {
        "id": "qn3jkgSKFBut"
      },
      "source": [
        "> See this by uncommenting and executing the cell below."
      ]
    },
    {
      "cell_type": "code",
      "execution_count": null,
      "metadata": {
        "id": "drwWp4jRFBut"
      },
      "outputs": [],
      "source": [
        " [char for char in first_review]"
      ]
    },
    {
      "cell_type": "markdown",
      "metadata": {
        "id": "7vD30M1EFBut"
      },
      "source": [
        "So use list comprehension to count up the number of exclamation points in a string."
      ]
    },
    {
      "cell_type": "code",
      "execution_count": 17,
      "metadata": {
        "id": "apH6LRpOFBut",
        "outputId": "11d4cf1b-1099-4640-d1fa-66b3d0e7e16e",
        "colab": {
          "base_uri": "https://localhost:8080/"
        }
      },
      "outputs": [
        {
          "output_type": "execute_result",
          "data": {
            "text/plain": [
              "5"
            ]
          },
          "metadata": {},
          "execution_count": 17
        }
      ],
      "source": [
        " len([char for char in first_review if char == '!'])"
      ]
    },
    {
      "cell_type": "markdown",
      "metadata": {
        "id": "FbCCApugFBut"
      },
      "source": [
        "### Back to Split"
      ]
    },
    {
      "cell_type": "markdown",
      "metadata": {
        "id": "La6EaySZFBut"
      },
      "source": [
        "Let's return to our method where we found the text that surrounds the word  `chicken` using the find method.  Now another way that we could do this is by splitting the review by word, and then selecting the words before and after the specified word in a reviww.  \n",
        "\n",
        "> To do this, we'll need a way to find the `index` where our word is located, so look at:\n",
        "\n",
        "* `enumerate` in Python\n",
        "* using `range()` to iterate through a list"
      ]
    },
    {
      "cell_type": "code",
      "source": [
        "def review_word(review, selected_word):\n",
        "  listed_review_words = []\n",
        "  split_review = review.split()\n",
        "  for count, review_word in enumerate(split_review):\n",
        "    if review_word == selected_word:  \n",
        "      begin_word = count - 2\n",
        "      if begin_word < 0: \n",
        "        begin_word = 0\n",
        "      end_word = count + 2\n",
        "      listed_review_words.append(' '.join(split_review[begin_word:end_word]))\n",
        "  return listed_review_words"
      ],
      "metadata": {
        "id": "Nwe8paBqqSZl"
      },
      "execution_count": 24,
      "outputs": []
    },
    {
      "cell_type": "code",
      "execution_count": 25,
      "metadata": {
        "id": "4KHb9NlFFBut",
        "outputId": "9a94ac32-748e-492a-ddc6-7ddf1a6eb5e6",
        "colab": {
          "base_uri": "https://localhost:8080/"
        }
      },
      "outputs": [
        {
          "output_type": "execute_result",
          "data": {
            "text/plain": [
              "['Service was slow',\n",
              " 'The waffle was cold',\n",
              " 'the chicken was good',\n",
              " 'the dish was over']"
            ]
          },
          "metadata": {},
          "execution_count": 25
        }
      ],
      "source": [
        "chosen_review = reviews[13]\n",
        "review_word(chosen_review, \"was\")\n",
        "# ['Service was slow',\n",
        "#  'The waffle was cold',\n",
        "#  'the chicken was good',\n",
        "#  'the dish was over']"
      ]
    },
    {
      "cell_type": "markdown",
      "metadata": {
        "id": "3fUf1mnfFBuu"
      },
      "source": [
        "> The above is hard so please split it into steps and try to make progress."
      ]
    }
  ],
  "metadata": {
    "kernelspec": {
      "display_name": "Python 3 (ipykernel)",
      "language": "python",
      "name": "python3"
    },
    "language_info": {
      "codemirror_mode": {
        "name": "ipython",
        "version": 3
      },
      "file_extension": ".py",
      "mimetype": "text/x-python",
      "name": "python",
      "nbconvert_exporter": "python",
      "pygments_lexer": "ipython3",
      "version": "3.9.10"
    },
    "colab": {
      "name": "3-coercing-strings-lab.ipynb",
      "provenance": [],
      "include_colab_link": true
    }
  },
  "nbformat": 4,
  "nbformat_minor": 0
}