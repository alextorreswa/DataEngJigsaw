{
  "cells": [
    {
      "cell_type": "markdown",
      "metadata": {
        "id": "P9kNQkI8A6qt"
      },
      "source": [
        "# Coercing and Creating Strings"
      ]
    },
    {
      "cell_type": "markdown",
      "metadata": {
        "id": "Gt147bjhA6qw"
      },
      "source": [
        "### Introduction"
      ]
    },
    {
      "cell_type": "markdown",
      "metadata": {
        "id": "R0bV_76OA6qw"
      },
      "source": [
        "One of the reasons why programming skills are so essential is because data is rarely in the format that we prefer.  As burgeoning data scientists, it's our job to both think about the ideal way to represent our data.  Over the next several lessons, we'll learn how to do this."
      ]
    },
    {
      "cell_type": "markdown",
      "metadata": {
        "id": "zslnPFLsA6qx"
      },
      "source": [
        "### Coercing Strings"
      ]
    },
    {
      "cell_type": "markdown",
      "metadata": {
        "id": "WubKpCvFA6qx"
      },
      "source": [
        "Imagine that we want to write a method that extracts data from the strings."
      ]
    },
    {
      "cell_type": "code",
      "execution_count": 5,
      "metadata": {
        "id": "QrG5B-SpA6qx"
      },
      "outputs": [],
      "source": [
        "restaurant_names = ['AIMBRIDGE CONCESSIONS, INC.']"
      ]
    },
    {
      "cell_type": "markdown",
      "metadata": {
        "id": "pdsba08jA6qy"
      },
      "source": [
        "For example, perhaps we can get some information based on the type of corporation of the restaurant.  Perhaps we could use it as a proxy for the size of the restaurant, or whether or not it is a chain.  "
      ]
    },
    {
      "cell_type": "markdown",
      "metadata": {
        "id": "pMiMYQYSA6qz"
      },
      "source": [
        "Let's try to explore some string methods that can extract information about the company type."
      ]
    },
    {
      "cell_type": "code",
      "execution_count": 6,
      "metadata": {
        "id": "jIcb3OgHA6qz"
      },
      "outputs": [],
      "source": [
        "first_restaurant = restaurant_names[0]"
      ]
    },
    {
      "cell_type": "markdown",
      "metadata": {
        "id": "CHZkhPoLA6q0"
      },
      "source": [
        "### Limiting Our String"
      ]
    },
    {
      "cell_type": "markdown",
      "metadata": {
        "id": "C1ayAiYGA6q0"
      },
      "source": [
        "The first thing to realize is that we can select characters from a string the same way that we would from a list."
      ]
    },
    {
      "cell_type": "code",
      "execution_count": 16,
      "metadata": {
        "id": "n3lzXMrhA6q0",
        "outputId": "e7a6b36f-591a-4dc9-c0f3-c8777443d03e",
        "colab": {
          "base_uri": "https://localhost:8080/",
          "height": 36
        }
      },
      "outputs": [
        {
          "output_type": "execute_result",
          "data": {
            "text/plain": [
              "'CONCESSIONS, INC.'"
            ],
            "application/vnd.google.colaboratory.intrinsic+json": {
              "type": "string"
            }
          },
          "metadata": {},
          "execution_count": 16
        }
      ],
      "source": [
        "first_restaurant"
      ]
    },
    {
      "cell_type": "code",
      "execution_count": 8,
      "metadata": {
        "id": "XvlCFv0LA6q1",
        "outputId": "a6d0c270-9e2b-40c7-afd8-28f4687cadd2",
        "colab": {
          "base_uri": "https://localhost:8080/",
          "height": 36
        }
      },
      "outputs": [
        {
          "output_type": "execute_result",
          "data": {
            "text/plain": [
              "'A'"
            ],
            "application/vnd.google.colaboratory.intrinsic+json": {
              "type": "string"
            }
          },
          "metadata": {},
          "execution_count": 8
        }
      ],
      "source": [
        "first_restaurant[0]"
      ]
    },
    {
      "cell_type": "markdown",
      "metadata": {
        "id": "uMXWKveFA6q2"
      },
      "source": [
        "So for example, if we want to select just the last five characters from a string, we can do so with the following:"
      ]
    },
    {
      "cell_type": "code",
      "execution_count": 9,
      "metadata": {
        "id": "Uk4s7k2aA6q2",
        "outputId": "d5223a0f-728a-4622-a61f-2a057ee7c29c",
        "colab": {
          "base_uri": "https://localhost:8080/",
          "height": 36
        }
      },
      "outputs": [
        {
          "output_type": "execute_result",
          "data": {
            "text/plain": [
              "' INC.'"
            ],
            "application/vnd.google.colaboratory.intrinsic+json": {
              "type": "string"
            }
          },
          "metadata": {},
          "execution_count": 9
        }
      ],
      "source": [
        "first_restaurant[-5:]"
      ]
    },
    {
      "cell_type": "markdown",
      "metadata": {
        "id": "MyDj4lcnA6q2"
      },
      "source": [
        "Practice selecting the just the first ten characters from a our string."
      ]
    },
    {
      "cell_type": "code",
      "execution_count": 14,
      "metadata": {
        "id": "cHbRtrfzA6q2",
        "outputId": "2996b176-8b76-4783-e359-66e1f76c0eb0",
        "colab": {
          "base_uri": "https://localhost:8080/",
          "height": 36
        }
      },
      "outputs": [
        {
          "output_type": "execute_result",
          "data": {
            "text/plain": [
              "'AIMBRIDGE '"
            ],
            "application/vnd.google.colaboratory.intrinsic+json": {
              "type": "string"
            }
          },
          "metadata": {},
          "execution_count": 14
        }
      ],
      "source": [
        "first_restaurant = 'AIMBRIDGE CONCESSIONS, INC.'[:10]\n",
        "first_restaurant\n",
        "# 'AIMBRIDGE '"
      ]
    },
    {
      "cell_type": "markdown",
      "metadata": {
        "id": "ScW7hPhMA6q3"
      },
      "source": [
        "Now practice selecting the last 10 characters from our string."
      ]
    },
    {
      "cell_type": "code",
      "execution_count": 17,
      "metadata": {
        "id": "o4Zh9Z5yA6q3",
        "outputId": "2dffc84d-0917-46e9-a858-47d314257492",
        "colab": {
          "base_uri": "https://localhost:8080/",
          "height": 36
        }
      },
      "outputs": [
        {
          "output_type": "execute_result",
          "data": {
            "text/plain": [
              "'IONS, INC.'"
            ],
            "application/vnd.google.colaboratory.intrinsic+json": {
              "type": "string"
            }
          },
          "metadata": {},
          "execution_count": 17
        }
      ],
      "source": [
        "first_restaurant = 'AIMBRIDGE CONCESSIONS, INC.'[-10:]\n",
        "first_restaurant\n",
        "# 'IONS, INC.'"
      ]
    },
    {
      "cell_type": "markdown",
      "metadata": {
        "id": "_zk7H-buA6q3"
      },
      "source": [
        "### Find and Split"
      ]
    },
    {
      "cell_type": "markdown",
      "metadata": {
        "id": "1RGh9dMjA6q4"
      },
      "source": [
        "Of course it would be nice if we could detect if certain characters were in the string, and then select those characters.  Well here's one way we could do this."
      ]
    },
    {
      "cell_type": "code",
      "execution_count": 18,
      "metadata": {
        "id": "okUUImuMA6q4",
        "outputId": "71d95f98-ea2d-4fd9-d220-a6307f5556fe",
        "colab": {
          "base_uri": "https://localhost:8080/"
        }
      },
      "outputs": [
        {
          "output_type": "execute_result",
          "data": {
            "text/plain": [
              "23"
            ]
          },
          "metadata": {},
          "execution_count": 18
        }
      ],
      "source": [
        "first_restaurant = 'AIMBRIDGE CONCESSIONS, INC.'\n",
        "first_restaurant.find('INC')"
      ]
    },
    {
      "cell_type": "markdown",
      "metadata": {
        "id": "nJTiBc5GA6q4"
      },
      "source": [
        "We can see that the `find` method returns the index of the start of our matching string."
      ]
    },
    {
      "cell_type": "code",
      "execution_count": 19,
      "metadata": {
        "id": "3B_sdYPmA6q4",
        "outputId": "1333bfcc-ce31-4f09-ea95-d23e7f001361",
        "colab": {
          "base_uri": "https://localhost:8080/",
          "height": 36
        }
      },
      "outputs": [
        {
          "output_type": "execute_result",
          "data": {
            "text/plain": [
              "'I'"
            ],
            "application/vnd.google.colaboratory.intrinsic+json": {
              "type": "string"
            }
          },
          "metadata": {},
          "execution_count": 19
        }
      ],
      "source": [
        "first_restaurant[23]"
      ]
    },
    {
      "cell_type": "markdown",
      "metadata": {
        "id": "vIAh1FJyA6q4"
      },
      "source": [
        "So now let's write a method where we can pass through a string, and then just select the characters from `LLC` on."
      ]
    },
    {
      "cell_type": "code",
      "execution_count": 21,
      "metadata": {
        "id": "UMutlZryA6q5"
      },
      "outputs": [],
      "source": [
        "first_restaurant = 'SUPER CREAM LLC'\n",
        "\n",
        "def select_characters(string):\n",
        "    postion = string.find(\"LLC\")\n",
        "    return string[postion:postion+3]"
      ]
    },
    {
      "cell_type": "code",
      "execution_count": 22,
      "metadata": {
        "id": "3FlfcZUcA6q5",
        "outputId": "a613c5c2-dabc-4520-d029-23e22c94f93c",
        "colab": {
          "base_uri": "https://localhost:8080/",
          "height": 36
        }
      },
      "outputs": [
        {
          "output_type": "execute_result",
          "data": {
            "text/plain": [
              "'LLC'"
            ],
            "application/vnd.google.colaboratory.intrinsic+json": {
              "type": "string"
            }
          },
          "metadata": {},
          "execution_count": 22
        }
      ],
      "source": [
        "first_restaurant = 'SUPER CREAM LLC'\n",
        "select_characters(first_restaurant)\n",
        "# 'LLC'"
      ]
    },
    {
      "cell_type": "code",
      "execution_count": 23,
      "metadata": {
        "id": "NWpdpR_2A6q5",
        "outputId": "785fb372-426d-4346-f7f8-99f8b523fef9",
        "colab": {
          "base_uri": "https://localhost:8080/",
          "height": 36
        }
      },
      "outputs": [
        {
          "output_type": "execute_result",
          "data": {
            "text/plain": [
              "'LLC'"
            ],
            "application/vnd.google.colaboratory.intrinsic+json": {
              "type": "string"
            }
          },
          "metadata": {},
          "execution_count": 23
        }
      ],
      "source": [
        "second_restaurant = \"ANGEL'S ICEHOUSE, LLC\"\n",
        "select_characters(second_restaurant)"
      ]
    },
    {
      "cell_type": "markdown",
      "metadata": {
        "id": "vPxQpPjPA6q5"
      },
      "source": [
        "### Concatenating Strings"
      ]
    },
    {
      "cell_type": "markdown",
      "metadata": {
        "id": "3JtXdCi-A6q5"
      },
      "source": [
        "Finally, Python has methods that allow us to create new strings programatically.  Let's look at the format method."
      ]
    },
    {
      "cell_type": "code",
      "execution_count": 25,
      "metadata": {
        "id": "DRV4YyEuA6q6",
        "outputId": "db84b6d0-fb18-43c6-ba8c-d5456cd42f0b",
        "colab": {
          "base_uri": "https://localhost:8080/",
          "height": 36
        }
      },
      "outputs": [
        {
          "output_type": "execute_result",
          "data": {
            "text/plain": [
              "'Please try the chicken.'"
            ],
            "application/vnd.google.colaboratory.intrinsic+json": {
              "type": "string"
            }
          },
          "metadata": {},
          "execution_count": 25
        }
      ],
      "source": [
        "\"Please try the {}.\".format(\"chicken\")"
      ]
    },
    {
      "cell_type": "markdown",
      "metadata": {
        "id": "yNwA4FT2A6q6"
      },
      "source": [
        "> So we pass through the string to format, and then the `{}` indicates the location of the argument."
      ]
    },
    {
      "cell_type": "markdown",
      "metadata": {
        "id": "LFbYOKJgA6q6"
      },
      "source": [
        "It also works with multiple arguments."
      ]
    },
    {
      "cell_type": "code",
      "execution_count": 26,
      "metadata": {
        "id": "-_IoZCjbA6q6",
        "outputId": "d19cb695-9faa-4df2-e844-e5f422c25094",
        "colab": {
          "base_uri": "https://localhost:8080/",
          "height": 36
        }
      },
      "outputs": [
        {
          "output_type": "execute_result",
          "data": {
            "text/plain": [
              "'Please try the chicken and broccoli.'"
            ],
            "application/vnd.google.colaboratory.intrinsic+json": {
              "type": "string"
            }
          },
          "metadata": {},
          "execution_count": 26
        }
      ],
      "source": [
        "\"Please try the {} and {}.\".format(\"chicken\", \"broccoli\")"
      ]
    },
    {
      "cell_type": "markdown",
      "metadata": {
        "id": "YKs4VKlvA6q6"
      },
      "source": [
        "Or keyword arguments."
      ]
    },
    {
      "cell_type": "code",
      "execution_count": 28,
      "metadata": {
        "id": "bgwI4bToA6q6",
        "outputId": "da88ed7f-b2f2-4257-a7d2-24b9822ce7ae",
        "colab": {
          "base_uri": "https://localhost:8080/",
          "height": 36
        }
      },
      "outputs": [
        {
          "output_type": "execute_result",
          "data": {
            "text/plain": [
              "'Please try the broccoli and chicken.'"
            ],
            "application/vnd.google.colaboratory.intrinsic+json": {
              "type": "string"
            }
          },
          "metadata": {},
          "execution_count": 28
        }
      ],
      "source": [
        "\"Please try the {side} and {main}.\".format(main = \"chicken\", side = \"broccoli\")"
      ]
    },
    {
      "cell_type": "markdown",
      "metadata": {
        "id": "K2JpurbZA6q6"
      },
      "source": [
        "An alternative to the format method is the `f` string."
      ]
    },
    {
      "cell_type": "code",
      "execution_count": 29,
      "metadata": {
        "id": "oZdSY8TaA6q7",
        "outputId": "b9b75bfc-596c-43cd-cd16-a799a203d416",
        "colab": {
          "base_uri": "https://localhost:8080/",
          "height": 36
        }
      },
      "outputs": [
        {
          "output_type": "execute_result",
          "data": {
            "text/plain": [
              "'hello broccoli and turkey!'"
            ],
            "application/vnd.google.colaboratory.intrinsic+json": {
              "type": "string"
            }
          },
          "metadata": {},
          "execution_count": 29
        }
      ],
      "source": [
        "side = 'broccoli'\n",
        "main = 'turkey'\n",
        "f'hello {side} and {main}!'"
      ]
    },
    {
      "cell_type": "markdown",
      "metadata": {
        "id": "zc6hox93A6q7"
      },
      "source": [
        "> Take some time to try them both out below."
      ]
    },
    {
      "cell_type": "code",
      "execution_count": 29,
      "metadata": {
        "id": "Y_VfjQBTA6q7"
      },
      "outputs": [],
      "source": [
        ""
      ]
    },
    {
      "cell_type": "markdown",
      "metadata": {
        "id": "h_tln7ZYA6q7"
      },
      "source": [
        "### Summary"
      ]
    },
    {
      "cell_type": "markdown",
      "metadata": {
        "id": "RhQpm4wdA6q7"
      },
      "source": [
        "In this lesson, we took a deeper dive into how to work with strings.  We saw that we can select characters from a string with the bracket accessors, the same way that we would from a list."
      ]
    },
    {
      "cell_type": "code",
      "execution_count": 30,
      "metadata": {
        "id": "s-TyoFdqA6q7",
        "outputId": "2997e48a-be45-447a-f92d-7fa820825a30",
        "colab": {
          "base_uri": "https://localhost:8080/",
          "height": 36
        }
      },
      "outputs": [
        {
          "output_type": "execute_result",
          "data": {
            "text/plain": [
              "'llc'"
            ],
            "application/vnd.google.colaboratory.intrinsic+json": {
              "type": "string"
            }
          },
          "metadata": {},
          "execution_count": 30
        }
      ],
      "source": [
        "\"angel's icehouse, llc\"[-3:]"
      ]
    },
    {
      "cell_type": "markdown",
      "metadata": {
        "id": "8Bx11HS4A6q7"
      },
      "source": [
        "Then we saw that we can find the index that matches a string."
      ]
    },
    {
      "cell_type": "code",
      "execution_count": 31,
      "metadata": {
        "id": "vLv28TAHA6q7",
        "outputId": "a2876a6a-bd14-4200-f626-37d7536cccd0",
        "colab": {
          "base_uri": "https://localhost:8080/"
        }
      },
      "outputs": [
        {
          "output_type": "execute_result",
          "data": {
            "text/plain": [
              "18"
            ]
          },
          "metadata": {},
          "execution_count": 31
        }
      ],
      "source": [
        "\"angel's icehouse, llc\".find('llc')"
      ]
    },
    {
      "cell_type": "markdown",
      "metadata": {
        "id": "h3RszMkxA6q7"
      },
      "source": [
        "And that we can divide our string into different elements of a list with the `split` method."
      ]
    },
    {
      "cell_type": "code",
      "execution_count": 32,
      "metadata": {
        "id": "1ugDek6bA6q8",
        "outputId": "f697dd07-0a8e-44de-d215-822f83f303ea",
        "colab": {
          "base_uri": "https://localhost:8080/"
        }
      },
      "outputs": [
        {
          "output_type": "execute_result",
          "data": {
            "text/plain": [
              "[\"angel's icehouse\", 'llc']"
            ]
          },
          "metadata": {},
          "execution_count": 32
        }
      ],
      "source": [
        "\"angel's icehouse, llc\".split(', ')"
      ]
    },
    {
      "cell_type": "markdown",
      "metadata": {
        "id": "isYhKt7CA6q8"
      },
      "source": [
        "And select elements of the returned list."
      ]
    },
    {
      "cell_type": "code",
      "execution_count": 34,
      "metadata": {
        "id": "_-fK-M85A6q8",
        "outputId": "9122aac6-3450-44c6-898d-fb1c3b26145a",
        "colab": {
          "base_uri": "https://localhost:8080/",
          "height": 36
        }
      },
      "outputs": [
        {
          "output_type": "execute_result",
          "data": {
            "text/plain": [
              "'llc'"
            ],
            "application/vnd.google.colaboratory.intrinsic+json": {
              "type": "string"
            }
          },
          "metadata": {},
          "execution_count": 34
        }
      ],
      "source": [
        "\"angel's icehouse, llc\".split(', ')[-1]"
      ]
    }
  ],
  "metadata": {
    "kernelspec": {
      "display_name": "Python 3 (ipykernel)",
      "language": "python",
      "name": "python3"
    },
    "language_info": {
      "codemirror_mode": {
        "name": "ipython",
        "version": 3
      },
      "file_extension": ".py",
      "mimetype": "text/x-python",
      "name": "python",
      "nbconvert_exporter": "python",
      "pygments_lexer": "ipython3",
      "version": "3.9.7"
    },
    "colab": {
      "name": "2-coercing-strings.ipynb",
      "provenance": []
    }
  },
  "nbformat": 4,
  "nbformat_minor": 0
}