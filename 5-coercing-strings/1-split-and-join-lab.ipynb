{
  "cells": [
    {
      "cell_type": "markdown",
      "metadata": {
        "id": "view-in-github",
        "colab_type": "text"
      },
      "source": [
        "<a href=\"https://colab.research.google.com/github/alextorreswa/DataEngJigsaw/blob/main/5-coercing-strings/1-split-and-join-lab.ipynb\" target=\"_parent\"><img src=\"https://colab.research.google.com/assets/colab-badge.svg\" alt=\"Open In Colab\"/></a>"
      ]
    },
    {
      "cell_type": "markdown",
      "metadata": {
        "id": "_aDXO42E2OHy"
      },
      "source": [
        "# Split and Join Lab"
      ]
    },
    {
      "cell_type": "markdown",
      "metadata": {
        "id": "Ee9zikEo2OH0"
      },
      "source": [
        "### Introduction"
      ]
    },
    {
      "cell_type": "markdown",
      "metadata": {
        "id": "ubIxKaBA2OH1"
      },
      "source": [
        "In this lesson, we'll practice working with `split` and `join`.  We'll do so to practice working with some location information from [Texas Drink Receipts API](https://data.texas.gov/Government-and-Taxes/Mixed-Beverage-Gross-Receipts/naix-2893)."
      ]
    },
    {
      "cell_type": "markdown",
      "metadata": {
        "id": "T6gX-GXE2OH1"
      },
      "source": [
        "### Loading our data"
      ]
    },
    {
      "cell_type": "markdown",
      "metadata": {
        "id": "C7PbHv562OH2"
      },
      "source": [
        "To begin with, let's get a bunch of store locations for Max's Wine Bar."
      ]
    },
    {
      "cell_type": "code",
      "execution_count": 1,
      "metadata": {
        "id": "XeM7R3c-2OH2"
      },
      "outputs": [],
      "source": [
        "import pandas as pd\n",
        "df = pd.read_json(\"https://raw.githubusercontent.com/eng-6-22/mod-1-a-data-structures/master/5-coercing-strings/locations.json\")"
      ]
    },
    {
      "cell_type": "code",
      "execution_count": 2,
      "metadata": {
        "id": "hT_vDV2s2OH3",
        "outputId": "a1a1e6e7-041f-47ea-c7e0-e8dae1a73c4a",
        "colab": {
          "base_uri": "https://localhost:8080/"
        }
      },
      "outputs": [
        {
          "output_type": "execute_result",
          "data": {
            "text/plain": [
              "['2914 HARRY HINES BLVD', '3001 PABLO KISEL BLVD STE N', '21815 W HWY 71']"
            ]
          },
          "metadata": {},
          "execution_count": 2
        }
      ],
      "source": [
        "locations = list(df.location_address)\n",
        "locations[0:3]"
      ]
    },
    {
      "cell_type": "markdown",
      "metadata": {
        "id": "12cUE7VZ2OH4"
      },
      "source": [
        "Now let's say that we need to separate the street number from the rest of the street address for each element.  So this way we can can have a list of just the streets of the locations."
      ]
    },
    {
      "cell_type": "markdown",
      "metadata": {
        "id": "6G_79cAY2OH4"
      },
      "source": [
        "```python\n",
        "['HARRY HINES BLVD', 'PABLO KISEL BLVD STE N', 'W HWY 71']\n",
        "```"
      ]
    },
    {
      "cell_type": "markdown",
      "metadata": {
        "id": "jRUddM2V2OH5"
      },
      "source": [
        "1. Do it for one element."
      ]
    },
    {
      "cell_type": "markdown",
      "metadata": {
        "id": "p-OfqOYn2OH5"
      },
      "source": [
        "Let's start by accomplishing this for a single string, so that we turn an address like `'2914 HARRY HINES BLVD'` into `'HARRY HINES BLVD'`."
      ]
    },
    {
      "cell_type": "markdown",
      "metadata": {
        "id": "2fxMVvo42OH5"
      },
      "source": [
        "> Press shift + return on the cell below."
      ]
    },
    {
      "cell_type": "code",
      "execution_count": 3,
      "metadata": {
        "id": "31m0Ydh02OH6"
      },
      "outputs": [],
      "source": [
        "address = '2914 HARRY HINES BLVD'"
      ]
    },
    {
      "cell_type": "markdown",
      "metadata": {
        "id": "9eXWJwdj2OH6"
      },
      "source": [
        "> To start, let's take our address above and turn the string into a list of words. "
      ]
    },
    {
      "cell_type": "code",
      "execution_count": 4,
      "metadata": {
        "id": "c5n2VC-c2OH6",
        "outputId": "84a4b0ea-e24e-4d2a-8ad1-a36348af34ed",
        "colab": {
          "base_uri": "https://localhost:8080/"
        }
      },
      "outputs": [
        {
          "output_type": "execute_result",
          "data": {
            "text/plain": [
              "['2914', 'HARRY', 'HINES', 'BLVD']"
            ]
          },
          "metadata": {},
          "execution_count": 4
        }
      ],
      "source": [
        "address_words = address.split(\" \")\n",
        "address_words\n",
        "# ['2914', 'HARRY', 'HINES', 'BLVD']"
      ]
    },
    {
      "cell_type": "markdown",
      "metadata": {
        "id": "6Mee4iG12OH6"
      },
      "source": [
        "> Then select every element after the first element, and turn them back into a string."
      ]
    },
    {
      "cell_type": "code",
      "execution_count": 5,
      "metadata": {
        "id": "O9VJe-IB2OH6",
        "outputId": "ac647f36-a872-4b4c-b424-95d42b76b6d7",
        "colab": {
          "base_uri": "https://localhost:8080/",
          "height": 35
        }
      },
      "outputs": [
        {
          "output_type": "execute_result",
          "data": {
            "text/plain": [
              "'HARRY HINES BLVD'"
            ],
            "application/vnd.google.colaboratory.intrinsic+json": {
              "type": "string"
            }
          },
          "metadata": {},
          "execution_count": 5
        }
      ],
      "source": [
        "address_street_words = \" \".join(address_words[1:])\n",
        "address_street_words\n",
        "# 'HARRY HINES BLVD'"
      ]
    },
    {
      "cell_type": "markdown",
      "metadata": {
        "id": "60riHZ0o2OH7"
      },
      "source": [
        "2. Do it for all "
      ]
    },
    {
      "cell_type": "markdown",
      "metadata": {
        "id": "0NtNkm-m2OH7"
      },
      "source": [
        "Now that we determined how to do this for one of the reviews, let's form a list of all of the streets."
      ]
    },
    {
      "cell_type": "code",
      "execution_count": 9,
      "metadata": {
        "id": "hgUpzYAI2OH7"
      },
      "outputs": [],
      "source": [
        "address_streets = []\n",
        "\n",
        "for location in locations:\n",
        "  address_words = location.split(\" \")\n",
        "  address_street_words = \" \".join(address_words[1:])\n",
        "  address_streets.append(address_street_words)\n"
      ]
    },
    {
      "cell_type": "code",
      "execution_count": 10,
      "metadata": {
        "id": "OFarorB72OH7",
        "outputId": "6228fdc3-56f2-4298-bbc9-cc3dca8c865c",
        "colab": {
          "base_uri": "https://localhost:8080/"
        }
      },
      "outputs": [
        {
          "output_type": "execute_result",
          "data": {
            "text/plain": [
              "['HARRY HINES BLVD', 'PABLO KISEL BLVD STE N', 'W HWY 71', 'SLIDE RD STE 100']"
            ]
          },
          "metadata": {},
          "execution_count": 10
        }
      ],
      "source": [
        "address_streets[:4]\n",
        "# ['HARRY HINES BLVD', 'PABLO KISEL BLVD STE N', \n",
        "# 'W HWY 71', 'SLIDE RD STE 100']"
      ]
    },
    {
      "cell_type": "markdown",
      "metadata": {
        "id": "oz-BSn9F2OH7"
      },
      "source": [
        "### Summary"
      ]
    },
    {
      "cell_type": "markdown",
      "metadata": {
        "id": "gf1D4wEL2OH7"
      },
      "source": [
        "In this lesson, we saw how we can use split and join to coerce our string data.  We also reinforced our process of first solving a problem on just one element, and then moving to solving the same problem on each element in a loop."
      ]
    }
  ],
  "metadata": {
    "kernelspec": {
      "display_name": "Python 3 (ipykernel)",
      "language": "python",
      "name": "python3"
    },
    "language_info": {
      "codemirror_mode": {
        "name": "ipython",
        "version": 3
      },
      "file_extension": ".py",
      "mimetype": "text/x-python",
      "name": "python",
      "nbconvert_exporter": "python",
      "pygments_lexer": "ipython3",
      "version": "3.9.10"
    },
    "colab": {
      "name": "1-split-and-join-lab.ipynb",
      "provenance": [],
      "include_colab_link": true
    }
  },
  "nbformat": 4,
  "nbformat_minor": 0
}