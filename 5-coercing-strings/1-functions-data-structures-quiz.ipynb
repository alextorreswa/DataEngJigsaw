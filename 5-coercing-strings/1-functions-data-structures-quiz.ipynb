{
  "cells": [
    {
      "cell_type": "markdown",
      "metadata": {
        "id": "view-in-github",
        "colab_type": "text"
      },
      "source": [
        "<a href=\"https://colab.research.google.com/github/alextorreswa/DataEngJigsaw/blob/main/5-coercing-strings/1-functions-data-structures-quiz.ipynb\" target=\"_parent\"><img src=\"https://colab.research.google.com/assets/colab-badge.svg\" alt=\"Open In Colab\"/></a>"
      ]
    },
    {
      "cell_type": "markdown",
      "metadata": {
        "id": "lfHM60Wql-K_"
      },
      "source": [
        "# Functions Data Structures Quiz"
      ]
    },
    {
      "cell_type": "markdown",
      "metadata": {
        "id": "k1j3m14Nl-LC"
      },
      "source": [
        "### Function Warmup"
      ]
    },
    {
      "cell_type": "markdown",
      "metadata": {
        "id": "6fkaySVDl-LD"
      },
      "source": [
        "Write a function that takes in a person's name and capitalizes it."
      ]
    },
    {
      "cell_type": "code",
      "execution_count": 3,
      "metadata": {
        "id": "74FXdpJdl-LE"
      },
      "outputs": [],
      "source": [
        "def capitalize_name(name):\n",
        "    return name.title()"
      ]
    },
    {
      "cell_type": "code",
      "execution_count": 4,
      "metadata": {
        "colab": {
          "base_uri": "https://localhost:8080/",
          "height": 36
        },
        "id": "ZDaqPrP-l-LF",
        "outputId": "54264e50-eb03-4a9e-b3a0-b01de592ec65"
      },
      "outputs": [
        {
          "output_type": "execute_result",
          "data": {
            "text/plain": [
              "'Bob'"
            ],
            "application/vnd.google.colaboratory.intrinsic+json": {
              "type": "string"
            }
          },
          "metadata": {},
          "execution_count": 4
        }
      ],
      "source": [
        "capitalize_name('bob')\n",
        "# 'Bob'"
      ]
    },
    {
      "cell_type": "code",
      "execution_count": 5,
      "metadata": {
        "colab": {
          "base_uri": "https://localhost:8080/",
          "height": 36
        },
        "id": "CwnodqT_l-LG",
        "outputId": "99f8c4b3-d03d-4de6-c976-24ea454bfd4c"
      },
      "outputs": [
        {
          "output_type": "execute_result",
          "data": {
            "text/plain": [
              "'Fred'"
            ],
            "application/vnd.google.colaboratory.intrinsic+json": {
              "type": "string"
            }
          },
          "metadata": {},
          "execution_count": 5
        }
      ],
      "source": [
        "capitalize_name('fred')\n",
        "# 'Fred'"
      ]
    },
    {
      "cell_type": "markdown",
      "metadata": {
        "id": "TqGnE9YIl-LG"
      },
      "source": [
        "* Write a function that takes two numbers and divides them"
      ]
    },
    {
      "cell_type": "code",
      "execution_count": 10,
      "metadata": {
        "id": "AlgB6z-fl-LG"
      },
      "outputs": [],
      "source": [
        "def divide(first_number, second_number = 1):\n",
        "    return first_number/second_number"
      ]
    },
    {
      "cell_type": "code",
      "execution_count": 11,
      "metadata": {
        "colab": {
          "base_uri": "https://localhost:8080/"
        },
        "id": "8VIi-qj5l-LH",
        "outputId": "aef51309-979a-422f-b045-c54610479497"
      },
      "outputs": [
        {
          "output_type": "execute_result",
          "data": {
            "text/plain": [
              "3.0"
            ]
          },
          "metadata": {},
          "execution_count": 11
        }
      ],
      "source": [
        "divide(6, 2)\n",
        "# 3.0"
      ]
    },
    {
      "cell_type": "markdown",
      "metadata": {
        "id": "SQtgijbOl-LH"
      },
      "source": [
        "Now change the function `divide` so that when `second_number` is not defined, we divide by one."
      ]
    },
    {
      "cell_type": "code",
      "execution_count": 12,
      "metadata": {
        "colab": {
          "base_uri": "https://localhost:8080/"
        },
        "id": "0kzdwyh2l-LH",
        "outputId": "db8feee4-651d-48dd-ff2c-c20aaeb65e1e"
      },
      "outputs": [
        {
          "output_type": "execute_result",
          "data": {
            "text/plain": [
              "6.0"
            ]
          },
          "metadata": {},
          "execution_count": 12
        }
      ],
      "source": [
        "divide(6)\n",
        "# 6"
      ]
    },
    {
      "cell_type": "markdown",
      "metadata": {
        "id": "wbgGPceGl-LI"
      },
      "source": [
        "### Loops Warmup"
      ]
    },
    {
      "cell_type": "code",
      "execution_count": 14,
      "metadata": {
        "id": "-lyfcaObl-LI"
      },
      "outputs": [],
      "source": [
        "parks = ['bryant', 'central', 'battery']"
      ]
    },
    {
      "cell_type": "markdown",
      "metadata": {
        "id": "w0nXqWXal-LI"
      },
      "source": [
        "* Use loops to create a list of the `capitalized_parks` where each park is capitalized."
      ]
    },
    {
      "cell_type": "code",
      "execution_count": 15,
      "metadata": {
        "id": "MQSJd3Dol-LI"
      },
      "outputs": [],
      "source": [
        "capitalized_parks = [ capitalize_name(park) for park in parks]\n"
      ]
    },
    {
      "cell_type": "code",
      "execution_count": 16,
      "metadata": {
        "colab": {
          "base_uri": "https://localhost:8080/"
        },
        "id": "LlcpvNr4l-LJ",
        "outputId": "b0d05f56-9145-4ca7-a84e-e782d06f95bd"
      },
      "outputs": [
        {
          "output_type": "execute_result",
          "data": {
            "text/plain": [
              "['Bryant', 'Central', 'Battery']"
            ]
          },
          "metadata": {},
          "execution_count": 16
        }
      ],
      "source": [
        "capitalized_parks\n",
        "# ['Bryant', 'Central', 'Battery']"
      ]
    },
    {
      "cell_type": "markdown",
      "metadata": {
        "id": "S8bzwfiNl-LJ"
      },
      "source": [
        "If you did not do so above, use list comprehension to capizalize the parks."
      ]
    },
    {
      "cell_type": "code",
      "execution_count": 17,
      "metadata": {
        "id": "fnj_YmU0l-LJ"
      },
      "outputs": [],
      "source": [
        "capitalized_parks = [ capitalize_name(park) for park in parks]"
      ]
    },
    {
      "cell_type": "markdown",
      "metadata": {
        "id": "fQXJQTLul-LK"
      },
      "source": [
        "* Working with lists of dictionaries"
      ]
    },
    {
      "cell_type": "code",
      "execution_count": 29,
      "metadata": {
        "id": "k1je_kLxl-LK"
      },
      "outputs": [],
      "source": [
        "detailed_parks = [\n",
        "    {'name': 'Bryant Park', 'location': 'Midtown', 'acres': 9.6},\n",
        "    {'name': 'Central Park', 'location': 'Uptown', 'acres': 840},\n",
        "    {'name': 'Battery Park', 'location': 'Downtown', 'acres': 25},\n",
        "    {'name': 'Morningside Park', 'location': 'Morningside', 'acres': 30}\n",
        "]"
      ]
    },
    {
      "cell_type": "markdown",
      "metadata": {
        "id": "Lo-kQw2Hl-LK"
      },
      "source": [
        "* Write a function that will add a key value pair of `'city': 'New York'` to each of the dictionaries above."
      ]
    },
    {
      "cell_type": "code",
      "source": [
        "detailed_parks[0]['city'] = 'New York' # For one element"
      ],
      "metadata": {
        "id": "oEC0J5eOnoL6"
      },
      "execution_count": 31,
      "outputs": []
    },
    {
      "cell_type": "code",
      "execution_count": 49,
      "metadata": {
        "id": "BialiQ_ll-LK"
      },
      "outputs": [],
      "source": [
        "def add_city(detailed_parks):\n",
        "  for detailed_park in detailed_parks:\n",
        "    detailed_park['city'] = 'New York' "
      ]
    },
    {
      "cell_type": "code",
      "execution_count": 50,
      "metadata": {
        "colab": {
          "base_uri": "https://localhost:8080/"
        },
        "id": "1ClG2cKHl-LK",
        "outputId": "b1100b42-1442-4fdc-a9c0-5f045dbf3604"
      },
      "outputs": [
        {
          "output_type": "execute_result",
          "data": {
            "text/plain": [
              "[{'acres': 9.6,\n",
              "  'city': 'New York',\n",
              "  'location': 'Midtown',\n",
              "  'name': 'Bryant Park'},\n",
              " {'acres': 840,\n",
              "  'city': 'New York',\n",
              "  'location': 'Uptown',\n",
              "  'name': 'Central Park'},\n",
              " {'acres': 25,\n",
              "  'city': 'New York',\n",
              "  'location': 'Downtown',\n",
              "  'name': 'Battery Park'},\n",
              " {'acres': 30,\n",
              "  'city': 'New York',\n",
              "  'location': 'Morningside',\n",
              "  'name': 'Morningside Park'}]"
            ]
          },
          "metadata": {},
          "execution_count": 50
        }
      ],
      "source": [
        "add_city(detailed_parks)\n",
        "\n",
        "detailed_parks\n",
        "# [{'name': 'Bryant Park', 'location': 'Midtown', 'acres': 9.6, 'city': 'New York'}, \n",
        "# {'name': 'Central Park', 'location': 'Uptown', 'acres': 840, 'city': 'New York'}, \n",
        "# {'name': 'Battery Park', 'location': 'Downtown', 'acres': 25, 'city': 'New York'}, \n",
        "# {'name': 'Morningside Park', 'location': 'Morningside', 'acres': 30, 'city': 'New York'}]"
      ]
    },
    {
      "cell_type": "markdown",
      "metadata": {
        "id": "twv0FyBXl-LL"
      },
      "source": [
        "* Then use list comprehension to create a list of park names."
      ]
    },
    {
      "cell_type": "code",
      "execution_count": 51,
      "metadata": {
        "colab": {
          "base_uri": "https://localhost:8080/"
        },
        "id": "1Sfn9Fp0l-LL",
        "outputId": "0862ff69-b607-4938-cc3a-a4686b847da9"
      },
      "outputs": [
        {
          "output_type": "execute_result",
          "data": {
            "text/plain": [
              "['Bryant Park', 'Central Park', 'Battery Park', 'Morningside Park']"
            ]
          },
          "metadata": {},
          "execution_count": 51
        }
      ],
      "source": [
        "park_names = [ detailed_park['name'] for detailed_park in detailed_parks ]\n",
        "              \n",
        "park_names\n",
        "# ['Bryant Park', 'Central Park', 'Battery Park', 'Morningside Park']"
      ]
    },
    {
      "cell_type": "markdown",
      "metadata": {
        "id": "xJ5-AG8Tl-LL"
      },
      "source": [
        "* Loop through each of the parks, and only add the parks that are strictly less than 30 acres.  Assign them to the list, smaller parks."
      ]
    },
    {
      "cell_type": "code",
      "execution_count": 52,
      "metadata": {
        "colab": {
          "base_uri": "https://localhost:8080/"
        },
        "id": "bG8Kohn-l-LL",
        "outputId": "95b6c682-2d93-4862-e478-b8f41a1598a8"
      },
      "outputs": [
        {
          "output_type": "execute_result",
          "data": {
            "text/plain": [
              "[{'acres': 9.6,\n",
              "  'city': 'New York',\n",
              "  'location': 'Midtown',\n",
              "  'name': 'Bryant Park'},\n",
              " {'acres': 25,\n",
              "  'city': 'New York',\n",
              "  'location': 'Downtown',\n",
              "  'name': 'Battery Park'}]"
            ]
          },
          "metadata": {},
          "execution_count": 52
        }
      ],
      "source": [
        "smaller_parks = [ detailed_park for detailed_park in detailed_parks if detailed_park['acres'] < 30 ]\n",
        "\n",
        "smaller_parks \n",
        "# [\n",
        "# {'name': 'Battery Park', 'location': 'Downtown', 'acres': 25},\n",
        "# {'name': 'Bryant Park', 'location': 'Midtown', 'acres': 9.6} \n",
        "# ]"
      ]
    },
    {
      "cell_type": "markdown",
      "metadata": {
        "id": "OW2K9S3-l-LL"
      },
      "source": [
        "* Then write a function that allows you to specify provide the size of a park to select."
      ]
    },
    {
      "cell_type": "code",
      "execution_count": 53,
      "metadata": {
        "id": "1Hwa32ial-LL"
      },
      "outputs": [],
      "source": [
        "def parks_less_than(parks, size):\n",
        "  return [ park for park in parks if park['acres'] < size ]"
      ]
    },
    {
      "cell_type": "code",
      "execution_count": 54,
      "metadata": {
        "colab": {
          "base_uri": "https://localhost:8080/"
        },
        "id": "-UAUrB7Al-LL",
        "outputId": "d870a91d-34e8-4dce-e271-54c86c32e278"
      },
      "outputs": [
        {
          "output_type": "execute_result",
          "data": {
            "text/plain": [
              "[{'acres': 9.6,\n",
              "  'city': 'New York',\n",
              "  'location': 'Midtown',\n",
              "  'name': 'Bryant Park'}]"
            ]
          },
          "metadata": {},
          "execution_count": 54
        }
      ],
      "source": [
        "parks_less_than(detailed_parks, 10)\n",
        "# [{'name': 'Bryant Park', 'location': 'Midtown', 'acres': 9.6}]"
      ]
    },
    {
      "cell_type": "code",
      "execution_count": 55,
      "metadata": {
        "colab": {
          "base_uri": "https://localhost:8080/"
        },
        "id": "X5VWiEatl-LM",
        "outputId": "9dd223f7-6f1a-4138-a43b-7bbc09219844"
      },
      "outputs": [
        {
          "output_type": "execute_result",
          "data": {
            "text/plain": [
              "[{'acres': 9.6,\n",
              "  'city': 'New York',\n",
              "  'location': 'Midtown',\n",
              "  'name': 'Bryant Park'},\n",
              " {'acres': 25,\n",
              "  'city': 'New York',\n",
              "  'location': 'Downtown',\n",
              "  'name': 'Battery Park'},\n",
              " {'acres': 30,\n",
              "  'city': 'New York',\n",
              "  'location': 'Morningside',\n",
              "  'name': 'Morningside Park'}]"
            ]
          },
          "metadata": {},
          "execution_count": 55
        }
      ],
      "source": [
        "parks_less_than(detailed_parks, 50)\n",
        "# [{'name': 'Bryant Park', 'location': 'Midtown', 'acres': 9.6},\n",
        "#  {'name': 'Battery Park', 'location': 'Downtown', 'acres': 25},\n",
        "#  {'name': 'Morningside Park', 'location': 'Morningside', 'acres': 30}]"
      ]
    },
    {
      "cell_type": "markdown",
      "metadata": {
        "id": "hY571kVQl-LM"
      },
      "source": [
        "Now write a function that only returns the *names* of a park smaller than a specified size."
      ]
    },
    {
      "cell_type": "code",
      "execution_count": 56,
      "metadata": {
        "id": "HafqInjal-LM"
      },
      "outputs": [],
      "source": [
        "def park_name_less_than(parks, size):\n",
        "  return [ park['name'] for park in parks if park['acres'] < size ]"
      ]
    },
    {
      "cell_type": "code",
      "execution_count": 57,
      "metadata": {
        "colab": {
          "base_uri": "https://localhost:8080/"
        },
        "id": "d9FhXDwAl-LM",
        "outputId": "cbc35d0a-9fb3-4be1-81ed-7cd9c5abf461"
      },
      "outputs": [
        {
          "output_type": "execute_result",
          "data": {
            "text/plain": [
              "['Bryant Park']"
            ]
          },
          "metadata": {},
          "execution_count": 57
        }
      ],
      "source": [
        "park_name_less_than(detailed_parks, 10)\n",
        "# ['Bryant Park']"
      ]
    },
    {
      "cell_type": "code",
      "execution_count": 58,
      "metadata": {
        "colab": {
          "base_uri": "https://localhost:8080/"
        },
        "id": "PtItecbfl-LM",
        "outputId": "0ead6549-00dd-4ae5-c0b8-623f6d76779b"
      },
      "outputs": [
        {
          "output_type": "execute_result",
          "data": {
            "text/plain": [
              "['Bryant Park', 'Battery Park', 'Morningside Park']"
            ]
          },
          "metadata": {},
          "execution_count": 58
        }
      ],
      "source": [
        "park_name_less_than(detailed_parks, 50)\n",
        "# ['Bryant Park', 'Battery Park', 'Morningside Park']"
      ]
    }
  ],
  "metadata": {
    "kernelspec": {
      "display_name": "Python 3 (ipykernel)",
      "language": "python",
      "name": "python3"
    },
    "language_info": {
      "codemirror_mode": {
        "name": "ipython",
        "version": 3
      },
      "file_extension": ".py",
      "mimetype": "text/x-python",
      "name": "python",
      "nbconvert_exporter": "python",
      "pygments_lexer": "ipython3",
      "version": "3.9.10"
    },
    "colab": {
      "name": "1-functions-data-structures-quiz.ipynb",
      "provenance": [],
      "include_colab_link": true
    }
  },
  "nbformat": 4,
  "nbformat_minor": 0
}