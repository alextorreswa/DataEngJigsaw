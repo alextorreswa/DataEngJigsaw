{
  "cells": [
    {
      "cell_type": "markdown",
      "metadata": {
        "id": "m2hR2V06SQ5Z"
      },
      "source": [
        "# Albums and Songs Lab"
      ]
    },
    {
      "cell_type": "markdown",
      "metadata": {
        "id": "cw7cB8enSQ5b"
      },
      "source": [
        "### Introduction"
      ]
    },
    {
      "cell_type": "markdown",
      "metadata": {
        "id": "U6tL1a3MSQ5c"
      },
      "source": [
        "In this lesson, we'll use the skills we have learned over the past several lessons to answer questions about the top songs, artists and albums over the past fifty years."
      ]
    },
    {
      "cell_type": "markdown",
      "metadata": {
        "id": "zrdmg4AeSQ5c"
      },
      "source": [
        "### Working with Songs"
      ]
    },
    {
      "cell_type": "markdown",
      "metadata": {
        "id": "rYqt9NB3SQ5d"
      },
      "source": [
        "Let's start by working with data regarding top 500 albums according to the Rolling Stone Magazine."
      ]
    },
    {
      "cell_type": "code",
      "execution_count": null,
      "metadata": {
        "id": "ZG6LdQL9SQ5d"
      },
      "outputs": [],
      "source": [
        "import pandas as pd\n",
        "url = \"https://raw.githubusercontent.com/eng-6-22/mod-1-a-data-structures/master/6-top-songs/data.csv\"\n",
        "df = pd.read_csv(url)\n",
        "albums = df.to_dict('records')"
      ]
    },
    {
      "cell_type": "code",
      "execution_count": null,
      "metadata": {
        "id": "rhjPWHgQSQ5e"
      },
      "outputs": [],
      "source": [
        "# albums[:2]"
      ]
    },
    {
      "cell_type": "code",
      "execution_count": null,
      "metadata": {
        "id": "_b_R7oZBSQ5e",
        "outputId": "aa2a78bb-fa83-4151-c9cb-7dfe96a627e5"
      },
      "outputs": [
        {
          "data": {
            "text/plain": [
              "478"
            ]
          },
          "execution_count": 6,
          "metadata": {},
          "output_type": "execute_result"
        }
      ],
      "source": [
        "len(albums)"
      ]
    },
    {
      "cell_type": "markdown",
      "metadata": {
        "id": "0TKJOPbuSQ5f"
      },
      "source": [
        "> Well, 478."
      ]
    },
    {
      "cell_type": "markdown",
      "metadata": {
        "id": "NIMoPBI-SQ5g"
      },
      "source": [
        "Let's write some functions to help us better explore the data."
      ]
    },
    {
      "cell_type": "markdown",
      "metadata": {
        "id": "PaZz0RDwSQ5g"
      },
      "source": [
        "* `all_albums` - Takes an argument of albums and returns the list of album names.\n",
        "\n",
        "* `all_artists` - Takes argument of list of albums and returns a list of all artists (where each element is a string), and no artist is repeated. \n",
        "\n",
        "* `find_by_name` - Has one argument of `album_name`. Returns a dictionary of the correct album, or `None` if no album is found.\n",
        "\n",
        "* `find_by_ranks` - Takes `begin_rank` and `end_rank` as arguments.  Also possible to execute the function by just providing the `begin_rank` or `end_rank` (and not both).  If no arguments are provided the entire list of albums are returned.\n",
        "\n",
        "* `find_by_years` - Takes `begin_year` and `end_year` as arguments, and returns a list of dictionaries for albums between those years.  Also possible to execute the function by just providing the `begin_year` or `end_year` (and not both)."
      ]
    },
    {
      "cell_type": "markdown",
      "metadata": {
        "id": "KFXC35f_SQ5g"
      },
      "source": [
        "### Working with Songs"
      ]
    },
    {
      "cell_type": "markdown",
      "metadata": {
        "id": "08UOaNTISQ5h"
      },
      "source": [
        "Next, let's load up data related to songs, and data that connects albums and songs."
      ]
    },
    {
      "cell_type": "code",
      "execution_count": 2,
      "metadata": {
        "id": "PZa_fS1KSQ5h"
      },
      "outputs": [],
      "source": [
        "import pandas as pd\n",
        "songs_url = \"https://raw.githubusercontent.com/eng-6-22/mod-1-a-data-structures/master/6-top-songs/top-500-songs.txt\"\n",
        "songs_df = pd.read_csv(songs_url, sep='\\t', header = None, names = ['rank', 'song', 'artist', 'year'])\n",
        "songs = songs_df.to_dict('records')\n",
        "\n",
        "track_url = \"https://raw.githubusercontent.com/eng-6-22/mod-1-a-data-structures/master/6-top-songs/track_data.json\"\n",
        "albums_and_tracks = pd.read_json(track_url)\n",
        "albums_tracks = albums_and_tracks.to_dict('records')"
      ]
    },
    {
      "cell_type": "code",
      "execution_count": 3,
      "metadata": {
        "colab": {
          "base_uri": "https://localhost:8080/"
        },
        "id": "qZy-y17xSQ5h",
        "outputId": "ba504e99-ad6c-4662-d52c-d0fb40b0473c"
      },
      "outputs": [
        {
          "output_type": "execute_result",
          "data": {
            "text/plain": [
              "[{'artist': 'Bob Dylan',\n",
              "  'rank': 1,\n",
              "  'song': 'Like a Rolling Stone',\n",
              "  'year': 1965},\n",
              " {'artist': 'The Rolling Stones',\n",
              "  'rank': 2,\n",
              "  'song': 'Satisfaction',\n",
              "  'year': 1965},\n",
              " {'artist': 'John Lennon', 'rank': 3, 'song': 'Imagine', 'year': 1971},\n",
              " {'artist': 'Marvin Gaye', 'rank': 4, 'song': \"What's Going On\", 'year': 1971},\n",
              " {'artist': 'Aretha Franklin', 'rank': 5, 'song': 'Respect', 'year': 1967}]"
            ]
          },
          "metadata": {},
          "execution_count": 3
        }
      ],
      "source": [
        "songs[:5]"
      ]
    },
    {
      "cell_type": "code",
      "execution_count": 4,
      "metadata": {
        "colab": {
          "base_uri": "https://localhost:8080/"
        },
        "id": "zfDzKTLzSQ5h",
        "outputId": "c0f770b4-e8c9-4b8c-b9fb-7fd958581504"
      },
      "outputs": [
        {
          "output_type": "execute_result",
          "data": {
            "text/plain": [
              "{'album': \"Sgt. Pepper's Lonely Hearts Club Band\",\n",
              " 'artist': 'The Beatles',\n",
              " 'tracks': [\"Sgt. Pepper's Lonely Hearts Club Band - Remix\",\n",
              "  'With A Little Help From My Friends - Remix',\n",
              "  'Lucy In The Sky With Diamonds - Remix',\n",
              "  'Getting Better - Remix',\n",
              "  'Fixing A Hole - Remix',\n",
              "  \"She's Leaving Home - Remix\",\n",
              "  'Being For The Benefit Of Mr. Kite! - Remix',\n",
              "  'Within You Without You - Remix',\n",
              "  \"When I'm Sixty-Four - Remix\",\n",
              "  'Lovely Rita - Remix',\n",
              "  'Good Morning Good Morning - Remix',\n",
              "  \"Sgt. Pepper's Lonely Hearts Club Band (Reprise) - Remix\",\n",
              "  'A Day In The Life - Remix',\n",
              "  \"Sgt. Pepper's Lonely Hearts Club Band - Take 9 And Speech\",\n",
              "  'With A Little Help From My Friends - Take 1 / False Start And Take 2 / Instrumental',\n",
              "  'Lucy In The Sky With Diamonds - Take 1',\n",
              "  'Getting Better - Take 1 / Instrumental And Speech At The End',\n",
              "  'Fixing A Hole - Speech And Take 3',\n",
              "  \"She's Leaving Home - Take 1 / Instrumental\",\n",
              "  'Being For The Benefit Of Mr. Kite! - Take 4',\n",
              "  'Within You Without You - Take 1 / Indian Instruments',\n",
              "  \"When I'm Sixty-Four - Take 2\",\n",
              "  'Lovely Rita - Speech And Take 9',\n",
              "  'Good Morning Good Morning - Take 8',\n",
              "  \"Sgt. Pepper's Lonely Hearts Club Band (Reprise) - Speech And Take 8\",\n",
              "  'A Day In The Life - Take 1 With Hums',\n",
              "  'Strawberry Fields Forever - Take 7',\n",
              "  'Strawberry Fields Forever - Take 26',\n",
              "  'Strawberry Fields Forever - Stereo Mix 2015',\n",
              "  'Penny Lane - Take 6 / Instrumental',\n",
              "  'Penny Lane - Stereo Mix 2017']}"
            ]
          },
          "metadata": {},
          "execution_count": 4
        }
      ],
      "source": [
        "albums_tracks[0]"
      ]
    },
    {
      "cell_type": "markdown",
      "metadata": {
        "id": "jl94ZoB8SQ5i"
      },
      "source": [
        "* Write functions that perform the following: "
      ]
    },
    {
      "cell_type": "markdown",
      "metadata": {
        "id": "dBP71B3-SQ5i"
      },
      "source": [
        "`album_most_top_songs` - \n",
        "    * Returns the name of the artist and album that has that most songs featured on the top 500 songs list\n",
        "\n",
        "`top_ten_albums_by_songs` - returns a dictionary with the 10 albums that have the most songs that appear in the top songs list. The album names should be the keys and the corresponding values should be the number of songs that appear on the top 500 list."
      ]
    },
    {
      "cell_type": "code",
      "source": [
        "tracks_uniq = []\n",
        "for album_track in albums_tracks:\n",
        "  for track_name in album_track['tracks']:\n",
        "    cleaned_name = track_name.split(' - ')[0]\n",
        "    track = {'track': cleaned_name, 'album': album_track['album'], 'artist': album_track['artist']}\n",
        "    tracks_uniq.append(track)\n",
        "\n",
        "\n",
        "tracks_uniq[:3]"
      ],
      "metadata": {
        "colab": {
          "base_uri": "https://localhost:8080/"
        },
        "id": "xSqDu_Dr0s8x",
        "outputId": "63331ad6-c510-4577-900e-e144d83a3011"
      },
      "execution_count": 74,
      "outputs": [
        {
          "output_type": "execute_result",
          "data": {
            "text/plain": [
              "[{'album': \"Sgt. Pepper's Lonely Hearts Club Band\",\n",
              "  'artist': 'The Beatles',\n",
              "  'track': \"Sgt. Pepper's Lonely Hearts Club Band\"},\n",
              " {'album': \"Sgt. Pepper's Lonely Hearts Club Band\",\n",
              "  'artist': 'The Beatles',\n",
              "  'track': 'With A Little Help From My Friends'},\n",
              " {'album': \"Sgt. Pepper's Lonely Hearts Club Band\",\n",
              "  'artist': 'The Beatles',\n",
              "  'track': 'Lucy In The Sky With Diamonds'}]"
            ]
          },
          "metadata": {},
          "execution_count": 74
        }
      ]
    },
    {
      "cell_type": "code",
      "source": [
        "tracks = []\n",
        "for album_track in albums_tracks:\n",
        "  for track_name in album_track['tracks']:\n",
        "    cleaned_name = track_name.split(' - ')[0]\n",
        "    track = {'track': cleaned_name, 'album': album_track['album'], 'artist': album_track['artist']}\n",
        "    if track not in tracks:\n",
        "      tracks.append(track)\n",
        "\n",
        "tracks[:3]"
      ],
      "metadata": {
        "colab": {
          "base_uri": "https://localhost:8080/"
        },
        "id": "wS4GxTTBt476",
        "outputId": "c65b85d1-cf93-4cfb-bf0e-7e1fa71fb92f"
      },
      "execution_count": 84,
      "outputs": [
        {
          "output_type": "execute_result",
          "data": {
            "text/plain": [
              "[{'album': \"Sgt. Pepper's Lonely Hearts Club Band\",\n",
              "  'artist': 'The Beatles',\n",
              "  'track': \"Sgt. Pepper's Lonely Hearts Club Band\"},\n",
              " {'album': \"Sgt. Pepper's Lonely Hearts Club Band\",\n",
              "  'artist': 'The Beatles',\n",
              "  'track': 'With A Little Help From My Friends'},\n",
              " {'album': \"Sgt. Pepper's Lonely Hearts Club Band\",\n",
              "  'artist': 'The Beatles',\n",
              "  'track': 'Lucy In The Sky With Diamonds'}]"
            ]
          },
          "metadata": {},
          "execution_count": 84
        }
      ]
    },
    {
      "cell_type": "code",
      "source": [
        "def rank_song(track):\n",
        "  for song in songs:\n",
        "    if song['song'] == track:\n",
        "      return int(song['rank'])\n",
        "  return 501\n",
        "\n",
        "rank_song('Satisfaction')"
      ],
      "metadata": {
        "colab": {
          "base_uri": "https://localhost:8080/"
        },
        "id": "66nf2-N71xat",
        "outputId": "de57aa84-a9b1-4e84-c08a-1a92b06f91b1"
      },
      "execution_count": 77,
      "outputs": [
        {
          "output_type": "execute_result",
          "data": {
            "text/plain": [
              "2"
            ]
          },
          "metadata": {},
          "execution_count": 77
        }
      ]
    },
    {
      "cell_type": "code",
      "source": [
        "tracks_with_rank = []\n",
        "for track in tracks:\n",
        "  track_with_rank = {'track': track['track'], 'album': track['album'], 'artist': track['artist'], 'rank': rank_song(track['track'])}\n",
        "  tracks_with_rank.append(track_with_rank)      \n",
        "\n",
        "tracks_with_rank[-1]    "
      ],
      "metadata": {
        "colab": {
          "base_uri": "https://localhost:8080/"
        },
        "id": "kbTA_uB0wcXl",
        "outputId": "3e737d04-9a8f-485e-c77d-994334e34086"
      },
      "execution_count": 78,
      "outputs": [
        {
          "output_type": "execute_result",
          "data": {
            "text/plain": [
              "{'album': 'Aquemini', 'artist': 'OutKast', 'rank': 501, 'track': 'Chonkyfire'}"
            ]
          },
          "metadata": {},
          "execution_count": 78
        }
      ]
    },
    {
      "cell_type": "code",
      "source": [
        "top_songs = sorted(tracks_with_rank, key=lambda x: x['rank'])\n",
        "top_songs[-1]\n"
      ],
      "metadata": {
        "colab": {
          "base_uri": "https://localhost:8080/"
        },
        "id": "D_7X3LJ9UFCt",
        "outputId": "4b06a168-89fa-4869-a3ae-ea902e905713"
      },
      "execution_count": 87,
      "outputs": [
        {
          "output_type": "execute_result",
          "data": {
            "text/plain": [
              "{'album': 'Aquemini', 'artist': 'OutKast', 'rank': 501, 'track': 'Chonkyfire'}"
            ]
          },
          "metadata": {},
          "execution_count": 87
        }
      ]
    },
    {
      "cell_type": "code",
      "source": [
        "top_artist_album = {}\n",
        "for song in top_songs:\n",
        "  if song['rank'] <= 500:\n",
        "    top_artist_album[(song['album'],song )]"
      ],
      "metadata": {
        "id": "arsbOLHHPZpS"
      },
      "execution_count": null,
      "outputs": []
    }
  ],
  "metadata": {
    "kernelspec": {
      "display_name": "Python 3 (ipykernel)",
      "language": "python",
      "name": "python3"
    },
    "language_info": {
      "codemirror_mode": {
        "name": "ipython",
        "version": 3
      },
      "file_extension": ".py",
      "mimetype": "text/x-python",
      "name": "python",
      "nbconvert_exporter": "python",
      "pygments_lexer": "ipython3",
      "version": "3.9.10"
    },
    "colab": {
      "name": "albums-lab.ipynb",
      "provenance": []
    }
  },
  "nbformat": 4,
  "nbformat_minor": 0
}