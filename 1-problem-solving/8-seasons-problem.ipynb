{
  "cells": [
    {
      "cell_type": "markdown",
      "id": "275238a5-0fb4-4aa9-ae4b-9492a8b6ba44",
      "metadata": {
        "id": "275238a5-0fb4-4aa9-ae4b-9492a8b6ba44"
      },
      "source": [
        "# Seasons Problem"
      ]
    },
    {
      "cell_type": "markdown",
      "id": "4e428bf0-f495-469c-9ee1-6d1b97c0210d",
      "metadata": {
        "id": "4e428bf0-f495-469c-9ee1-6d1b97c0210d"
      },
      "source": [
        "### Introduction"
      ]
    },
    {
      "cell_type": "markdown",
      "id": "ac3340c4-bd18-498c-9f8f-a8cba79e29b8",
      "metadata": {
        "id": "ac3340c4-bd18-498c-9f8f-a8cba79e29b8"
      },
      "source": [
        "In this lesson, we'll move through the seasons."
      ]
    },
    {
      "cell_type": "markdown",
      "id": "5cba560a-19f6-4b3c-aaa2-eeed2cc020b9",
      "metadata": {
        "id": "5cba560a-19f6-4b3c-aaa2-eeed2cc020b9"
      },
      "source": [
        "### Our Problem"
      ]
    },
    {
      "cell_type": "markdown",
      "id": "a1b25552-8772-4194-9f9a-1ec3f537963f",
      "metadata": {
        "id": "a1b25552-8772-4194-9f9a-1ec3f537963f"
      },
      "source": [
        "Stagart is a planet whose year is divided into four seasons: winter, spring, summer and fall in that order.  A year has N days and every season lasts for exactly N/4 days.  The year starts on the first day of winter and ends on the last day of autumn."
      ]
    },
    {
      "cell_type": "markdown",
      "id": "98db95c8-e053-49dd-929e-5e4d0d8e43c0",
      "metadata": {
        "id": "98db95c8-e053-49dd-929e-5e4d0d8e43c0"
      },
      "source": [
        "Given the history of temperatures from the previous year, find the season with the highest amplitude of temperatures over the given period.  Assume that all seasons within one year have different temperature amplitudes.\n",
        "\n",
        "Write a function:"
      ]
    },
    {
      "cell_type": "code",
      "execution_count": null,
      "id": "d40057f3-673a-488a-ae76-cf27936f88be",
      "metadata": {
        "id": "d40057f3-673a-488a-ae76-cf27936f88be"
      },
      "outputs": [],
      "source": [
        "def highest_amplitude(temperatures):\n",
        "    pass"
      ]
    },
    {
      "cell_type": "markdown",
      "id": "2e9d0156-7c9a-4db7-806d-6483f3552dc2",
      "metadata": {
        "id": "2e9d0156-7c9a-4db7-806d-6483f3552dc2"
      },
      "source": [
        "that given a list T of N integers denoting the temperatures on all days of the year, returns a string with the name of the season with the highest temperature amplitude (either \"Winter\", \"Spring\", \"Summer\", or \"Fall\")."
      ]
    },
    {
      "cell_type": "markdown",
      "id": "a8ae5181-f124-4934-ab12-642f96ce2791",
      "metadata": {
        "id": "a8ae5181-f124-4934-ab12-642f96ce2791"
      },
      "source": [
        "For example, given:"
      ]
    },
    {
      "cell_type": "code",
      "execution_count": null,
      "id": "8d7350d0-bb29-42cd-a379-a146656f9e67",
      "metadata": {
        "id": "8d7350d0-bb29-42cd-a379-a146656f9e67"
      },
      "outputs": [],
      "source": [
        "T = [-3, -14, -5, 7, 8, 42, 8, 3]"
      ]
    },
    {
      "cell_type": "markdown",
      "id": "c2ae87c7-23b7-4ff9-ab24-0b8978a35173",
      "metadata": {
        "id": "c2ae87c7-23b7-4ff9-ab24-0b8978a35173"
      },
      "source": [
        "-3, -14    -5, 7      8, 42         8, 3\n",
        "Winter     Spring     Summer         Fall"
      ]
    },
    {
      "cell_type": "markdown",
      "id": "4fdbd65e-c596-48d8-80e9-ee7f4c658c7d",
      "metadata": {
        "id": "4fdbd65e-c596-48d8-80e9-ee7f4c658c7d"
      },
      "source": [
        "The correct answer is \"Summer\", because the highest amplitude is in summer with 34."
      ]
    },
    {
      "cell_type": "markdown",
      "id": "d3f2b8fb-f386-4e91-871f-af0e3147357d",
      "metadata": {
        "id": "d3f2b8fb-f386-4e91-871f-af0e3147357d"
      },
      "source": [
        "You can assume that:\n",
        "    \n",
        "1. The number of elements in the list will always be divisible by 4\n",
        "2. Each element in the list is an integer\n",
        "3. The amplitudes of all seasons are distinct"
      ]
    },
    {
      "cell_type": "markdown",
      "id": "c81c7953-4e21-44b5-816b-c86d13248938",
      "metadata": {
        "id": "c81c7953-4e21-44b5-816b-c86d13248938"
      },
      "source": [
        "### Proceed with the steps"
      ]
    },
    {
      "cell_type": "markdown",
      "id": "d4db54b2-1835-48d3-9323-7e7b1ef0571b",
      "metadata": {
        "id": "d4db54b2-1835-48d3-9323-7e7b1ef0571b"
      },
      "source": [
        "Ok, now move through the steps of (1) understanding the problem (2) solving the problem without the code and (3) translating a procedure to code."
      ]
    },
    {
      "cell_type": "markdown",
      "id": "13ee7554-ba1c-416f-b98d-96b206c55a5d",
      "metadata": {
        "id": "13ee7554-ba1c-416f-b98d-96b206c55a5d"
      },
      "source": [
        "1. Understanding the problem"
      ]
    },
    {
      "cell_type": "markdown",
      "id": "fb36ddc7-15ab-4426-8ce1-9e4d1a7cf5ca",
      "metadata": {
        "id": "fb36ddc7-15ab-4426-8ce1-9e4d1a7cf5ca"
      },
      "source": [
        "Restate the problem focusing on the inputs and outputs."
      ]
    },
    {
      "cell_type": "markdown",
      "source": [
        "- 1. Go throug all elements and find highest amplitude and position of it.\n",
        "- 2. Whit the position find the name of the season."
      ],
      "metadata": {
        "id": "ADPgA-pJVBie"
      },
      "id": "ADPgA-pJVBie"
    },
    {
      "cell_type": "markdown",
      "id": "b69ebbbd-012d-47d0-a382-e57a406d35fd",
      "metadata": {
        "id": "b69ebbbd-012d-47d0-a382-e57a406d35fd"
      },
      "source": [
        "2. Solve the problem without code."
      ]
    },
    {
      "cell_type": "markdown",
      "id": "23227068-4567-4d65-8518-398d4a460530",
      "metadata": {
        "id": "23227068-4567-4d65-8518-398d4a460530"
      },
      "source": [
        "For example, given:"
      ]
    },
    {
      "cell_type": "code",
      "execution_count": null,
      "id": "ba00b5ec-b4a8-4508-8fc1-187fb77266b8",
      "metadata": {
        "id": "ba00b5ec-b4a8-4508-8fc1-187fb77266b8"
      },
      "outputs": [],
      "source": [
        "T = [2, -3, 3, 1, 10, 8, 2, 5, 13, -5, 3, -18]"
      ]
    },
    {
      "cell_type": "markdown",
      "id": "9b84851c-ff51-4e78-a46f-7f7b6c57994e",
      "metadata": {
        "id": "9b84851c-ff51-4e78-a46f-7f7b6c57994e"
      },
      "source": [
        "The correct answer is `Fall`.  "
      ]
    },
    {
      "cell_type": "markdown",
      "id": "ed2c93a4-310f-4a24-9aae-1e3df01e3308",
      "metadata": {
        "id": "ed2c93a4-310f-4a24-9aae-1e3df01e3308"
      },
      "source": [
        "Solve the problem without code, and break down your procedure into at least three steps."
      ]
    },
    {
      "cell_type": "markdown",
      "id": "53f725a1-2079-4568-beaf-aac955401c63",
      "metadata": {
        "id": "53f725a1-2079-4568-beaf-aac955401c63"
      },
      "source": [
        "3. Translate into code"
      ]
    },
    {
      "cell_type": "markdown",
      "id": "09f38ddb-d8bc-4307-ad9f-fdd8b1a0e132",
      "metadata": {
        "id": "09f38ddb-d8bc-4307-ad9f-fdd8b1a0e132"
      },
      "source": [
        "If you get stuck on translating some of the steps into code, feel free to use Google."
      ]
    },
    {
      "cell_type": "code",
      "execution_count": 25,
      "id": "708c1abb-ba08-4177-879c-fe9b55a97594",
      "metadata": {
        "colab": {
          "base_uri": "https://localhost:8080/"
        },
        "id": "708c1abb-ba08-4177-879c-fe9b55a97594",
        "outputId": "bb6f9fdf-8783-4847-b2bc-2696e62f2d10"
      },
      "outputs": [
        {
          "output_type": "stream",
          "name": "stdout",
          "text": [
            "Fall\n",
            "Summer\n"
          ]
        }
      ],
      "source": [
        "def highest_amplitude(temperatures):\n",
        "    i_highest = None\n",
        "    v_highest = 0\n",
        "    for i, v in enumerate(temperatures[:-1]):\n",
        "        if abs(temperatures[i+1] - v) >= v_highest:\n",
        "          i_highest = i + 1\n",
        "          v_highest = abs(temperatures[i+1] - v)\n",
        "        # print(i,v,i_highest,v_highest)\n",
        "    season = (i_highest) % 4\n",
        "    if season == 0:\n",
        "      print('Winter')\n",
        "    elif season == 1:\n",
        "      print('Spring')\n",
        "    elif season == 2:      \n",
        "      print('Summer')\n",
        "    elif season == 3:      \n",
        "      print('Fall')      \n",
        "\n",
        "T1 = [2, -3, 3, 1, 10, 8, 2, 5, 13, -5, 3, -18]\n",
        "highest_amplitude(T1) # Fall\n",
        "\n",
        "T2 = [-3, -14, -5, 7, 8, 42, 8, 3]\n",
        "highest_amplitude(T2) # Summer"
      ]
    },
    {
      "cell_type": "code",
      "source": [],
      "metadata": {
        "id": "jHWl0sczn0Cv"
      },
      "id": "jHWl0sczn0Cv",
      "execution_count": null,
      "outputs": []
    }
  ],
  "metadata": {
    "kernelspec": {
      "display_name": "Python 3 (ipykernel)",
      "language": "python",
      "name": "python3"
    },
    "language_info": {
      "codemirror_mode": {
        "name": "ipython",
        "version": 3
      },
      "file_extension": ".py",
      "mimetype": "text/x-python",
      "name": "python",
      "nbconvert_exporter": "python",
      "pygments_lexer": "ipython3",
      "version": "3.9.7"
    },
    "colab": {
      "provenance": []
    }
  },
  "nbformat": 4,
  "nbformat_minor": 5
}