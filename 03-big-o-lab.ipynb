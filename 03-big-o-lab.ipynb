{
  "cells": [
    {
      "cell_type": "markdown",
      "metadata": {
        "id": "8yiNrHIlIkE7"
      },
      "source": [
        "# Big O Lab"
      ]
    },
    {
      "cell_type": "markdown",
      "metadata": {
        "id": "SZ8M3OZ_IkFA"
      },
      "source": [
        "### Introduction"
      ]
    },
    {
      "cell_type": "markdown",
      "metadata": {
        "id": "k8biOVXNIkFB"
      },
      "source": [
        "In this lesson, we'll practice writing some typical methods that perhaps we have seen before in Python.  After doing so, we'll calculate the time complexity of our function."
      ]
    },
    {
      "cell_type": "markdown",
      "metadata": {
        "id": "OD3IiDW4IkFC"
      },
      "source": [
        "### Find the Minimum"
      ]
    },
    {
      "cell_type": "markdown",
      "metadata": {
        "id": "HdA93YCvIkFC"
      },
      "source": [
        "Given a list find the minimum element.  \n",
        "\n",
        "> Do not use Python's `min` function."
      ]
    },
    {
      "cell_type": "code",
      "execution_count": 19,
      "metadata": {
        "id": "1vbepZc7IkFC"
      },
      "outputs": [],
      "source": [
        "original_list = [64, 39, 79, 73, 81, 42, 74, 63, 52, 36, 67]"
      ]
    },
    {
      "cell_type": "code",
      "execution_count": 4,
      "metadata": {
        "id": "IriMeancIkFD"
      },
      "outputs": [],
      "source": [
        "def min_list(elements):\n",
        "    min = float('inf')\n",
        "    for ele in original_list:\n",
        "      if ele < min:\n",
        "        min = ele\n",
        "    return min "
      ]
    },
    {
      "cell_type": "code",
      "execution_count": 5,
      "metadata": {
        "id": "0uaHCc1mIkFE",
        "outputId": "e7cef22e-ca5f-40c9-9eba-782c688aeb1e",
        "colab": {
          "base_uri": "https://localhost:8080/"
        }
      },
      "outputs": [
        {
          "output_type": "execute_result",
          "data": {
            "text/plain": [
              "36"
            ]
          },
          "metadata": {},
          "execution_count": 5
        }
      ],
      "source": [
        "min_list(original_list) \n",
        "# 36"
      ]
    },
    {
      "cell_type": "code",
      "source": [
        "def min_list(elements):\n",
        "  elements.sort()\n",
        "  return elements[0]"
      ],
      "metadata": {
        "id": "kOwKcZIcOorl"
      },
      "execution_count": 25,
      "outputs": []
    },
    {
      "cell_type": "code",
      "source": [
        "min_list(original_list) \n",
        "# 36"
      ],
      "metadata": {
        "id": "lIFufM7bOwxy",
        "outputId": "cd14b9a1-70f6-4670-b9c8-3b2904ac7fea",
        "colab": {
          "base_uri": "https://localhost:8080/"
        }
      },
      "execution_count": 26,
      "outputs": [
        {
          "output_type": "execute_result",
          "data": {
            "text/plain": [
              "36"
            ]
          },
          "metadata": {},
          "execution_count": 26
        }
      ]
    },
    {
      "cell_type": "markdown",
      "metadata": {
        "id": "DBZbFkd_IkFF"
      },
      "source": [
        "Calculate the big O of your function."
      ]
    },
    {
      "cell_type": "markdown",
      "metadata": {
        "id": "YOlhf3S1IkFF"
      },
      "source": [
        "### Finding Uniqueness"
      ]
    },
    {
      "cell_type": "markdown",
      "metadata": {
        "id": "QCURgTBSIkFF"
      },
      "source": [
        "Now a list is unique if there are no repeating elements.  Write a function called `all_unique` below that returns True if all of the elements in a list is True and False if there are repeating elements.  \n",
        "\n",
        "> Avoid using Python's `set` operation in writing your function.    "
      ]
    },
    {
      "cell_type": "code",
      "execution_count": 8,
      "metadata": {
        "id": "omtyEhnNIkFG"
      },
      "outputs": [],
      "source": [
        "import numpy as np\n",
        "non_unique = [ -78,   81,   63,   79,  -27,   52,  -18,   20,   52,   39,   -1,\n",
        "        -48,   12,  -46,  -49,   64,   36,  -71,   73,  -70,   -8,   11,\n",
        "        -98,  -95,  -68,   67,   42,  -79,   52,  -93,   30,   67,   -4,\n",
        "        -35,   17,  -70,  -27,  -15,  -68,   74,   -1,  -44,  -67,  -94,\n",
        "        -46]\n",
        "\n",
        "unique_elements = [-98, -95, -94, -93, -79, -78, -71, -70, -68, -67, -49, -48, -46,\n",
        "       -44, -35, -27, -18, -15,  -8,  -4,  -1,  11,  12,  17,  20,  30,\n",
        "        36,  39,  42,  52,  63,  64,  67,  73,  74,  79,  81]"
      ]
    },
    {
      "cell_type": "code",
      "execution_count": 9,
      "metadata": {
        "id": "nzjiGt4AIkFG"
      },
      "outputs": [],
      "source": [
        "def all_unique(elements):\n",
        "    for ele in elements:\n",
        "      if elements.count(ele) > 1:\n",
        "        return False\n",
        "    return True"
      ]
    },
    {
      "cell_type": "code",
      "execution_count": 10,
      "metadata": {
        "id": "jsXhKqA_IkFG",
        "outputId": "39fa95dc-5932-4204-80c9-7c176935a748",
        "colab": {
          "base_uri": "https://localhost:8080/"
        }
      },
      "outputs": [
        {
          "output_type": "execute_result",
          "data": {
            "text/plain": [
              "False"
            ]
          },
          "metadata": {},
          "execution_count": 10
        }
      ],
      "source": [
        "all_unique(non_unique)\n",
        "# False"
      ]
    },
    {
      "cell_type": "code",
      "execution_count": 11,
      "metadata": {
        "id": "gSuzCkhTIkFH",
        "outputId": "cb81bbba-f273-4274-b79d-c18f3c1e47d9",
        "colab": {
          "base_uri": "https://localhost:8080/"
        }
      },
      "outputs": [
        {
          "output_type": "execute_result",
          "data": {
            "text/plain": [
              "True"
            ]
          },
          "metadata": {},
          "execution_count": 11
        }
      ],
      "source": [
        "all_unique(unique_elements)\n",
        "# True"
      ]
    },
    {
      "cell_type": "code",
      "source": [
        "def all_unique(elements):\n",
        "    elements.sort()\n",
        "    for i, ele in enumerate(elements[1:]):\n",
        "      if elements[i-1] == ele:\n",
        "        return False\n",
        "    return True"
      ],
      "metadata": {
        "id": "tKmePTmEP3zD"
      },
      "execution_count": 28,
      "outputs": []
    },
    {
      "cell_type": "code",
      "source": [
        "all_unique(non_unique)\n",
        "# False"
      ],
      "metadata": {
        "id": "_wp4s_Z0Q2V-",
        "outputId": "81f24ea8-97ef-48f8-a563-869c2bb3628b",
        "colab": {
          "base_uri": "https://localhost:8080/"
        }
      },
      "execution_count": 29,
      "outputs": [
        {
          "output_type": "execute_result",
          "data": {
            "text/plain": [
              "False"
            ]
          },
          "metadata": {},
          "execution_count": 29
        }
      ]
    },
    {
      "cell_type": "code",
      "source": [
        "all_unique(unique_elements)\n",
        "# True"
      ],
      "metadata": {
        "id": "gjxR1NQ-Q2Iq",
        "outputId": "b264b478-7a7c-4e7b-9695-15bef87d5fa4",
        "colab": {
          "base_uri": "https://localhost:8080/"
        }
      },
      "execution_count": 30,
      "outputs": [
        {
          "output_type": "execute_result",
          "data": {
            "text/plain": [
              "True"
            ]
          },
          "metadata": {},
          "execution_count": 30
        }
      ]
    },
    {
      "cell_type": "markdown",
      "metadata": {
        "id": "kTzCD8KIIkFH"
      },
      "source": [
        "Then calculate the time complexity of your function.  If there are any improvements you would like to make to your code, rewrite it below. "
      ]
    },
    {
      "cell_type": "markdown",
      "metadata": {
        "id": "rI4P2umkIkFH"
      },
      "source": [
        "### Reversing a List"
      ]
    },
    {
      "cell_type": "markdown",
      "metadata": {
        "id": "AsPGmgbGIkFH"
      },
      "source": [
        "Next let's write a function to reverse a list in Python.  \n",
        "\n",
        "> Do not use the `reverse` function or the slice function in doing so.  Also avoid using recursion, whatever that means."
      ]
    },
    {
      "cell_type": "code",
      "execution_count": 12,
      "metadata": {
        "id": "HZA6WElGIkFH"
      },
      "outputs": [],
      "source": [
        "original_list = [7, 2, 4, 6, 3, 3, 5, 2]"
      ]
    },
    {
      "cell_type": "code",
      "execution_count": 13,
      "metadata": {
        "id": "oINmIXM-IkFH"
      },
      "outputs": [],
      "source": [
        "def reverse_list(original_list):\n",
        "    left, right = 0, len(original_list) - 1\n",
        "    while left < right:\n",
        "      original_list[left], original_list[right] = original_list[right], original_list[left]\n",
        "      left, right = left + 1, right -1\n",
        "    return original_list"
      ]
    },
    {
      "cell_type": "code",
      "execution_count": 14,
      "metadata": {
        "id": "Vg5a8pAvIkFI",
        "outputId": "7916f819-b3e8-4415-c121-b935bf1bc5d2",
        "colab": {
          "base_uri": "https://localhost:8080/"
        }
      },
      "outputs": [
        {
          "output_type": "execute_result",
          "data": {
            "text/plain": [
              "[2, 5, 3, 3, 6, 4, 2, 7]"
            ]
          },
          "metadata": {},
          "execution_count": 14
        }
      ],
      "source": [
        "reverse_list(original_list)\n",
        "\n",
        "# [2, 5, 3, 3, 6, 4, 2, 7]"
      ]
    },
    {
      "cell_type": "markdown",
      "metadata": {
        "id": "ApwuHxjqIkFI"
      },
      "source": [
        "> Calculate the big o of your function."
      ]
    },
    {
      "cell_type": "markdown",
      "metadata": {
        "id": "yuibsqorIkFI"
      },
      "source": [
        "### Reconsidering the Functions"
      ]
    },
    {
      "cell_type": "markdown",
      "metadata": {
        "id": "ala9_9EwIkFI"
      },
      "source": [
        "Now some of the functions we wrote above may be simpler if we first sort the inputs.  Which functions perhaps become easier to write by first sorting the elements in the list.  Rewrite those functions below. \n",
        "\n",
        "How does the big O of the functions change?"
      ]
    },
    {
      "cell_type": "markdown",
      "metadata": {
        "id": "XRneLWynIkFI"
      },
      "source": [
        "### Resources\n",
        "\n",
        "[Time Complexity Resource](https://www.ics.uci.edu/~pattis/ICS-33/lectures/complexitypython.txt)"
      ]
    },
    {
      "cell_type": "markdown",
      "metadata": {
        "id": "Ywcr-wobIkFI"
      },
      "source": [
        "[StackOverflow Reverse](https://stackoverflow.com/questions/5249348/creating-a-reverse-method-for-a-python-list-from-scratch)"
      ]
    }
  ],
  "metadata": {
    "kernelspec": {
      "display_name": "Python 3",
      "language": "python",
      "name": "python3"
    },
    "language_info": {
      "codemirror_mode": {
        "name": "ipython",
        "version": 3
      },
      "file_extension": ".py",
      "mimetype": "text/x-python",
      "name": "python",
      "nbconvert_exporter": "python",
      "pygments_lexer": "ipython3",
      "version": "3.9.1"
    },
    "colab": {
      "name": "03-big-o-lab.ipynb",
      "provenance": []
    }
  },
  "nbformat": 4,
  "nbformat_minor": 0
}