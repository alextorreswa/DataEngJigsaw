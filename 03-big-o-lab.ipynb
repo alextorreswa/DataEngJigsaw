{
  "cells": [
    {
      "cell_type": "markdown",
      "metadata": {
        "id": "RZL3wXFWrNwv"
      },
      "source": [
        "# Big O Lab"
      ]
    },
    {
      "cell_type": "markdown",
      "metadata": {
        "id": "vWoe_Z8irNwz"
      },
      "source": [
        "### Introduction"
      ]
    },
    {
      "cell_type": "markdown",
      "metadata": {
        "id": "UZWSoxydrNw0"
      },
      "source": [
        "In this lesson, we'll practice writing some typical methods that perhaps we have seen before in Python.  After doing so, we'll calculate the time complexity of our function."
      ]
    },
    {
      "cell_type": "markdown",
      "metadata": {
        "id": "i3drQviorNw0"
      },
      "source": [
        "### Find the Minimum"
      ]
    },
    {
      "cell_type": "markdown",
      "metadata": {
        "id": "Pv9FpQClrNw1"
      },
      "source": [
        "Given a list find the minimum element.  \n",
        "\n",
        "> Do not use Python's `min` function."
      ]
    },
    {
      "cell_type": "code",
      "execution_count": 2,
      "metadata": {
        "id": "h3NadZ7xrNw1"
      },
      "outputs": [],
      "source": [
        "original_list = [64, 39, 79, 73, 81, 42, 74, 63, 52, 36, 67]"
      ]
    },
    {
      "cell_type": "code",
      "execution_count": 1,
      "metadata": {
        "id": "DPmGpZVQrNw3"
      },
      "outputs": [],
      "source": [
        "def min_list(elements):\n",
        "    min = elements[0]\n",
        "    for ele in elements:\n",
        "      if ele < min:\n",
        "        min = ele\n",
        "    return min "
      ]
    },
    {
      "cell_type": "code",
      "execution_count": 3,
      "metadata": {
        "id": "AYXs1eBwrNw3",
        "outputId": "699b38c3-b124-4c21-88e9-52e2c6042fa6",
        "colab": {
          "base_uri": "https://localhost:8080/"
        }
      },
      "outputs": [
        {
          "output_type": "execute_result",
          "data": {
            "text/plain": [
              "36"
            ]
          },
          "metadata": {},
          "execution_count": 3
        }
      ],
      "source": [
        "min_list(original_list) \n",
        "# 36"
      ]
    },
    {
      "cell_type": "markdown",
      "metadata": {
        "id": "T-7ESaf1rNw4"
      },
      "source": [
        "Calculate the big O of your function."
      ]
    },
    {
      "cell_type": "markdown",
      "metadata": {
        "id": "3LqRROx_rNw4"
      },
      "source": [
        "### Finding Uniqueness"
      ]
    },
    {
      "cell_type": "markdown",
      "metadata": {
        "id": "ZBwQ6YAQrNw5"
      },
      "source": [
        "Now a list is unique if there are no repeating elements.  Write a function called `all_unique` below that returns True if all of the elements in a list is True and False if there are repeating elements.  \n",
        "\n",
        "> Avoid using Python's `set` operation in writing your function.    "
      ]
    },
    {
      "cell_type": "code",
      "execution_count": 4,
      "metadata": {
        "id": "b1BQ1TU6rNw5"
      },
      "outputs": [],
      "source": [
        "import numpy as np\n",
        "non_unique = [ -78,   81,   63,   79,  -27,   52,  -18,   20,   52,   39,   -1,\n",
        "        -48,   12,  -46,  -49,   64,   36,  -71,   73,  -70,   -8,   11,\n",
        "        -98,  -95,  -68,   67,   42,  -79,   52,  -93,   30,   67,   -4,\n",
        "        -35,   17,  -70,  -27,  -15,  -68,   74,   -1,  -44,  -67,  -94,\n",
        "        -46]\n",
        "\n",
        "unique_elements = [-98, -95, -94, -93, -79, -78, -71, -70, -68, -67, -49, -48, -46,\n",
        "       -44, -35, -27, -18, -15,  -8,  -4,  -1,  11,  12,  17,  20,  30,\n",
        "        36,  39,  42,  52,  63,  64,  67,  73,  74,  79,  81]"
      ]
    },
    {
      "cell_type": "code",
      "execution_count": 10,
      "metadata": {
        "id": "lmFE4908rNw6"
      },
      "outputs": [],
      "source": [
        "def all_unique(elements):\n",
        "    for ele in elements:\n",
        "      l = elements\n",
        "      l.remove(ele)\n",
        "      if ele in l:\n",
        "        return False\n",
        "    return True   "
      ]
    },
    {
      "cell_type": "code",
      "execution_count": 11,
      "metadata": {
        "id": "zCtJ8hNzrNw6",
        "outputId": "1512e40b-c9dc-4760-8bab-436119fa51b6",
        "colab": {
          "base_uri": "https://localhost:8080/"
        }
      },
      "outputs": [
        {
          "output_type": "execute_result",
          "data": {
            "text/plain": [
              "False"
            ]
          },
          "metadata": {},
          "execution_count": 11
        }
      ],
      "source": [
        "all_unique(non_unique)\n",
        "# False"
      ]
    },
    {
      "cell_type": "code",
      "execution_count": 12,
      "metadata": {
        "id": "4fjMfk3krNw6",
        "outputId": "26fb9203-606b-46e3-cfb2-626f46da9608",
        "colab": {
          "base_uri": "https://localhost:8080/"
        }
      },
      "outputs": [
        {
          "output_type": "execute_result",
          "data": {
            "text/plain": [
              "True"
            ]
          },
          "metadata": {},
          "execution_count": 12
        }
      ],
      "source": [
        "all_unique(unique_elements)\n",
        "# True"
      ]
    },
    {
      "cell_type": "markdown",
      "metadata": {
        "id": "KmPZRKrtrNw7"
      },
      "source": [
        "Then calculate the time complexity of your function.  If there are any improvements you would like to make to your code, rewrite it below. "
      ]
    },
    {
      "cell_type": "markdown",
      "metadata": {
        "id": "g2N8hQ4hrNw7"
      },
      "source": [
        "### Reversing a List"
      ]
    },
    {
      "cell_type": "markdown",
      "metadata": {
        "id": "9k3vb88PrNw7"
      },
      "source": [
        "Next let's write a function to reverse a list in Python.  \n",
        "\n",
        "> Do not use the `reverse` function or the slice function in doing so.  Also avoid using recursion, whatever that means."
      ]
    },
    {
      "cell_type": "code",
      "execution_count": 13,
      "metadata": {
        "id": "92LgKxKSrNw8"
      },
      "outputs": [],
      "source": [
        "original_list = [7, 2, 4, 6, 3, 3, 5, 2]"
      ]
    },
    {
      "cell_type": "code",
      "execution_count": 16,
      "metadata": {
        "id": "hs7QOg2RrNw8"
      },
      "outputs": [],
      "source": [
        "def reverse_list(original_list):\n",
        "    for i in range(int(len(original_list)/2)):\n",
        "      original_list[i], original_list[-(i+1)] = original_list[-(i+1)], original_list[i]\n",
        "    return original_list"
      ]
    },
    {
      "cell_type": "code",
      "execution_count": 17,
      "metadata": {
        "id": "cXpLkROUrNw8",
        "outputId": "0ebbbf8f-b0f4-4c4a-dca3-279acefe8c41",
        "colab": {
          "base_uri": "https://localhost:8080/"
        }
      },
      "outputs": [
        {
          "output_type": "execute_result",
          "data": {
            "text/plain": [
              "[2, 5, 3, 3, 6, 4, 2, 7]"
            ]
          },
          "metadata": {},
          "execution_count": 17
        }
      ],
      "source": [
        "reverse_list(original_list)\n",
        "\n",
        "# [2, 5, 3, 3, 6, 4, 2, 7]"
      ]
    },
    {
      "cell_type": "markdown",
      "metadata": {
        "id": "vaueW3pNrNw9"
      },
      "source": [
        "> Calculate the big o of your function."
      ]
    },
    {
      "cell_type": "markdown",
      "metadata": {
        "tags": [],
        "id": "dhwU-BRWrNw9"
      },
      "source": [
        "### Slicing a list"
      ]
    },
    {
      "cell_type": "markdown",
      "metadata": {
        "id": "aRpxzIa4rNw-"
      },
      "source": [
        "Now we want to reproduce the slicing function."
      ]
    },
    {
      "cell_type": "code",
      "execution_count": 18,
      "metadata": {
        "id": "B6_TnMAsrNw_"
      },
      "outputs": [],
      "source": [
        "original_list = [64, 39, 79, 73, 81, 42, 74, 63, 52, 36, 67]"
      ]
    },
    {
      "cell_type": "code",
      "execution_count": 19,
      "metadata": {
        "id": "nT0NTNH1rNw_",
        "outputId": "25319a0c-07d7-453b-e0c9-fceeadf96186",
        "colab": {
          "base_uri": "https://localhost:8080/"
        }
      },
      "outputs": [
        {
          "output_type": "execute_result",
          "data": {
            "text/plain": [
              "[64, 39]"
            ]
          },
          "metadata": {},
          "execution_count": 19
        }
      ],
      "source": [
        "original_list[:2]"
      ]
    },
    {
      "cell_type": "markdown",
      "metadata": {
        "id": "PlTO0UNLrNxA"
      },
      "source": [
        "And note that we can also slice the from last elements on with the following:"
      ]
    },
    {
      "cell_type": "code",
      "execution_count": 20,
      "metadata": {
        "id": "OM14TrMDrNxB",
        "outputId": "44fdfe69-b4a3-4d44-f7b7-f37027fa9778",
        "colab": {
          "base_uri": "https://localhost:8080/"
        }
      },
      "outputs": [
        {
          "output_type": "execute_result",
          "data": {
            "text/plain": [
              "[36, 67]"
            ]
          },
          "metadata": {},
          "execution_count": 20
        }
      ],
      "source": [
        "original_list[-2:]"
      ]
    },
    {
      "cell_type": "markdown",
      "metadata": {
        "id": "agTnWAzlrNxB"
      },
      "source": [
        "> In our function below, when we pass target_index = 2, and reverse = True, it should just return the last  two elements."
      ]
    },
    {
      "cell_type": "code",
      "execution_count": 30,
      "metadata": {
        "id": "QqX2ZHmFrNxB",
        "outputId": "af29eaeb-ee14-410e-cbd4-333e8914156c",
        "colab": {
          "base_uri": "https://localhost:8080/"
        }
      },
      "outputs": [
        {
          "output_type": "execute_result",
          "data": {
            "text/plain": [
              "[64, 39]"
            ]
          },
          "metadata": {},
          "execution_count": 30
        }
      ],
      "source": [
        "original_list = [64, 39, 79, 73, 81, 42, 74, 63, 52, 36, 67]\n",
        "\n",
        "def slice_elements(elements, target_index, reverse = False):\n",
        "    result = []\n",
        "    for n in range(target_index):\n",
        "      if not reverse:\n",
        "        result.append(elements[n])\n",
        "      else:\n",
        "        result.append(elements[-target_index+n])\n",
        "    return result\n",
        "        \n",
        "slice_elements(original_list, 2, False)\n",
        "# [64, 39]"
      ]
    },
    {
      "cell_type": "code",
      "source": [
        "slice_elements(original_list, 2, True)\n",
        "# [36, 67]"
      ],
      "metadata": {
        "id": "87AO6dJOxzVY",
        "outputId": "f9217d59-3463-4f21-df07-8164b48c78d4",
        "colab": {
          "base_uri": "https://localhost:8080/"
        }
      },
      "execution_count": 31,
      "outputs": [
        {
          "output_type": "execute_result",
          "data": {
            "text/plain": [
              "[36, 67]"
            ]
          },
          "metadata": {},
          "execution_count": 31
        }
      ]
    },
    {
      "cell_type": "markdown",
      "metadata": {
        "id": "tD-qAqRLrNxB"
      },
      "source": [
        "What is the big o of your function above?"
      ]
    },
    {
      "cell_type": "markdown",
      "metadata": {
        "id": "qUiEj_WPrNxB"
      },
      "source": [
        "### Reconsidering the Functions"
      ]
    },
    {
      "cell_type": "markdown",
      "metadata": {
        "id": "mECzY2PcrNxC"
      },
      "source": [
        "Now some of the functions we wrote above may be simpler if we first sort the inputs.  Which functions perhaps become easier to write by first sorting the elements in the list.  Rewrite those functions below. \n",
        "\n",
        "How does the big O of the functions change?"
      ]
    },
    {
      "cell_type": "markdown",
      "metadata": {
        "id": "v6e8N6SDrNxC"
      },
      "source": [
        "### Resources\n",
        "\n",
        "[Time Complexity Resource](https://www.ics.uci.edu/~pattis/ICS-33/lectures/complexitypython.txt)"
      ]
    },
    {
      "cell_type": "markdown",
      "metadata": {
        "id": "8vOEMLobrNxC"
      },
      "source": [
        "[StackOverflow Reverse](https://stackoverflow.com/questions/5249348/creating-a-reverse-method-for-a-python-list-from-scratch)"
      ]
    }
  ],
  "metadata": {
    "kernelspec": {
      "display_name": "Python 3 (ipykernel)",
      "language": "python",
      "name": "python3"
    },
    "language_info": {
      "codemirror_mode": {
        "name": "ipython",
        "version": 3
      },
      "file_extension": ".py",
      "mimetype": "text/x-python",
      "name": "python",
      "nbconvert_exporter": "python",
      "pygments_lexer": "ipython3",
      "version": "3.10.6"
    },
    "colab": {
      "provenance": []
    }
  },
  "nbformat": 4,
  "nbformat_minor": 0
}