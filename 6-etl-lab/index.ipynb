{
  "cells": [
    {
      "cell_type": "markdown",
      "metadata": {
        "id": "l6-0FP9WIbsU"
      },
      "source": [
        "# ETL Lab"
      ]
    },
    {
      "cell_type": "markdown",
      "metadata": {
        "id": "AUKld3yeIbsZ"
      },
      "source": [
        "### Introduction"
      ]
    },
    {
      "cell_type": "markdown",
      "metadata": {
        "id": "9uhe3IFJIbsa"
      },
      "source": [
        "In this lab, we ask you to use the techniques learned in this section to work with an API of your choosing.  As important to getting to the correct code is to develop the proper procedure for getting there.  Just like in the preceding lessons we will following our procedures such as: \n",
        "\n",
        "1. Red, green, refactor\n",
        "2. Move mess into an object\n",
        "3. Make small methods by: \n",
        "    A. Commenting code\n",
        "    B. Translating comments into methods\n",
        "    \n",
        "Along the way, we will arrive at our pattern of a *Client*, *Adapter*, and *Target*."
      ]
    },
    {
      "cell_type": "markdown",
      "metadata": {
        "id": "bhLt-RquIbsb"
      },
      "source": [
        "### Step 1.  Just get the data"
      ]
    },
    {
      "cell_type": "markdown",
      "metadata": {
        "id": "dVFfOAT_Ibsb"
      },
      "source": [
        "The first step is to go from red to green.  That is, the code starts off with nothing working and our task is simply to get it working.  In this case, this means the following: \n",
        "\n",
        "1. Call an API of your choosing\n",
        "2. Return a list of dictionaries and store as a variable named `entities`"
      ]
    },
    {
      "cell_type": "code",
      "execution_count": 8,
      "metadata": {
        "id": "LT85fCrfIbsc"
      },
      "outputs": [],
      "source": [
        "import requests\n",
        "response = requests.get(\"https://data.seattle.gov/resource/kzjm-xkqj.json\")\n",
        "entities = response.json()\n"
      ]
    },
    {
      "cell_type": "code",
      "execution_count": 9,
      "metadata": {
        "id": "Qh899LarIbsd",
        "outputId": "4cc726dd-0d15-4b27-b523-2c49faa58e33",
        "colab": {
          "base_uri": "https://localhost:8080/"
        }
      },
      "outputs": [
        {
          "output_type": "execute_result",
          "data": {
            "text/plain": [
              "list"
            ]
          },
          "metadata": {},
          "execution_count": 9
        }
      ],
      "source": [
        "type(entities)\n",
        "# list"
      ]
    },
    {
      "cell_type": "code",
      "source": [
        "type(entities[0])\n",
        "# dict"
      ],
      "metadata": {
        "id": "jC5kn0n2Kg2A",
        "outputId": "bac24dbb-72b3-4802-9acd-4650707a3b43",
        "colab": {
          "base_uri": "https://localhost:8080/"
        }
      },
      "execution_count": 10,
      "outputs": [
        {
          "output_type": "execute_result",
          "data": {
            "text/plain": [
              "dict"
            ]
          },
          "metadata": {},
          "execution_count": 10
        }
      ]
    },
    {
      "cell_type": "code",
      "source": [
        "entities[0]"
      ],
      "metadata": {
        "id": "NnNOCQaYK0KH",
        "outputId": "5249a519-edcb-42d3-e1dc-f65508525c53",
        "colab": {
          "base_uri": "https://localhost:8080/"
        }
      },
      "execution_count": 11,
      "outputs": [
        {
          "output_type": "execute_result",
          "data": {
            "text/plain": [
              "{'address': '420 Vine St',\n",
              " 'type': '4RED - 2 + 1 + 1',\n",
              " 'datetime': '2022-09-13T16:31:00.000',\n",
              " 'latitude': '47.617379',\n",
              " 'longitude': '-122.34693',\n",
              " 'report_location': {'type': 'Point', 'coordinates': [-122.34693, 47.617379]},\n",
              " 'incident_number': 'F220111423',\n",
              " ':@computed_region_ru88_fbhk': '56',\n",
              " ':@computed_region_kuhn_3gp2': '7',\n",
              " ':@computed_region_q256_3sug': '19576'}"
            ]
          },
          "metadata": {},
          "execution_count": 11
        }
      ]
    },
    {
      "cell_type": "markdown",
      "metadata": {
        "id": "IppWFT4pIbsf"
      },
      "source": [
        "### Step 2. Change the dictionaries into objects"
      ]
    },
    {
      "cell_type": "markdown",
      "metadata": {
        "id": "OSebRZegIbsg"
      },
      "source": [
        "The next step is to change dictionaries received back from the API into objects.  We can break this down into a couple of steps.\n",
        "\n",
        "1. Create the *target class*.  This is the class the dictionaries will be transformed into.  To do this, choose no more than five attributes to store in each instance."
      ]
    },
    {
      "cell_type": "code",
      "execution_count": 30,
      "metadata": {
        "id": "4qJ1ddLHIbsh"
      },
      "outputs": [],
      "source": [
        "class Calls911:\n",
        "    def __init__(self, type, datetime, latitude, longitude):\n",
        "        self.type = type\n",
        "        self.datetime = datetime\n",
        "        self.latitude = latitude\n",
        "        self.longitude = longitude"
      ]
    },
    {
      "cell_type": "markdown",
      "metadata": {
        "id": "ji-B8StHIbsh"
      },
      "source": [
        "Check your work by assigning an instance to the variable `target_instance`."
      ]
    },
    {
      "cell_type": "code",
      "execution_count": 32,
      "metadata": {
        "id": "WACCXBcAIbsi",
        "outputId": "421ba554-e505-43c5-e43a-2903edc74698",
        "colab": {
          "base_uri": "https://localhost:8080/"
        }
      },
      "outputs": [
        {
          "output_type": "execute_result",
          "data": {
            "text/plain": [
              "True"
            ]
          },
          "metadata": {},
          "execution_count": 32
        }
      ],
      "source": [
        "call911 = Calls911(type=entities[0]['type'], datetime=entities[0]['datetime'], latitude=entities[0]['latitude'], longitude=entities[0]['longitude'])\n",
        "3 < len( call911.__dict__.keys()) < 5\n",
        "# True "
      ]
    },
    {
      "cell_type": "markdown",
      "metadata": {
        "id": "iiA8X2fLIbsi"
      },
      "source": [
        "1. Reject some of the data\n",
        "\n",
        "We don't want to pass all of our data into our class.  So create a smaller dictionary of just the attributes we need."
      ]
    },
    {
      "cell_type": "code",
      "execution_count": 33,
      "metadata": {
        "id": "ki29awe9Ibsj"
      },
      "outputs": [],
      "source": [
        "attributes = ('type', 'datetime', 'latitude', 'longitude')\n",
        "selected_attributes = dict((k, entities[0][k]) for k in attributes)"
      ]
    },
    {
      "cell_type": "code",
      "execution_count": 36,
      "metadata": {
        "id": "_fxfdAmQIbsj",
        "outputId": "0de1089b-c583-4d6b-8f77-cc3e9d592668",
        "colab": {
          "base_uri": "https://localhost:8080/"
        }
      },
      "outputs": [
        {
          "output_type": "execute_result",
          "data": {
            "text/plain": [
              "dict"
            ]
          },
          "metadata": {},
          "execution_count": 36
        }
      ],
      "source": [
        "type(selected_attributes)\n",
        "# dict"
      ]
    },
    {
      "cell_type": "code",
      "execution_count": 35,
      "metadata": {
        "id": "5xChNkXQIbsk",
        "outputId": "f0bbf220-5008-4e8f-9b0d-8f05bec71084",
        "colab": {
          "base_uri": "https://localhost:8080/"
        }
      },
      "outputs": [
        {
          "output_type": "execute_result",
          "data": {
            "text/plain": [
              "True"
            ]
          },
          "metadata": {},
          "execution_count": 35
        }
      ],
      "source": [
        "len(selected_attributes.keys()) == len(call911.__dict__.keys())\n",
        "# True"
      ]
    },
    {
      "cell_type": "markdown",
      "metadata": {
        "id": "mUVqWHzQIbsk"
      },
      "source": [
        "2. Coerce dictionaries into objects\n",
        "\n",
        "A. To start, coerce just one dictionary into an object."
      ]
    },
    {
      "cell_type": "code",
      "execution_count": 37,
      "metadata": {
        "id": "uC96GcIiIbsl"
      },
      "outputs": [],
      "source": [
        "first_object = Calls911(**selected_attributes)\n",
        "# change the above line to reference your target class"
      ]
    },
    {
      "cell_type": "code",
      "source": [
        "first_object.__dict__"
      ],
      "metadata": {
        "id": "jzmjaNJST6fS",
        "outputId": "db10168f-8d39-4e68-dd6d-3f2f4c1443bd",
        "colab": {
          "base_uri": "https://localhost:8080/"
        }
      },
      "execution_count": 38,
      "outputs": [
        {
          "output_type": "execute_result",
          "data": {
            "text/plain": [
              "{'type': '4RED - 2 + 1 + 1',\n",
              " 'datetime': '2022-09-13T16:31:00.000',\n",
              " 'latitude': '47.617379',\n",
              " 'longitude': '-122.34693'}"
            ]
          },
          "metadata": {},
          "execution_count": 38
        }
      ]
    },
    {
      "cell_type": "code",
      "execution_count": 39,
      "metadata": {
        "id": "Y9ArS5J-Ibsl",
        "outputId": "f7532c06-3205-48f7-f152-53619aef93b9",
        "colab": {
          "base_uri": "https://localhost:8080/"
        }
      },
      "outputs": [
        {
          "output_type": "execute_result",
          "data": {
            "text/plain": [
              "False"
            ]
          },
          "metadata": {},
          "execution_count": 39
        }
      ],
      "source": [
        "list(first_object.__dict__.values()) == list(entities[0].values())\n",
        "# True"
      ]
    },
    {
      "cell_type": "markdown",
      "metadata": {
        "id": "i8gTWHduIbsl"
      },
      "source": [
        "B. Now that you have solved for one, solve for all.  Coerce all of the dictionaries into objects.  Assign the list of objects to a variable `targets`."
      ]
    },
    {
      "cell_type": "code",
      "execution_count": 40,
      "metadata": {
        "id": "WrUHLvQzIbsm"
      },
      "outputs": [],
      "source": [
        "\n",
        "calls911 = [Calls911(**dict((k, e[k]) for k in attributes)) for e in entities if e.get('latitude') is not None]"
      ]
    },
    {
      "cell_type": "code",
      "execution_count": 41,
      "metadata": {
        "id": "eQnmU06aIbsm",
        "outputId": "287de15d-b230-43c5-fd6b-481ce442d83e",
        "colab": {
          "base_uri": "https://localhost:8080/"
        }
      },
      "outputs": [
        {
          "output_type": "execute_result",
          "data": {
            "text/plain": [
              "False"
            ]
          },
          "metadata": {},
          "execution_count": 41
        }
      ],
      "source": [
        "len(calls911) == len(entities)\n",
        "# True"
      ]
    },
    {
      "cell_type": "markdown",
      "metadata": {
        "id": "H5hBGvs7Ibsm"
      },
      "source": [
        "### 3. Move the remaining code into an object \n",
        "\n",
        "At this point, we successfully have transformed a list of dictionaries from an API into a list of objects.  But we need to keep cleaning up our code.  To do this, look at the code outside of a class, and move it into a class, with a method name of run."
      ]
    },
    {
      "cell_type": "code",
      "execution_count": 42,
      "metadata": {
        "id": "EnnLj8NdIbsm"
      },
      "outputs": [],
      "source": [
        "class Builder911calls:\n",
        "    def run(self):\n",
        "        import requests\n",
        "        response = requests.get(\"https://data.seattle.gov/resource/kzjm-xkqj.json\")\n",
        "        entities = response.json()        \n",
        "        attributes = ('type', 'datetime', 'latitude', 'longitude')\n",
        "        calls911 = [Calls911(**dict((k, e[k]) for k in attributes)) for e in entities if e.get('latitude') is not None]\n",
        "        return calls911"
      ]
    },
    {
      "cell_type": "markdown",
      "metadata": {
        "id": "jVBonpg5Ibsn"
      },
      "source": [
        "Let's marke sure that this works."
      ]
    },
    {
      "cell_type": "code",
      "execution_count": 43,
      "metadata": {
        "id": "TXyg6WvgIbsn"
      },
      "outputs": [],
      "source": [
        "adapter = Builder911calls()\n",
        "# change the above line to reference your adapter\n",
        "results = adapter.run()"
      ]
    },
    {
      "cell_type": "code",
      "execution_count": 49,
      "metadata": {
        "id": "651aNvQRIbsn",
        "outputId": "c5e6f602-3fd6-4951-dee3-e28b69b4c9ff",
        "colab": {
          "base_uri": "https://localhost:8080/"
        }
      },
      "outputs": [
        {
          "output_type": "execute_result",
          "data": {
            "text/plain": [
              "False"
            ]
          },
          "metadata": {},
          "execution_count": 49
        }
      ],
      "source": [
        "len(results) == len(entities)\n",
        "# True"
      ]
    },
    {
      "cell_type": "markdown",
      "metadata": {
        "id": "-wAPdIjwIbsn"
      },
      "source": [
        "### 4. Make the methods smaller"
      ]
    },
    {
      "cell_type": "markdown",
      "metadata": {
        "id": "7DfyZQtyIbsn"
      },
      "source": [
        "Next, separate out the run method in the adapter class smaller.  Do this by first writing comments in the code, and then moving the code into separate methods.  Please leave the comments in your code.  Your methods should be no longer than five lines long, and there can only be a total of one `if else` statement or `loop` per method.  Having both an `if else` and a `loop` in any method is also too complicated -- don't do it."
      ]
    },
    {
      "cell_type": "code",
      "execution_count": 45,
      "metadata": {
        "id": "q4cfzuDiIbso"
      },
      "outputs": [],
      "source": [
        "class Builder911calls:\n",
        "    def run(self):\n",
        "        # get data\n",
        "        import requests\n",
        "        response = requests.get(\"https://data.seattle.gov/resource/kzjm-xkqj.json\")\n",
        "        entities = response.json()        \n",
        "        # create objects\n",
        "        attributes = ('type', 'datetime', 'latitude', 'longitude')\n",
        "        calls911 = [Calls911(**dict((k, e[k]) for k in attributes)) for e in entities if e.get('latitude') is not None]\n",
        "        return calls911"
      ]
    },
    {
      "cell_type": "markdown",
      "metadata": {
        "id": "d6iYujJzIbso"
      },
      "source": [
        "### 5. Create the client class"
      ]
    },
    {
      "cell_type": "markdown",
      "metadata": {
        "id": "RwvypXfKIbso"
      },
      "source": [
        "Next move calls to the API into their own separate class.  This way we can call the API but later to decide to coerce the data into different types of objects than we did above."
      ]
    },
    {
      "cell_type": "code",
      "execution_count": 46,
      "metadata": {
        "id": "yACGuEHVIbso"
      },
      "outputs": [],
      "source": [
        "class Client911:\n",
        "    URL = \"https://data.seattle.gov/resource/kzjm-xkqj.json\"\n",
        "    def run(self):\n",
        "        response = requests.get(self.URL)\n",
        "        return response.json()   "
      ]
    },
    {
      "cell_type": "markdown",
      "metadata": {
        "id": "jTItJsTKIbso"
      },
      "source": [
        "Place the updated Adapter class below.  Check that it still works as it did before."
      ]
    },
    {
      "cell_type": "code",
      "execution_count": 50,
      "metadata": {
        "id": "78DiEONuIbso"
      },
      "outputs": [],
      "source": [
        "class Builder911callsRef:\n",
        "    def run(self):\n",
        "        self._request_api = Client911()\n",
        "        self._calls_data = self._request_api.run()\n",
        "        return self.calls_data_to_objects(self._calls_data)\n",
        "\n",
        "    def calls_data_to_objects(self, entities):\n",
        "        attributes = ('type', 'datetime', 'latitude', 'longitude')\n",
        "        calls911 = [Calls911(**dict((k, e[k]) for k in attributes)) for e in entities if e.get('latitude') is not None]\n",
        "        return calls911"
      ]
    },
    {
      "cell_type": "code",
      "execution_count": 51,
      "metadata": {
        "id": "UNd7FzmPIbsp",
        "outputId": "2c857ec4-edc2-4559-e459-4793b224823d",
        "colab": {
          "base_uri": "https://localhost:8080/"
        }
      },
      "outputs": [
        {
          "output_type": "execute_result",
          "data": {
            "text/plain": [
              "True"
            ]
          },
          "metadata": {},
          "execution_count": 51
        }
      ],
      "source": [
        "refactored_adapter = Builder911callsRef()\n",
        "\n",
        "len(refactored_adapter.run()) == len(adapter.run())"
      ]
    },
    {
      "cell_type": "markdown",
      "metadata": {
        "id": "qJIP6GBZIbsp"
      },
      "source": [
        "### Summary"
      ]
    },
    {
      "cell_type": "markdown",
      "metadata": {
        "id": "O0eyeA9bIbsp"
      },
      "source": [
        "Great job!  Hopefully, you saw how by building our code and then slowly refactoring our code, we can eventually get to some clean code."
      ]
    }
  ],
  "metadata": {
    "kernelspec": {
      "display_name": "Python 3 (ipykernel)",
      "language": "python",
      "name": "python3"
    },
    "language_info": {
      "codemirror_mode": {
        "name": "ipython",
        "version": 3
      },
      "file_extension": ".py",
      "mimetype": "text/x-python",
      "name": "python",
      "nbconvert_exporter": "python",
      "pygments_lexer": "ipython3",
      "version": "3.9.7"
    },
    "colab": {
      "provenance": []
    }
  },
  "nbformat": 4,
  "nbformat_minor": 0
}