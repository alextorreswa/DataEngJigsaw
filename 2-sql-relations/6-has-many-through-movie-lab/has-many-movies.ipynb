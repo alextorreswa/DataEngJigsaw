{
  "cells": [
    {
      "cell_type": "markdown",
      "metadata": {
        "id": "sbHNDZ_bT__y"
      },
      "source": [
        "# Has Many Movie Lab"
      ]
    },
    {
      "cell_type": "markdown",
      "metadata": {
        "id": "sauYBpF7T__1"
      },
      "source": [
        "### Introduction\n",
        "In this lab we will continue to look at the \"Has-Many\" relationships in our data. The database we will be using during this lab contains information about a selection of movies and related entities such as actors, directors and writers. A movie entity will have relationships with actor, director, and writer entities. The actors, directors and writers will also have relationships with themselves (i.e. a director will have worked with many actors). In problems below, we will use our knowledge of these relationships to build SQL queries."
      ]
    },
    {
      "cell_type": "markdown",
      "metadata": {
        "id": "HDAL4pj-T__2"
      },
      "source": [
        "Let's begin by connecting to the database and reviewing the schema of the tables."
      ]
    },
    {
      "cell_type": "code",
      "execution_count": 1,
      "metadata": {
        "id": "ypuufJZ4T__3"
      },
      "outputs": [],
      "source": [
        "import sqlite3\n",
        "conn = sqlite3.connect('movie_films_actors.db')\n",
        "cursor = conn.cursor()"
      ]
    },
    {
      "cell_type": "code",
      "execution_count": 2,
      "metadata": {
        "id": "b61882qQT__5"
      },
      "outputs": [],
      "source": [
        "import pandas as pd\n",
        "root_url = \"https://raw.githubusercontent.com/jigsawlabs-student/curriculum-images/main/has-many-movies-lab/\"\n",
        "names = ['actors', 'directors', 'movies', 'writers', 'movie_actors', 'movie_directors', 'movie_writers']\n",
        "loaded_dfs = [pd.read_csv(f'{root_url}{name}.csv') for name in names]"
      ]
    },
    {
      "cell_type": "code",
      "execution_count": 3,
      "metadata": {
        "id": "GmNCvCubT__5"
      },
      "outputs": [],
      "source": [
        "for index, name in enumerate(names):\n",
        "    loaded_dfs[index].to_sql(f'{name}', conn, index = False)"
      ]
    },
    {
      "cell_type": "code",
      "execution_count": 4,
      "metadata": {
        "id": "ts3iZ6uzT__6",
        "outputId": "29e00e71-2b94-4c43-d699-3d4a6f1b0540",
        "colab": {
          "base_uri": "https://localhost:8080/"
        }
      },
      "outputs": [
        {
          "output_type": "execute_result",
          "data": {
            "text/plain": [
              "[('actors',),\n",
              " ('directors',),\n",
              " ('movies',),\n",
              " ('writers',),\n",
              " ('movie_actors',),\n",
              " ('movie_directors',),\n",
              " ('movie_writers',)]"
            ]
          },
          "metadata": {},
          "execution_count": 4
        }
      ],
      "source": [
        "cursor.execute('SELECT name from sqlite_master where type= \"table\"')\n",
        "cursor.fetchall()"
      ]
    },
    {
      "cell_type": "code",
      "execution_count": 5,
      "metadata": {
        "id": "7H5QH8E4T__7",
        "outputId": "4132cf4a-790f-4218-856f-68f7f02369ca",
        "colab": {
          "base_uri": "https://localhost:8080/"
        }
      },
      "outputs": [
        {
          "output_type": "execute_result",
          "data": {
            "text/plain": [
              "[(0, 'id', 'INTEGER', 0, None, 0),\n",
              " (1, 'title', 'TEXT', 0, None, 0),\n",
              " (2, 'studio', 'TEXT', 0, None, 0),\n",
              " (3, 'runtime', 'REAL', 0, None, 0),\n",
              " (4, 'description', 'TEXT', 0, None, 0),\n",
              " (5, 'release_date', 'TEXT', 0, None, 0),\n",
              " (6, 'year', 'INTEGER', 0, None, 0)]"
            ]
          },
          "metadata": {},
          "execution_count": 5
        }
      ],
      "source": [
        "cursor.execute('PRAGMA table_info(movies)')\n",
        "cursor.fetchall()"
      ]
    },
    {
      "cell_type": "code",
      "execution_count": 6,
      "metadata": {
        "id": "KOWh3-8LT__7",
        "outputId": "6a4392b8-bcca-47b1-b118-f9ac0c838739",
        "colab": {
          "base_uri": "https://localhost:8080/"
        }
      },
      "outputs": [
        {
          "output_type": "execute_result",
          "data": {
            "text/plain": [
              "[(0, 'id', 'INTEGER', 0, None, 0), (1, 'name', 'TEXT', 0, None, 0)]"
            ]
          },
          "metadata": {},
          "execution_count": 6
        }
      ],
      "source": [
        "cursor.execute('PRAGMA table_info(actors)')\n",
        "cursor.fetchall()"
      ]
    },
    {
      "cell_type": "code",
      "execution_count": 7,
      "metadata": {
        "id": "K1Ey8OvHT__8",
        "outputId": "9327c854-109d-4ce4-ded8-60a80991d4ec",
        "colab": {
          "base_uri": "https://localhost:8080/"
        }
      },
      "outputs": [
        {
          "output_type": "execute_result",
          "data": {
            "text/plain": [
              "[(0, 'id', 'INTEGER', 0, None, 0), (1, 'name', 'TEXT', 0, None, 0)]"
            ]
          },
          "metadata": {},
          "execution_count": 7
        }
      ],
      "source": [
        "cursor.execute('PRAGMA table_info(directors)')\n",
        "cursor.fetchall()"
      ]
    },
    {
      "cell_type": "code",
      "execution_count": 8,
      "metadata": {
        "id": "9z_TlQVWT__8",
        "outputId": "e673277a-f43f-49f7-a166-eeb26f751a32",
        "colab": {
          "base_uri": "https://localhost:8080/"
        }
      },
      "outputs": [
        {
          "output_type": "execute_result",
          "data": {
            "text/plain": [
              "[(0, 'id', 'INTEGER', 0, None, 0), (1, 'name', 'TEXT', 0, None, 0)]"
            ]
          },
          "metadata": {},
          "execution_count": 8
        }
      ],
      "source": [
        "cursor.execute('PRAGMA table_info(writers)')\n",
        "cursor.fetchall()"
      ]
    },
    {
      "cell_type": "code",
      "execution_count": 9,
      "metadata": {
        "id": "bNQZna1FT__9",
        "outputId": "5a81f6dd-d8a1-42df-e15d-4b4b3dbe87ab",
        "colab": {
          "base_uri": "https://localhost:8080/"
        }
      },
      "outputs": [
        {
          "output_type": "execute_result",
          "data": {
            "text/plain": [
              "[(0, 'id', 'INTEGER', 0, None, 0),\n",
              " (1, 'movie_id', 'INTEGER', 0, None, 0),\n",
              " (2, 'actor_id', 'INTEGER', 0, None, 0)]"
            ]
          },
          "metadata": {},
          "execution_count": 9
        }
      ],
      "source": [
        "cursor.execute('PRAGMA table_info(movie_actors)')\n",
        "cursor.fetchall()"
      ]
    },
    {
      "cell_type": "code",
      "execution_count": 10,
      "metadata": {
        "id": "pPkLrGB9T__9",
        "outputId": "3426322e-c44a-4021-8350-7a87fe91581d",
        "colab": {
          "base_uri": "https://localhost:8080/"
        }
      },
      "outputs": [
        {
          "output_type": "execute_result",
          "data": {
            "text/plain": [
              "[(0, 'id', 'INTEGER', 0, None, 0),\n",
              " (1, 'movie_id', 'INTEGER', 0, None, 0),\n",
              " (2, 'director_id', 'INTEGER', 0, None, 0)]"
            ]
          },
          "metadata": {},
          "execution_count": 10
        }
      ],
      "source": [
        "cursor.execute('PRAGMA table_info(movie_directors)')\n",
        "cursor.fetchall()"
      ]
    },
    {
      "cell_type": "code",
      "execution_count": 11,
      "metadata": {
        "id": "1ZdMa6WTT__9",
        "outputId": "db12fc31-c809-4770-9caf-69d208ad3feb",
        "colab": {
          "base_uri": "https://localhost:8080/"
        }
      },
      "outputs": [
        {
          "output_type": "execute_result",
          "data": {
            "text/plain": [
              "[(0, 'id', 'INTEGER', 0, None, 0),\n",
              " (1, 'movie_id', 'INTEGER', 0, None, 0),\n",
              " (2, 'writer_id', 'INTEGER', 0, None, 0)]"
            ]
          },
          "metadata": {},
          "execution_count": 11
        }
      ],
      "source": [
        "cursor.execute('PRAGMA table_info(movie_writers)')\n",
        "cursor.fetchall()"
      ]
    },
    {
      "cell_type": "code",
      "source": [
        "cursor.execute('PRAGMA table_info(movies)')\n",
        "cursor.fetchall()"
      ],
      "metadata": {
        "id": "yCTA6ctRVjn6",
        "outputId": "2a366f37-aac7-4e13-a10c-fe6f127832c5",
        "colab": {
          "base_uri": "https://localhost:8080/"
        }
      },
      "execution_count": 12,
      "outputs": [
        {
          "output_type": "execute_result",
          "data": {
            "text/plain": [
              "[(0, 'id', 'INTEGER', 0, None, 0),\n",
              " (1, 'title', 'TEXT', 0, None, 0),\n",
              " (2, 'studio', 'TEXT', 0, None, 0),\n",
              " (3, 'runtime', 'REAL', 0, None, 0),\n",
              " (4, 'description', 'TEXT', 0, None, 0),\n",
              " (5, 'release_date', 'TEXT', 0, None, 0),\n",
              " (6, 'year', 'INTEGER', 0, None, 0)]"
            ]
          },
          "metadata": {},
          "execution_count": 12
        }
      ]
    },
    {
      "cell_type": "markdown",
      "metadata": {
        "id": "25eqOyOJT__-"
      },
      "source": [
        "Let's start off with some basic one table queries:"
      ]
    },
    {
      "cell_type": "markdown",
      "metadata": {
        "id": "SUjAd0mmT__-"
      },
      "source": [
        "* What is the title, length, and id of the movie with the longest runtime?"
      ]
    },
    {
      "cell_type": "code",
      "execution_count": 15,
      "metadata": {
        "id": "ZrAZA6l5T__-",
        "outputId": "cd708c39-0964-49dc-e15a-befbfecaa456",
        "colab": {
          "base_uri": "https://localhost:8080/"
        }
      },
      "outputs": [
        {
          "output_type": "execute_result",
          "data": {
            "text/plain": [
              "[('Never Sleep Again: The Elm Street Legacy', 480.0, 11415)]"
            ]
          },
          "metadata": {},
          "execution_count": 15
        }
      ],
      "source": [
        "query = '''\n",
        "SELECT title, MAX(runtime), id \n",
        "FROM movies\n",
        "'''\n",
        "\n",
        "cursor.execute(query)\n",
        "cursor.fetchall()"
      ]
    },
    {
      "cell_type": "markdown",
      "metadata": {
        "id": "1OVWzLPmT__-"
      },
      "source": [
        "* Using your answer from the previous question, how many actors were credited for the movie with the longest runtime? Hint: Use the COUNT function with the movie ID"
      ]
    },
    {
      "cell_type": "code",
      "execution_count": 19,
      "metadata": {
        "id": "lq5R2_7RT__-",
        "outputId": "0b9cf9f9-a377-4163-80ba-d2a5f6f290a0",
        "colab": {
          "base_uri": "https://localhost:8080/"
        }
      },
      "outputs": [
        {
          "output_type": "execute_result",
          "data": {
            "text/plain": [
              "[(6,)]"
            ]
          },
          "metadata": {},
          "execution_count": 19
        }
      ],
      "source": [
        "query = '''\n",
        "SELECT COUNT(actor_id)\n",
        "FROM movie_actors\n",
        "WHERE movie_id = 11415\n",
        "'''\n",
        "\n",
        "cursor.execute(query)\n",
        "cursor.fetchall()\n"
      ]
    },
    {
      "cell_type": "markdown",
      "metadata": {
        "id": "DZUmP8qcT___"
      },
      "source": [
        "* What was the shortest movie released in 2006?"
      ]
    },
    {
      "cell_type": "code",
      "execution_count": 21,
      "metadata": {
        "id": "KSTOzc9gT___",
        "outputId": "8561f9a2-58b0-465b-c024-dc554806df9c",
        "colab": {
          "base_uri": "https://localhost:8080/"
        }
      },
      "outputs": [
        {
          "output_type": "execute_result",
          "data": {
            "text/plain": [
              "[('The Guardian', 15.0, 1632)]"
            ]
          },
          "metadata": {},
          "execution_count": 21
        }
      ],
      "source": [
        "query = '''\n",
        "SELECT title, MIN(runtime), id \n",
        "FROM movies\n",
        "WHERE year='2006'\n",
        "'''\n",
        "\n",
        "cursor.execute(query)\n",
        "cursor.fetchall()"
      ]
    },
    {
      "cell_type": "markdown",
      "metadata": {
        "id": "NKa5skPKT___"
      },
      "source": [
        "### Has Many"
      ]
    },
    {
      "cell_type": "markdown",
      "metadata": {
        "id": "9t7jnpqhT___"
      },
      "source": [
        "* What are the names of the actors in Toy Story?"
      ]
    },
    {
      "cell_type": "code",
      "execution_count": 23,
      "metadata": {
        "id": "wxkSK-bdUAAA",
        "outputId": "24a8fe33-3dd9-4fec-c260-10e6486e6944",
        "colab": {
          "base_uri": "https://localhost:8080/"
        }
      },
      "outputs": [
        {
          "output_type": "execute_result",
          "data": {
            "text/plain": [
              "[('Tom Hanks',),\n",
              " ('Tim Allen',),\n",
              " ('Jim Varney',),\n",
              " ('Wallace Shawn',),\n",
              " ('Don Rickles',),\n",
              " ('John Ratzenberger',)]"
            ]
          },
          "metadata": {},
          "execution_count": 23
        }
      ],
      "source": [
        "query = '''\n",
        "SELECT actors.name \n",
        "FROM actors\n",
        "JOIN movie_actors ON movie_actors.actor_id = actors.id\n",
        "JOIN movies ON movie_actors.movie_id = movies.id\n",
        "WHERE movies.title = 'Toy Story'\n",
        "'''\n",
        "\n",
        "cursor.execute(query)\n",
        "cursor.fetchall()"
      ]
    },
    {
      "cell_type": "markdown",
      "metadata": {
        "id": "pUXrmJWwUAAA"
      },
      "source": [
        "* What is the name of the director of Toy Story?"
      ]
    },
    {
      "cell_type": "code",
      "execution_count": 27,
      "metadata": {
        "id": "B0Hkyg9RUAAA",
        "outputId": "940a25b2-0339-4205-fbf1-da4e4289afe9",
        "colab": {
          "base_uri": "https://localhost:8080/"
        }
      },
      "outputs": [
        {
          "output_type": "execute_result",
          "data": {
            "text/plain": [
              "[('John Lasseter',)]"
            ]
          },
          "metadata": {},
          "execution_count": 27
        }
      ],
      "source": [
        "query = '''\n",
        "SELECT directors.name \n",
        "FROM directors\n",
        "JOIN movie_directors ON movie_directors.director_id = directors.id\n",
        "JOIN movies ON movie_directors.movie_id = movies.id\n",
        "WHERE movies.title = 'Toy Story'\n",
        "'''\n",
        "\n",
        "cursor.execute(query)\n",
        "cursor.fetchall()"
      ]
    },
    {
      "cell_type": "markdown",
      "metadata": {
        "id": "V9MnMdSSUAAA"
      },
      "source": [
        "* What are the names of the writers of Toy Story?"
      ]
    },
    {
      "cell_type": "code",
      "execution_count": 28,
      "metadata": {
        "id": "XOuySKT_UAAA",
        "outputId": "5feba75b-e3d8-49cd-d4c5-63dcb749cb3b",
        "colab": {
          "base_uri": "https://localhost:8080/"
        }
      },
      "outputs": [
        {
          "output_type": "execute_result",
          "data": {
            "text/plain": [
              "[('Joss Whedon',), ('Joel Cohen',), ('Andrew Stanton',), ('Alec Sokolow',)]"
            ]
          },
          "metadata": {},
          "execution_count": 28
        }
      ],
      "source": [
        "query = '''\n",
        "SELECT writers.name \n",
        "FROM writers\n",
        "JOIN movie_writers ON movie_writers.writer_id = writers.id\n",
        "JOIN movies ON movie_writers.movie_id = movies.id\n",
        "WHERE movies.title = 'Toy Story'\n",
        "'''\n",
        "\n",
        "cursor.execute(query)\n",
        "cursor.fetchall()"
      ]
    },
    {
      "cell_type": "markdown",
      "metadata": {
        "id": "UVOGj_erUAAA"
      },
      "source": [
        "* What is the name and actor id of the actor with the most credits in the database?"
      ]
    },
    {
      "cell_type": "code",
      "execution_count": 31,
      "metadata": {
        "id": "k53eBZ-JUAAA",
        "outputId": "8cde2674-011c-4614-bf7d-7915fb5fe181",
        "colab": {
          "base_uri": "https://localhost:8080/"
        }
      },
      "outputs": [
        {
          "output_type": "execute_result",
          "data": {
            "text/plain": [
              "[('Robert De Niro', 429, 78)]"
            ]
          },
          "metadata": {},
          "execution_count": 31
        }
      ],
      "source": [
        "query = '''\n",
        "SELECT actors.name, actors.id, COUNT(movie_actors.actor_id) as credits\n",
        "FROM actors\n",
        "JOIN movie_actors ON movie_actors.actor_id = actors.id\n",
        "GROUP BY movie_actors.actor_id\n",
        "ORDER BY credits DESC\n",
        "LIMIT 1\n",
        "'''\n",
        "\n",
        "cursor.execute(query)\n",
        "cursor.fetchall()"
      ]
    },
    {
      "cell_type": "markdown",
      "metadata": {
        "id": "AsBREk_SUAAA"
      },
      "source": [
        "* What are the titles of the movies the actor from the previous question has been in, after the year 2005?"
      ]
    },
    {
      "cell_type": "code",
      "execution_count": 36,
      "metadata": {
        "id": "mn1He2F3UAAB",
        "outputId": "1b5a30c0-11bb-4b70-d2b4-a5e5f1fe1211",
        "colab": {
          "base_uri": "https://localhost:8080/"
        }
      },
      "outputs": [
        {
          "output_type": "execute_result",
          "data": {
            "text/plain": [
              "[(\"New Year's Eve\",),\n",
              " ('Mr. Warmth: The Don Rickles Project',),\n",
              " ('Hands of Stone',),\n",
              " ('Last Vegas',),\n",
              " ('I Knew It Was You: Rediscovering John Cazale',),\n",
              " ('Stardust',),\n",
              " ('Killer Elite',),\n",
              " (\"Everybody's Fine\",),\n",
              " ('Stone',),\n",
              " ('Machete',),\n",
              " ('Red Lights',),\n",
              " ('Righteous Kill',),\n",
              " ('The Good Shepherd',),\n",
              " ('The Bag Man',),\n",
              " ('Being Flynn',),\n",
              " ('Joy',),\n",
              " ('The Wizard of Lies',),\n",
              " ('Limitless',),\n",
              " ('Killing Season',),\n",
              " ('The Family',),\n",
              " ('Hide and Seek',),\n",
              " ('The Bridge of San Luis Rey',),\n",
              " ('Heist',),\n",
              " ('Great Expectations',),\n",
              " ('Little Fockers',),\n",
              " ('What Just Happened?',),\n",
              " ('The Comedian',),\n",
              " ('The Big Wedding',),\n",
              " ('Dirty Grandpa',),\n",
              " ('Grudge Match',)]"
            ]
          },
          "metadata": {},
          "execution_count": 36
        }
      ],
      "source": [
        "query = '''\n",
        "SELECT movies.title \n",
        "FROM movies\n",
        "JOIN movie_actors ON movie_actors.movie_id = movies.id\n",
        "WHERE year >= 2005 AND movie_actors.actor_id = 429\n",
        "'''\n",
        "\n",
        "cursor.execute(query)\n",
        "cursor.fetchall()"
      ]
    },
    {
      "cell_type": "markdown",
      "metadata": {
        "id": "pxPlgXlhUAAB"
      },
      "source": [
        "* What are the titles of movies with more than two directors?"
      ]
    },
    {
      "cell_type": "code",
      "execution_count": null,
      "metadata": {
        "id": "FjkbYGL2UAAB"
      },
      "outputs": [],
      "source": [
        ""
      ]
    },
    {
      "cell_type": "markdown",
      "metadata": {
        "id": "RD6hpP9lUAAB"
      },
      "source": [
        "### Has Many Through"
      ]
    },
    {
      "cell_type": "markdown",
      "metadata": {
        "id": "A-SeETvsUAAB"
      },
      "source": [
        "* What is the name of the writer in the database that has been credited the most times during the year 2018?"
      ]
    },
    {
      "cell_type": "code",
      "execution_count": null,
      "metadata": {
        "id": "oG4wN7SlUAAC"
      },
      "outputs": [],
      "source": [
        ""
      ]
    },
    {
      "cell_type": "markdown",
      "metadata": {
        "id": "obixyn5uUAAC"
      },
      "source": [
        "* What is the name of the actor or actress in the database that has been credited the most between 2010 and 2015 (inclusive)?"
      ]
    },
    {
      "cell_type": "code",
      "execution_count": null,
      "metadata": {
        "id": "N4p_Ud7yUAAC"
      },
      "outputs": [],
      "source": [
        ""
      ]
    },
    {
      "cell_type": "markdown",
      "metadata": {
        "id": "QRC7Wn_zUAAC"
      },
      "source": [
        "* What are the names of all actors who performed in more than 3 movies in 2010?"
      ]
    },
    {
      "cell_type": "code",
      "execution_count": null,
      "metadata": {
        "id": "t6Bd9SRGUAAC"
      },
      "outputs": [],
      "source": [
        ""
      ]
    },
    {
      "cell_type": "markdown",
      "metadata": {
        "id": "3xB_re0AUAAC"
      },
      "source": [
        "* What studio has Steven Spielberg worked with the most?"
      ]
    },
    {
      "cell_type": "code",
      "execution_count": null,
      "metadata": {
        "id": "0sf72jajUAAC"
      },
      "outputs": [],
      "source": [
        ""
      ]
    },
    {
      "cell_type": "markdown",
      "metadata": {
        "id": "PSXB3RAoUAAC"
      },
      "source": [
        "* What years did Steven Spielberg direct 2 movies?"
      ]
    },
    {
      "cell_type": "code",
      "execution_count": null,
      "metadata": {
        "id": "4hAZDe7gUAAC"
      },
      "outputs": [],
      "source": [
        ""
      ]
    },
    {
      "cell_type": "markdown",
      "metadata": {
        "id": "JRG6kwmSUAAC"
      },
      "source": [
        "* How many movies has each of the actors from Toy Story been in? (movie ID is 3648)"
      ]
    },
    {
      "cell_type": "code",
      "execution_count": null,
      "metadata": {
        "id": "-EB7ldgwUAAC"
      },
      "outputs": [],
      "source": [
        ""
      ]
    },
    {
      "cell_type": "markdown",
      "metadata": {
        "id": "Jx8RVuJ-UAAD"
      },
      "source": [
        "* What are the names of other movies the director of Toy Story directed?"
      ]
    },
    {
      "cell_type": "code",
      "execution_count": null,
      "metadata": {
        "id": "tJuIxODQUAAD"
      },
      "outputs": [],
      "source": [
        ""
      ]
    },
    {
      "cell_type": "markdown",
      "metadata": {
        "id": "KftLjWKzUAAD"
      },
      "source": [
        "* What are the names of all the directors Tom Hanks has worked with? (Actor ID 189)"
      ]
    },
    {
      "cell_type": "code",
      "execution_count": null,
      "metadata": {
        "id": "8JJ5NsjvUAAD"
      },
      "outputs": [],
      "source": [
        ""
      ]
    },
    {
      "cell_type": "markdown",
      "metadata": {
        "id": "bvmj__VcUAAD"
      },
      "source": [
        "* What is the name of the director Tom Hanks has worked with the most?"
      ]
    },
    {
      "cell_type": "code",
      "execution_count": null,
      "metadata": {
        "id": "9ixirShGUAAD"
      },
      "outputs": [],
      "source": [
        ""
      ]
    },
    {
      "cell_type": "markdown",
      "metadata": {
        "id": "qLhG5KXdUAAD"
      },
      "source": [
        "* What are the names of all the writers Tom Hanks has worked with?"
      ]
    },
    {
      "cell_type": "code",
      "execution_count": null,
      "metadata": {
        "id": "UuSRP84QUAAD"
      },
      "outputs": [],
      "source": [
        ""
      ]
    },
    {
      "cell_type": "markdown",
      "metadata": {
        "id": "LmyjH0UOUAAD"
      },
      "source": [
        "### Conclusion\n",
        "The movie database we queried during this lab had a multitude of relationships between the tables. We saw how we could use JOIN to connect the tables, in order query information about entities in different tables. "
      ]
    }
  ],
  "metadata": {
    "kernelspec": {
      "display_name": "Python 3 (ipykernel)",
      "language": "python",
      "name": "python3"
    },
    "language_info": {
      "codemirror_mode": {
        "name": "ipython",
        "version": 3
      },
      "file_extension": ".py",
      "mimetype": "text/x-python",
      "name": "python",
      "nbconvert_exporter": "python",
      "pygments_lexer": "ipython3",
      "version": "3.9.10"
    },
    "colab": {
      "name": "has-many-movies.ipynb",
      "provenance": []
    }
  },
  "nbformat": 4,
  "nbformat_minor": 0
}