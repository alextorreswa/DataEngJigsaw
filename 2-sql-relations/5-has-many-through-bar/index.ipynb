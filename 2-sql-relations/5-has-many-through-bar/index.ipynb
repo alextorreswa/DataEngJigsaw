{
  "cells": [
    {
      "cell_type": "markdown",
      "metadata": {
        "id": "jYcLLIxH_idJ"
      },
      "source": [
        "# Moe's Bar Lab"
      ]
    },
    {
      "cell_type": "markdown",
      "metadata": {
        "id": "Y7flOUFS_idN"
      },
      "source": [
        "### Introduction"
      ]
    },
    {
      "cell_type": "markdown",
      "metadata": {
        "id": "LGF-lj5y_idO"
      },
      "source": [
        "In this lesson, we'll apply our knowledge of querying tables with has many through to ask questions of customers and bartenders at a bar."
      ]
    },
    {
      "cell_type": "markdown",
      "metadata": {
        "id": "ds4UtbBf_idO"
      },
      "source": [
        "### Loading Our Data"
      ]
    },
    {
      "cell_type": "markdown",
      "metadata": {
        "id": "rKnnmoQS_idP"
      },
      "source": [
        "Then we can connect to our database with the following."
      ]
    },
    {
      "cell_type": "code",
      "execution_count": 1,
      "metadata": {
        "id": "J9O9m8kv_idP"
      },
      "outputs": [],
      "source": [
        "import sqlite3\n",
        "conn = sqlite3.connect('./moes_bar.db')\n",
        "cursor = conn.cursor()"
      ]
    },
    {
      "cell_type": "markdown",
      "metadata": {
        "id": "vWqf5tAE_idQ"
      },
      "source": [
        "Next we load our data."
      ]
    },
    {
      "cell_type": "code",
      "execution_count": 2,
      "metadata": {
        "id": "igEpclvJ_idQ"
      },
      "outputs": [],
      "source": [
        "import pandas as pd\n",
        "root_url = \"https://raw.githubusercontent.com/jigsawlabs-student/curriculum-images/main/has-many-through-bar/data/\"\n",
        "names = ['bartenders', 'customers', 'drinks', 'orders', 'ingredients', 'ingredients_drinks']\n",
        "loaded_dfs = [pd.read_csv(f'{root_url}{name}.csv') for name in names]"
      ]
    },
    {
      "cell_type": "code",
      "execution_count": 3,
      "metadata": {
        "id": "QnYW2z2h_idR"
      },
      "outputs": [],
      "source": [
        "for index, name in enumerate(names):\n",
        "    loaded_dfs[index].to_sql(f'{name}', conn, index = False)"
      ]
    },
    {
      "cell_type": "code",
      "execution_count": 4,
      "metadata": {
        "id": "f2Ze3Hx4_idR",
        "outputId": "93ce18c7-103f-46ca-d975-49dc16e02d88",
        "colab": {
          "base_uri": "https://localhost:8080/"
        }
      },
      "outputs": [
        {
          "output_type": "execute_result",
          "data": {
            "text/plain": [
              "[('bartenders',),\n",
              " ('customers',),\n",
              " ('drinks',),\n",
              " ('orders',),\n",
              " ('ingredients',),\n",
              " ('ingredients_drinks',)]"
            ]
          },
          "metadata": {},
          "execution_count": 4
        }
      ],
      "source": [
        "cursor.execute(\"SELECT name FROM sqlite_master WHERE type='table';\")\n",
        "cursor.fetchall()"
      ]
    },
    {
      "cell_type": "markdown",
      "metadata": {
        "id": "cd70cJzo_idS"
      },
      "source": [
        "### Exploring our Database"
      ]
    },
    {
      "cell_type": "markdown",
      "metadata": {
        "id": "KCYf4ovz_idS"
      },
      "source": [
        "Now we list of all of the tables with the following."
      ]
    },
    {
      "cell_type": "code",
      "execution_count": 5,
      "metadata": {
        "id": "B7bqfylz_idT",
        "outputId": "ec405be3-2ebc-4526-f309-0bb7630382eb",
        "colab": {
          "base_uri": "https://localhost:8080/"
        }
      },
      "outputs": [
        {
          "output_type": "execute_result",
          "data": {
            "text/plain": [
              "[('bartenders',),\n",
              " ('customers',),\n",
              " ('drinks',),\n",
              " ('orders',),\n",
              " ('ingredients',),\n",
              " ('ingredients_drinks',)]"
            ]
          },
          "metadata": {},
          "execution_count": 5
        }
      ],
      "source": [
        "cursor.execute(\"SELECT name FROM sqlite_master WHERE type='table';\")\n",
        "cursor.fetchall()"
      ]
    },
    {
      "cell_type": "markdown",
      "metadata": {
        "id": "t803a7vI_idT"
      },
      "source": [
        "And then we can see the details of a particular table with the following."
      ]
    },
    {
      "cell_type": "code",
      "execution_count": 8,
      "metadata": {
        "id": "j7qR70HC_idT",
        "outputId": "34d774ee-af29-41d6-8283-6fdd74d37d0a",
        "colab": {
          "base_uri": "https://localhost:8080/"
        }
      },
      "outputs": [
        {
          "output_type": "execute_result",
          "data": {
            "text/plain": [
              "[(0, 'id', 'INTEGER', 0, None, 0),\n",
              " (1, 'name', 'TEXT', 0, None, 0),\n",
              " (2, 'hometown', 'TEXT', 0, None, 0),\n",
              " (3, 'birthyear', 'INTEGER', 0, None, 0)]"
            ]
          },
          "metadata": {},
          "execution_count": 8
        }
      ],
      "source": [
        "cursor.execute(\"pragma table_info(customers)\")\n",
        "cursor.fetchall()"
      ]
    },
    {
      "cell_type": "markdown",
      "metadata": {
        "id": "lrANI-U5_idT"
      },
      "source": [
        "### Making our queries"
      ]
    },
    {
      "cell_type": "markdown",
      "metadata": {
        "id": "q3a57Jta_idT"
      },
      "source": [
        "* Find the name of the youngest customer "
      ]
    },
    {
      "cell_type": "code",
      "execution_count": 15,
      "metadata": {
        "id": "mu0a6yFQ_idU",
        "outputId": "44fea3c2-0150-40b7-8d7e-5bf6a76c5347",
        "colab": {
          "base_uri": "https://localhost:8080/"
        }
      },
      "outputs": [
        {
          "output_type": "execute_result",
          "data": {
            "text/plain": [
              "[('lisa simpson', 2006)]"
            ]
          },
          "metadata": {},
          "execution_count": 15
        }
      ],
      "source": [
        "youngest_customer = '''\n",
        "SELECT name, birthyear\n",
        "FROM customers\n",
        "ORDER BY birthyear ASC\n",
        "LIMIT 1\n",
        "'''\n",
        "\n",
        "cursor.execute(youngest_customer)\n",
        "cursor.fetchall()\n",
        "# [('lisa simpson', 2006)]"
      ]
    },
    {
      "cell_type": "code",
      "source": [
        "cursor.execute(\"pragma table_info(drinks)\")\n",
        "cursor.fetchall()"
      ],
      "metadata": {
        "id": "zRdZLdUgBQ5Z",
        "outputId": "1957ea9b-a32f-43f2-ee59-abd2f4878e73",
        "colab": {
          "base_uri": "https://localhost:8080/"
        }
      },
      "execution_count": 16,
      "outputs": [
        {
          "output_type": "execute_result",
          "data": {
            "text/plain": [
              "[(0, 'id', 'INTEGER', 0, None, 0),\n",
              " (1, 'name', 'TEXT', 0, None, 0),\n",
              " (2, 'calories', 'INTEGER', 0, None, 0),\n",
              " (3, 'price', 'INTEGER', 0, None, 0),\n",
              " (4, 'alcoholic', 'INTEGER', 0, None, 0)]"
            ]
          },
          "metadata": {},
          "execution_count": 16
        }
      ]
    },
    {
      "cell_type": "markdown",
      "metadata": {
        "id": "FgdpwO1g_idU"
      },
      "source": [
        "* Order the drinks from most to least expensive"
      ]
    },
    {
      "cell_type": "code",
      "execution_count": 17,
      "metadata": {
        "id": "ULVdlDH8_idU",
        "outputId": "bcbd8082-12df-4ae2-92c9-e8051475130b",
        "colab": {
          "base_uri": "https://localhost:8080/"
        }
      },
      "outputs": [
        {
          "output_type": "execute_result",
          "data": {
            "text/plain": [
              "[('ice cream float', 8),\n",
              " ('duff beer', 7),\n",
              " ('gin and tonic', 7),\n",
              " ('rootbeer', 6),\n",
              " ('milkshake', 5),\n",
              " ('egg cream soda', 3)]"
            ]
          },
          "metadata": {},
          "execution_count": 17
        }
      ],
      "source": [
        "cheapest_drinks = '''\n",
        "SELECT name, price\n",
        "FROM drinks\n",
        "ORDER BY price DESC\n",
        "'''\n",
        "\n",
        "cursor.execute(cheapest_drinks)\n",
        "cursor.fetchall()\n",
        "# [('ice cream float', 8),\n",
        "#  ('duff beer', 7),\n",
        "#  ('gin and tonic', 7),\n",
        "#  ('rootbeer', 6),\n",
        "#  ('milkshake', 5),\n",
        "#  ('egg cream soda', 3)]"
      ]
    },
    {
      "cell_type": "code",
      "source": [
        "cursor.execute(\"pragma table_info(orders)\")\n",
        "cursor.fetchall()"
      ],
      "metadata": {
        "id": "LO4924C0CZoj",
        "outputId": "bc090c89-7242-401e-b379-b4f7ab66e02d",
        "colab": {
          "base_uri": "https://localhost:8080/"
        }
      },
      "execution_count": 21,
      "outputs": [
        {
          "output_type": "execute_result",
          "data": {
            "text/plain": [
              "[(0, 'id', 'INTEGER', 0, None, 0),\n",
              " (1, 'customer_id', 'INTEGER', 0, None, 0),\n",
              " (2, 'drink_id', 'INTEGER', 0, None, 0),\n",
              " (3, 'bartender_id', 'INTEGER', 0, None, 0)]"
            ]
          },
          "metadata": {},
          "execution_count": 21
        }
      ]
    },
    {
      "cell_type": "code",
      "source": [
        "cursor.execute(\"pragma table_info(customers)\")\n",
        "cursor.fetchall()"
      ],
      "metadata": {
        "id": "Fp5pG8_QCnjf",
        "outputId": "e5938d8b-394a-4e02-b017-9ec60dac4f0d",
        "colab": {
          "base_uri": "https://localhost:8080/"
        }
      },
      "execution_count": 22,
      "outputs": [
        {
          "output_type": "execute_result",
          "data": {
            "text/plain": [
              "[(0, 'id', 'INTEGER', 0, None, 0),\n",
              " (1, 'name', 'TEXT', 0, None, 0),\n",
              " (2, 'hometown', 'TEXT', 0, None, 0),\n",
              " (3, 'birthyear', 'INTEGER', 0, None, 0)]"
            ]
          },
          "metadata": {},
          "execution_count": 22
        }
      ]
    },
    {
      "cell_type": "code",
      "source": [
        "cheapest_drinks = 'SELECT * FROM drinks'\n",
        "\n",
        "cursor.execute(cheapest_drinks)\n",
        "cursor.fetchall()"
      ],
      "metadata": {
        "id": "XmDOzvf0D02B",
        "outputId": "a229092f-424f-4a85-bed3-ea223e2f46b0",
        "colab": {
          "base_uri": "https://localhost:8080/"
        }
      },
      "execution_count": 27,
      "outputs": [
        {
          "output_type": "execute_result",
          "data": {
            "text/plain": [
              "[(1, 'egg cream soda', 80, 3, 0),\n",
              " (2, 'milkshake', 300, 5, 0),\n",
              " (3, 'rootbeer', 180, 6, 0),\n",
              " (4, 'ice cream float', 250, 8, 0),\n",
              " (5, 'duff beer', 200, 7, 1),\n",
              " (6, 'gin and tonic', 200, 7, 1)]"
            ]
          },
          "metadata": {},
          "execution_count": 27
        }
      ]
    },
    {
      "cell_type": "markdown",
      "metadata": {
        "id": "TbpZ67XC_idU"
      },
      "source": [
        "* Find the most expensive drink that bart simpson ordered"
      ]
    },
    {
      "cell_type": "code",
      "execution_count": 32,
      "metadata": {
        "id": "3gq6UB10_idU",
        "outputId": "34290358-54f5-41b3-eb44-2a1dec58bd27",
        "colab": {
          "base_uri": "https://localhost:8080/"
        }
      },
      "outputs": [
        {
          "output_type": "execute_result",
          "data": {
            "text/plain": [
              "[('milkshake', 5)]"
            ]
          },
          "metadata": {},
          "execution_count": 32
        }
      ],
      "source": [
        "barts_orders = '''\n",
        "SELECT drinks.name, drinks.price FROM orders\n",
        "JOIN customers ON customers.id = orders.customer_id\n",
        "JOIN drinks ON drinks.id = orders.drink_id\n",
        "WHERE customers.name = 'bart simpson'\n",
        "ORDER BY drinks.price DESC\n",
        "LIMIT 1\n",
        "'''\n",
        "\n",
        "cursor.execute(barts_orders)\n",
        "cursor.fetchall()\n",
        "# [('milkshake', 5)]"
      ]
    },
    {
      "cell_type": "markdown",
      "metadata": {
        "id": "sVIDuSDa_idV"
      },
      "source": [
        "* Find a list of all of the customers of moe"
      ]
    },
    {
      "cell_type": "code",
      "execution_count": 38,
      "metadata": {
        "id": "K01JjwZW_idV",
        "outputId": "f9da8566-fe8f-49d0-9b52-0838df8f0ae9",
        "colab": {
          "base_uri": "https://localhost:8080/"
        }
      },
      "outputs": [
        {
          "output_type": "execute_result",
          "data": {
            "text/plain": [
              "[('bart simpson',), ('maggie simpson',), ('lisa simpson',)]"
            ]
          },
          "metadata": {},
          "execution_count": 38
        }
      ],
      "source": [
        "moes_customers = '''\n",
        "SELECT DISTINCT customers.name FROM customers \n",
        "JOIN orders ON customers.id = orders.customer_id\n",
        "'''\n",
        "\n",
        "cursor.execute(moes_customers)\n",
        "cursor.fetchall()\n",
        "# [('bart simpson',), ('maggie simpson',)]"
      ]
    }
  ],
  "metadata": {
    "kernelspec": {
      "display_name": "Python 3 (ipykernel)",
      "language": "python",
      "name": "python3"
    },
    "language_info": {
      "codemirror_mode": {
        "name": "ipython",
        "version": 3
      },
      "file_extension": ".py",
      "mimetype": "text/x-python",
      "name": "python",
      "nbconvert_exporter": "python",
      "pygments_lexer": "ipython3",
      "version": "3.9.10"
    },
    "colab": {
      "name": "index.ipynb",
      "provenance": []
    }
  },
  "nbformat": 4,
  "nbformat_minor": 0
}