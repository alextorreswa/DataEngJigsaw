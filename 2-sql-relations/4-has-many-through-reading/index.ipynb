{
  "cells": [
    {
      "cell_type": "markdown",
      "metadata": {
        "id": "rrOk1x4YT2zN"
      },
      "source": [
        "# Has Many Through"
      ]
    },
    {
      "cell_type": "markdown",
      "metadata": {
        "id": "MUrvLTu9T2zR"
      },
      "source": [
        "### Introduction"
      ]
    },
    {
      "cell_type": "markdown",
      "metadata": {
        "id": "zGGjW39-T2zS"
      },
      "source": [
        "In previous lessons, we saw how to work with a `has_many`, `has_one` relationship pattern, like an artist that has created many albums.  In this lesson, we'll see how to structure database for a many to many relationship."
      ]
    },
    {
      "cell_type": "markdown",
      "metadata": {
        "id": "RKczbq3sT2zT"
      },
      "source": [
        "### Our Setting "
      ]
    },
    {
      "cell_type": "markdown",
      "metadata": {
        "id": "sEo07GJzT2zT"
      },
      "source": [
        "Imagine we are creating a database for a hospital.  We want to keep track of the patients that each doctor has.  Notice that here, we do not really have a `has_many` `has_one` relationship.\n",
        "\n",
        "This is because:\n",
        "* A patient `has_many` doctors **and**\n",
        "* A doctor `has_many` patients."
      ]
    },
    {
      "cell_type": "markdown",
      "metadata": {
        "id": "wVAYFz7fT2zT"
      },
      "source": [
        "Let's try to structure this type of relationship in excel.  To start with here are our tables of doctors and patients."
      ]
    },
    {
      "cell_type": "markdown",
      "metadata": {
        "id": "2VbcrUZsT2zU"
      },
      "source": [
        "* Doctors"
      ]
    },
    {
      "cell_type": "markdown",
      "metadata": {
        "id": "Ukr5MqfCT2zU"
      },
      "source": [
        "<img src=\"https://github.com/data-eng-10-21/mod-1-sql-curriculum/blob/master/2-sql-relations/4-has-many-through-reading/doctors-table.png?raw=1\" width=\"50%\">"
      ]
    },
    {
      "cell_type": "markdown",
      "metadata": {
        "id": "U9YFJ2rJT2zV"
      },
      "source": [
        "* Patients"
      ]
    },
    {
      "cell_type": "markdown",
      "metadata": {
        "id": "52CxK96YT2zW"
      },
      "source": [
        "<img src=\"https://github.com/data-eng-10-21/mod-1-sql-curriculum/blob/master/2-sql-relations/4-has-many-through-reading/patients-table.png?raw=1\" width=\"50%\">"
      ]
    },
    {
      "cell_type": "markdown",
      "metadata": {
        "id": "heWADzLnT2zX"
      },
      "source": [
        "Now let's think about how we can connect the two.\n",
        "\n",
        "If we place the foreign key of `doctor_id` on the patients, then we are saying that a patient can only have one doctor.  And every time a patient gets another doctor, we would have to add another `doctor_id` column."
      ]
    },
    {
      "cell_type": "markdown",
      "metadata": {
        "id": "whvZ0aqjT2zX"
      },
      "source": [
        "<img src=\"https://github.com/data-eng-10-21/mod-1-sql-curriculum/blob/master/2-sql-relations/4-has-many-through-reading/wrong-join-doctors.png?raw=1\" width=\"50%\">"
      ]
    },
    {
      "cell_type": "markdown",
      "metadata": {
        "id": "1yJVvuobT2zX"
      },
      "source": [
        "But if we place the foreign key of `patient_id` on the doctors table, then we are saying that a doctor can only have one patient.  And every time a doctor gets another patient, we would have to add another `patient_id` column."
      ]
    },
    {
      "cell_type": "markdown",
      "metadata": {
        "id": "RpdSpCq8T2zY"
      },
      "source": [
        "<img src=\"https://github.com/data-eng-10-21/mod-1-sql-curriculum/blob/master/2-sql-relations/4-has-many-through-reading/wrong-doctors.png?raw=1\" width=\"50%\">"
      ]
    },
    {
      "cell_type": "markdown",
      "metadata": {
        "id": "YNjZvkhHT2zY"
      },
      "source": [
        "Either way, we are running into an issue.  The problem is that:\n",
        "* We do not know how many patients a doctor will have, and\n",
        "* We do not know how doctors a patient will have\n",
        "\n",
        "### The Solution"
      ]
    },
    {
      "cell_type": "markdown",
      "metadata": {
        "id": "L7OuHDXHT2zY"
      },
      "source": [
        "We can solve this by creating a join table.  In our join table each row will represent a doctor patient relationship."
      ]
    },
    {
      "cell_type": "markdown",
      "metadata": {
        "id": "0jl7hz_GT2zY"
      },
      "source": [
        "* `doctor_patients`"
      ]
    },
    {
      "cell_type": "markdown",
      "metadata": {
        "id": "xZrXjwpUT2zZ"
      },
      "source": [
        "<img src=\"https://github.com/data-eng-10-21/mod-1-sql-curriculum/blob/master/2-sql-relations/4-has-many-through-reading/doctors-patients-join.png?raw=1\" width=\"60%\">"
      ]
    },
    {
      "cell_type": "markdown",
      "metadata": {
        "id": "RNKMspfqT2zZ"
      },
      "source": [
        "Let's take a moment to understand the new table above.\n",
        "\n",
        "Above the first row represents the relationship between the doctor with `id = 2` and the patient where `id = 3`.  And then if we want to see the other patient that the doctor has, we can see in the fourth row that the doctor with `id = 2` also has a patient of `4`. "
      ]
    },
    {
      "cell_type": "markdown",
      "metadata": {
        "id": "dcWwj80YT2zZ"
      },
      "source": [
        "### Loading Our Data"
      ]
    },
    {
      "cell_type": "code",
      "execution_count": 1,
      "metadata": {
        "id": "EukRxMmAT2zZ"
      },
      "outputs": [],
      "source": [
        "import pandas as pd\n",
        "import sqlite3\n",
        "conn = sqlite3.connect('./hospitals.db')"
      ]
    },
    {
      "cell_type": "code",
      "execution_count": 2,
      "metadata": {
        "id": "3QhYb_xRT2za"
      },
      "outputs": [],
      "source": [
        "import pandas as pd\n",
        "doctors_patients_url = \"https://raw.githubusercontent.com/data-eng-10-21/mod-1-sql-curriculum/master/2-sql-relations/4-has-many-through-reading/doctors_patients.csv\"\n",
        "doctors_url = \"https://raw.githubusercontent.com/data-eng-10-21/mod-1-sql-curriculum/master/2-sql-relations/4-has-many-through-reading/doctors.csv\"\n",
        "patients_url = \"https://raw.githubusercontent.com/data-eng-10-21/mod-1-sql-curriculum/master/2-sql-relations/4-has-many-through-reading/patients.csv\"\n",
        "doctors_df = pd.read_csv(doctors_url)\n",
        "patients_df = pd.read_csv(patients_url)\n",
        "doctors_patients_df = pd.read_csv(doctors_patients_url)"
      ]
    },
    {
      "cell_type": "code",
      "execution_count": 3,
      "metadata": {
        "id": "G_BWQe9iT2zb"
      },
      "outputs": [],
      "source": [
        "doctors_df.to_sql('doctors', conn, index = False)\n",
        "patients_df.to_sql('patients', conn, index = False)\n",
        "doctors_patients_df.to_sql('doctors_patients', conn, index = False)"
      ]
    },
    {
      "cell_type": "code",
      "execution_count": 4,
      "metadata": {
        "id": "sOz10OelT2zb",
        "outputId": "eb8ef05e-f753-4ff2-8442-da94ce9c1033",
        "colab": {
          "base_uri": "https://localhost:8080/"
        }
      },
      "outputs": [
        {
          "output_type": "execute_result",
          "data": {
            "text/plain": [
              "[('doctors',), ('patients',), ('doctors_patients',)]"
            ]
          },
          "metadata": {},
          "execution_count": 4
        }
      ],
      "source": [
        "cursor = conn.cursor()\n",
        "cursor.execute('SELECT name from sqlite_master where type= \"table\"')\n",
        "cursor.fetchall()"
      ]
    },
    {
      "cell_type": "code",
      "execution_count": 6,
      "metadata": {
        "id": "mVHwoxRkT2zc"
      },
      "outputs": [],
      "source": [
        "doctors_df = pd.read_sql('select * from doctors;', conn)\n",
        "patients_df = pd.read_sql('select * from patients;', conn)\n",
        "doctors_patients_df = pd.read_sql('select * from doctors_patients;', conn)"
      ]
    },
    {
      "cell_type": "code",
      "execution_count": 7,
      "metadata": {
        "id": "RkbxUIkNT2zc",
        "outputId": "48fc6e8a-25bc-4c74-ad2c-962c6f865f99",
        "colab": {
          "base_uri": "https://localhost:8080/",
          "height": 206
        }
      },
      "outputs": [
        {
          "output_type": "execute_result",
          "data": {
            "text/plain": [
              "   id first_name last_name              position\n",
              "0   1    Gregory     House  General Practitioner\n",
              "1   2       Lisa     Cuddy          Chief Doctor\n",
              "2   3      James    Wilson     Cancer Specialist\n",
              "3   4     Robert     Chase              Resident\n",
              "4   5       Eric   Foreman     Practicing Doctor"
            ],
            "text/html": [
              "\n",
              "  <div id=\"df-b6a754b0-d116-4d3b-a7aa-3899eb5a7aec\">\n",
              "    <div class=\"colab-df-container\">\n",
              "      <div>\n",
              "<style scoped>\n",
              "    .dataframe tbody tr th:only-of-type {\n",
              "        vertical-align: middle;\n",
              "    }\n",
              "\n",
              "    .dataframe tbody tr th {\n",
              "        vertical-align: top;\n",
              "    }\n",
              "\n",
              "    .dataframe thead th {\n",
              "        text-align: right;\n",
              "    }\n",
              "</style>\n",
              "<table border=\"1\" class=\"dataframe\">\n",
              "  <thead>\n",
              "    <tr style=\"text-align: right;\">\n",
              "      <th></th>\n",
              "      <th>id</th>\n",
              "      <th>first_name</th>\n",
              "      <th>last_name</th>\n",
              "      <th>position</th>\n",
              "    </tr>\n",
              "  </thead>\n",
              "  <tbody>\n",
              "    <tr>\n",
              "      <th>0</th>\n",
              "      <td>1</td>\n",
              "      <td>Gregory</td>\n",
              "      <td>House</td>\n",
              "      <td>General Practitioner</td>\n",
              "    </tr>\n",
              "    <tr>\n",
              "      <th>1</th>\n",
              "      <td>2</td>\n",
              "      <td>Lisa</td>\n",
              "      <td>Cuddy</td>\n",
              "      <td>Chief Doctor</td>\n",
              "    </tr>\n",
              "    <tr>\n",
              "      <th>2</th>\n",
              "      <td>3</td>\n",
              "      <td>James</td>\n",
              "      <td>Wilson</td>\n",
              "      <td>Cancer Specialist</td>\n",
              "    </tr>\n",
              "    <tr>\n",
              "      <th>3</th>\n",
              "      <td>4</td>\n",
              "      <td>Robert</td>\n",
              "      <td>Chase</td>\n",
              "      <td>Resident</td>\n",
              "    </tr>\n",
              "    <tr>\n",
              "      <th>4</th>\n",
              "      <td>5</td>\n",
              "      <td>Eric</td>\n",
              "      <td>Foreman</td>\n",
              "      <td>Practicing Doctor</td>\n",
              "    </tr>\n",
              "  </tbody>\n",
              "</table>\n",
              "</div>\n",
              "      <button class=\"colab-df-convert\" onclick=\"convertToInteractive('df-b6a754b0-d116-4d3b-a7aa-3899eb5a7aec')\"\n",
              "              title=\"Convert this dataframe to an interactive table.\"\n",
              "              style=\"display:none;\">\n",
              "        \n",
              "  <svg xmlns=\"http://www.w3.org/2000/svg\" height=\"24px\"viewBox=\"0 0 24 24\"\n",
              "       width=\"24px\">\n",
              "    <path d=\"M0 0h24v24H0V0z\" fill=\"none\"/>\n",
              "    <path d=\"M18.56 5.44l.94 2.06.94-2.06 2.06-.94-2.06-.94-.94-2.06-.94 2.06-2.06.94zm-11 1L8.5 8.5l.94-2.06 2.06-.94-2.06-.94L8.5 2.5l-.94 2.06-2.06.94zm10 10l.94 2.06.94-2.06 2.06-.94-2.06-.94-.94-2.06-.94 2.06-2.06.94z\"/><path d=\"M17.41 7.96l-1.37-1.37c-.4-.4-.92-.59-1.43-.59-.52 0-1.04.2-1.43.59L10.3 9.45l-7.72 7.72c-.78.78-.78 2.05 0 2.83L4 21.41c.39.39.9.59 1.41.59.51 0 1.02-.2 1.41-.59l7.78-7.78 2.81-2.81c.8-.78.8-2.07 0-2.86zM5.41 20L4 18.59l7.72-7.72 1.47 1.35L5.41 20z\"/>\n",
              "  </svg>\n",
              "      </button>\n",
              "      \n",
              "  <style>\n",
              "    .colab-df-container {\n",
              "      display:flex;\n",
              "      flex-wrap:wrap;\n",
              "      gap: 12px;\n",
              "    }\n",
              "\n",
              "    .colab-df-convert {\n",
              "      background-color: #E8F0FE;\n",
              "      border: none;\n",
              "      border-radius: 50%;\n",
              "      cursor: pointer;\n",
              "      display: none;\n",
              "      fill: #1967D2;\n",
              "      height: 32px;\n",
              "      padding: 0 0 0 0;\n",
              "      width: 32px;\n",
              "    }\n",
              "\n",
              "    .colab-df-convert:hover {\n",
              "      background-color: #E2EBFA;\n",
              "      box-shadow: 0px 1px 2px rgba(60, 64, 67, 0.3), 0px 1px 3px 1px rgba(60, 64, 67, 0.15);\n",
              "      fill: #174EA6;\n",
              "    }\n",
              "\n",
              "    [theme=dark] .colab-df-convert {\n",
              "      background-color: #3B4455;\n",
              "      fill: #D2E3FC;\n",
              "    }\n",
              "\n",
              "    [theme=dark] .colab-df-convert:hover {\n",
              "      background-color: #434B5C;\n",
              "      box-shadow: 0px 1px 3px 1px rgba(0, 0, 0, 0.15);\n",
              "      filter: drop-shadow(0px 1px 2px rgba(0, 0, 0, 0.3));\n",
              "      fill: #FFFFFF;\n",
              "    }\n",
              "  </style>\n",
              "\n",
              "      <script>\n",
              "        const buttonEl =\n",
              "          document.querySelector('#df-b6a754b0-d116-4d3b-a7aa-3899eb5a7aec button.colab-df-convert');\n",
              "        buttonEl.style.display =\n",
              "          google.colab.kernel.accessAllowed ? 'block' : 'none';\n",
              "\n",
              "        async function convertToInteractive(key) {\n",
              "          const element = document.querySelector('#df-b6a754b0-d116-4d3b-a7aa-3899eb5a7aec');\n",
              "          const dataTable =\n",
              "            await google.colab.kernel.invokeFunction('convertToInteractive',\n",
              "                                                     [key], {});\n",
              "          if (!dataTable) return;\n",
              "\n",
              "          const docLinkHtml = 'Like what you see? Visit the ' +\n",
              "            '<a target=\"_blank\" href=https://colab.research.google.com/notebooks/data_table.ipynb>data table notebook</a>'\n",
              "            + ' to learn more about interactive tables.';\n",
              "          element.innerHTML = '';\n",
              "          dataTable['output_type'] = 'display_data';\n",
              "          await google.colab.output.renderOutput(dataTable, element);\n",
              "          const docLink = document.createElement('div');\n",
              "          docLink.innerHTML = docLinkHtml;\n",
              "          element.appendChild(docLink);\n",
              "        }\n",
              "      </script>\n",
              "    </div>\n",
              "  </div>\n",
              "  "
            ]
          },
          "metadata": {},
          "execution_count": 7
        }
      ],
      "source": [
        "doctors_df"
      ]
    },
    {
      "cell_type": "code",
      "execution_count": 8,
      "metadata": {
        "id": "GY9cybE4T2zd",
        "outputId": "dc3c0a01-045f-48b9-c018-9d35ffb0a570",
        "colab": {
          "base_uri": "https://localhost:8080/",
          "height": 175
        }
      },
      "outputs": [
        {
          "output_type": "execute_result",
          "data": {
            "text/plain": [
              "   id first_name last_name   birthday\n",
              "0   1      Jerry  Seinfeld   1962-3-3\n",
              "1   2     Elaine     Benis   1966-4-5\n",
              "2   3      Cosmo    Kramer  1960-5-10\n",
              "3   4   Costanza    George  1962-6-10"
            ],
            "text/html": [
              "\n",
              "  <div id=\"df-328725fe-dd96-4951-989c-9dd810c523a1\">\n",
              "    <div class=\"colab-df-container\">\n",
              "      <div>\n",
              "<style scoped>\n",
              "    .dataframe tbody tr th:only-of-type {\n",
              "        vertical-align: middle;\n",
              "    }\n",
              "\n",
              "    .dataframe tbody tr th {\n",
              "        vertical-align: top;\n",
              "    }\n",
              "\n",
              "    .dataframe thead th {\n",
              "        text-align: right;\n",
              "    }\n",
              "</style>\n",
              "<table border=\"1\" class=\"dataframe\">\n",
              "  <thead>\n",
              "    <tr style=\"text-align: right;\">\n",
              "      <th></th>\n",
              "      <th>id</th>\n",
              "      <th>first_name</th>\n",
              "      <th>last_name</th>\n",
              "      <th>birthday</th>\n",
              "    </tr>\n",
              "  </thead>\n",
              "  <tbody>\n",
              "    <tr>\n",
              "      <th>0</th>\n",
              "      <td>1</td>\n",
              "      <td>Jerry</td>\n",
              "      <td>Seinfeld</td>\n",
              "      <td>1962-3-3</td>\n",
              "    </tr>\n",
              "    <tr>\n",
              "      <th>1</th>\n",
              "      <td>2</td>\n",
              "      <td>Elaine</td>\n",
              "      <td>Benis</td>\n",
              "      <td>1966-4-5</td>\n",
              "    </tr>\n",
              "    <tr>\n",
              "      <th>2</th>\n",
              "      <td>3</td>\n",
              "      <td>Cosmo</td>\n",
              "      <td>Kramer</td>\n",
              "      <td>1960-5-10</td>\n",
              "    </tr>\n",
              "    <tr>\n",
              "      <th>3</th>\n",
              "      <td>4</td>\n",
              "      <td>Costanza</td>\n",
              "      <td>George</td>\n",
              "      <td>1962-6-10</td>\n",
              "    </tr>\n",
              "  </tbody>\n",
              "</table>\n",
              "</div>\n",
              "      <button class=\"colab-df-convert\" onclick=\"convertToInteractive('df-328725fe-dd96-4951-989c-9dd810c523a1')\"\n",
              "              title=\"Convert this dataframe to an interactive table.\"\n",
              "              style=\"display:none;\">\n",
              "        \n",
              "  <svg xmlns=\"http://www.w3.org/2000/svg\" height=\"24px\"viewBox=\"0 0 24 24\"\n",
              "       width=\"24px\">\n",
              "    <path d=\"M0 0h24v24H0V0z\" fill=\"none\"/>\n",
              "    <path d=\"M18.56 5.44l.94 2.06.94-2.06 2.06-.94-2.06-.94-.94-2.06-.94 2.06-2.06.94zm-11 1L8.5 8.5l.94-2.06 2.06-.94-2.06-.94L8.5 2.5l-.94 2.06-2.06.94zm10 10l.94 2.06.94-2.06 2.06-.94-2.06-.94-.94-2.06-.94 2.06-2.06.94z\"/><path d=\"M17.41 7.96l-1.37-1.37c-.4-.4-.92-.59-1.43-.59-.52 0-1.04.2-1.43.59L10.3 9.45l-7.72 7.72c-.78.78-.78 2.05 0 2.83L4 21.41c.39.39.9.59 1.41.59.51 0 1.02-.2 1.41-.59l7.78-7.78 2.81-2.81c.8-.78.8-2.07 0-2.86zM5.41 20L4 18.59l7.72-7.72 1.47 1.35L5.41 20z\"/>\n",
              "  </svg>\n",
              "      </button>\n",
              "      \n",
              "  <style>\n",
              "    .colab-df-container {\n",
              "      display:flex;\n",
              "      flex-wrap:wrap;\n",
              "      gap: 12px;\n",
              "    }\n",
              "\n",
              "    .colab-df-convert {\n",
              "      background-color: #E8F0FE;\n",
              "      border: none;\n",
              "      border-radius: 50%;\n",
              "      cursor: pointer;\n",
              "      display: none;\n",
              "      fill: #1967D2;\n",
              "      height: 32px;\n",
              "      padding: 0 0 0 0;\n",
              "      width: 32px;\n",
              "    }\n",
              "\n",
              "    .colab-df-convert:hover {\n",
              "      background-color: #E2EBFA;\n",
              "      box-shadow: 0px 1px 2px rgba(60, 64, 67, 0.3), 0px 1px 3px 1px rgba(60, 64, 67, 0.15);\n",
              "      fill: #174EA6;\n",
              "    }\n",
              "\n",
              "    [theme=dark] .colab-df-convert {\n",
              "      background-color: #3B4455;\n",
              "      fill: #D2E3FC;\n",
              "    }\n",
              "\n",
              "    [theme=dark] .colab-df-convert:hover {\n",
              "      background-color: #434B5C;\n",
              "      box-shadow: 0px 1px 3px 1px rgba(0, 0, 0, 0.15);\n",
              "      filter: drop-shadow(0px 1px 2px rgba(0, 0, 0, 0.3));\n",
              "      fill: #FFFFFF;\n",
              "    }\n",
              "  </style>\n",
              "\n",
              "      <script>\n",
              "        const buttonEl =\n",
              "          document.querySelector('#df-328725fe-dd96-4951-989c-9dd810c523a1 button.colab-df-convert');\n",
              "        buttonEl.style.display =\n",
              "          google.colab.kernel.accessAllowed ? 'block' : 'none';\n",
              "\n",
              "        async function convertToInteractive(key) {\n",
              "          const element = document.querySelector('#df-328725fe-dd96-4951-989c-9dd810c523a1');\n",
              "          const dataTable =\n",
              "            await google.colab.kernel.invokeFunction('convertToInteractive',\n",
              "                                                     [key], {});\n",
              "          if (!dataTable) return;\n",
              "\n",
              "          const docLinkHtml = 'Like what you see? Visit the ' +\n",
              "            '<a target=\"_blank\" href=https://colab.research.google.com/notebooks/data_table.ipynb>data table notebook</a>'\n",
              "            + ' to learn more about interactive tables.';\n",
              "          element.innerHTML = '';\n",
              "          dataTable['output_type'] = 'display_data';\n",
              "          await google.colab.output.renderOutput(dataTable, element);\n",
              "          const docLink = document.createElement('div');\n",
              "          docLink.innerHTML = docLinkHtml;\n",
              "          element.appendChild(docLink);\n",
              "        }\n",
              "      </script>\n",
              "    </div>\n",
              "  </div>\n",
              "  "
            ]
          },
          "metadata": {},
          "execution_count": 8
        }
      ],
      "source": [
        "patients_df"
      ]
    },
    {
      "cell_type": "markdown",
      "metadata": {
        "id": "xW0sJ4oTT2zd"
      },
      "source": [
        "### Querying the Data"
      ]
    },
    {
      "cell_type": "markdown",
      "metadata": {
        "id": "f7iWTLn7T2zd"
      },
      "source": [
        "Now that we have loaded our data into our database, let's begin to ask questions of it."
      ]
    },
    {
      "cell_type": "markdown",
      "metadata": {
        "id": "XhOsT-eNT2zd"
      },
      "source": [
        "<img src=\"https://github.com/data-eng-10-21/mod-1-sql-curriculum/blob/master/2-sql-relations/4-has-many-through-reading/doctors-patients-join.png?raw=1\" width=\"30%\"> <img src=\"https://github.com/data-eng-10-21/mod-1-sql-curriculum/blob/master/2-sql-relations/4-has-many-through-reading/doctors-table.png?raw=1\" width=\"30%\"> <img src=\"https://github.com/data-eng-10-21/mod-1-sql-curriculum/blob/master/2-sql-relations/4-has-many-through-reading/patients-table.png?raw=1\" width=\"30%\">"
      ]
    },
    {
      "cell_type": "markdown",
      "metadata": {
        "id": "Xp7Lr64pT2zd"
      },
      "source": [
        "Let's start with working with the `doctors_patients` table and then we can go from there."
      ]
    },
    {
      "cell_type": "markdown",
      "metadata": {
        "id": "8XmG8gIVT2zd"
      },
      "source": [
        "* Find the all of the patients who have the doctor with `id = 2`."
      ]
    },
    {
      "cell_type": "code",
      "execution_count": 9,
      "metadata": {
        "id": "aW9u3n2jT2zd",
        "outputId": "2d6c3ba1-d330-4457-df47-16016e8af3cf",
        "colab": {
          "base_uri": "https://localhost:8080/"
        }
      },
      "outputs": [
        {
          "output_type": "execute_result",
          "data": {
            "text/plain": [
              "[(1, 2, 3), (4, 2, 4)]"
            ]
          },
          "metadata": {},
          "execution_count": 9
        }
      ],
      "source": [
        "cursor.execute('select * from doctors_patients WHERE doctor_id = 2')\n",
        "cursor.fetchall()"
      ]
    },
    {
      "cell_type": "markdown",
      "metadata": {
        "id": "wxOzYNHqT2ze"
      },
      "source": [
        "We can see that our first and fourth rows are returned, and that the patients of the doctor with id 2 is the patient with `id = 3`, and the patient with `id = 4`."
      ]
    },
    {
      "cell_type": "markdown",
      "metadata": {
        "id": "QbRuop1dT2ze"
      },
      "source": [
        "The next thing to do from here, is get the names of those patients who have had the doctor with id = 2."
      ]
    },
    {
      "cell_type": "code",
      "execution_count": 10,
      "metadata": {
        "id": "HaA9Oz-0T2ze",
        "outputId": "81f73cae-73f0-46ad-d767-9e7032d9d57f",
        "colab": {
          "base_uri": "https://localhost:8080/"
        }
      },
      "outputs": [
        {
          "output_type": "execute_result",
          "data": {
            "text/plain": [
              "[(3, 'Cosmo', 'Kramer', '1960-5-10'), (4, 'Costanza', 'George', '1962-6-10')]"
            ]
          },
          "metadata": {},
          "execution_count": 10
        }
      ],
      "source": [
        "statement = '''SELECT patients.* FROM doctors_patients \n",
        "JOIN patients ON doctors_patients.patient_id = patients.id\n",
        "WHERE doctor_id = 2'''\n",
        "\n",
        "cursor.execute(statement)\n",
        "cursor.fetchall()"
      ]
    },
    {
      "cell_type": "markdown",
      "metadata": {
        "id": "ntpnT5biT2ze"
      },
      "source": [
        "So here we can see that the patients that had `doctor_id = 2` are Kramer and George."
      ]
    },
    {
      "cell_type": "markdown",
      "metadata": {
        "id": "QUi5iautT2ze"
      },
      "source": [
        "Let's take a moment to better this statement."
      ]
    },
    {
      "cell_type": "markdown",
      "metadata": {
        "id": "s_qnLOnOT2zf"
      },
      "source": [
        "We went from this:"
      ]
    },
    {
      "cell_type": "markdown",
      "metadata": {
        "id": "iV5rjGS7T2zf"
      },
      "source": [
        "```sql\n",
        "SELECT * FROM doctors_patients WHERE doctor_id = 2\n",
        "```"
      ]
    },
    {
      "cell_type": "markdown",
      "metadata": {
        "id": "fKms8Mk9T2zf"
      },
      "source": [
        "To this: "
      ]
    },
    {
      "cell_type": "markdown",
      "metadata": {
        "id": "5FZCAwUUT2zf"
      },
      "source": [
        "```sql \n",
        "SELECT patients.* FROM doctors_patients \n",
        "JOIN patients ON doctors_patients.patient_id = patients.id\n",
        "WHERE doctor_id = 2\n",
        "```"
      ]
    },
    {
      "cell_type": "markdown",
      "metadata": {
        "id": "NC_5VsZlT2zf"
      },
      "source": [
        "In the latter statement, to get to the patients names, we had to join the patients table.  And to link the `doctors_patients` table to the `patients` table, we joined on `doctors_patients.patient_id = patients.id`."
      ]
    },
    {
      "cell_type": "markdown",
      "metadata": {
        "id": "89ze4X4wT2zf"
      },
      "source": [
        "<img src=\"https://github.com/data-eng-10-21/mod-1-sql-curriculum/blob/master/2-sql-relations/4-has-many-through-reading/joined-doctors-patients.png?raw=1\" width=\"60%\">"
      ]
    },
    {
      "cell_type": "markdown",
      "metadata": {
        "id": "R39D5mnUT2zf"
      },
      "source": [
        "Then we found those rows where the `doctor_id` was 2."
      ]
    },
    {
      "cell_type": "markdown",
      "metadata": {
        "id": "yvcg2yknT2zf"
      },
      "source": [
        "<img src=\"https://github.com/data-eng-10-21/mod-1-sql-curriculum/blob/master/2-sql-relations/4-has-many-through-reading/filtered-join.png?raw=1\" width=\"70%\">"
      ]
    },
    {
      "cell_type": "markdown",
      "metadata": {
        "id": "8pQLgQ1QT2zf"
      },
      "source": [
        "And from there we only said to only select the patient columns."
      ]
    },
    {
      "cell_type": "markdown",
      "metadata": {
        "id": "mHxRiANoT2zg"
      },
      "source": [
        "<img src=\"https://github.com/data-eng-10-21/mod-1-sql-curriculum/blob/master/2-sql-relations/4-has-many-through-reading/patient-cols.png?raw=1\" width=\"50%\">"
      ]
    },
    {
      "cell_type": "markdown",
      "metadata": {
        "id": "NMob4ZLIT2zg"
      },
      "source": [
        "### Queries with three tables"
      ]
    },
    {
      "cell_type": "markdown",
      "metadata": {
        "id": "V3idi0W4T2zg"
      },
      "source": [
        "Let's take a look at the data from our three tables again."
      ]
    },
    {
      "cell_type": "markdown",
      "metadata": {
        "id": "yaxStr9PT2zg"
      },
      "source": [
        "<img src=\"https://github.com/data-eng-10-21/mod-1-sql-curriculum/blob/master/2-sql-relations/4-has-many-through-reading/doctors-patients-join.png?raw=1\" width=\"30%\"> <img src=\"https://github.com/data-eng-10-21/mod-1-sql-curriculum/blob/master/2-sql-relations/4-has-many-through-reading/doctors-table.png?raw=1\" width=\"30%\"> <img src=\"https://github.com/data-eng-10-21/mod-1-sql-curriculum/blob/master/2-sql-relations/4-has-many-through-reading/patients-table.png?raw=1\" width=\"30%\">"
      ]
    },
    {
      "cell_type": "markdown",
      "metadata": {
        "id": "qV-g4QJlT2zg"
      },
      "source": [
        "Let's say that now we want to find the patients of Lisa Cuddy.  To do so we will need to have a query that involves all three queries."
      ]
    },
    {
      "cell_type": "markdown",
      "metadata": {
        "id": "1hp0wtmtT2zg"
      },
      "source": [
        "Our previous statement was pretty close."
      ]
    },
    {
      "cell_type": "markdown",
      "metadata": {
        "id": "Bj6kyJT6T2zg"
      },
      "source": [
        "```sql \n",
        "SELECT patients.* FROM doctors_patients \n",
        "JOIN patients ON doctors_patients.patient_id = patients.id\n",
        "WHERE doctor_id = 2\n",
        "```"
      ]
    },
    {
      "cell_type": "markdown",
      "metadata": {
        "id": "t3nnj9nAT2zg"
      },
      "source": [
        "The change we would like to make is to replace `WHERE doctor_id = 2` with `WHERE doctors.last_name = Cuddy`."
      ]
    },
    {
      "cell_type": "markdown",
      "metadata": {
        "id": "egyJzmgUT2zg"
      },
      "source": [
        "And to do that, we need to load up the doctors table, and join the rows to our `doctors_patients` table.  Here's how we can do that:"
      ]
    },
    {
      "cell_type": "markdown",
      "metadata": {
        "id": "PkSF-jv2T2zg"
      },
      "source": [
        "```sql \n",
        "SELECT patients.* FROM doctors_patients \n",
        "JOIN patients ON doctors_patients.patient_id = patients.id\n",
        "JOIN doctors ON doctors_patients.doctor_id = doctors.id\n",
        "WHERE doctors.last_name = 'Cuddy'\n",
        "```"
      ]
    },
    {
      "cell_type": "code",
      "execution_count": 11,
      "metadata": {
        "id": "dPQh8TOtT2zh"
      },
      "outputs": [],
      "source": [
        "select = \"\"\"SELECT patients.* FROM doctors_patients \n",
        "JOIN patients ON doctors_patients.patient_id = patients.id\n",
        "JOIN doctors ON doctors_patients.doctor_id = doctors.id\n",
        "WHERE doctors.last_name = 'Cuddy'\"\"\""
      ]
    },
    {
      "cell_type": "code",
      "execution_count": 12,
      "metadata": {
        "id": "i2dj0ruNT2zh",
        "outputId": "b632fcb7-708b-42a8-a77c-f07803db1b4b",
        "colab": {
          "base_uri": "https://localhost:8080/"
        }
      },
      "outputs": [
        {
          "output_type": "execute_result",
          "data": {
            "text/plain": [
              "[(3, 'Cosmo', 'Kramer', '1960-5-10'), (4, 'Costanza', 'George', '1962-6-10')]"
            ]
          },
          "metadata": {},
          "execution_count": 12
        }
      ],
      "source": [
        "cursor.execute(select)\n",
        "cursor.fetchall()"
      ]
    },
    {
      "cell_type": "markdown",
      "metadata": {
        "id": "XVOVmRR5T2zh"
      },
      "source": [
        "It worked!  We now got the same result, but we did it by using a doctor's name, instead of using a doctor's id.  Finally, we could query using both the first and last name."
      ]
    },
    {
      "cell_type": "code",
      "execution_count": 13,
      "metadata": {
        "id": "n_2uUen8T2zh",
        "outputId": "34a33b1b-992a-48d7-fa07-b60f579c5a7e",
        "colab": {
          "base_uri": "https://localhost:8080/"
        }
      },
      "outputs": [
        {
          "output_type": "execute_result",
          "data": {
            "text/plain": [
              "[(3, 'Cosmo', 'Kramer', '1960-5-10'), (4, 'Costanza', 'George', '1962-6-10')]"
            ]
          },
          "metadata": {},
          "execution_count": 13
        }
      ],
      "source": [
        "updated_select = \"\"\"SELECT patients.* FROM doctors_patients \n",
        "JOIN patients ON doctors_patients.patient_id = patients.id\n",
        "JOIN doctors ON doctors_patients.doctor_id = doctors.id\n",
        "WHERE doctors.first_name = 'Lisa' AND doctors.last_name = 'Cuddy'\"\"\"\n",
        "\n",
        "cursor.execute(updated_select)\n",
        "cursor.fetchall()"
      ]
    },
    {
      "cell_type": "markdown",
      "metadata": {
        "id": "M9aW155TT2zi"
      },
      "source": [
        "### Your Turn"
      ]
    },
    {
      "cell_type": "markdown",
      "metadata": {
        "id": "qndI2970T2zi"
      },
      "source": [
        "Now it's your turn.  Once again, here are our tables."
      ]
    },
    {
      "cell_type": "markdown",
      "metadata": {
        "id": "ylc7rS-JT2zi"
      },
      "source": [
        "<img src=\"https://github.com/data-eng-10-21/mod-1-sql-curriculum/blob/master/2-sql-relations/4-has-many-through-reading/doctors-patients-join.png?raw=1\" width=\"30%\"> <img src=\"https://github.com/data-eng-10-21/mod-1-sql-curriculum/blob/master/2-sql-relations/4-has-many-through-reading/doctors-table.png?raw=1\" width=\"30%\"> <img src=\"https://github.com/data-eng-10-21/mod-1-sql-curriculum/blob/master/2-sql-relations/4-has-many-through-reading/patients-table.png?raw=1\" width=\"30%\">"
      ]
    },
    {
      "cell_type": "markdown",
      "metadata": {
        "id": "k6zyTzmjT2zi"
      },
      "source": [
        "Now write a sql query that finds all of the doctors that Cosmo Kramer has been served by."
      ]
    },
    {
      "cell_type": "code",
      "execution_count": 41,
      "metadata": {
        "id": "pQMf9uJRT2zi"
      },
      "outputs": [],
      "source": [
        "select_doctors = \"\"\"\n",
        "                SELECT doctors.* FROM doctors_patients\n",
        "                JOIN doctors ON doctors.id = doctors_patients.doctor_id\n",
        "                JOIN patients ON patients.id = doctors_patients.patient_id\n",
        "                WHERE patients.first_name = 'Cosmo' AND patients.last_name = 'Kramer'\n",
        "\"\"\""
      ]
    },
    {
      "cell_type": "code",
      "execution_count": 42,
      "metadata": {
        "id": "TIUJOzMXT2zi",
        "outputId": "985c608a-2f43-4ea4-da26-bff6f9c94f49",
        "colab": {
          "base_uri": "https://localhost:8080/"
        }
      },
      "outputs": [
        {
          "output_type": "execute_result",
          "data": {
            "text/plain": [
              "[(2, 'Lisa', 'Cuddy', 'Chief Doctor'), (4, 'Robert', 'Chase', 'Resident')]"
            ]
          },
          "metadata": {},
          "execution_count": 42
        }
      ],
      "source": [
        "cursor.execute(select_doctors)\n",
        "cursor.fetchall()\n",
        "\n",
        "# [(2, 'Lisa', 'Cuddy', 'Chief Doctor'), (4, 'Robert', 'Chase', 'Resident')]"
      ]
    },
    {
      "cell_type": "markdown",
      "metadata": {
        "id": "WDdKRLEKT2zi"
      },
      "source": [
        "### Answers"
      ]
    },
    {
      "cell_type": "code",
      "execution_count": null,
      "metadata": {
        "id": "giXvMjbST2zi"
      },
      "outputs": [],
      "source": [
        "select_doctors = \"\"\"SELECT doctors.* FROM doctors_patients \n",
        "JOIN patients ON doctors_patients.patient_id = patients.id\n",
        "JOIN doctors ON doctors_patients.doctor_id = doctors.id\n",
        "WHERE patients.first_name = 'Cosmo' AND patients.last_name = 'Kramer'\"\"\"\n"
      ]
    }
  ],
  "metadata": {
    "kernelspec": {
      "display_name": "Python 3 (ipykernel)",
      "language": "python",
      "name": "python3"
    },
    "language_info": {
      "codemirror_mode": {
        "name": "ipython",
        "version": 3
      },
      "file_extension": ".py",
      "mimetype": "text/x-python",
      "name": "python",
      "nbconvert_exporter": "python",
      "pygments_lexer": "ipython3",
      "version": "3.9.7"
    },
    "colab": {
      "name": "index.ipynb",
      "provenance": []
    }
  },
  "nbformat": 4,
  "nbformat_minor": 0
}